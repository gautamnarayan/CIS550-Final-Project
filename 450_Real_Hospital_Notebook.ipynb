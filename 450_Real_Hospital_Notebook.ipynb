{
  "nbformat": 4,
  "nbformat_minor": 0,
  "metadata": {
    "colab": {
      "name": "450: Real Hospital Notebook",
      "provenance": []
    },
    "kernelspec": {
      "name": "python3",
      "display_name": "Python 3"
    },
    "language_info": {
      "name": "python"
    }
  },
  "cells": [
    {
      "cell_type": "markdown",
      "metadata": {
        "id": "XSiOA8qn_qBs"
      },
      "source": [
        "### <font color = blue> Pre-processing: Air BNB data set"
      ]
    },
    {
      "cell_type": "markdown",
      "metadata": {
        "id": "Koof9IYC_1lM"
      },
      "source": [
        "### <font color= '#eb3483'> Imports and mounting to drive"
      ]
    },
    {
      "cell_type": "code",
      "metadata": {
        "id": "ELmaig8QHJai"
      },
      "source": [
        "#imports \n",
        "import pandas as pd\n",
        "import numpy as np\n",
        "import seaborn as sns\n",
        "from google.colab import drive"
      ],
      "execution_count": null,
      "outputs": []
    },
    {
      "cell_type": "code",
      "metadata": {
        "colab": {
          "base_uri": "https://localhost:8080/"
        },
        "id": "hfKpBNkG-2YB",
        "outputId": "28e2a8db-ba72-495c-e291-3a4db96a653f"
      },
      "source": [
        "#Mount google drive\n",
        "prefix = '/content/drive'\n",
        "from google.colab import drive\n",
        "drive.mount(prefix, force_remount=True)"
      ],
      "execution_count": null,
      "outputs": [
        {
          "output_type": "stream",
          "text": [
            "Mounted at /content/drive\n"
          ],
          "name": "stdout"
        }
      ]
    },
    {
      "cell_type": "code",
      "metadata": {
        "id": "gCzJzDig_Qpv"
      },
      "source": [
        "path = '/content/drive/My Drive/CIS 450/CIS 450 Project/NYC_Health_Hospitals.csv'"
      ],
      "execution_count": null,
      "outputs": []
    },
    {
      "cell_type": "code",
      "metadata": {
        "id": "xljNnCrbBoZL",
        "colab": {
          "base_uri": "https://localhost:8080/",
          "height": 391
        },
        "outputId": "2d67146b-1182-440a-e71d-dfc5fb9a64ee"
      },
      "source": [
        "#load data into a dataframe\n",
        "df = pd.read_csv(path, header=[0])\n",
        "df.head(5)"
      ],
      "execution_count": null,
      "outputs": [
        {
          "output_type": "execute_result",
          "data": {
            "text/html": [
              "<div>\n",
              "<style scoped>\n",
              "    .dataframe tbody tr th:only-of-type {\n",
              "        vertical-align: middle;\n",
              "    }\n",
              "\n",
              "    .dataframe tbody tr th {\n",
              "        vertical-align: top;\n",
              "    }\n",
              "\n",
              "    .dataframe thead th {\n",
              "        text-align: right;\n",
              "    }\n",
              "</style>\n",
              "<table border=\"1\" class=\"dataframe\">\n",
              "  <thead>\n",
              "    <tr style=\"text-align: right;\">\n",
              "      <th></th>\n",
              "      <th>Facility Type</th>\n",
              "      <th>Borough</th>\n",
              "      <th>Facility Name</th>\n",
              "      <th>Cross Streets</th>\n",
              "      <th>Phone</th>\n",
              "      <th>Location 1</th>\n",
              "      <th>Postcode</th>\n",
              "      <th>Latitude</th>\n",
              "      <th>Longitude</th>\n",
              "      <th>Community Board</th>\n",
              "      <th>Council District</th>\n",
              "      <th>Census Tract</th>\n",
              "      <th>BIN</th>\n",
              "      <th>BBL</th>\n",
              "      <th>NTA</th>\n",
              "    </tr>\n",
              "  </thead>\n",
              "  <tbody>\n",
              "    <tr>\n",
              "      <th>0</th>\n",
              "      <td>Child Health Center</td>\n",
              "      <td>Manhattan</td>\n",
              "      <td>La Clinica Del Barrio</td>\n",
              "      <td>NaN</td>\n",
              "      <td>212-410-7940</td>\n",
              "      <td>413 120th Street\\nNew York, NY 10035\\n(40.7982...</td>\n",
              "      <td>NaN</td>\n",
              "      <td>NaN</td>\n",
              "      <td>NaN</td>\n",
              "      <td>NaN</td>\n",
              "      <td>NaN</td>\n",
              "      <td>NaN</td>\n",
              "      <td>NaN</td>\n",
              "      <td>NaN</td>\n",
              "      <td>NaN</td>\n",
              "    </tr>\n",
              "    <tr>\n",
              "      <th>1</th>\n",
              "      <td>Acute Care Hospital</td>\n",
              "      <td>Queens</td>\n",
              "      <td>Elmhurst Hospital Center</td>\n",
              "      <td>NaN</td>\n",
              "      <td>718-334-4000</td>\n",
              "      <td>79 01\\nElmhurst, NY 11373\\n(40.738710402563, -...</td>\n",
              "      <td>NaN</td>\n",
              "      <td>NaN</td>\n",
              "      <td>NaN</td>\n",
              "      <td>NaN</td>\n",
              "      <td>NaN</td>\n",
              "      <td>NaN</td>\n",
              "      <td>NaN</td>\n",
              "      <td>NaN</td>\n",
              "      <td>NaN</td>\n",
              "    </tr>\n",
              "    <tr>\n",
              "      <th>2</th>\n",
              "      <td>Child Health Center</td>\n",
              "      <td>Brooklyn</td>\n",
              "      <td>Ida G. Israel Community Health Center</td>\n",
              "      <td>W. 22nd St. &amp; W. 23rd St.</td>\n",
              "      <td>718-946-3400</td>\n",
              "      <td>2201 Neptune Avenue\\nBrooklyn, NY 11224\\n(40.5...</td>\n",
              "      <td>11224.0</td>\n",
              "      <td>40.578468</td>\n",
              "      <td>-73.989614</td>\n",
              "      <td>13.0</td>\n",
              "      <td>47.0</td>\n",
              "      <td>348.0</td>\n",
              "      <td>3188417.0</td>\n",
              "      <td>3.069900e+09</td>\n",
              "      <td>Seagate-Coney Island                          ...</td>\n",
              "    </tr>\n",
              "    <tr>\n",
              "      <th>3</th>\n",
              "      <td>Child Health Center</td>\n",
              "      <td>Queens</td>\n",
              "      <td>South Queens Community Health Center</td>\n",
              "      <td>NaN</td>\n",
              "      <td>718-883-6699</td>\n",
              "      <td>114 02 Guy R Brewer Blvd\\nJamaica, NY 11434\\n(...</td>\n",
              "      <td>11434.0</td>\n",
              "      <td>40.688615</td>\n",
              "      <td>-73.785593</td>\n",
              "      <td>12.0</td>\n",
              "      <td>28.0</td>\n",
              "      <td>276.0</td>\n",
              "      <td>4264631.0</td>\n",
              "      <td>4.122000e+09</td>\n",
              "      <td>Baisley Park                                  ...</td>\n",
              "    </tr>\n",
              "    <tr>\n",
              "      <th>4</th>\n",
              "      <td>Child Health Center</td>\n",
              "      <td>Bronx</td>\n",
              "      <td>Melrose Houses Child Health Clinic</td>\n",
              "      <td>between Morris Ave. &amp; Courtlandt Ave.</td>\n",
              "      <td>718-292-2820</td>\n",
              "      <td>348 156th Street\\nBronx, NY 10451\\n(40.8213011...</td>\n",
              "      <td>NaN</td>\n",
              "      <td>NaN</td>\n",
              "      <td>NaN</td>\n",
              "      <td>NaN</td>\n",
              "      <td>NaN</td>\n",
              "      <td>NaN</td>\n",
              "      <td>NaN</td>\n",
              "      <td>NaN</td>\n",
              "      <td>NaN</td>\n",
              "    </tr>\n",
              "  </tbody>\n",
              "</table>\n",
              "</div>"
            ],
            "text/plain": [
              "         Facility Type  ...                                                NTA\n",
              "0  Child Health Center  ...                                                NaN\n",
              "1  Acute Care Hospital  ...                                                NaN\n",
              "2  Child Health Center  ...  Seagate-Coney Island                          ...\n",
              "3  Child Health Center  ...  Baisley Park                                  ...\n",
              "4  Child Health Center  ...                                                NaN\n",
              "\n",
              "[5 rows x 15 columns]"
            ]
          },
          "metadata": {
            "tags": []
          },
          "execution_count": 69
        }
      ]
    },
    {
      "cell_type": "markdown",
      "metadata": {
        "id": "lJtSC8DzBIM3"
      },
      "source": [
        "### <font color= '#eb3483'> Explore data types and values"
      ]
    },
    {
      "cell_type": "code",
      "metadata": {
        "colab": {
          "base_uri": "https://localhost:8080/"
        },
        "id": "-CKdNV6vQMsu",
        "outputId": "2f8b61af-778e-4a67-9490-3136d9edc3da"
      },
      "source": [
        "df.dtypes"
      ],
      "execution_count": null,
      "outputs": [
        {
          "output_type": "execute_result",
          "data": {
            "text/plain": [
              "Facility Type        object\n",
              "Borough              object\n",
              "Facility Name        object\n",
              "Cross Streets        object\n",
              "Phone                object\n",
              "Location 1           object\n",
              "Postcode            float64\n",
              "Latitude            float64\n",
              "Longitude           float64\n",
              "Community Board     float64\n",
              "Council District    float64\n",
              "Census Tract        float64\n",
              "BIN                 float64\n",
              "BBL                 float64\n",
              "NTA                  object\n",
              "dtype: object"
            ]
          },
          "metadata": {
            "tags": []
          },
          "execution_count": 70
        }
      ]
    },
    {
      "cell_type": "code",
      "metadata": {
        "colab": {
          "base_uri": "https://localhost:8080/"
        },
        "id": "Z_DVJm9MQNW3",
        "outputId": "c7318e2b-db3e-4553-f991-3afab6a809fb"
      },
      "source": [
        "df.shape"
      ],
      "execution_count": null,
      "outputs": [
        {
          "output_type": "execute_result",
          "data": {
            "text/plain": [
              "(78, 15)"
            ]
          },
          "metadata": {
            "tags": []
          },
          "execution_count": 71
        }
      ]
    },
    {
      "cell_type": "code",
      "metadata": {
        "colab": {
          "base_uri": "https://localhost:8080/"
        },
        "id": "y5bFRBauQQss",
        "outputId": "98dc00e2-0934-4972-ae2a-36b90b6717a8"
      },
      "source": [
        "#how many unique values do we have\n",
        "df.apply('nunique').sort_values(ascending=True)"
      ],
      "execution_count": null,
      "outputs": [
        {
          "output_type": "execute_result",
          "data": {
            "text/plain": [
              "Facility Type        4\n",
              "Borough              5\n",
              "Community Board     14\n",
              "Cross Streets       27\n",
              "Council District    30\n",
              "Postcode            38\n",
              "NTA                 39\n",
              "Census Tract        44\n",
              "BBL                 46\n",
              "Latitude            47\n",
              "Longitude           47\n",
              "BIN                 47\n",
              "Phone               61\n",
              "Facility Name       62\n",
              "Location 1          63\n",
              "dtype: int64"
            ]
          },
          "metadata": {
            "tags": []
          },
          "execution_count": 72
        }
      ]
    },
    {
      "cell_type": "code",
      "metadata": {
        "colab": {
          "base_uri": "https://localhost:8080/"
        },
        "id": "szcLPF1rQSLW",
        "outputId": "69d7ebcc-9b33-4927-c61a-97834277f1cd"
      },
      "source": [
        "#look at percent null values \n",
        "df.isna().sum() * 100 / df.shape[0]"
      ],
      "execution_count": null,
      "outputs": [
        {
          "output_type": "execute_result",
          "data": {
            "text/plain": [
              "Facility Type        0.000000\n",
              "Borough              0.000000\n",
              "Facility Name        0.000000\n",
              "Cross Streets       65.384615\n",
              "Phone                0.000000\n",
              "Location 1           0.000000\n",
              "Postcode            23.076923\n",
              "Latitude            23.076923\n",
              "Longitude           23.076923\n",
              "Community Board     23.076923\n",
              "Council District    23.076923\n",
              "Census Tract        23.076923\n",
              "BIN                 23.076923\n",
              "BBL                 23.076923\n",
              "NTA                 23.076923\n",
              "dtype: float64"
            ]
          },
          "metadata": {
            "tags": []
          },
          "execution_count": 73
        }
      ]
    },
    {
      "cell_type": "code",
      "metadata": {
        "colab": {
          "base_uri": "https://localhost:8080/"
        },
        "id": "GjKHtQNnR9xU",
        "outputId": "0ef7f389-be6c-4025-adbd-e241c9d07d06"
      },
      "source": [
        "df.duplicated().sum()"
      ],
      "execution_count": null,
      "outputs": [
        {
          "output_type": "execute_result",
          "data": {
            "text/plain": [
              "0"
            ]
          },
          "metadata": {
            "tags": []
          },
          "execution_count": 74
        }
      ]
    },
    {
      "cell_type": "code",
      "metadata": {
        "id": "Yg-LD_n8TmTb"
      },
      "source": [
        "#only keep certain columns based on what we need\n",
        "keep = [\n",
        "        'Facility Type', 'Borough', 'Facility Name', 'Phone', \n",
        "        'Location 1', 'Latitude',\n",
        "        'Longitude'\n",
        "]\n",
        "df = df[keep]"
      ],
      "execution_count": null,
      "outputs": []
    },
    {
      "cell_type": "markdown",
      "metadata": {
        "id": "VAHjpTbEID9Y"
      },
      "source": [
        "#### <font color= pink> Column: Facility Name\n"
      ]
    },
    {
      "cell_type": "code",
      "metadata": {
        "id": "Q_XJRNTtSxAu"
      },
      "source": [
        "df = df.rename(axis=1, mapper={'Facility Name' : 'name'})"
      ],
      "execution_count": null,
      "outputs": []
    },
    {
      "cell_type": "code",
      "metadata": {
        "colab": {
          "base_uri": "https://localhost:8080/"
        },
        "id": "9Neo4oKCTgJx",
        "outputId": "b477e16b-c31b-4853-c23b-f55078aa872b"
      },
      "source": [
        "df.name.apply('nunique')"
      ],
      "execution_count": null,
      "outputs": [
        {
          "output_type": "execute_result",
          "data": {
            "text/plain": [
              "62"
            ]
          },
          "metadata": {
            "tags": []
          },
          "execution_count": 77
        }
      ]
    },
    {
      "cell_type": "code",
      "metadata": {
        "colab": {
          "base_uri": "https://localhost:8080/",
          "height": 543
        },
        "id": "8l8uqELoRkKA",
        "outputId": "8e2fde5b-4ba9-45be-dda8-305dcfa47363"
      },
      "source": [
        "df[df.name.duplicated()]"
      ],
      "execution_count": null,
      "outputs": [
        {
          "output_type": "execute_result",
          "data": {
            "text/html": [
              "<div>\n",
              "<style scoped>\n",
              "    .dataframe tbody tr th:only-of-type {\n",
              "        vertical-align: middle;\n",
              "    }\n",
              "\n",
              "    .dataframe tbody tr th {\n",
              "        vertical-align: top;\n",
              "    }\n",
              "\n",
              "    .dataframe thead th {\n",
              "        text-align: right;\n",
              "    }\n",
              "</style>\n",
              "<table border=\"1\" class=\"dataframe\">\n",
              "  <thead>\n",
              "    <tr style=\"text-align: right;\">\n",
              "      <th></th>\n",
              "      <th>Facility Type</th>\n",
              "      <th>Borough</th>\n",
              "      <th>name</th>\n",
              "      <th>Phone</th>\n",
              "      <th>Location 1</th>\n",
              "      <th>Latitude</th>\n",
              "      <th>Longitude</th>\n",
              "    </tr>\n",
              "  </thead>\n",
              "  <tbody>\n",
              "    <tr>\n",
              "      <th>27</th>\n",
              "      <td>Child Health Center</td>\n",
              "      <td>Bronx</td>\n",
              "      <td>Segundo Ruiz Belvis Diagnostic &amp; Treatment Center</td>\n",
              "      <td>718-579-4000</td>\n",
              "      <td>454 142nd Street\\nBronx, NY 10454\\n(40.8109013...</td>\n",
              "      <td>NaN</td>\n",
              "      <td>NaN</td>\n",
              "    </tr>\n",
              "    <tr>\n",
              "      <th>31</th>\n",
              "      <td>Child Health Center</td>\n",
              "      <td>Bronx</td>\n",
              "      <td>Jacobi Medical Center</td>\n",
              "      <td>718-918-5000</td>\n",
              "      <td>1400 Pelham Parkway\\nBronx, NY 10461\\n(40.8573...</td>\n",
              "      <td>40.857427</td>\n",
              "      <td>-73.847079</td>\n",
              "    </tr>\n",
              "    <tr>\n",
              "      <th>32</th>\n",
              "      <td>Diagnostic &amp; Treatment Center</td>\n",
              "      <td>Brooklyn</td>\n",
              "      <td>Cumberland Diagnostic &amp; Treatment Center</td>\n",
              "      <td>718-260-7500</td>\n",
              "      <td>100 Portland Avenue\\nBrooklyn, NY 11205\\n(40.6...</td>\n",
              "      <td>NaN</td>\n",
              "      <td>NaN</td>\n",
              "    </tr>\n",
              "    <tr>\n",
              "      <th>33</th>\n",
              "      <td>Diagnostic &amp; Treatment Center</td>\n",
              "      <td>Manhattan</td>\n",
              "      <td>Renaissance Health Care Network Diagnostic &amp; T...</td>\n",
              "      <td>212-932-6500</td>\n",
              "      <td>215 125 Street\\nNew York, NY 10027\\n(40.809338...</td>\n",
              "      <td>NaN</td>\n",
              "      <td>NaN</td>\n",
              "    </tr>\n",
              "    <tr>\n",
              "      <th>36</th>\n",
              "      <td>Child Health Center</td>\n",
              "      <td>Brooklyn</td>\n",
              "      <td>Kings County Hospital Center</td>\n",
              "      <td>718-245-3131</td>\n",
              "      <td>451 Clarkson Avenue\\nBrooklyn, NY 11203\\n(40.6...</td>\n",
              "      <td>40.655762</td>\n",
              "      <td>-73.944580</td>\n",
              "    </tr>\n",
              "    <tr>\n",
              "      <th>42</th>\n",
              "      <td>Child Health Center</td>\n",
              "      <td>Brooklyn</td>\n",
              "      <td>East New York Diagnostic &amp; Treatment Center</td>\n",
              "      <td>718-240-0400</td>\n",
              "      <td>2094 Pitkin Avenue\\nBrooklyn, NY 11225\\n(40.67...</td>\n",
              "      <td>40.671977</td>\n",
              "      <td>-73.895248</td>\n",
              "    </tr>\n",
              "    <tr>\n",
              "      <th>47</th>\n",
              "      <td>Child Health Center</td>\n",
              "      <td>Queens</td>\n",
              "      <td>Elmhurst Hospital Center</td>\n",
              "      <td>718-334-4000</td>\n",
              "      <td>79 01\\nElmhurst, NY 11373\\n(40.738710402563, -...</td>\n",
              "      <td>NaN</td>\n",
              "      <td>NaN</td>\n",
              "    </tr>\n",
              "    <tr>\n",
              "      <th>51</th>\n",
              "      <td>Child Health Center</td>\n",
              "      <td>Manhattan</td>\n",
              "      <td>Metropolitan Hospital Center</td>\n",
              "      <td>212-423-6262</td>\n",
              "      <td>1901 First Avenue\\nNew York, NY 10029\\n(40.784...</td>\n",
              "      <td>40.784557</td>\n",
              "      <td>-73.943780</td>\n",
              "    </tr>\n",
              "    <tr>\n",
              "      <th>54</th>\n",
              "      <td>Acute Care Hospital</td>\n",
              "      <td>Queens</td>\n",
              "      <td>Queens Hospital Center</td>\n",
              "      <td>718-883-3000</td>\n",
              "      <td>82 70 164th Street\\nJamaica, NY 11432\\n(40.713...</td>\n",
              "      <td>40.717209</td>\n",
              "      <td>-73.803419</td>\n",
              "    </tr>\n",
              "    <tr>\n",
              "      <th>57</th>\n",
              "      <td>Nursing Home</td>\n",
              "      <td>Manhattan</td>\n",
              "      <td>Gouverneur Healthcare Services</td>\n",
              "      <td>212-238-7000</td>\n",
              "      <td>227 Madison Street\\nNew York, NY 10002\\n(40.71...</td>\n",
              "      <td>40.712784</td>\n",
              "      <td>-73.988417</td>\n",
              "    </tr>\n",
              "    <tr>\n",
              "      <th>64</th>\n",
              "      <td>Acute Care Hospital</td>\n",
              "      <td>Manhattan</td>\n",
              "      <td>Harlem Hospital Center</td>\n",
              "      <td>212-939-1000</td>\n",
              "      <td>506 Lenox Avenue\\nNew York, NY 10037\\n(40.8142...</td>\n",
              "      <td>40.814358</td>\n",
              "      <td>-73.940659</td>\n",
              "    </tr>\n",
              "    <tr>\n",
              "      <th>65</th>\n",
              "      <td>Child Health Center</td>\n",
              "      <td>Brooklyn</td>\n",
              "      <td>Coney Island Hospital</td>\n",
              "      <td>718-616-3000</td>\n",
              "      <td>2601 Ocean Parkway\\nBrooklyn, NY 11235\\n(40.58...</td>\n",
              "      <td>40.586552</td>\n",
              "      <td>-73.966168</td>\n",
              "    </tr>\n",
              "    <tr>\n",
              "      <th>67</th>\n",
              "      <td>Child Health Center</td>\n",
              "      <td>Bronx</td>\n",
              "      <td>North Central Bronx Hospital</td>\n",
              "      <td>718-519-5000</td>\n",
              "      <td>3424 Kossuth Avenue\\nBronx, NY 10467\\n(40.8804...</td>\n",
              "      <td>40.880462</td>\n",
              "      <td>-73.881640</td>\n",
              "    </tr>\n",
              "    <tr>\n",
              "      <th>72</th>\n",
              "      <td>Acute Care Hospital</td>\n",
              "      <td>Brooklyn</td>\n",
              "      <td>Woodhull Medical and Mental Health Center</td>\n",
              "      <td>718-963-8000</td>\n",
              "      <td>760 Broadway\\nBrooklyn, NY 11206\\n(40.70052661...</td>\n",
              "      <td>40.700528</td>\n",
              "      <td>-73.941604</td>\n",
              "    </tr>\n",
              "    <tr>\n",
              "      <th>74</th>\n",
              "      <td>Child Health Center</td>\n",
              "      <td>Manhattan</td>\n",
              "      <td>Bellevue Hospital Center</td>\n",
              "      <td>212-562-4141</td>\n",
              "      <td>462 First Avenue\\nNew York, NY 10016\\n(40.7396...</td>\n",
              "      <td>40.739173</td>\n",
              "      <td>-73.976862</td>\n",
              "    </tr>\n",
              "    <tr>\n",
              "      <th>77</th>\n",
              "      <td>Child Health Center</td>\n",
              "      <td>Bronx</td>\n",
              "      <td>Morrisania Diagnostic &amp; Treatment Center</td>\n",
              "      <td>718-960-2777</td>\n",
              "      <td>1225 Gerard Avenue\\nBronx, NY 10452\\n(40.83590...</td>\n",
              "      <td>40.835957</td>\n",
              "      <td>-73.919986</td>\n",
              "    </tr>\n",
              "  </tbody>\n",
              "</table>\n",
              "</div>"
            ],
            "text/plain": [
              "                    Facility Type    Borough  ...   Latitude  Longitude\n",
              "27            Child Health Center      Bronx  ...        NaN        NaN\n",
              "31            Child Health Center      Bronx  ...  40.857427 -73.847079\n",
              "32  Diagnostic & Treatment Center   Brooklyn  ...        NaN        NaN\n",
              "33  Diagnostic & Treatment Center  Manhattan  ...        NaN        NaN\n",
              "36            Child Health Center   Brooklyn  ...  40.655762 -73.944580\n",
              "42            Child Health Center   Brooklyn  ...  40.671977 -73.895248\n",
              "47            Child Health Center     Queens  ...        NaN        NaN\n",
              "51            Child Health Center  Manhattan  ...  40.784557 -73.943780\n",
              "54            Acute Care Hospital     Queens  ...  40.717209 -73.803419\n",
              "57                   Nursing Home  Manhattan  ...  40.712784 -73.988417\n",
              "64            Acute Care Hospital  Manhattan  ...  40.814358 -73.940659\n",
              "65            Child Health Center   Brooklyn  ...  40.586552 -73.966168\n",
              "67            Child Health Center      Bronx  ...  40.880462 -73.881640\n",
              "72            Acute Care Hospital   Brooklyn  ...  40.700528 -73.941604\n",
              "74            Child Health Center  Manhattan  ...  40.739173 -73.976862\n",
              "77            Child Health Center      Bronx  ...  40.835957 -73.919986\n",
              "\n",
              "[16 rows x 7 columns]"
            ]
          },
          "metadata": {
            "tags": []
          },
          "execution_count": 78
        }
      ]
    },
    {
      "cell_type": "markdown",
      "metadata": {
        "id": "vjavrmwSKt0o"
      },
      "source": [
        "#### <font color= pink> Column: Location 1"
      ]
    },
    {
      "cell_type": "code",
      "metadata": {
        "id": "sf8kVjknEZj_"
      },
      "source": [
        "#rename Location 1 to be more easily readable\n",
        "df = df.rename(columns={'Location 1': 'location'})"
      ],
      "execution_count": null,
      "outputs": []
    },
    {
      "cell_type": "code",
      "metadata": {
        "colab": {
          "base_uri": "https://localhost:8080/",
          "height": 417
        },
        "id": "wiu1xDHvVAGh",
        "outputId": "4ae082ac-8c88-4b81-e4d4-47fdc39783f6"
      },
      "source": [
        "df[['location']]"
      ],
      "execution_count": null,
      "outputs": [
        {
          "output_type": "execute_result",
          "data": {
            "text/html": [
              "<div>\n",
              "<style scoped>\n",
              "    .dataframe tbody tr th:only-of-type {\n",
              "        vertical-align: middle;\n",
              "    }\n",
              "\n",
              "    .dataframe tbody tr th {\n",
              "        vertical-align: top;\n",
              "    }\n",
              "\n",
              "    .dataframe thead th {\n",
              "        text-align: right;\n",
              "    }\n",
              "</style>\n",
              "<table border=\"1\" class=\"dataframe\">\n",
              "  <thead>\n",
              "    <tr style=\"text-align: right;\">\n",
              "      <th></th>\n",
              "      <th>location</th>\n",
              "    </tr>\n",
              "  </thead>\n",
              "  <tbody>\n",
              "    <tr>\n",
              "      <th>0</th>\n",
              "      <td>413 120th Street\\nNew York, NY 10035\\n(40.7982...</td>\n",
              "    </tr>\n",
              "    <tr>\n",
              "      <th>1</th>\n",
              "      <td>79 01\\nElmhurst, NY 11373\\n(40.738710402563, -...</td>\n",
              "    </tr>\n",
              "    <tr>\n",
              "      <th>2</th>\n",
              "      <td>2201 Neptune Avenue\\nBrooklyn, NY 11224\\n(40.5...</td>\n",
              "    </tr>\n",
              "    <tr>\n",
              "      <th>3</th>\n",
              "      <td>114 02 Guy R Brewer Blvd\\nJamaica, NY 11434\\n(...</td>\n",
              "    </tr>\n",
              "    <tr>\n",
              "      <th>4</th>\n",
              "      <td>348 156th Street\\nBronx, NY 10451\\n(40.8213011...</td>\n",
              "    </tr>\n",
              "    <tr>\n",
              "      <th>...</th>\n",
              "      <td>...</td>\n",
              "    </tr>\n",
              "    <tr>\n",
              "      <th>73</th>\n",
              "      <td>1420 Bushwick Avenue\\nBrooklyn, NY 11207\\n(40....</td>\n",
              "    </tr>\n",
              "    <tr>\n",
              "      <th>74</th>\n",
              "      <td>462 First Avenue\\nNew York, NY 10016\\n(40.7396...</td>\n",
              "    </tr>\n",
              "    <tr>\n",
              "      <th>75</th>\n",
              "      <td>769 Onderdonk Avenue\\nRidgewood, NY 11385\\n(40...</td>\n",
              "    </tr>\n",
              "    <tr>\n",
              "      <th>76</th>\n",
              "      <td>60 Madison Street\\nNew York, NY 10038\\n(40.711...</td>\n",
              "    </tr>\n",
              "    <tr>\n",
              "      <th>77</th>\n",
              "      <td>1225 Gerard Avenue\\nBronx, NY 10452\\n(40.83590...</td>\n",
              "    </tr>\n",
              "  </tbody>\n",
              "</table>\n",
              "<p>78 rows × 1 columns</p>\n",
              "</div>"
            ],
            "text/plain": [
              "                                             location\n",
              "0   413 120th Street\\nNew York, NY 10035\\n(40.7982...\n",
              "1   79 01\\nElmhurst, NY 11373\\n(40.738710402563, -...\n",
              "2   2201 Neptune Avenue\\nBrooklyn, NY 11224\\n(40.5...\n",
              "3   114 02 Guy R Brewer Blvd\\nJamaica, NY 11434\\n(...\n",
              "4   348 156th Street\\nBronx, NY 10451\\n(40.8213011...\n",
              "..                                                ...\n",
              "73  1420 Bushwick Avenue\\nBrooklyn, NY 11207\\n(40....\n",
              "74  462 First Avenue\\nNew York, NY 10016\\n(40.7396...\n",
              "75  769 Onderdonk Avenue\\nRidgewood, NY 11385\\n(40...\n",
              "76  60 Madison Street\\nNew York, NY 10038\\n(40.711...\n",
              "77  1225 Gerard Avenue\\nBronx, NY 10452\\n(40.83590...\n",
              "\n",
              "[78 rows x 1 columns]"
            ]
          },
          "metadata": {
            "tags": []
          },
          "execution_count": 80
        }
      ]
    },
    {
      "cell_type": "code",
      "metadata": {
        "colab": {
          "base_uri": "https://localhost:8080/"
        },
        "id": "8WuhFe4YVmeX",
        "outputId": "adc7e660-9d7e-40fa-fa77-04119d081ea9"
      },
      "source": [
        "df.location.isna().sum()"
      ],
      "execution_count": null,
      "outputs": [
        {
          "output_type": "execute_result",
          "data": {
            "text/plain": [
              "0"
            ]
          },
          "metadata": {
            "tags": []
          },
          "execution_count": 81
        }
      ]
    },
    {
      "cell_type": "code",
      "metadata": {
        "id": "tLNJropFVRjD"
      },
      "source": [
        "def fix_loc(s):\n",
        "  st = s.replace('\\n', ' ')\n",
        "  return st"
      ],
      "execution_count": null,
      "outputs": []
    },
    {
      "cell_type": "code",
      "metadata": {
        "id": "WIuu8FtiVbP_"
      },
      "source": [
        "df.location = df.location.apply(lambda x: fix_loc(x))"
      ],
      "execution_count": null,
      "outputs": []
    },
    {
      "cell_type": "code",
      "metadata": {
        "colab": {
          "base_uri": "https://localhost:8080/"
        },
        "id": "yc0z-k6EVpoC",
        "outputId": "73a46c73-258e-49ce-8247-4ff8cd78c45f"
      },
      "source": [
        "df['location']"
      ],
      "execution_count": null,
      "outputs": [
        {
          "output_type": "execute_result",
          "data": {
            "text/plain": [
              "0     413 120th Street New York, NY 10035 (40.798205...\n",
              "1     79 01 Elmhurst, NY 11373 (40.738710402563, -73...\n",
              "2     2201 Neptune Avenue Brooklyn, NY 11224 (40.578...\n",
              "3     114 02 Guy R Brewer Blvd Jamaica, NY 11434 (40...\n",
              "4     348 156th Street Bronx, NY 10451 (40.821301194...\n",
              "                            ...                        \n",
              "73    1420 Bushwick Avenue Brooklyn, NY 11207 (40.68...\n",
              "74    462 First Avenue New York, NY 10016 (40.739623...\n",
              "75    769 Onderdonk Avenue Ridgewood, NY 11385 (40.7...\n",
              "76    60 Madison Street New York, NY 10038 (40.71196...\n",
              "77    1225 Gerard Avenue Bronx, NY 10452 (40.8359063...\n",
              "Name: location, Length: 78, dtype: object"
            ]
          },
          "metadata": {
            "tags": []
          },
          "execution_count": 84
        }
      ]
    },
    {
      "cell_type": "markdown",
      "metadata": {
        "id": "-G4mJ6amLsaj"
      },
      "source": [
        "#### <font color= '#eb3483'> Columns: Latitude and Longitude"
      ]
    },
    {
      "cell_type": "code",
      "metadata": {
        "id": "OQi_Rnv5MRdP",
        "colab": {
          "base_uri": "https://localhost:8080/"
        },
        "outputId": "e4f1199d-d7d5-4e1b-c07e-0799dc28201f"
      },
      "source": [
        "df.Latitude.isna().sum() "
      ],
      "execution_count": null,
      "outputs": [
        {
          "output_type": "execute_result",
          "data": {
            "text/plain": [
              "18"
            ]
          },
          "metadata": {
            "tags": []
          },
          "execution_count": 85
        }
      ]
    },
    {
      "cell_type": "code",
      "metadata": {
        "colab": {
          "base_uri": "https://localhost:8080/"
        },
        "id": "3J4UR0cpSTAG",
        "outputId": "d719ffd3-cebf-4a26-ae84-fe111811adb7"
      },
      "source": [
        "df.Longitude.isna().sum() "
      ],
      "execution_count": null,
      "outputs": [
        {
          "output_type": "execute_result",
          "data": {
            "text/plain": [
              "18"
            ]
          },
          "metadata": {
            "tags": []
          },
          "execution_count": 86
        }
      ]
    },
    {
      "cell_type": "code",
      "metadata": {
        "id": "AcsL29xhYc7s"
      },
      "source": [
        "df = df.rename(axis=1, mapper={'Latitude': 'latitude', 'Longitude': 'longitude'})"
      ],
      "execution_count": null,
      "outputs": []
    },
    {
      "cell_type": "code",
      "metadata": {
        "id": "6DwimeOUVvHW"
      },
      "source": [
        "def get_zip(s):\n",
        "  l = s.find('(')\n",
        "  r = s.find(')')\n",
        "  if (l != -1 and r != -1):\n",
        "    return s[l+1:r]\n",
        "  else:\n",
        "    return \"NO\" "
      ],
      "execution_count": null,
      "outputs": []
    },
    {
      "cell_type": "code",
      "metadata": {
        "id": "HzoOlXoUWDv-"
      },
      "source": [
        "df['lat_long_extracted'] = df.location.apply(lambda x: get_zip(x))"
      ],
      "execution_count": null,
      "outputs": []
    },
    {
      "cell_type": "code",
      "metadata": {
        "id": "w9yUP3nvXJl2"
      },
      "source": [
        "#df[['lat_long_extracted']].value_counts()"
      ],
      "execution_count": null,
      "outputs": []
    },
    {
      "cell_type": "code",
      "metadata": {
        "id": "bp25bFSFXT96"
      },
      "source": [
        "def split_zip(z):\n",
        "  return z.split(',')"
      ],
      "execution_count": null,
      "outputs": []
    },
    {
      "cell_type": "code",
      "metadata": {
        "id": "cQNOZT8mXfmN"
      },
      "source": [
        "df.lat_long_extracted = df.lat_long_extracted.apply(lambda x: split_zip(x))"
      ],
      "execution_count": null,
      "outputs": []
    },
    {
      "cell_type": "markdown",
      "metadata": {
        "id": "ZB7SMLrZRdPD"
      },
      "source": [
        "We should figure out what we want to do with the location and what info to extract from this."
      ]
    },
    {
      "cell_type": "code",
      "metadata": {
        "id": "XmlCE4F3X4kg"
      },
      "source": [
        "df['lat_from_loc'] = df.lat_long_extracted.apply(lambda x: x[0])\n",
        "df['long_from_loc'] = df.lat_long_extracted.apply(lambda x: x[1])"
      ],
      "execution_count": null,
      "outputs": []
    },
    {
      "cell_type": "code",
      "metadata": {
        "id": "GEs3qnv0YGq_"
      },
      "source": [
        "df.latitude = df.latitude.fillna(df.lat_from_loc)"
      ],
      "execution_count": null,
      "outputs": []
    },
    {
      "cell_type": "code",
      "metadata": {
        "id": "igh9uEVMYxqX"
      },
      "source": [
        "df.longitude = df.longitude.fillna(df.long_from_loc)"
      ],
      "execution_count": null,
      "outputs": []
    },
    {
      "cell_type": "code",
      "metadata": {
        "colab": {
          "base_uri": "https://localhost:8080/",
          "height": 203
        },
        "id": "bid9GeXdY7Bl",
        "outputId": "7b8f427f-1a4a-4972-c106-2f3d4a9fdceb"
      },
      "source": [
        "df[['latitude', 'longitude']].head()"
      ],
      "execution_count": null,
      "outputs": [
        {
          "output_type": "execute_result",
          "data": {
            "text/html": [
              "<div>\n",
              "<style scoped>\n",
              "    .dataframe tbody tr th:only-of-type {\n",
              "        vertical-align: middle;\n",
              "    }\n",
              "\n",
              "    .dataframe tbody tr th {\n",
              "        vertical-align: top;\n",
              "    }\n",
              "\n",
              "    .dataframe thead th {\n",
              "        text-align: right;\n",
              "    }\n",
              "</style>\n",
              "<table border=\"1\" class=\"dataframe\">\n",
              "  <thead>\n",
              "    <tr style=\"text-align: right;\">\n",
              "      <th></th>\n",
              "      <th>latitude</th>\n",
              "      <th>longitude</th>\n",
              "    </tr>\n",
              "  </thead>\n",
              "  <tbody>\n",
              "    <tr>\n",
              "      <th>0</th>\n",
              "      <td>40.798205044469</td>\n",
              "      <td>-73.932667945174</td>\n",
              "    </tr>\n",
              "    <tr>\n",
              "      <th>1</th>\n",
              "      <td>40.738710402563</td>\n",
              "      <td>-73.878351155182</td>\n",
              "    </tr>\n",
              "    <tr>\n",
              "      <th>2</th>\n",
              "      <td>40.5785</td>\n",
              "      <td>-73.9896</td>\n",
              "    </tr>\n",
              "    <tr>\n",
              "      <th>3</th>\n",
              "      <td>40.6886</td>\n",
              "      <td>-73.7856</td>\n",
              "    </tr>\n",
              "    <tr>\n",
              "      <th>4</th>\n",
              "      <td>40.821301194646</td>\n",
              "      <td>-73.917709787212</td>\n",
              "    </tr>\n",
              "  </tbody>\n",
              "</table>\n",
              "</div>"
            ],
            "text/plain": [
              "          latitude          longitude\n",
              "0  40.798205044469   -73.932667945174\n",
              "1  40.738710402563   -73.878351155182\n",
              "2          40.5785           -73.9896\n",
              "3          40.6886           -73.7856\n",
              "4  40.821301194646   -73.917709787212"
            ]
          },
          "metadata": {
            "tags": []
          },
          "execution_count": 96
        }
      ]
    },
    {
      "cell_type": "code",
      "metadata": {
        "id": "2wY6s1SoY9L-"
      },
      "source": [
        "df = df.drop(axis=1, columns=['lat_from_loc', 'long_from_loc', 'lat_long_extracted'])"
      ],
      "execution_count": null,
      "outputs": []
    },
    {
      "cell_type": "code",
      "metadata": {
        "colab": {
          "base_uri": "https://localhost:8080/",
          "height": 203
        },
        "id": "vOQH1DnJZJUc",
        "outputId": "73dbdc58-46df-4c27-9929-9da207b1b7b9"
      },
      "source": [
        "df.head()"
      ],
      "execution_count": null,
      "outputs": [
        {
          "output_type": "execute_result",
          "data": {
            "text/html": [
              "<div>\n",
              "<style scoped>\n",
              "    .dataframe tbody tr th:only-of-type {\n",
              "        vertical-align: middle;\n",
              "    }\n",
              "\n",
              "    .dataframe tbody tr th {\n",
              "        vertical-align: top;\n",
              "    }\n",
              "\n",
              "    .dataframe thead th {\n",
              "        text-align: right;\n",
              "    }\n",
              "</style>\n",
              "<table border=\"1\" class=\"dataframe\">\n",
              "  <thead>\n",
              "    <tr style=\"text-align: right;\">\n",
              "      <th></th>\n",
              "      <th>Facility Type</th>\n",
              "      <th>Borough</th>\n",
              "      <th>name</th>\n",
              "      <th>Phone</th>\n",
              "      <th>location</th>\n",
              "      <th>latitude</th>\n",
              "      <th>longitude</th>\n",
              "    </tr>\n",
              "  </thead>\n",
              "  <tbody>\n",
              "    <tr>\n",
              "      <th>0</th>\n",
              "      <td>Child Health Center</td>\n",
              "      <td>Manhattan</td>\n",
              "      <td>La Clinica Del Barrio</td>\n",
              "      <td>212-410-7940</td>\n",
              "      <td>413 120th Street New York, NY 10035 (40.798205...</td>\n",
              "      <td>40.798205044469</td>\n",
              "      <td>-73.932667945174</td>\n",
              "    </tr>\n",
              "    <tr>\n",
              "      <th>1</th>\n",
              "      <td>Acute Care Hospital</td>\n",
              "      <td>Queens</td>\n",
              "      <td>Elmhurst Hospital Center</td>\n",
              "      <td>718-334-4000</td>\n",
              "      <td>79 01 Elmhurst, NY 11373 (40.738710402563, -73...</td>\n",
              "      <td>40.738710402563</td>\n",
              "      <td>-73.878351155182</td>\n",
              "    </tr>\n",
              "    <tr>\n",
              "      <th>2</th>\n",
              "      <td>Child Health Center</td>\n",
              "      <td>Brooklyn</td>\n",
              "      <td>Ida G. Israel Community Health Center</td>\n",
              "      <td>718-946-3400</td>\n",
              "      <td>2201 Neptune Avenue Brooklyn, NY 11224 (40.578...</td>\n",
              "      <td>40.5785</td>\n",
              "      <td>-73.9896</td>\n",
              "    </tr>\n",
              "    <tr>\n",
              "      <th>3</th>\n",
              "      <td>Child Health Center</td>\n",
              "      <td>Queens</td>\n",
              "      <td>South Queens Community Health Center</td>\n",
              "      <td>718-883-6699</td>\n",
              "      <td>114 02 Guy R Brewer Blvd Jamaica, NY 11434 (40...</td>\n",
              "      <td>40.6886</td>\n",
              "      <td>-73.7856</td>\n",
              "    </tr>\n",
              "    <tr>\n",
              "      <th>4</th>\n",
              "      <td>Child Health Center</td>\n",
              "      <td>Bronx</td>\n",
              "      <td>Melrose Houses Child Health Clinic</td>\n",
              "      <td>718-292-2820</td>\n",
              "      <td>348 156th Street Bronx, NY 10451 (40.821301194...</td>\n",
              "      <td>40.821301194646</td>\n",
              "      <td>-73.917709787212</td>\n",
              "    </tr>\n",
              "  </tbody>\n",
              "</table>\n",
              "</div>"
            ],
            "text/plain": [
              "         Facility Type    Borough  ...         latitude          longitude\n",
              "0  Child Health Center  Manhattan  ...  40.798205044469   -73.932667945174\n",
              "1  Acute Care Hospital     Queens  ...  40.738710402563   -73.878351155182\n",
              "2  Child Health Center   Brooklyn  ...          40.5785           -73.9896\n",
              "3  Child Health Center     Queens  ...          40.6886           -73.7856\n",
              "4  Child Health Center      Bronx  ...  40.821301194646   -73.917709787212\n",
              "\n",
              "[5 rows x 7 columns]"
            ]
          },
          "metadata": {
            "tags": []
          },
          "execution_count": 98
        }
      ]
    },
    {
      "cell_type": "code",
      "metadata": {
        "colab": {
          "base_uri": "https://localhost:8080/"
        },
        "id": "AGVbLqVgb3mW",
        "outputId": "630d0181-d4e0-47bd-dd3f-91aa3ae6f00c"
      },
      "source": [
        "df.dtypes"
      ],
      "execution_count": null,
      "outputs": [
        {
          "output_type": "execute_result",
          "data": {
            "text/plain": [
              "Facility Type    object\n",
              "Borough          object\n",
              "name             object\n",
              "Phone            object\n",
              "location         object\n",
              "latitude         object\n",
              "longitude        object\n",
              "dtype: object"
            ]
          },
          "metadata": {
            "tags": []
          },
          "execution_count": 99
        }
      ]
    },
    {
      "cell_type": "code",
      "metadata": {
        "id": "CuOePRwab7NZ"
      },
      "source": [
        "df.latitude = df.latitude.astype(float)\n",
        "df.longitude = df.longitude.astype(float)"
      ],
      "execution_count": null,
      "outputs": []
    },
    {
      "cell_type": "markdown",
      "metadata": {
        "id": "8MQnUQrzaCK3"
      },
      "source": [
        "Lets go back and clean up the location now"
      ]
    },
    {
      "cell_type": "code",
      "metadata": {
        "id": "lfRxT123aGHe"
      },
      "source": [
        "def clean_loc(s):\n",
        "  l = s.find('(')\n",
        "  if (l != -1):\n",
        "    return s[0 : l]\n",
        "  else:\n",
        "    return s"
      ],
      "execution_count": null,
      "outputs": []
    },
    {
      "cell_type": "code",
      "metadata": {
        "id": "TzQALgN-aOgb"
      },
      "source": [
        "df.location = df.location.apply(lambda x: clean_loc(x))"
      ],
      "execution_count": null,
      "outputs": []
    },
    {
      "cell_type": "code",
      "metadata": {
        "colab": {
          "base_uri": "https://localhost:8080/"
        },
        "id": "V6SL_MHJaTBD",
        "outputId": "6f660aa9-6d49-4921-e455-ef08739c08e7"
      },
      "source": [
        "df.location"
      ],
      "execution_count": null,
      "outputs": [
        {
          "output_type": "execute_result",
          "data": {
            "text/plain": [
              "0            413 120th Street New York, NY 10035 \n",
              "1                       79 01 Elmhurst, NY 11373 \n",
              "2         2201 Neptune Avenue Brooklyn, NY 11224 \n",
              "3     114 02 Guy R Brewer Blvd Jamaica, NY 11434 \n",
              "4               348 156th Street Bronx, NY 10451 \n",
              "                         ...                     \n",
              "73       1420 Bushwick Avenue Brooklyn, NY 11207 \n",
              "74           462 First Avenue New York, NY 10016 \n",
              "75      769 Onderdonk Avenue Ridgewood, NY 11385 \n",
              "76          60 Madison Street New York, NY 10038 \n",
              "77            1225 Gerard Avenue Bronx, NY 10452 \n",
              "Name: location, Length: 78, dtype: object"
            ]
          },
          "metadata": {
            "tags": []
          },
          "execution_count": 103
        }
      ]
    },
    {
      "cell_type": "code",
      "metadata": {
        "id": "StKOHw1KacD2"
      },
      "source": [
        "def get_zipcode(s):\n",
        "  l = len(s)\n",
        "  zip = s[l-6 : l]\n",
        "  return zip"
      ],
      "execution_count": null,
      "outputs": []
    },
    {
      "cell_type": "code",
      "metadata": {
        "id": "p2skd3dLbBI-"
      },
      "source": [
        "df['zipcode'] = df.location.apply(lambda x: get_zipcode(x))"
      ],
      "execution_count": null,
      "outputs": []
    },
    {
      "cell_type": "code",
      "metadata": {
        "id": "J7Sra0gpbxp4"
      },
      "source": [
        "df.zipcode = df.zipcode.astype(int)"
      ],
      "execution_count": null,
      "outputs": []
    },
    {
      "cell_type": "markdown",
      "metadata": {
        "id": "9UupGQikZTLz"
      },
      "source": [
        "#### <font color= pink> Column: Facility Type"
      ]
    },
    {
      "cell_type": "code",
      "metadata": {
        "colab": {
          "base_uri": "https://localhost:8080/"
        },
        "id": "u1XmeaHnZXxv",
        "outputId": "804cb01a-4b05-4fb0-b429-b8df281ad8b8"
      },
      "source": [
        "df['Facility Type'].isna().sum()"
      ],
      "execution_count": null,
      "outputs": [
        {
          "output_type": "execute_result",
          "data": {
            "text/plain": [
              "0"
            ]
          },
          "metadata": {
            "tags": []
          },
          "execution_count": 107
        }
      ]
    },
    {
      "cell_type": "code",
      "metadata": {
        "colab": {
          "base_uri": "https://localhost:8080/"
        },
        "id": "1EcSYR5_ZVRZ",
        "outputId": "ac3f2a66-e2e3-4849-bcba-3f21f4e48b88"
      },
      "source": [
        "df['Facility Type'].value_counts()"
      ],
      "execution_count": null,
      "outputs": [
        {
          "output_type": "execute_result",
          "data": {
            "text/plain": [
              "Child Health Center              56\n",
              "Acute Care Hospital              11\n",
              "Diagnostic & Treatment Center     6\n",
              "Nursing Home                      5\n",
              "Name: Facility Type, dtype: int64"
            ]
          },
          "metadata": {
            "tags": []
          },
          "execution_count": 108
        }
      ]
    },
    {
      "cell_type": "code",
      "metadata": {
        "id": "EEJpU7HIZax-"
      },
      "source": [
        "df = df.rename(axis=1, mapper={'Facility Type': 'type'})"
      ],
      "execution_count": null,
      "outputs": []
    },
    {
      "cell_type": "code",
      "metadata": {
        "colab": {
          "base_uri": "https://localhost:8080/"
        },
        "id": "Erx43OF_SuAr",
        "outputId": "b85c97bf-23eb-41f1-de8f-0ade8897cfb7"
      },
      "source": [
        "100 * df.type.value_counts() / df.shape[0]"
      ],
      "execution_count": null,
      "outputs": [
        {
          "output_type": "execute_result",
          "data": {
            "text/plain": [
              "Child Health Center              71.794872\n",
              "Acute Care Hospital              14.102564\n",
              "Diagnostic & Treatment Center     7.692308\n",
              "Nursing Home                      6.410256\n",
              "Name: type, dtype: float64"
            ]
          },
          "metadata": {
            "tags": []
          },
          "execution_count": 112
        }
      ]
    },
    {
      "cell_type": "markdown",
      "metadata": {
        "id": "_t6mLnp-ZkDJ"
      },
      "source": [
        "#### <font color= pink> Column: Borough\n"
      ]
    },
    {
      "cell_type": "code",
      "metadata": {
        "colab": {
          "base_uri": "https://localhost:8080/"
        },
        "id": "ftHU28OyZmXa",
        "outputId": "9eea05e9-af6d-4c19-f2b2-a9ddec16f899"
      },
      "source": [
        "df.Borough.value_counts()"
      ],
      "execution_count": null,
      "outputs": [
        {
          "output_type": "execute_result",
          "data": {
            "text/plain": [
              "Brooklyn         26\n",
              "Manhattan        24\n",
              "Bronx            14\n",
              "Queens           11\n",
              "Staten Island     3\n",
              "Name: Borough, dtype: int64"
            ]
          },
          "metadata": {
            "tags": []
          },
          "execution_count": 113
        }
      ]
    },
    {
      "cell_type": "code",
      "metadata": {
        "id": "tobIfY9sZsSf"
      },
      "source": [
        "df = df.rename(axis=1, mapper={'Borough': 'borough'})"
      ],
      "execution_count": null,
      "outputs": []
    },
    {
      "cell_type": "markdown",
      "metadata": {
        "id": "cSJpPGVncU0I"
      },
      "source": [
        "#### <font color= pink> Column: Zipcode\n"
      ]
    },
    {
      "cell_type": "code",
      "metadata": {
        "colab": {
          "base_uri": "https://localhost:8080/",
          "height": 425
        },
        "id": "AZ5ltQc7ZzDp",
        "outputId": "49796c33-b327-4968-a155-5edcab13b540"
      },
      "source": [
        "df.head()"
      ],
      "execution_count": null,
      "outputs": [
        {
          "output_type": "execute_result",
          "data": {
            "text/html": [
              "<div>\n",
              "<style scoped>\n",
              "    .dataframe tbody tr th:only-of-type {\n",
              "        vertical-align: middle;\n",
              "    }\n",
              "\n",
              "    .dataframe tbody tr th {\n",
              "        vertical-align: top;\n",
              "    }\n",
              "\n",
              "    .dataframe thead th {\n",
              "        text-align: right;\n",
              "    }\n",
              "</style>\n",
              "<table border=\"1\" class=\"dataframe\">\n",
              "  <thead>\n",
              "    <tr style=\"text-align: right;\">\n",
              "      <th></th>\n",
              "      <th>type</th>\n",
              "      <th>borough</th>\n",
              "      <th>name</th>\n",
              "      <th>Phone</th>\n",
              "      <th>location</th>\n",
              "      <th>latitude</th>\n",
              "      <th>longitude</th>\n",
              "      <th>zipcode</th>\n",
              "    </tr>\n",
              "  </thead>\n",
              "  <tbody>\n",
              "    <tr>\n",
              "      <th>0</th>\n",
              "      <td>Child Health Center</td>\n",
              "      <td>Manhattan</td>\n",
              "      <td>La Clinica Del Barrio</td>\n",
              "      <td>212-410-7940</td>\n",
              "      <td>413 120th Street New York, NY 10035</td>\n",
              "      <td>40.798205</td>\n",
              "      <td>-73.932668</td>\n",
              "      <td>10035</td>\n",
              "    </tr>\n",
              "    <tr>\n",
              "      <th>1</th>\n",
              "      <td>Acute Care Hospital</td>\n",
              "      <td>Queens</td>\n",
              "      <td>Elmhurst Hospital Center</td>\n",
              "      <td>718-334-4000</td>\n",
              "      <td>79 01 Elmhurst, NY 11373</td>\n",
              "      <td>40.738710</td>\n",
              "      <td>-73.878351</td>\n",
              "      <td>11373</td>\n",
              "    </tr>\n",
              "    <tr>\n",
              "      <th>2</th>\n",
              "      <td>Child Health Center</td>\n",
              "      <td>Brooklyn</td>\n",
              "      <td>Ida G. Israel Community Health Center</td>\n",
              "      <td>718-946-3400</td>\n",
              "      <td>2201 Neptune Avenue Brooklyn, NY 11224</td>\n",
              "      <td>40.578468</td>\n",
              "      <td>-73.989614</td>\n",
              "      <td>11224</td>\n",
              "    </tr>\n",
              "    <tr>\n",
              "      <th>3</th>\n",
              "      <td>Child Health Center</td>\n",
              "      <td>Queens</td>\n",
              "      <td>South Queens Community Health Center</td>\n",
              "      <td>718-883-6699</td>\n",
              "      <td>114 02 Guy R Brewer Blvd Jamaica, NY 11434</td>\n",
              "      <td>40.688615</td>\n",
              "      <td>-73.785593</td>\n",
              "      <td>11434</td>\n",
              "    </tr>\n",
              "    <tr>\n",
              "      <th>4</th>\n",
              "      <td>Child Health Center</td>\n",
              "      <td>Bronx</td>\n",
              "      <td>Melrose Houses Child Health Clinic</td>\n",
              "      <td>718-292-2820</td>\n",
              "      <td>348 156th Street Bronx, NY 10451</td>\n",
              "      <td>40.821301</td>\n",
              "      <td>-73.917710</td>\n",
              "      <td>10451</td>\n",
              "    </tr>\n",
              "  </tbody>\n",
              "</table>\n",
              "</div>"
            ],
            "text/plain": [
              "                  type    borough  ...  longitude zipcode\n",
              "0  Child Health Center  Manhattan  ... -73.932668   10035\n",
              "1  Acute Care Hospital     Queens  ... -73.878351   11373\n",
              "2  Child Health Center   Brooklyn  ... -73.989614   11224\n",
              "3  Child Health Center     Queens  ... -73.785593   11434\n",
              "4  Child Health Center      Bronx  ... -73.917710   10451\n",
              "\n",
              "[5 rows x 8 columns]"
            ]
          },
          "metadata": {
            "tags": []
          },
          "execution_count": 48
        }
      ]
    },
    {
      "cell_type": "code",
      "metadata": {
        "colab": {
          "base_uri": "https://localhost:8080/"
        },
        "id": "ftGYiDyccQae",
        "outputId": "b5a77b0f-1efc-4e4d-a274-b0b15e02dc93"
      },
      "source": [
        "df.zipcode.value_counts()"
      ],
      "execution_count": null,
      "outputs": [
        {
          "output_type": "execute_result",
          "data": {
            "text/plain": [
              "11206    5\n",
              "10027    5\n",
              "10002    4\n",
              "11203    3\n",
              "10451    3\n",
              "11205    3\n",
              "11432    3\n",
              "10467    2\n",
              "11211    2\n",
              "10044    2\n",
              "10029    2\n",
              "11373    2\n",
              "11207    2\n",
              "11235    2\n",
              "10461    2\n",
              "10037    2\n",
              "10452    2\n",
              "10454    2\n",
              "10016    2\n",
              "11434    1\n",
              "10035    1\n",
              "10009    1\n",
              "11222    1\n",
              "10456    1\n",
              "10457    1\n",
              "10030    1\n",
              "10032    1\n",
              "10012    1\n",
              "10034    1\n",
              "11413    1\n",
              "11385    1\n",
              "10038    1\n",
              "10303    1\n",
              "10304    1\n",
              "11201    1\n",
              "11377    1\n",
              "10314    1\n",
              "11212    1\n",
              "11213    1\n",
              "11221    1\n",
              "11224    1\n",
              "11225    1\n",
              "10469    1\n",
              "11368    1\n",
              "11372    1\n",
              "11229    1\n",
              "11208    1\n",
              "Name: zipcode, dtype: int64"
            ]
          },
          "metadata": {
            "tags": []
          },
          "execution_count": 49
        }
      ]
    },
    {
      "cell_type": "markdown",
      "metadata": {
        "id": "EP8QnTaGdO0M"
      },
      "source": [
        "#### <font color= pink> Column: Phone"
      ]
    },
    {
      "cell_type": "code",
      "metadata": {
        "colab": {
          "base_uri": "https://localhost:8080/"
        },
        "id": "bCzpxogUccpr",
        "outputId": "be33a1de-4c24-4b92-9cc5-e9c094d39066"
      },
      "source": [
        "df.Phone.apply(lambda x: len(x)).value_counts()"
      ],
      "execution_count": null,
      "outputs": [
        {
          "output_type": "execute_result",
          "data": {
            "text/plain": [
              "12    75\n",
              "13     2\n",
              "22     1\n",
              "Name: Phone, dtype: int64"
            ]
          },
          "metadata": {
            "tags": []
          },
          "execution_count": 50
        }
      ]
    },
    {
      "cell_type": "code",
      "metadata": {
        "colab": {
          "base_uri": "https://localhost:8080/"
        },
        "id": "yahSPf_UdQ8p",
        "outputId": "552b21df-26a8-4804-aca3-33be01903095"
      },
      "source": [
        "df.Phone.sort_values()"
      ],
      "execution_count": null,
      "outputs": [
        {
          "output_type": "execute_result",
          "data": {
            "text/plain": [
              "57    212-238-7000\n",
              "55    212-238-7000\n",
              "56    212-238-7200\n",
              "59    212-318-8000\n",
              "76    212-346-0500\n",
              "          ...     \n",
              "28    718-960-2777\n",
              "77    718-960-2777\n",
              "45    718-963-7820\n",
              "72    718-963-8000\n",
              "11    718-963-8000\n",
              "Name: Phone, Length: 78, dtype: object"
            ]
          },
          "metadata": {
            "tags": []
          },
          "execution_count": 51
        }
      ]
    },
    {
      "cell_type": "code",
      "metadata": {
        "colab": {
          "base_uri": "https://localhost:8080/",
          "height": 1000
        },
        "id": "yjYHjitgeA3Y",
        "outputId": "3cc3bf95-b3f9-4bdc-cd8e-4aec20fbce60"
      },
      "source": [
        "df.iloc[df.agg({\"Phone\":len}).sort_values('Phone', ascending=False).index]"
      ],
      "execution_count": null,
      "outputs": [
        {
          "output_type": "execute_result",
          "data": {
            "text/html": [
              "<div>\n",
              "<style scoped>\n",
              "    .dataframe tbody tr th:only-of-type {\n",
              "        vertical-align: middle;\n",
              "    }\n",
              "\n",
              "    .dataframe tbody tr th {\n",
              "        vertical-align: top;\n",
              "    }\n",
              "\n",
              "    .dataframe thead th {\n",
              "        text-align: right;\n",
              "    }\n",
              "</style>\n",
              "<table border=\"1\" class=\"dataframe\">\n",
              "  <thead>\n",
              "    <tr style=\"text-align: right;\">\n",
              "      <th></th>\n",
              "      <th>type</th>\n",
              "      <th>borough</th>\n",
              "      <th>name</th>\n",
              "      <th>Phone</th>\n",
              "      <th>location</th>\n",
              "      <th>latitude</th>\n",
              "      <th>longitude</th>\n",
              "      <th>zipcode</th>\n",
              "    </tr>\n",
              "  </thead>\n",
              "  <tbody>\n",
              "    <tr>\n",
              "      <th>58</th>\n",
              "      <td>Child Health Center</td>\n",
              "      <td>Brooklyn</td>\n",
              "      <td>Fort Greene Child Health Clinic</td>\n",
              "      <td>718-260-7500 ext. 7859</td>\n",
              "      <td>295 Flatbush Avenue Extension Brooklyn, NY 11201</td>\n",
              "      <td>40.691986</td>\n",
              "      <td>-73.982496</td>\n",
              "      <td>11201</td>\n",
              "    </tr>\n",
              "    <tr>\n",
              "      <th>35</th>\n",
              "      <td>Nursing Home</td>\n",
              "      <td>Manhattan</td>\n",
              "      <td>Coler-Goldwater Specialty Hospital and Nursing...</td>\n",
              "      <td>212-848-6000</td>\n",
              "      <td>900 Main Street Roosevelt Island New York, NY ...</td>\n",
              "      <td>40.769800</td>\n",
              "      <td>-73.941218</td>\n",
              "      <td>10044</td>\n",
              "    </tr>\n",
              "    <tr>\n",
              "      <th>33</th>\n",
              "      <td>Diagnostic &amp; Treatment Center</td>\n",
              "      <td>Manhattan</td>\n",
              "      <td>Renaissance Health Care Network Diagnostic &amp; T...</td>\n",
              "      <td>212-932-6500</td>\n",
              "      <td>215 125 Street New York, NY 10027</td>\n",
              "      <td>40.809339</td>\n",
              "      <td>-73.949197</td>\n",
              "      <td>10027</td>\n",
              "    </tr>\n",
              "    <tr>\n",
              "      <th>49</th>\n",
              "      <td>Child Health Center</td>\n",
              "      <td>Staten Island</td>\n",
              "      <td>Mariner's Harbor Houses Child Health Clinic</td>\n",
              "      <td>718-761-2060</td>\n",
              "      <td>2040 Forest Avenue Staten Island NY 10303</td>\n",
              "      <td>40.626017</td>\n",
              "      <td>-74.156541</td>\n",
              "      <td>10303</td>\n",
              "    </tr>\n",
              "    <tr>\n",
              "      <th>56</th>\n",
              "      <td>Child Health Center</td>\n",
              "      <td>Manhattan</td>\n",
              "      <td>Gouverneur Diagnostic &amp; Treatment Center</td>\n",
              "      <td>212-238-7200</td>\n",
              "      <td>227 Madison Street New York, NY 10002</td>\n",
              "      <td>40.712784</td>\n",
              "      <td>-73.988417</td>\n",
              "      <td>10002</td>\n",
              "    </tr>\n",
              "    <tr>\n",
              "      <th>...</th>\n",
              "      <td>...</td>\n",
              "      <td>...</td>\n",
              "      <td>...</td>\n",
              "      <td>...</td>\n",
              "      <td>...</td>\n",
              "      <td>...</td>\n",
              "      <td>...</td>\n",
              "      <td>...</td>\n",
              "    </tr>\n",
              "    <tr>\n",
              "      <th>24</th>\n",
              "      <td>Child Health Center</td>\n",
              "      <td>Queens</td>\n",
              "      <td>Corona Child Health Clinic</td>\n",
              "      <td>718-334-6100</td>\n",
              "      <td>104 04 Corona Avenue Corona, NY 11368</td>\n",
              "      <td>40.744001</td>\n",
              "      <td>-73.858404</td>\n",
              "      <td>11368</td>\n",
              "    </tr>\n",
              "    <tr>\n",
              "      <th>23</th>\n",
              "      <td>Child Health Center</td>\n",
              "      <td>Bronx</td>\n",
              "      <td>Lincoln  Medical &amp;  Mental Health Center</td>\n",
              "      <td>718-579-5000</td>\n",
              "      <td>234 149th Street Bronx, NY 10451</td>\n",
              "      <td>40.817688</td>\n",
              "      <td>-73.924200</td>\n",
              "      <td>10451</td>\n",
              "    </tr>\n",
              "    <tr>\n",
              "      <th>22</th>\n",
              "      <td>Nursing Home</td>\n",
              "      <td>Brooklyn</td>\n",
              "      <td>Dr. Susan Smith McKinney Nursing and Rehabilit...</td>\n",
              "      <td>718-245-7000</td>\n",
              "      <td>594 Albany Avenue Brooklyn, NY 11203</td>\n",
              "      <td>40.659968</td>\n",
              "      <td>-73.939733</td>\n",
              "      <td>11203</td>\n",
              "    </tr>\n",
              "    <tr>\n",
              "      <th>21</th>\n",
              "      <td>Child Health Center</td>\n",
              "      <td>Manhattan</td>\n",
              "      <td>Sydenham Health Center</td>\n",
              "      <td>212-932-6500</td>\n",
              "      <td>215 125th Street New York, NY 10027</td>\n",
              "      <td>40.809339</td>\n",
              "      <td>-73.949197</td>\n",
              "      <td>10027</td>\n",
              "    </tr>\n",
              "    <tr>\n",
              "      <th>77</th>\n",
              "      <td>Child Health Center</td>\n",
              "      <td>Bronx</td>\n",
              "      <td>Morrisania Diagnostic &amp; Treatment Center</td>\n",
              "      <td>718-960-2777</td>\n",
              "      <td>1225 Gerard Avenue Bronx, NY 10452</td>\n",
              "      <td>40.835957</td>\n",
              "      <td>-73.919986</td>\n",
              "      <td>10452</td>\n",
              "    </tr>\n",
              "  </tbody>\n",
              "</table>\n",
              "<p>78 rows × 8 columns</p>\n",
              "</div>"
            ],
            "text/plain": [
              "                             type        borough  ...  longitude zipcode\n",
              "58            Child Health Center       Brooklyn  ... -73.982496   11201\n",
              "35                   Nursing Home      Manhattan  ... -73.941218   10044\n",
              "33  Diagnostic & Treatment Center      Manhattan  ... -73.949197   10027\n",
              "49            Child Health Center  Staten Island  ... -74.156541   10303\n",
              "56            Child Health Center      Manhattan  ... -73.988417   10002\n",
              "..                            ...            ...  ...        ...     ...\n",
              "24            Child Health Center         Queens  ... -73.858404   11368\n",
              "23            Child Health Center          Bronx  ... -73.924200   10451\n",
              "22                   Nursing Home       Brooklyn  ... -73.939733   11203\n",
              "21            Child Health Center      Manhattan  ... -73.949197   10027\n",
              "77            Child Health Center          Bronx  ... -73.919986   10452\n",
              "\n",
              "[78 rows x 8 columns]"
            ]
          },
          "metadata": {
            "tags": []
          },
          "execution_count": 52
        }
      ]
    },
    {
      "cell_type": "code",
      "metadata": {
        "id": "ZLRkCKR2esAV"
      },
      "source": [
        "df.Phone = df.Phone.apply(lambda x: x[0:13])"
      ],
      "execution_count": null,
      "outputs": []
    },
    {
      "cell_type": "code",
      "metadata": {
        "id": "3YAuEVaKfCoC"
      },
      "source": [
        "df = df.rename(axis=1, mapper={'Phone' : 'phone'})"
      ],
      "execution_count": null,
      "outputs": []
    },
    {
      "cell_type": "markdown",
      "metadata": {
        "id": "lLIzpQQdooYi"
      },
      "source": [
        "#### <font color = pink> Finish Name col w duplicates"
      ]
    },
    {
      "cell_type": "code",
      "metadata": {
        "colab": {
          "base_uri": "https://localhost:8080/",
          "height": 1000
        },
        "id": "wRLcwqJmfp0E",
        "outputId": "556e2849-bcb8-4d6d-fa7b-4b8a948f4914"
      },
      "source": [
        "df[df.duplicated('name', keep=False)].sort_values(by='name')"
      ],
      "execution_count": null,
      "outputs": [
        {
          "output_type": "execute_result",
          "data": {
            "text/html": [
              "<div>\n",
              "<style scoped>\n",
              "    .dataframe tbody tr th:only-of-type {\n",
              "        vertical-align: middle;\n",
              "    }\n",
              "\n",
              "    .dataframe tbody tr th {\n",
              "        vertical-align: top;\n",
              "    }\n",
              "\n",
              "    .dataframe thead th {\n",
              "        text-align: right;\n",
              "    }\n",
              "</style>\n",
              "<table border=\"1\" class=\"dataframe\">\n",
              "  <thead>\n",
              "    <tr style=\"text-align: right;\">\n",
              "      <th></th>\n",
              "      <th>type</th>\n",
              "      <th>borough</th>\n",
              "      <th>name</th>\n",
              "      <th>phone</th>\n",
              "      <th>location</th>\n",
              "      <th>latitude</th>\n",
              "      <th>longitude</th>\n",
              "      <th>zipcode</th>\n",
              "    </tr>\n",
              "  </thead>\n",
              "  <tbody>\n",
              "    <tr>\n",
              "      <th>74</th>\n",
              "      <td>Child Health Center</td>\n",
              "      <td>Manhattan</td>\n",
              "      <td>Bellevue Hospital Center</td>\n",
              "      <td>212-562-4141</td>\n",
              "      <td>462 First Avenue New York, NY 10016</td>\n",
              "      <td>40.739173</td>\n",
              "      <td>-73.976862</td>\n",
              "      <td>10016</td>\n",
              "    </tr>\n",
              "    <tr>\n",
              "      <th>37</th>\n",
              "      <td>Acute Care Hospital</td>\n",
              "      <td>Manhattan</td>\n",
              "      <td>Bellevue Hospital Center</td>\n",
              "      <td>212-562-4141</td>\n",
              "      <td>462 First Avenue New York, NY 10016</td>\n",
              "      <td>40.739173</td>\n",
              "      <td>-73.976862</td>\n",
              "      <td>10016</td>\n",
              "    </tr>\n",
              "    <tr>\n",
              "      <th>65</th>\n",
              "      <td>Child Health Center</td>\n",
              "      <td>Brooklyn</td>\n",
              "      <td>Coney Island Hospital</td>\n",
              "      <td>718-616-3000</td>\n",
              "      <td>2601 Ocean Parkway Brooklyn, NY 11235</td>\n",
              "      <td>40.586552</td>\n",
              "      <td>-73.966168</td>\n",
              "      <td>11235</td>\n",
              "    </tr>\n",
              "    <tr>\n",
              "      <th>44</th>\n",
              "      <td>Acute Care Hospital</td>\n",
              "      <td>Brooklyn</td>\n",
              "      <td>Coney Island Hospital</td>\n",
              "      <td>718-616-3000</td>\n",
              "      <td>2601 Ocean Parkway Brooklyn, NY 11235</td>\n",
              "      <td>40.586552</td>\n",
              "      <td>-73.966168</td>\n",
              "      <td>11235</td>\n",
              "    </tr>\n",
              "    <tr>\n",
              "      <th>9</th>\n",
              "      <td>Child Health Center</td>\n",
              "      <td>Brooklyn</td>\n",
              "      <td>Cumberland Diagnostic &amp; Treatment Center</td>\n",
              "      <td>718-260-7500</td>\n",
              "      <td>100 Portland Avenue Brooklyn, NY 11205</td>\n",
              "      <td>40.695144</td>\n",
              "      <td>-73.976236</td>\n",
              "      <td>11205</td>\n",
              "    </tr>\n",
              "    <tr>\n",
              "      <th>32</th>\n",
              "      <td>Diagnostic &amp; Treatment Center</td>\n",
              "      <td>Brooklyn</td>\n",
              "      <td>Cumberland Diagnostic &amp; Treatment Center</td>\n",
              "      <td>718-260-7500</td>\n",
              "      <td>100 Portland Avenue Brooklyn, NY 11205</td>\n",
              "      <td>40.695144</td>\n",
              "      <td>-73.976236</td>\n",
              "      <td>11205</td>\n",
              "    </tr>\n",
              "    <tr>\n",
              "      <th>42</th>\n",
              "      <td>Child Health Center</td>\n",
              "      <td>Brooklyn</td>\n",
              "      <td>East New York Diagnostic &amp; Treatment Center</td>\n",
              "      <td>718-240-0400</td>\n",
              "      <td>2094 Pitkin Avenue Brooklyn, NY 11225</td>\n",
              "      <td>40.671977</td>\n",
              "      <td>-73.895248</td>\n",
              "      <td>11225</td>\n",
              "    </tr>\n",
              "    <tr>\n",
              "      <th>17</th>\n",
              "      <td>Diagnostic &amp; Treatment Center</td>\n",
              "      <td>Brooklyn</td>\n",
              "      <td>East New York Diagnostic &amp; Treatment Center</td>\n",
              "      <td>718-240-0400</td>\n",
              "      <td>2094 Pitkin Avenue Brooklyn, NY 11207</td>\n",
              "      <td>40.671977</td>\n",
              "      <td>-73.895248</td>\n",
              "      <td>11207</td>\n",
              "    </tr>\n",
              "    <tr>\n",
              "      <th>47</th>\n",
              "      <td>Child Health Center</td>\n",
              "      <td>Queens</td>\n",
              "      <td>Elmhurst Hospital Center</td>\n",
              "      <td>718-334-4000</td>\n",
              "      <td>79 01 Elmhurst, NY 11373</td>\n",
              "      <td>40.738710</td>\n",
              "      <td>-73.878351</td>\n",
              "      <td>11373</td>\n",
              "    </tr>\n",
              "    <tr>\n",
              "      <th>1</th>\n",
              "      <td>Acute Care Hospital</td>\n",
              "      <td>Queens</td>\n",
              "      <td>Elmhurst Hospital Center</td>\n",
              "      <td>718-334-4000</td>\n",
              "      <td>79 01 Elmhurst, NY 11373</td>\n",
              "      <td>40.738710</td>\n",
              "      <td>-73.878351</td>\n",
              "      <td>11373</td>\n",
              "    </tr>\n",
              "    <tr>\n",
              "      <th>57</th>\n",
              "      <td>Nursing Home</td>\n",
              "      <td>Manhattan</td>\n",
              "      <td>Gouverneur Healthcare Services</td>\n",
              "      <td>212-238-7000</td>\n",
              "      <td>227 Madison Street New York, NY 10002</td>\n",
              "      <td>40.712784</td>\n",
              "      <td>-73.988417</td>\n",
              "      <td>10002</td>\n",
              "    </tr>\n",
              "    <tr>\n",
              "      <th>55</th>\n",
              "      <td>Diagnostic &amp; Treatment Center</td>\n",
              "      <td>Manhattan</td>\n",
              "      <td>Gouverneur Healthcare Services</td>\n",
              "      <td>212-238-7000</td>\n",
              "      <td>227 Madison Street New York, NY 10002</td>\n",
              "      <td>40.712784</td>\n",
              "      <td>-73.988417</td>\n",
              "      <td>10002</td>\n",
              "    </tr>\n",
              "    <tr>\n",
              "      <th>64</th>\n",
              "      <td>Acute Care Hospital</td>\n",
              "      <td>Manhattan</td>\n",
              "      <td>Harlem Hospital Center</td>\n",
              "      <td>212-939-1000</td>\n",
              "      <td>506 Lenox Avenue New York, NY 10037</td>\n",
              "      <td>40.814358</td>\n",
              "      <td>-73.940659</td>\n",
              "      <td>10037</td>\n",
              "    </tr>\n",
              "    <tr>\n",
              "      <th>20</th>\n",
              "      <td>Child Health Center</td>\n",
              "      <td>Manhattan</td>\n",
              "      <td>Harlem Hospital Center</td>\n",
              "      <td>212-939-1000</td>\n",
              "      <td>506 Lenox Avenue New York, NY 10037</td>\n",
              "      <td>40.814358</td>\n",
              "      <td>-73.940659</td>\n",
              "      <td>10037</td>\n",
              "    </tr>\n",
              "    <tr>\n",
              "      <th>13</th>\n",
              "      <td>Acute Care Hospital</td>\n",
              "      <td>Bronx</td>\n",
              "      <td>Jacobi Medical Center</td>\n",
              "      <td>718-918-5000</td>\n",
              "      <td>1400 Pelham Parkway Bronx, NY 10461</td>\n",
              "      <td>40.857427</td>\n",
              "      <td>-73.847079</td>\n",
              "      <td>10461</td>\n",
              "    </tr>\n",
              "    <tr>\n",
              "      <th>31</th>\n",
              "      <td>Child Health Center</td>\n",
              "      <td>Bronx</td>\n",
              "      <td>Jacobi Medical Center</td>\n",
              "      <td>718-918-5000</td>\n",
              "      <td>1400 Pelham Parkway Bronx, NY 10461</td>\n",
              "      <td>40.857427</td>\n",
              "      <td>-73.847079</td>\n",
              "      <td>10461</td>\n",
              "    </tr>\n",
              "    <tr>\n",
              "      <th>34</th>\n",
              "      <td>Acute Care Hospital</td>\n",
              "      <td>Brooklyn</td>\n",
              "      <td>Kings County Hospital Center</td>\n",
              "      <td>718-245-3131</td>\n",
              "      <td>451 Clarkson Avenue Brooklyn, NY 11203</td>\n",
              "      <td>40.655762</td>\n",
              "      <td>-73.944580</td>\n",
              "      <td>11203</td>\n",
              "    </tr>\n",
              "    <tr>\n",
              "      <th>36</th>\n",
              "      <td>Child Health Center</td>\n",
              "      <td>Brooklyn</td>\n",
              "      <td>Kings County Hospital Center</td>\n",
              "      <td>718-245-3131</td>\n",
              "      <td>451 Clarkson Avenue Brooklyn, NY 11203</td>\n",
              "      <td>40.655762</td>\n",
              "      <td>-73.944580</td>\n",
              "      <td>11203</td>\n",
              "    </tr>\n",
              "    <tr>\n",
              "      <th>51</th>\n",
              "      <td>Child Health Center</td>\n",
              "      <td>Manhattan</td>\n",
              "      <td>Metropolitan Hospital Center</td>\n",
              "      <td>212-423-6262</td>\n",
              "      <td>1901 First Avenue New York, NY 10029</td>\n",
              "      <td>40.784557</td>\n",
              "      <td>-73.943780</td>\n",
              "      <td>10029</td>\n",
              "    </tr>\n",
              "    <tr>\n",
              "      <th>14</th>\n",
              "      <td>Acute Care Hospital</td>\n",
              "      <td>Manhattan</td>\n",
              "      <td>Metropolitan Hospital Center</td>\n",
              "      <td>212-423-6262</td>\n",
              "      <td>1901 First Avenue New York, NY 10029</td>\n",
              "      <td>40.784557</td>\n",
              "      <td>-73.943780</td>\n",
              "      <td>10029</td>\n",
              "    </tr>\n",
              "    <tr>\n",
              "      <th>77</th>\n",
              "      <td>Child Health Center</td>\n",
              "      <td>Bronx</td>\n",
              "      <td>Morrisania Diagnostic &amp; Treatment Center</td>\n",
              "      <td>718-960-2777</td>\n",
              "      <td>1225 Gerard Avenue Bronx, NY 10452</td>\n",
              "      <td>40.835957</td>\n",
              "      <td>-73.919986</td>\n",
              "      <td>10452</td>\n",
              "    </tr>\n",
              "    <tr>\n",
              "      <th>28</th>\n",
              "      <td>Diagnostic &amp; Treatment Center</td>\n",
              "      <td>Bronx</td>\n",
              "      <td>Morrisania Diagnostic &amp; Treatment Center</td>\n",
              "      <td>718-960-2777</td>\n",
              "      <td>1225 Gerard Avenue Bronx, NY 10452</td>\n",
              "      <td>40.835957</td>\n",
              "      <td>-73.919986</td>\n",
              "      <td>10452</td>\n",
              "    </tr>\n",
              "    <tr>\n",
              "      <th>19</th>\n",
              "      <td>Acute Care Hospital</td>\n",
              "      <td>Bronx</td>\n",
              "      <td>North Central Bronx Hospital</td>\n",
              "      <td>718-519-5000</td>\n",
              "      <td>3424 Kossuth Avenue Bronx, NY 10467</td>\n",
              "      <td>40.880462</td>\n",
              "      <td>-73.881640</td>\n",
              "      <td>10467</td>\n",
              "    </tr>\n",
              "    <tr>\n",
              "      <th>67</th>\n",
              "      <td>Child Health Center</td>\n",
              "      <td>Bronx</td>\n",
              "      <td>North Central Bronx Hospital</td>\n",
              "      <td>718-519-5000</td>\n",
              "      <td>3424 Kossuth Avenue Bronx, NY 10467</td>\n",
              "      <td>40.880462</td>\n",
              "      <td>-73.881640</td>\n",
              "      <td>10467</td>\n",
              "    </tr>\n",
              "    <tr>\n",
              "      <th>54</th>\n",
              "      <td>Acute Care Hospital</td>\n",
              "      <td>Queens</td>\n",
              "      <td>Queens Hospital Center</td>\n",
              "      <td>718-883-3000</td>\n",
              "      <td>82 70 164th Street Jamaica, NY 11432</td>\n",
              "      <td>40.717209</td>\n",
              "      <td>-73.803419</td>\n",
              "      <td>11432</td>\n",
              "    </tr>\n",
              "    <tr>\n",
              "      <th>8</th>\n",
              "      <td>Child Health Center</td>\n",
              "      <td>Queens</td>\n",
              "      <td>Queens Hospital Center</td>\n",
              "      <td>718-883-3000</td>\n",
              "      <td>82 68 164th Street Jamaica, NY 11432</td>\n",
              "      <td>40.717250</td>\n",
              "      <td>-73.803433</td>\n",
              "      <td>11432</td>\n",
              "    </tr>\n",
              "    <tr>\n",
              "      <th>29</th>\n",
              "      <td>Child Health Center</td>\n",
              "      <td>Manhattan</td>\n",
              "      <td>Renaissance Health Care Network Diagnostic &amp; T...</td>\n",
              "      <td>212-932-6500</td>\n",
              "      <td>215 125th Street New York, NY 10027</td>\n",
              "      <td>40.809339</td>\n",
              "      <td>-73.949197</td>\n",
              "      <td>10027</td>\n",
              "    </tr>\n",
              "    <tr>\n",
              "      <th>33</th>\n",
              "      <td>Diagnostic &amp; Treatment Center</td>\n",
              "      <td>Manhattan</td>\n",
              "      <td>Renaissance Health Care Network Diagnostic &amp; T...</td>\n",
              "      <td>212-932-6500</td>\n",
              "      <td>215 125 Street New York, NY 10027</td>\n",
              "      <td>40.809339</td>\n",
              "      <td>-73.949197</td>\n",
              "      <td>10027</td>\n",
              "    </tr>\n",
              "    <tr>\n",
              "      <th>27</th>\n",
              "      <td>Child Health Center</td>\n",
              "      <td>Bronx</td>\n",
              "      <td>Segundo Ruiz Belvis Diagnostic &amp; Treatment Center</td>\n",
              "      <td>718-579-4000</td>\n",
              "      <td>454 142nd Street Bronx, NY 10454</td>\n",
              "      <td>40.810901</td>\n",
              "      <td>-73.919313</td>\n",
              "      <td>10454</td>\n",
              "    </tr>\n",
              "    <tr>\n",
              "      <th>6</th>\n",
              "      <td>Diagnostic &amp; Treatment Center</td>\n",
              "      <td>Bronx</td>\n",
              "      <td>Segundo Ruiz Belvis Diagnostic &amp; Treatment Center</td>\n",
              "      <td>718-579-4000</td>\n",
              "      <td>545 142nd Street Bronx, NY 10454</td>\n",
              "      <td>40.810122</td>\n",
              "      <td>-73.916812</td>\n",
              "      <td>10454</td>\n",
              "    </tr>\n",
              "    <tr>\n",
              "      <th>11</th>\n",
              "      <td>Child Health Center</td>\n",
              "      <td>Brooklyn</td>\n",
              "      <td>Woodhull Medical and Mental Health Center</td>\n",
              "      <td>718-963-8000</td>\n",
              "      <td>760 Broadway Brooklyn, NY 11206</td>\n",
              "      <td>40.700528</td>\n",
              "      <td>-73.941604</td>\n",
              "      <td>11206</td>\n",
              "    </tr>\n",
              "    <tr>\n",
              "      <th>72</th>\n",
              "      <td>Acute Care Hospital</td>\n",
              "      <td>Brooklyn</td>\n",
              "      <td>Woodhull Medical and Mental Health Center</td>\n",
              "      <td>718-963-8000</td>\n",
              "      <td>760 Broadway Brooklyn, NY 11206</td>\n",
              "      <td>40.700528</td>\n",
              "      <td>-73.941604</td>\n",
              "      <td>11206</td>\n",
              "    </tr>\n",
              "  </tbody>\n",
              "</table>\n",
              "</div>"
            ],
            "text/plain": [
              "                             type    borough  ...  longitude zipcode\n",
              "74            Child Health Center  Manhattan  ... -73.976862   10016\n",
              "37            Acute Care Hospital  Manhattan  ... -73.976862   10016\n",
              "65            Child Health Center   Brooklyn  ... -73.966168   11235\n",
              "44            Acute Care Hospital   Brooklyn  ... -73.966168   11235\n",
              "9             Child Health Center   Brooklyn  ... -73.976236   11205\n",
              "32  Diagnostic & Treatment Center   Brooklyn  ... -73.976236   11205\n",
              "42            Child Health Center   Brooklyn  ... -73.895248   11225\n",
              "17  Diagnostic & Treatment Center   Brooklyn  ... -73.895248   11207\n",
              "47            Child Health Center     Queens  ... -73.878351   11373\n",
              "1             Acute Care Hospital     Queens  ... -73.878351   11373\n",
              "57                   Nursing Home  Manhattan  ... -73.988417   10002\n",
              "55  Diagnostic & Treatment Center  Manhattan  ... -73.988417   10002\n",
              "64            Acute Care Hospital  Manhattan  ... -73.940659   10037\n",
              "20            Child Health Center  Manhattan  ... -73.940659   10037\n",
              "13            Acute Care Hospital      Bronx  ... -73.847079   10461\n",
              "31            Child Health Center      Bronx  ... -73.847079   10461\n",
              "34            Acute Care Hospital   Brooklyn  ... -73.944580   11203\n",
              "36            Child Health Center   Brooklyn  ... -73.944580   11203\n",
              "51            Child Health Center  Manhattan  ... -73.943780   10029\n",
              "14            Acute Care Hospital  Manhattan  ... -73.943780   10029\n",
              "77            Child Health Center      Bronx  ... -73.919986   10452\n",
              "28  Diagnostic & Treatment Center      Bronx  ... -73.919986   10452\n",
              "19            Acute Care Hospital      Bronx  ... -73.881640   10467\n",
              "67            Child Health Center      Bronx  ... -73.881640   10467\n",
              "54            Acute Care Hospital     Queens  ... -73.803419   11432\n",
              "8             Child Health Center     Queens  ... -73.803433   11432\n",
              "29            Child Health Center  Manhattan  ... -73.949197   10027\n",
              "33  Diagnostic & Treatment Center  Manhattan  ... -73.949197   10027\n",
              "27            Child Health Center      Bronx  ... -73.919313   10454\n",
              "6   Diagnostic & Treatment Center      Bronx  ... -73.916812   10454\n",
              "11            Child Health Center   Brooklyn  ... -73.941604   11206\n",
              "72            Acute Care Hospital   Brooklyn  ... -73.941604   11206\n",
              "\n",
              "[32 rows x 8 columns]"
            ]
          },
          "metadata": {
            "tags": []
          },
          "execution_count": 55
        }
      ]
    },
    {
      "cell_type": "code",
      "metadata": {
        "id": "5J1kw2Z3iy4h"
      },
      "source": [
        "cols = list(df.columns)\n",
        "cols.remove('type')"
      ],
      "execution_count": null,
      "outputs": []
    },
    {
      "cell_type": "code",
      "metadata": {
        "id": "TlsLlIw2klZy"
      },
      "source": [
        "df_temp = df.groupby(cols).agg(lambda x: tuple(x)).applymap(list).reset_index()"
      ],
      "execution_count": null,
      "outputs": []
    },
    {
      "cell_type": "code",
      "metadata": {
        "id": "R-xHWJr3kpjC"
      },
      "source": [
        "df = df_temp.drop_duplicates('name', keep='first')"
      ],
      "execution_count": null,
      "outputs": []
    },
    {
      "cell_type": "code",
      "metadata": {
        "colab": {
          "base_uri": "https://localhost:8080/",
          "height": 929
        },
        "id": "7xMDu6rXmgtX",
        "outputId": "d5afb43b-bfd6-4ce9-8569-5d674e614c79"
      },
      "source": [
        "df"
      ],
      "execution_count": null,
      "outputs": [
        {
          "output_type": "execute_result",
          "data": {
            "text/html": [
              "<div>\n",
              "<style scoped>\n",
              "    .dataframe tbody tr th:only-of-type {\n",
              "        vertical-align: middle;\n",
              "    }\n",
              "\n",
              "    .dataframe tbody tr th {\n",
              "        vertical-align: top;\n",
              "    }\n",
              "\n",
              "    .dataframe thead th {\n",
              "        text-align: right;\n",
              "    }\n",
              "</style>\n",
              "<table border=\"1\" class=\"dataframe\">\n",
              "  <thead>\n",
              "    <tr style=\"text-align: right;\">\n",
              "      <th></th>\n",
              "      <th>borough</th>\n",
              "      <th>name</th>\n",
              "      <th>phone</th>\n",
              "      <th>location</th>\n",
              "      <th>latitude</th>\n",
              "      <th>longitude</th>\n",
              "      <th>zipcode</th>\n",
              "      <th>type</th>\n",
              "    </tr>\n",
              "  </thead>\n",
              "  <tbody>\n",
              "    <tr>\n",
              "      <th>0</th>\n",
              "      <td>Bronx</td>\n",
              "      <td>Daniel Webster Houses Child Health Clinic</td>\n",
              "      <td>718-538-2147</td>\n",
              "      <td>401 168th Street Bronx, NY 10456</td>\n",
              "      <td>40.832280</td>\n",
              "      <td>-73.909535</td>\n",
              "      <td>10456</td>\n",
              "      <td>[Child Health Center]</td>\n",
              "    </tr>\n",
              "    <tr>\n",
              "      <th>1</th>\n",
              "      <td>Bronx</td>\n",
              "      <td>Gunhill Health Center</td>\n",
              "      <td>718-918-8850</td>\n",
              "      <td>1012 Gunhill Road Bronx, NY 10469</td>\n",
              "      <td>40.874636</td>\n",
              "      <td>-73.857840</td>\n",
              "      <td>10469</td>\n",
              "      <td>[Child Health Center]</td>\n",
              "    </tr>\n",
              "    <tr>\n",
              "      <th>2</th>\n",
              "      <td>Bronx</td>\n",
              "      <td>Health Center at Tremont</td>\n",
              "      <td>718-918-8700</td>\n",
              "      <td>1826 Arthur Avenue Bronx, NY 10457</td>\n",
              "      <td>40.844083</td>\n",
              "      <td>-73.894482</td>\n",
              "      <td>10457</td>\n",
              "      <td>[Child Health Center]</td>\n",
              "    </tr>\n",
              "    <tr>\n",
              "      <th>3</th>\n",
              "      <td>Bronx</td>\n",
              "      <td>Jacobi Medical Center</td>\n",
              "      <td>718-918-5000</td>\n",
              "      <td>1400 Pelham Parkway Bronx, NY 10461</td>\n",
              "      <td>40.857427</td>\n",
              "      <td>-73.847079</td>\n",
              "      <td>10461</td>\n",
              "      <td>[Acute Care Hospital, Child Health Center]</td>\n",
              "    </tr>\n",
              "    <tr>\n",
              "      <th>4</th>\n",
              "      <td>Bronx</td>\n",
              "      <td>Lincoln  Medical &amp;  Mental Health Center</td>\n",
              "      <td>718-579-5000</td>\n",
              "      <td>234 149th Street Bronx, NY 10451</td>\n",
              "      <td>40.817688</td>\n",
              "      <td>-73.924200</td>\n",
              "      <td>10451</td>\n",
              "      <td>[Child Health Center]</td>\n",
              "    </tr>\n",
              "    <tr>\n",
              "      <th>...</th>\n",
              "      <td>...</td>\n",
              "      <td>...</td>\n",
              "      <td>...</td>\n",
              "      <td>...</td>\n",
              "      <td>...</td>\n",
              "      <td>...</td>\n",
              "      <td>...</td>\n",
              "      <td>...</td>\n",
              "    </tr>\n",
              "    <tr>\n",
              "      <th>61</th>\n",
              "      <td>Queens</td>\n",
              "      <td>Springfield Gardens Medical Center</td>\n",
              "      <td>718-883-6800</td>\n",
              "      <td>134 64 Springfield Blvd Springfield Gardens NY...</td>\n",
              "      <td>40.678997</td>\n",
              "      <td>-73.754077</td>\n",
              "      <td>11413</td>\n",
              "      <td>[Child Health Center]</td>\n",
              "    </tr>\n",
              "    <tr>\n",
              "      <th>62</th>\n",
              "      <td>Queens</td>\n",
              "      <td>Woodside Houses Child Health Clinic</td>\n",
              "      <td>718-334-6140</td>\n",
              "      <td>50 53 Newtown Road Woodside, NY 11377</td>\n",
              "      <td>40.753164</td>\n",
              "      <td>-73.910752</td>\n",
              "      <td>11377</td>\n",
              "      <td>[Child Health Center]</td>\n",
              "    </tr>\n",
              "    <tr>\n",
              "      <th>63</th>\n",
              "      <td>Staten Island</td>\n",
              "      <td>Mariner's Harbor Houses Child Health Clinic</td>\n",
              "      <td>718-761-2060</td>\n",
              "      <td>2040 Forest Avenue Staten Island NY 10303</td>\n",
              "      <td>40.626017</td>\n",
              "      <td>-74.156541</td>\n",
              "      <td>10303</td>\n",
              "      <td>[Child Health Center]</td>\n",
              "    </tr>\n",
              "    <tr>\n",
              "      <th>64</th>\n",
              "      <td>Staten Island</td>\n",
              "      <td>Sea View Hospital Rehabilitation Center &amp; Home</td>\n",
              "      <td>718-317-3000</td>\n",
              "      <td>460 Brielle Avenue Staten Island NY 10314</td>\n",
              "      <td>40.593798</td>\n",
              "      <td>-74.135437</td>\n",
              "      <td>10314</td>\n",
              "      <td>[Nursing Home]</td>\n",
              "    </tr>\n",
              "    <tr>\n",
              "      <th>65</th>\n",
              "      <td>Staten Island</td>\n",
              "      <td>Stapleton Child Health Clinic</td>\n",
              "      <td>718-390-0712</td>\n",
              "      <td>111 Canal Street Staten Island NY 10304</td>\n",
              "      <td>40.626584</td>\n",
              "      <td>-74.076758</td>\n",
              "      <td>10304</td>\n",
              "      <td>[Child Health Center]</td>\n",
              "    </tr>\n",
              "  </tbody>\n",
              "</table>\n",
              "<p>62 rows × 8 columns</p>\n",
              "</div>"
            ],
            "text/plain": [
              "          borough  ...                                        type\n",
              "0           Bronx  ...                       [Child Health Center]\n",
              "1           Bronx  ...                       [Child Health Center]\n",
              "2           Bronx  ...                       [Child Health Center]\n",
              "3           Bronx  ...  [Acute Care Hospital, Child Health Center]\n",
              "4           Bronx  ...                       [Child Health Center]\n",
              "..            ...  ...                                         ...\n",
              "61         Queens  ...                       [Child Health Center]\n",
              "62         Queens  ...                       [Child Health Center]\n",
              "63  Staten Island  ...                       [Child Health Center]\n",
              "64  Staten Island  ...                              [Nursing Home]\n",
              "65  Staten Island  ...                       [Child Health Center]\n",
              "\n",
              "[62 rows x 8 columns]"
            ]
          },
          "metadata": {
            "tags": []
          },
          "execution_count": 59
        }
      ]
    },
    {
      "cell_type": "markdown",
      "metadata": {
        "id": "-flU5daxpuv9"
      },
      "source": [
        "### <font color = blue> Save and export data"
      ]
    },
    {
      "cell_type": "code",
      "metadata": {
        "id": "6_mA1cpOqAMK"
      },
      "source": [
        "save_path = '/content/drive/My Drive/CIS 450/CIS 450 Project/hospitals_cleaned.csv'"
      ],
      "execution_count": null,
      "outputs": []
    },
    {
      "cell_type": "code",
      "metadata": {
        "id": "xGttwvj9p_m-"
      },
      "source": [
        "df.to_csv(save_path, index = False)"
      ],
      "execution_count": null,
      "outputs": []
    },
    {
      "cell_type": "markdown",
      "metadata": {
        "id": "BkoQ4-YsRNpz"
      },
      "source": [
        "###<font color=blue> Summary Statistics"
      ]
    },
    {
      "cell_type": "code",
      "metadata": {
        "id": "Bdiu5G-FpEOY",
        "colab": {
          "base_uri": "https://localhost:8080/"
        },
        "outputId": "5e218692-325b-41e6-915a-fe23626fa221"
      },
      "source": [
        "df.shape"
      ],
      "execution_count": null,
      "outputs": [
        {
          "output_type": "execute_result",
          "data": {
            "text/plain": [
              "(62, 8)"
            ]
          },
          "metadata": {
            "tags": []
          },
          "execution_count": 62
        }
      ]
    },
    {
      "cell_type": "code",
      "metadata": {
        "id": "G_6ThV8spueI",
        "colab": {
          "base_uri": "https://localhost:8080/"
        },
        "outputId": "3fb17e09-ccc4-4cc3-a1c2-e1f1be233a31"
      },
      "source": [
        "df.dtypes"
      ],
      "execution_count": null,
      "outputs": [
        {
          "output_type": "execute_result",
          "data": {
            "text/plain": [
              "borough       object\n",
              "name          object\n",
              "phone         object\n",
              "location      object\n",
              "latitude     float64\n",
              "longitude    float64\n",
              "zipcode        int64\n",
              "type          object\n",
              "dtype: object"
            ]
          },
          "metadata": {
            "tags": []
          },
          "execution_count": 63
        }
      ]
    },
    {
      "cell_type": "code",
      "metadata": {
        "colab": {
          "base_uri": "https://localhost:8080/"
        },
        "id": "5hXFlmEsSC4G",
        "outputId": "76656c92-b7f8-40df-ed90-b4bc59d847a3"
      },
      "source": [
        "100 * df.borough.value_counts() / df.shape[0]"
      ],
      "execution_count": null,
      "outputs": [
        {
          "output_type": "execute_result",
          "data": {
            "text/plain": [
              "Brooklyn         33.870968\n",
              "Manhattan        30.645161\n",
              "Bronx            16.129032\n",
              "Queens           14.516129\n",
              "Staten Island     4.838710\n",
              "Name: borough, dtype: float64"
            ]
          },
          "metadata": {
            "tags": []
          },
          "execution_count": 65
        }
      ]
    },
    {
      "cell_type": "code",
      "metadata": {
        "id": "74YdLGNfSFyA"
      },
      "source": [
        ""
      ],
      "execution_count": null,
      "outputs": []
    },
    {
      "cell_type": "code",
      "metadata": {
        "id": "KYb7_d1ZSU-J"
      },
      "source": [
        ""
      ],
      "execution_count": null,
      "outputs": []
    }
  ]
}