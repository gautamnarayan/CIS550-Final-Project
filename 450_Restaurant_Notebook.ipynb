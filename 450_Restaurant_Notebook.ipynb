{
  "nbformat": 4,
  "nbformat_minor": 0,
  "metadata": {
    "colab": {
      "name": "450: Restaurant Notebook",
      "provenance": [],
      "collapsed_sections": [],
      "toc_visible": true
    },
    "kernelspec": {
      "name": "python3",
      "display_name": "Python 3"
    },
    "language_info": {
      "name": "python"
    }
  },
  "cells": [
    {
      "cell_type": "markdown",
      "metadata": {
        "id": "ZYx-KhOKB1Rp"
      },
      "source": [
        "### Pre-processing: Restaurant data set"
      ]
    },
    {
      "cell_type": "markdown",
      "metadata": {
        "id": "bmzWARBTBfsF"
      },
      "source": [
        "#### <font color= '#eb3483'> Imports and mounting to drive"
      ]
    },
    {
      "cell_type": "code",
      "metadata": {
        "id": "rF4NNvb-A5_1"
      },
      "source": [
        "#imports \n",
        "import pandas as pd\n",
        "import numpy as np\n",
        "from google.colab import drive"
      ],
      "execution_count": null,
      "outputs": []
    },
    {
      "cell_type": "code",
      "metadata": {
        "colab": {
          "base_uri": "https://localhost:8080/"
        },
        "id": "0obys2NOBMfb",
        "outputId": "31aa5ef4-50fa-4b0b-99cc-bab5f5a78b36"
      },
      "source": [
        "#Mount google drive\n",
        "prefix = '/content/drive'\n",
        "from google.colab import drive\n",
        "drive.mount(prefix, force_remount=True)"
      ],
      "execution_count": null,
      "outputs": [
        {
          "output_type": "stream",
          "text": [
            "Mounted at /content/drive\n"
          ],
          "name": "stdout"
        }
      ]
    },
    {
      "cell_type": "code",
      "metadata": {
        "id": "IxTDCiyaBTT8"
      },
      "source": [
        "path = '/content/drive/My Drive/Restaurants.csv.gz'"
      ],
      "execution_count": null,
      "outputs": []
    },
    {
      "cell_type": "code",
      "metadata": {
        "colab": {
          "base_uri": "https://localhost:8080/",
          "height": 417
        },
        "id": "D-hkWu-dBUKu",
        "outputId": "869c1410-bb55-403f-d9a5-2a31c5eebdb1"
      },
      "source": [
        "#load data into a dataframe\n",
        "#df = pd.read_csv(path, header=[0]) -- put this back in when it downloads to drive\n",
        "\n",
        "df = pd.read_csv('Restaurants.csv', header=[0])\n",
        "\n",
        "df.head(5)"
      ],
      "execution_count": null,
      "outputs": [
        {
          "output_type": "execute_result",
          "data": {
            "text/html": [
              "<div>\n",
              "<style scoped>\n",
              "    .dataframe tbody tr th:only-of-type {\n",
              "        vertical-align: middle;\n",
              "    }\n",
              "\n",
              "    .dataframe tbody tr th {\n",
              "        vertical-align: top;\n",
              "    }\n",
              "\n",
              "    .dataframe thead th {\n",
              "        text-align: right;\n",
              "    }\n",
              "</style>\n",
              "<table border=\"1\" class=\"dataframe\">\n",
              "  <thead>\n",
              "    <tr style=\"text-align: right;\">\n",
              "      <th></th>\n",
              "      <th>CAMIS</th>\n",
              "      <th>DBA</th>\n",
              "      <th>BORO</th>\n",
              "      <th>BUILDING</th>\n",
              "      <th>STREET</th>\n",
              "      <th>ZIPCODE</th>\n",
              "      <th>PHONE</th>\n",
              "      <th>CUISINE DESCRIPTION</th>\n",
              "      <th>INSPECTION DATE</th>\n",
              "      <th>ACTION</th>\n",
              "      <th>VIOLATION CODE</th>\n",
              "      <th>VIOLATION DESCRIPTION</th>\n",
              "      <th>CRITICAL FLAG</th>\n",
              "      <th>SCORE</th>\n",
              "      <th>GRADE</th>\n",
              "      <th>GRADE DATE</th>\n",
              "      <th>RECORD DATE</th>\n",
              "      <th>INSPECTION TYPE</th>\n",
              "      <th>Latitude</th>\n",
              "      <th>Longitude</th>\n",
              "      <th>Community Board</th>\n",
              "      <th>Council District</th>\n",
              "      <th>Census Tract</th>\n",
              "      <th>BIN</th>\n",
              "      <th>BBL</th>\n",
              "      <th>NTA</th>\n",
              "    </tr>\n",
              "  </thead>\n",
              "  <tbody>\n",
              "    <tr>\n",
              "      <th>0</th>\n",
              "      <td>41089834</td>\n",
              "      <td>MURRAY HILL DINER</td>\n",
              "      <td>Manhattan</td>\n",
              "      <td>222</td>\n",
              "      <td>LEXINGTON AVENUE</td>\n",
              "      <td>10016.0</td>\n",
              "      <td>2126866667</td>\n",
              "      <td>NaN</td>\n",
              "      <td>NaN</td>\n",
              "      <td>P</td>\n",
              "      <td>NaN</td>\n",
              "      <td>NaN</td>\n",
              "      <td>NaN</td>\n",
              "      <td>21.0</td>\n",
              "      <td>NaN</td>\n",
              "      <td>NaN</td>\n",
              "      <td>NaN</td>\n",
              "      <td>NaN</td>\n",
              "      <td>40.745891</td>\n",
              "      <td>-73.980104</td>\n",
              "      <td>105.0</td>\n",
              "      <td>2.0</td>\n",
              "      <td>7200.0</td>\n",
              "      <td>1018492.0</td>\n",
              "      <td>1.008890e+09</td>\n",
              "      <td>MN20</td>\n",
              "    </tr>\n",
              "    <tr>\n",
              "      <th>1</th>\n",
              "      <td>41089834</td>\n",
              "      <td>MURRAY HILL DINER</td>\n",
              "      <td>Manhattan</td>\n",
              "      <td>222</td>\n",
              "      <td>LEXINGTON AVENUE</td>\n",
              "      <td>10016.0</td>\n",
              "      <td>2126866667</td>\n",
              "      <td>NaN</td>\n",
              "      <td>NaN</td>\n",
              "      <td>P</td>\n",
              "      <td>NaN</td>\n",
              "      <td>NaN</td>\n",
              "      <td>NaN</td>\n",
              "      <td>21.0</td>\n",
              "      <td>NaN</td>\n",
              "      <td>NaN</td>\n",
              "      <td>NaN</td>\n",
              "      <td>NaN</td>\n",
              "      <td>40.745891</td>\n",
              "      <td>-73.980104</td>\n",
              "      <td>105.0</td>\n",
              "      <td>2.0</td>\n",
              "      <td>7200.0</td>\n",
              "      <td>1018492.0</td>\n",
              "      <td>1.008890e+09</td>\n",
              "      <td>MN20</td>\n",
              "    </tr>\n",
              "    <tr>\n",
              "      <th>2</th>\n",
              "      <td>41089834</td>\n",
              "      <td>MURRAY HILL DINER</td>\n",
              "      <td>Manhattan</td>\n",
              "      <td>222</td>\n",
              "      <td>LEXINGTON AVENUE</td>\n",
              "      <td>10016.0</td>\n",
              "      <td>2126866667</td>\n",
              "      <td>NaN</td>\n",
              "      <td>NaN</td>\n",
              "      <td>P</td>\n",
              "      <td>NaN</td>\n",
              "      <td>NaN</td>\n",
              "      <td>NaN</td>\n",
              "      <td>21.0</td>\n",
              "      <td>NaN</td>\n",
              "      <td>NaN</td>\n",
              "      <td>NaN</td>\n",
              "      <td>NaN</td>\n",
              "      <td>40.745891</td>\n",
              "      <td>-73.980104</td>\n",
              "      <td>105.0</td>\n",
              "      <td>2.0</td>\n",
              "      <td>7200.0</td>\n",
              "      <td>1018492.0</td>\n",
              "      <td>1.008890e+09</td>\n",
              "      <td>MN20</td>\n",
              "    </tr>\n",
              "    <tr>\n",
              "      <th>3</th>\n",
              "      <td>41089834</td>\n",
              "      <td>MURRAY HILL DINER</td>\n",
              "      <td>Manhattan</td>\n",
              "      <td>222</td>\n",
              "      <td>LEXINGTON AVENUE</td>\n",
              "      <td>10016.0</td>\n",
              "      <td>2126866667</td>\n",
              "      <td>NaN</td>\n",
              "      <td>NaN</td>\n",
              "      <td>P</td>\n",
              "      <td>NaN</td>\n",
              "      <td>NaN</td>\n",
              "      <td>NaN</td>\n",
              "      <td>21.0</td>\n",
              "      <td>NaN</td>\n",
              "      <td>NaN</td>\n",
              "      <td>NaN</td>\n",
              "      <td>NaN</td>\n",
              "      <td>40.745891</td>\n",
              "      <td>-73.980104</td>\n",
              "      <td>105.0</td>\n",
              "      <td>2.0</td>\n",
              "      <td>7200.0</td>\n",
              "      <td>1018492.0</td>\n",
              "      <td>1.008890e+09</td>\n",
              "      <td>MN20</td>\n",
              "    </tr>\n",
              "    <tr>\n",
              "      <th>4</th>\n",
              "      <td>40596549</td>\n",
              "      <td>POLLOS A LA BARASA MARIO</td>\n",
              "      <td>Queens</td>\n",
              "      <td>40-19</td>\n",
              "      <td>BROADWAY</td>\n",
              "      <td>11103.0</td>\n",
              "      <td>7189322424</td>\n",
              "      <td>NaN</td>\n",
              "      <td>NaN</td>\n",
              "      <td>D</td>\n",
              "      <td>NaN</td>\n",
              "      <td>NaN</td>\n",
              "      <td>NaN</td>\n",
              "      <td>13.0</td>\n",
              "      <td>NaN</td>\n",
              "      <td>NaN</td>\n",
              "      <td>NaN</td>\n",
              "      <td>NaN</td>\n",
              "      <td>40.758872</td>\n",
              "      <td>-73.918772</td>\n",
              "      <td>401.0</td>\n",
              "      <td>22.0</td>\n",
              "      <td>15500.0</td>\n",
              "      <td>4011093.0</td>\n",
              "      <td>4.006780e+09</td>\n",
              "      <td>QN70</td>\n",
              "    </tr>\n",
              "  </tbody>\n",
              "</table>\n",
              "</div>"
            ],
            "text/plain": [
              "      CAMIS                       DBA       BORO  ...        BIN           BBL   NTA\n",
              "0  41089834         MURRAY HILL DINER  Manhattan  ...  1018492.0  1.008890e+09  MN20\n",
              "1  41089834         MURRAY HILL DINER  Manhattan  ...  1018492.0  1.008890e+09  MN20\n",
              "2  41089834         MURRAY HILL DINER  Manhattan  ...  1018492.0  1.008890e+09  MN20\n",
              "3  41089834         MURRAY HILL DINER  Manhattan  ...  1018492.0  1.008890e+09  MN20\n",
              "4  40596549  POLLOS A LA BARASA MARIO     Queens  ...  4011093.0  4.006780e+09  QN70\n",
              "\n",
              "[5 rows x 26 columns]"
            ]
          },
          "metadata": {
            "tags": []
          },
          "execution_count": 3
        }
      ]
    },
    {
      "cell_type": "markdown",
      "metadata": {
        "id": "fYrW8E-NDyr5"
      },
      "source": [
        "### <font color= '#eb3483'> Explore data types and values"
      ]
    },
    {
      "cell_type": "code",
      "metadata": {
        "id": "HAkmCIQQDu7I",
        "colab": {
          "base_uri": "https://localhost:8080/"
        },
        "outputId": "f29e6a24-8477-4dfa-f0ce-cbf3c0cbe086"
      },
      "source": [
        "#explore types\n",
        "df.dtypes"
      ],
      "execution_count": null,
      "outputs": [
        {
          "output_type": "execute_result",
          "data": {
            "text/plain": [
              "CAMIS                      int64\n",
              "DBA                       object\n",
              "BORO                      object\n",
              "BUILDING                  object\n",
              "STREET                    object\n",
              "ZIPCODE                  float64\n",
              "PHONE                     object\n",
              "CUISINE DESCRIPTION      float64\n",
              "INSPECTION DATE          float64\n",
              "ACTION                    object\n",
              "VIOLATION CODE           float64\n",
              "VIOLATION DESCRIPTION    float64\n",
              "CRITICAL FLAG            float64\n",
              "SCORE                    float64\n",
              "GRADE                    float64\n",
              "GRADE DATE               float64\n",
              "RECORD DATE              float64\n",
              "INSPECTION TYPE          float64\n",
              "Latitude                 float64\n",
              "Longitude                float64\n",
              "Community Board          float64\n",
              "Council District         float64\n",
              "Census Tract             float64\n",
              "BIN                      float64\n",
              "BBL                      float64\n",
              "NTA                       object\n",
              "dtype: object"
            ]
          },
          "metadata": {
            "tags": []
          },
          "execution_count": 4
        }
      ]
    },
    {
      "cell_type": "code",
      "metadata": {
        "colab": {
          "base_uri": "https://localhost:8080/"
        },
        "id": "3Zc1HIFJD7z2",
        "outputId": "75059581-8a74-4237-d7ac-b3a0d947fbc8"
      },
      "source": [
        "#look at all columns \n",
        "df.columns"
      ],
      "execution_count": null,
      "outputs": [
        {
          "output_type": "execute_result",
          "data": {
            "text/plain": [
              "Index(['CAMIS', 'DBA', 'BORO', 'BUILDING', 'STREET', 'ZIPCODE', 'PHONE',\n",
              "       'CUISINE DESCRIPTION', 'INSPECTION DATE', 'ACTION', 'VIOLATION CODE',\n",
              "       'VIOLATION DESCRIPTION', 'CRITICAL FLAG', 'SCORE', 'GRADE',\n",
              "       'GRADE DATE', 'RECORD DATE', 'INSPECTION TYPE', 'Latitude', 'Longitude',\n",
              "       'Community Board', 'Council District', 'Census Tract', 'BIN', 'BBL',\n",
              "       'NTA'],\n",
              "      dtype='object')"
            ]
          },
          "metadata": {
            "tags": []
          },
          "execution_count": 5
        }
      ]
    },
    {
      "cell_type": "code",
      "metadata": {
        "colab": {
          "base_uri": "https://localhost:8080/"
        },
        "id": "Zp5asZAnD-P7",
        "outputId": "502c6608-0b17-4fef-8fbf-bb098926f434"
      },
      "source": [
        "#look at shape\n",
        "df.shape"
      ],
      "execution_count": null,
      "outputs": [
        {
          "output_type": "execute_result",
          "data": {
            "text/plain": [
              "(333486, 26)"
            ]
          },
          "metadata": {
            "tags": []
          },
          "execution_count": 6
        }
      ]
    },
    {
      "cell_type": "code",
      "metadata": {
        "colab": {
          "base_uri": "https://localhost:8080/"
        },
        "id": "HAnThLhTEAR5",
        "outputId": "d11fd4d2-7d29-4857-c3f6-f84c8b34f959"
      },
      "source": [
        "#how many unique values do we have\n",
        "df.apply('nunique').sort_values(ascending=True)[0:30]"
      ],
      "execution_count": null,
      "outputs": [
        {
          "output_type": "execute_result",
          "data": {
            "text/plain": [
              "CRITICAL FLAG                0\n",
              "INSPECTION TYPE              0\n",
              "RECORD DATE                  0\n",
              "GRADE DATE                   0\n",
              "CUISINE DESCRIPTION          0\n",
              "INSPECTION DATE              0\n",
              "VIOLATION CODE               0\n",
              "VIOLATION DESCRIPTION        0\n",
              "GRADE                        0\n",
              "BORO                         6\n",
              "ACTION                      13\n",
              "Council District            51\n",
              "Community Board             69\n",
              "SCORE                      136\n",
              "NTA                        193\n",
              "ZIPCODE                    228\n",
              "Census Tract              1189\n",
              "STREET                    2382\n",
              "BUILDING                  7977\n",
              "BBL                      19563\n",
              "BIN                      19884\n",
              "DBA                      22114\n",
              "Latitude                 22867\n",
              "Longitude                22867\n",
              "PHONE                    26353\n",
              "CAMIS                    28395\n",
              "dtype: int64"
            ]
          },
          "metadata": {
            "tags": []
          },
          "execution_count": 7
        }
      ]
    },
    {
      "cell_type": "code",
      "metadata": {
        "id": "rzxXhMf5FnVY"
      },
      "source": [
        "#remove duplicates\n",
        "df.drop_duplicates(inplace=True)"
      ],
      "execution_count": null,
      "outputs": []
    },
    {
      "cell_type": "code",
      "metadata": {
        "colab": {
          "base_uri": "https://localhost:8080/"
        },
        "id": "6nxf9L8tGGAH",
        "outputId": "d3e5006b-45a4-421d-f94b-5b157d586447"
      },
      "source": [
        "#look at shape\n",
        "df.shape"
      ],
      "execution_count": null,
      "outputs": [
        {
          "output_type": "execute_result",
          "data": {
            "text/plain": [
              "(113905, 26)"
            ]
          },
          "metadata": {
            "tags": []
          },
          "execution_count": 9
        }
      ]
    },
    {
      "cell_type": "code",
      "metadata": {
        "colab": {
          "base_uri": "https://localhost:8080/",
          "height": 334
        },
        "id": "O5paFTkxFvKL",
        "outputId": "a442056a-0c71-461b-c88d-3f8291fedc00"
      },
      "source": [
        "df.head(5)"
      ],
      "execution_count": null,
      "outputs": [
        {
          "output_type": "execute_result",
          "data": {
            "text/html": [
              "<div>\n",
              "<style scoped>\n",
              "    .dataframe tbody tr th:only-of-type {\n",
              "        vertical-align: middle;\n",
              "    }\n",
              "\n",
              "    .dataframe tbody tr th {\n",
              "        vertical-align: top;\n",
              "    }\n",
              "\n",
              "    .dataframe thead th {\n",
              "        text-align: right;\n",
              "    }\n",
              "</style>\n",
              "<table border=\"1\" class=\"dataframe\">\n",
              "  <thead>\n",
              "    <tr style=\"text-align: right;\">\n",
              "      <th></th>\n",
              "      <th>CAMIS</th>\n",
              "      <th>DBA</th>\n",
              "      <th>BORO</th>\n",
              "      <th>BUILDING</th>\n",
              "      <th>STREET</th>\n",
              "      <th>ZIPCODE</th>\n",
              "      <th>PHONE</th>\n",
              "      <th>CUISINE DESCRIPTION</th>\n",
              "      <th>INSPECTION DATE</th>\n",
              "      <th>ACTION</th>\n",
              "      <th>VIOLATION CODE</th>\n",
              "      <th>VIOLATION DESCRIPTION</th>\n",
              "      <th>CRITICAL FLAG</th>\n",
              "      <th>SCORE</th>\n",
              "      <th>GRADE</th>\n",
              "      <th>GRADE DATE</th>\n",
              "      <th>RECORD DATE</th>\n",
              "      <th>INSPECTION TYPE</th>\n",
              "      <th>Latitude</th>\n",
              "      <th>Longitude</th>\n",
              "      <th>Community Board</th>\n",
              "      <th>Council District</th>\n",
              "      <th>Census Tract</th>\n",
              "      <th>BIN</th>\n",
              "      <th>BBL</th>\n",
              "      <th>NTA</th>\n",
              "    </tr>\n",
              "  </thead>\n",
              "  <tbody>\n",
              "    <tr>\n",
              "      <th>0</th>\n",
              "      <td>41089834</td>\n",
              "      <td>MURRAY HILL DINER</td>\n",
              "      <td>Manhattan</td>\n",
              "      <td>222</td>\n",
              "      <td>LEXINGTON AVENUE</td>\n",
              "      <td>10016.0</td>\n",
              "      <td>2126866667</td>\n",
              "      <td>NaN</td>\n",
              "      <td>NaN</td>\n",
              "      <td>P</td>\n",
              "      <td>NaN</td>\n",
              "      <td>NaN</td>\n",
              "      <td>NaN</td>\n",
              "      <td>21.0</td>\n",
              "      <td>NaN</td>\n",
              "      <td>NaN</td>\n",
              "      <td>NaN</td>\n",
              "      <td>NaN</td>\n",
              "      <td>40.745891</td>\n",
              "      <td>-73.980104</td>\n",
              "      <td>105.0</td>\n",
              "      <td>2.0</td>\n",
              "      <td>7200.0</td>\n",
              "      <td>1018492.0</td>\n",
              "      <td>1.008890e+09</td>\n",
              "      <td>MN20</td>\n",
              "    </tr>\n",
              "    <tr>\n",
              "      <th>4</th>\n",
              "      <td>40596549</td>\n",
              "      <td>POLLOS A LA BARASA MARIO</td>\n",
              "      <td>Queens</td>\n",
              "      <td>40-19</td>\n",
              "      <td>BROADWAY</td>\n",
              "      <td>11103.0</td>\n",
              "      <td>7189322424</td>\n",
              "      <td>NaN</td>\n",
              "      <td>NaN</td>\n",
              "      <td>D</td>\n",
              "      <td>NaN</td>\n",
              "      <td>NaN</td>\n",
              "      <td>NaN</td>\n",
              "      <td>13.0</td>\n",
              "      <td>NaN</td>\n",
              "      <td>NaN</td>\n",
              "      <td>NaN</td>\n",
              "      <td>NaN</td>\n",
              "      <td>40.758872</td>\n",
              "      <td>-73.918772</td>\n",
              "      <td>401.0</td>\n",
              "      <td>22.0</td>\n",
              "      <td>15500.0</td>\n",
              "      <td>4011093.0</td>\n",
              "      <td>4.006780e+09</td>\n",
              "      <td>QN70</td>\n",
              "    </tr>\n",
              "    <tr>\n",
              "      <th>7</th>\n",
              "      <td>40530583</td>\n",
              "      <td>CORNER GOURMET II</td>\n",
              "      <td>Manhattan</td>\n",
              "      <td>66</td>\n",
              "      <td>WEST BROADWAY</td>\n",
              "      <td>10007.0</td>\n",
              "      <td>2124062200</td>\n",
              "      <td>NaN</td>\n",
              "      <td>NaN</td>\n",
              "      <td>U</td>\n",
              "      <td>NaN</td>\n",
              "      <td>NaN</td>\n",
              "      <td>NaN</td>\n",
              "      <td>10.0</td>\n",
              "      <td>NaN</td>\n",
              "      <td>NaN</td>\n",
              "      <td>NaN</td>\n",
              "      <td>NaN</td>\n",
              "      <td>40.714643</td>\n",
              "      <td>-74.009934</td>\n",
              "      <td>101.0</td>\n",
              "      <td>1.0</td>\n",
              "      <td>2100.0</td>\n",
              "      <td>1001418.0</td>\n",
              "      <td>1.001320e+09</td>\n",
              "      <td>MN24</td>\n",
              "    </tr>\n",
              "    <tr>\n",
              "      <th>8</th>\n",
              "      <td>50074520</td>\n",
              "      <td>EL POLLO INKA PERU</td>\n",
              "      <td>Queens</td>\n",
              "      <td>8920</td>\n",
              "      <td>101ST AVE</td>\n",
              "      <td>11416.0</td>\n",
              "      <td>6466512258</td>\n",
              "      <td>NaN</td>\n",
              "      <td>NaN</td>\n",
              "      <td>F</td>\n",
              "      <td>NaN</td>\n",
              "      <td>NaN</td>\n",
              "      <td>NaN</td>\n",
              "      <td>51.0</td>\n",
              "      <td>NaN</td>\n",
              "      <td>NaN</td>\n",
              "      <td>NaN</td>\n",
              "      <td>NaN</td>\n",
              "      <td>40.682864</td>\n",
              "      <td>-73.850875</td>\n",
              "      <td>409.0</td>\n",
              "      <td>32.0</td>\n",
              "      <td>4001.0</td>\n",
              "      <td>4189113.0</td>\n",
              "      <td>4.090930e+09</td>\n",
              "      <td>QN53</td>\n",
              "    </tr>\n",
              "    <tr>\n",
              "      <th>16</th>\n",
              "      <td>40367241</td>\n",
              "      <td>JG MELON RESTAURANT</td>\n",
              "      <td>Manhattan</td>\n",
              "      <td>1291</td>\n",
              "      <td>3 AVENUE</td>\n",
              "      <td>10021.0</td>\n",
              "      <td>2127440585</td>\n",
              "      <td>NaN</td>\n",
              "      <td>NaN</td>\n",
              "      <td>F</td>\n",
              "      <td>NaN</td>\n",
              "      <td>NaN</td>\n",
              "      <td>NaN</td>\n",
              "      <td>21.0</td>\n",
              "      <td>NaN</td>\n",
              "      <td>NaN</td>\n",
              "      <td>NaN</td>\n",
              "      <td>NaN</td>\n",
              "      <td>40.771193</td>\n",
              "      <td>-73.959532</td>\n",
              "      <td>108.0</td>\n",
              "      <td>4.0</td>\n",
              "      <td>13400.0</td>\n",
              "      <td>1044019.0</td>\n",
              "      <td>1.014290e+09</td>\n",
              "      <td>MN31</td>\n",
              "    </tr>\n",
              "  </tbody>\n",
              "</table>\n",
              "</div>"
            ],
            "text/plain": [
              "       CAMIS                       DBA  ...           BBL   NTA\n",
              "0   41089834         MURRAY HILL DINER  ...  1.008890e+09  MN20\n",
              "4   40596549  POLLOS A LA BARASA MARIO  ...  4.006780e+09  QN70\n",
              "7   40530583         CORNER GOURMET II  ...  1.001320e+09  MN24\n",
              "8   50074520        EL POLLO INKA PERU  ...  4.090930e+09  QN53\n",
              "16  40367241       JG MELON RESTAURANT  ...  1.014290e+09  MN31\n",
              "\n",
              "[5 rows x 26 columns]"
            ]
          },
          "metadata": {
            "tags": []
          },
          "execution_count": 11
        }
      ]
    },
    {
      "cell_type": "code",
      "metadata": {
        "id": "v9hG1YaLEREP"
      },
      "source": [
        "#only keep certain columns based on what we need\n",
        "keep = [\n",
        "        'CAMIS', 'DBA', 'BORO', 'ZIPCODE', \n",
        "        'PHONE', 'CUISINE DESCRIPTION', 'Latitude',\n",
        "        'Longitude'\n",
        "]\n",
        "df = df[keep]"
      ],
      "execution_count": null,
      "outputs": []
    },
    {
      "cell_type": "code",
      "metadata": {
        "colab": {
          "base_uri": "https://localhost:8080/",
          "height": 197
        },
        "id": "P-qV6Hm-IHH8",
        "outputId": "6b1000da-2d4c-4459-a5fc-1693c9140c1c"
      },
      "source": [
        "df.head(5)"
      ],
      "execution_count": null,
      "outputs": [
        {
          "output_type": "execute_result",
          "data": {
            "text/html": [
              "<div>\n",
              "<style scoped>\n",
              "    .dataframe tbody tr th:only-of-type {\n",
              "        vertical-align: middle;\n",
              "    }\n",
              "\n",
              "    .dataframe tbody tr th {\n",
              "        vertical-align: top;\n",
              "    }\n",
              "\n",
              "    .dataframe thead th {\n",
              "        text-align: right;\n",
              "    }\n",
              "</style>\n",
              "<table border=\"1\" class=\"dataframe\">\n",
              "  <thead>\n",
              "    <tr style=\"text-align: right;\">\n",
              "      <th></th>\n",
              "      <th>CAMIS</th>\n",
              "      <th>DBA</th>\n",
              "      <th>BORO</th>\n",
              "      <th>ZIPCODE</th>\n",
              "      <th>PHONE</th>\n",
              "      <th>CUISINE DESCRIPTION</th>\n",
              "      <th>Latitude</th>\n",
              "      <th>Longitude</th>\n",
              "    </tr>\n",
              "  </thead>\n",
              "  <tbody>\n",
              "    <tr>\n",
              "      <th>0</th>\n",
              "      <td>41089834</td>\n",
              "      <td>MURRAY HILL DINER</td>\n",
              "      <td>Manhattan</td>\n",
              "      <td>10016.0</td>\n",
              "      <td>2126866667</td>\n",
              "      <td>NaN</td>\n",
              "      <td>40.745891</td>\n",
              "      <td>-73.980104</td>\n",
              "    </tr>\n",
              "    <tr>\n",
              "      <th>4</th>\n",
              "      <td>40596549</td>\n",
              "      <td>POLLOS A LA BARASA MARIO</td>\n",
              "      <td>Queens</td>\n",
              "      <td>11103.0</td>\n",
              "      <td>7189322424</td>\n",
              "      <td>NaN</td>\n",
              "      <td>40.758872</td>\n",
              "      <td>-73.918772</td>\n",
              "    </tr>\n",
              "    <tr>\n",
              "      <th>7</th>\n",
              "      <td>40530583</td>\n",
              "      <td>CORNER GOURMET II</td>\n",
              "      <td>Manhattan</td>\n",
              "      <td>10007.0</td>\n",
              "      <td>2124062200</td>\n",
              "      <td>NaN</td>\n",
              "      <td>40.714643</td>\n",
              "      <td>-74.009934</td>\n",
              "    </tr>\n",
              "    <tr>\n",
              "      <th>8</th>\n",
              "      <td>50074520</td>\n",
              "      <td>EL POLLO INKA PERU</td>\n",
              "      <td>Queens</td>\n",
              "      <td>11416.0</td>\n",
              "      <td>6466512258</td>\n",
              "      <td>NaN</td>\n",
              "      <td>40.682864</td>\n",
              "      <td>-73.850875</td>\n",
              "    </tr>\n",
              "    <tr>\n",
              "      <th>16</th>\n",
              "      <td>40367241</td>\n",
              "      <td>JG MELON RESTAURANT</td>\n",
              "      <td>Manhattan</td>\n",
              "      <td>10021.0</td>\n",
              "      <td>2127440585</td>\n",
              "      <td>NaN</td>\n",
              "      <td>40.771193</td>\n",
              "      <td>-73.959532</td>\n",
              "    </tr>\n",
              "  </tbody>\n",
              "</table>\n",
              "</div>"
            ],
            "text/plain": [
              "       CAMIS                       DBA  ...   Latitude  Longitude\n",
              "0   41089834         MURRAY HILL DINER  ...  40.745891 -73.980104\n",
              "4   40596549  POLLOS A LA BARASA MARIO  ...  40.758872 -73.918772\n",
              "7   40530583         CORNER GOURMET II  ...  40.714643 -74.009934\n",
              "8   50074520        EL POLLO INKA PERU  ...  40.682864 -73.850875\n",
              "16  40367241       JG MELON RESTAURANT  ...  40.771193 -73.959532\n",
              "\n",
              "[5 rows x 8 columns]"
            ]
          },
          "metadata": {
            "tags": []
          },
          "execution_count": 11
        }
      ]
    },
    {
      "cell_type": "code",
      "metadata": {
        "id": "LmwRDJwEJnEk"
      },
      "source": [
        "#drop duplicates again\n",
        "df.drop_duplicates(inplace=True)"
      ],
      "execution_count": null,
      "outputs": []
    },
    {
      "cell_type": "code",
      "metadata": {
        "id": "5mWeyUxHETwV",
        "colab": {
          "base_uri": "https://localhost:8080/"
        },
        "outputId": "8885e462-b957-4748-8cef-ecd021c295e1"
      },
      "source": [
        "#now look at unique values of what we have\n",
        "df.apply('nunique').sort_values(ascending=False)"
      ],
      "execution_count": null,
      "outputs": [
        {
          "output_type": "execute_result",
          "data": {
            "text/plain": [
              "CAMIS                  28395\n",
              "PHONE                  26353\n",
              "Longitude              22867\n",
              "Latitude               22867\n",
              "DBA                    22114\n",
              "ZIPCODE                  228\n",
              "BORO                       6\n",
              "CUISINE DESCRIPTION        0\n",
              "dtype: int64"
            ]
          },
          "metadata": {
            "tags": []
          },
          "execution_count": 13
        }
      ]
    },
    {
      "cell_type": "code",
      "metadata": {
        "colab": {
          "base_uri": "https://localhost:8080/"
        },
        "id": "3T7ceNW9Jyui",
        "outputId": "616780d3-25ad-4175-ec6a-c0c449ec6418"
      },
      "source": [
        "#look at shape\n",
        "df.shape"
      ],
      "execution_count": null,
      "outputs": [
        {
          "output_type": "execute_result",
          "data": {
            "text/plain": [
              "(28395, 8)"
            ]
          },
          "metadata": {
            "tags": []
          },
          "execution_count": 14
        }
      ]
    },
    {
      "cell_type": "code",
      "metadata": {
        "id": "YxLyVJHrEW9H",
        "colab": {
          "base_uri": "https://localhost:8080/"
        },
        "outputId": "e03e6522-3fc5-4302-8f5e-135bd41ab2aa"
      },
      "source": [
        "#look at percent null values \n",
        "df.isna().sum() * 100 / df.shape[0]"
      ],
      "execution_count": null,
      "outputs": [
        {
          "output_type": "execute_result",
          "data": {
            "text/plain": [
              "CAMIS                    0.000000\n",
              "DBA                      2.630745\n",
              "BORO                     0.000000\n",
              "ZIPCODE                  1.760873\n",
              "PHONE                    0.014087\n",
              "CUISINE DESCRIPTION    100.000000\n",
              "Latitude                 0.246522\n",
              "Longitude                0.246522\n",
              "dtype: float64"
            ]
          },
          "metadata": {
            "tags": []
          },
          "execution_count": 15
        }
      ]
    },
    {
      "cell_type": "markdown",
      "metadata": {
        "id": "vjavrmwSKt0o"
      },
      "source": [
        "#### <font color= pink> Column: CAMIS"
      ]
    },
    {
      "cell_type": "code",
      "metadata": {
        "id": "sf8kVjknEZj_"
      },
      "source": [
        "#rename CAMIS to be more easily readable\n",
        "df.rename(columns={'CAMIS': 'id'}, inplace=True)"
      ],
      "execution_count": null,
      "outputs": []
    },
    {
      "cell_type": "code",
      "metadata": {
        "id": "ErW8XffvLoEV",
        "colab": {
          "base_uri": "https://localhost:8080/",
          "height": 197
        },
        "outputId": "7fca2fb8-bea8-4d35-a4b9-378e1f513c20"
      },
      "source": [
        "df.head(5)"
      ],
      "execution_count": null,
      "outputs": [
        {
          "output_type": "execute_result",
          "data": {
            "text/html": [
              "<div>\n",
              "<style scoped>\n",
              "    .dataframe tbody tr th:only-of-type {\n",
              "        vertical-align: middle;\n",
              "    }\n",
              "\n",
              "    .dataframe tbody tr th {\n",
              "        vertical-align: top;\n",
              "    }\n",
              "\n",
              "    .dataframe thead th {\n",
              "        text-align: right;\n",
              "    }\n",
              "</style>\n",
              "<table border=\"1\" class=\"dataframe\">\n",
              "  <thead>\n",
              "    <tr style=\"text-align: right;\">\n",
              "      <th></th>\n",
              "      <th>id</th>\n",
              "      <th>DBA</th>\n",
              "      <th>BORO</th>\n",
              "      <th>ZIPCODE</th>\n",
              "      <th>PHONE</th>\n",
              "      <th>CUISINE DESCRIPTION</th>\n",
              "      <th>Latitude</th>\n",
              "      <th>Longitude</th>\n",
              "    </tr>\n",
              "  </thead>\n",
              "  <tbody>\n",
              "    <tr>\n",
              "      <th>0</th>\n",
              "      <td>41089834</td>\n",
              "      <td>MURRAY HILL DINER</td>\n",
              "      <td>Manhattan</td>\n",
              "      <td>10016.0</td>\n",
              "      <td>2126866667</td>\n",
              "      <td>NaN</td>\n",
              "      <td>40.745891</td>\n",
              "      <td>-73.980104</td>\n",
              "    </tr>\n",
              "    <tr>\n",
              "      <th>4</th>\n",
              "      <td>40596549</td>\n",
              "      <td>POLLOS A LA BARASA MARIO</td>\n",
              "      <td>Queens</td>\n",
              "      <td>11103.0</td>\n",
              "      <td>7189322424</td>\n",
              "      <td>NaN</td>\n",
              "      <td>40.758872</td>\n",
              "      <td>-73.918772</td>\n",
              "    </tr>\n",
              "    <tr>\n",
              "      <th>7</th>\n",
              "      <td>40530583</td>\n",
              "      <td>CORNER GOURMET II</td>\n",
              "      <td>Manhattan</td>\n",
              "      <td>10007.0</td>\n",
              "      <td>2124062200</td>\n",
              "      <td>NaN</td>\n",
              "      <td>40.714643</td>\n",
              "      <td>-74.009934</td>\n",
              "    </tr>\n",
              "    <tr>\n",
              "      <th>8</th>\n",
              "      <td>50074520</td>\n",
              "      <td>EL POLLO INKA PERU</td>\n",
              "      <td>Queens</td>\n",
              "      <td>11416.0</td>\n",
              "      <td>6466512258</td>\n",
              "      <td>NaN</td>\n",
              "      <td>40.682864</td>\n",
              "      <td>-73.850875</td>\n",
              "    </tr>\n",
              "    <tr>\n",
              "      <th>16</th>\n",
              "      <td>40367241</td>\n",
              "      <td>JG MELON RESTAURANT</td>\n",
              "      <td>Manhattan</td>\n",
              "      <td>10021.0</td>\n",
              "      <td>2127440585</td>\n",
              "      <td>NaN</td>\n",
              "      <td>40.771193</td>\n",
              "      <td>-73.959532</td>\n",
              "    </tr>\n",
              "  </tbody>\n",
              "</table>\n",
              "</div>"
            ],
            "text/plain": [
              "          id                       DBA  ...   Latitude  Longitude\n",
              "0   41089834         MURRAY HILL DINER  ...  40.745891 -73.980104\n",
              "4   40596549  POLLOS A LA BARASA MARIO  ...  40.758872 -73.918772\n",
              "7   40530583         CORNER GOURMET II  ...  40.714643 -74.009934\n",
              "8   50074520        EL POLLO INKA PERU  ...  40.682864 -73.850875\n",
              "16  40367241       JG MELON RESTAURANT  ...  40.771193 -73.959532\n",
              "\n",
              "[5 rows x 8 columns]"
            ]
          },
          "metadata": {
            "tags": []
          },
          "execution_count": 17
        }
      ]
    },
    {
      "cell_type": "markdown",
      "metadata": {
        "id": "-G4mJ6amLsaj"
      },
      "source": [
        "#### <font color= pink> Column: DBA"
      ]
    },
    {
      "cell_type": "code",
      "metadata": {
        "id": "5ODqUSkjLv0f"
      },
      "source": [
        "#rename DBA to be more easily readable\n",
        "df.rename(columns={'DBA': 'name'}, inplace=True)"
      ],
      "execution_count": null,
      "outputs": []
    },
    {
      "cell_type": "code",
      "metadata": {
        "id": "kLhrIFx2L0yG",
        "colab": {
          "base_uri": "https://localhost:8080/",
          "height": 197
        },
        "outputId": "a21973c5-c201-43dd-b586-eb6cc3419409"
      },
      "source": [
        "df.head(5)"
      ],
      "execution_count": null,
      "outputs": [
        {
          "output_type": "execute_result",
          "data": {
            "text/html": [
              "<div>\n",
              "<style scoped>\n",
              "    .dataframe tbody tr th:only-of-type {\n",
              "        vertical-align: middle;\n",
              "    }\n",
              "\n",
              "    .dataframe tbody tr th {\n",
              "        vertical-align: top;\n",
              "    }\n",
              "\n",
              "    .dataframe thead th {\n",
              "        text-align: right;\n",
              "    }\n",
              "</style>\n",
              "<table border=\"1\" class=\"dataframe\">\n",
              "  <thead>\n",
              "    <tr style=\"text-align: right;\">\n",
              "      <th></th>\n",
              "      <th>id</th>\n",
              "      <th>name</th>\n",
              "      <th>BORO</th>\n",
              "      <th>ZIPCODE</th>\n",
              "      <th>PHONE</th>\n",
              "      <th>CUISINE DESCRIPTION</th>\n",
              "      <th>Latitude</th>\n",
              "      <th>Longitude</th>\n",
              "    </tr>\n",
              "  </thead>\n",
              "  <tbody>\n",
              "    <tr>\n",
              "      <th>0</th>\n",
              "      <td>41089834</td>\n",
              "      <td>MURRAY HILL DINER</td>\n",
              "      <td>Manhattan</td>\n",
              "      <td>10016.0</td>\n",
              "      <td>2126866667</td>\n",
              "      <td>NaN</td>\n",
              "      <td>40.745891</td>\n",
              "      <td>-73.980104</td>\n",
              "    </tr>\n",
              "    <tr>\n",
              "      <th>4</th>\n",
              "      <td>40596549</td>\n",
              "      <td>POLLOS A LA BARASA MARIO</td>\n",
              "      <td>Queens</td>\n",
              "      <td>11103.0</td>\n",
              "      <td>7189322424</td>\n",
              "      <td>NaN</td>\n",
              "      <td>40.758872</td>\n",
              "      <td>-73.918772</td>\n",
              "    </tr>\n",
              "    <tr>\n",
              "      <th>7</th>\n",
              "      <td>40530583</td>\n",
              "      <td>CORNER GOURMET II</td>\n",
              "      <td>Manhattan</td>\n",
              "      <td>10007.0</td>\n",
              "      <td>2124062200</td>\n",
              "      <td>NaN</td>\n",
              "      <td>40.714643</td>\n",
              "      <td>-74.009934</td>\n",
              "    </tr>\n",
              "    <tr>\n",
              "      <th>8</th>\n",
              "      <td>50074520</td>\n",
              "      <td>EL POLLO INKA PERU</td>\n",
              "      <td>Queens</td>\n",
              "      <td>11416.0</td>\n",
              "      <td>6466512258</td>\n",
              "      <td>NaN</td>\n",
              "      <td>40.682864</td>\n",
              "      <td>-73.850875</td>\n",
              "    </tr>\n",
              "    <tr>\n",
              "      <th>16</th>\n",
              "      <td>40367241</td>\n",
              "      <td>JG MELON RESTAURANT</td>\n",
              "      <td>Manhattan</td>\n",
              "      <td>10021.0</td>\n",
              "      <td>2127440585</td>\n",
              "      <td>NaN</td>\n",
              "      <td>40.771193</td>\n",
              "      <td>-73.959532</td>\n",
              "    </tr>\n",
              "  </tbody>\n",
              "</table>\n",
              "</div>"
            ],
            "text/plain": [
              "          id                      name  ...   Latitude  Longitude\n",
              "0   41089834         MURRAY HILL DINER  ...  40.745891 -73.980104\n",
              "4   40596549  POLLOS A LA BARASA MARIO  ...  40.758872 -73.918772\n",
              "7   40530583         CORNER GOURMET II  ...  40.714643 -74.009934\n",
              "8   50074520        EL POLLO INKA PERU  ...  40.682864 -73.850875\n",
              "16  40367241       JG MELON RESTAURANT  ...  40.771193 -73.959532\n",
              "\n",
              "[5 rows x 8 columns]"
            ]
          },
          "metadata": {
            "tags": []
          },
          "execution_count": 19
        }
      ]
    },
    {
      "cell_type": "code",
      "metadata": {
        "id": "hFNCFkTAL4B_",
        "colab": {
          "base_uri": "https://localhost:8080/"
        },
        "outputId": "bae1734f-8bf8-4c13-ce1a-7b4d2220f349"
      },
      "source": [
        "#make values title capitalization\n",
        "df.name.str.title()"
      ],
      "execution_count": null,
      "outputs": [
        {
          "output_type": "execute_result",
          "data": {
            "text/plain": [
              "0                Murray Hill Diner\n",
              "4         Pollos A La Barasa Mario\n",
              "7                Corner Gourmet Ii\n",
              "8               El Pollo Inka Peru\n",
              "16             Jg Melon Restaurant\n",
              "                    ...           \n",
              "333429              Sushi On Jones\n",
              "333439            The Green Bottle\n",
              "333447           Aberia Grill Cafe\n",
              "333456                       Spudz\n",
              "333485             Rainbow Dim Sum\n",
              "Name: name, Length: 28395, dtype: object"
            ]
          },
          "metadata": {
            "tags": []
          },
          "execution_count": 20
        }
      ]
    },
    {
      "cell_type": "code",
      "metadata": {
        "id": "OQi_Rnv5MRdP",
        "colab": {
          "base_uri": "https://localhost:8080/"
        },
        "outputId": "e51ea8dd-5069-4bbe-91fc-040010735419"
      },
      "source": [
        "df.name.isna().sum() "
      ],
      "execution_count": null,
      "outputs": [
        {
          "output_type": "execute_result",
          "data": {
            "text/plain": [
              "747"
            ]
          },
          "metadata": {
            "tags": []
          },
          "execution_count": 21
        }
      ]
    },
    {
      "cell_type": "markdown",
      "metadata": {
        "id": "lIdPdO3DNiUG"
      },
      "source": [
        "Do we want to drop restaurants with no name?"
      ]
    },
    {
      "cell_type": "markdown",
      "metadata": {
        "id": "78BBcho7NDsn"
      },
      "source": [
        "#### <font color= pink> Column: BORO\n"
      ]
    },
    {
      "cell_type": "code",
      "metadata": {
        "id": "kfZ01R60NOrb"
      },
      "source": [
        "#rename DBA to be more easily readable\n",
        "df.rename(columns={'BORO': 'borough'}, inplace=True)"
      ],
      "execution_count": null,
      "outputs": []
    },
    {
      "cell_type": "code",
      "metadata": {
        "id": "2qLASu2rNDF9",
        "colab": {
          "base_uri": "https://localhost:8080/"
        },
        "outputId": "6a9927e3-a790-42e3-e978-57553af26093"
      },
      "source": [
        "df.borough.isna().sum() "
      ],
      "execution_count": null,
      "outputs": [
        {
          "output_type": "execute_result",
          "data": {
            "text/plain": [
              "0"
            ]
          },
          "metadata": {
            "tags": []
          },
          "execution_count": 24
        }
      ]
    },
    {
      "cell_type": "markdown",
      "metadata": {
        "id": "Ls3tnPggNVwj"
      },
      "source": [
        "#### <font color= pink> Column: ZIPCODE\n"
      ]
    },
    {
      "cell_type": "code",
      "metadata": {
        "id": "-q8_RcVKNez0"
      },
      "source": [
        "#rename DBA to be more easily readable\n",
        "df.rename(columns={'ZIPCODE': 'zipcode'}, inplace=True)"
      ],
      "execution_count": null,
      "outputs": []
    },
    {
      "cell_type": "code",
      "metadata": {
        "id": "5TZixl7YNnCP",
        "colab": {
          "base_uri": "https://localhost:8080/"
        },
        "outputId": "7cceb9d5-8b6e-4007-d691-d5e4ce2b698b"
      },
      "source": [
        "df.zipcode.isna().sum() "
      ],
      "execution_count": null,
      "outputs": [
        {
          "output_type": "execute_result",
          "data": {
            "text/plain": [
              "500"
            ]
          },
          "metadata": {
            "tags": []
          },
          "execution_count": 26
        }
      ]
    },
    {
      "cell_type": "markdown",
      "metadata": {
        "id": "M0A9ml4CNoOK"
      },
      "source": [
        "Do we want to drop restaurants with no zip code?"
      ]
    },
    {
      "cell_type": "markdown",
      "metadata": {
        "id": "HWjUUZlKObnX"
      },
      "source": [
        "#### <font color= pink> Column: CUISINE DESCRIPTION"
      ]
    },
    {
      "cell_type": "code",
      "metadata": {
        "id": "qmwDwfWPOga5"
      },
      "source": [
        "#rename DBA to be more easily readable\n",
        "df.rename(columns={'CUISINE DESCRIPTION': 'description'}, inplace=True)"
      ],
      "execution_count": null,
      "outputs": []
    },
    {
      "cell_type": "code",
      "metadata": {
        "id": "pL92tpPOOs9i",
        "colab": {
          "base_uri": "https://localhost:8080/"
        },
        "outputId": "1f5f2c52-2101-4653-fe48-0b3d67c7d4dd"
      },
      "source": [
        "df.description.isna().sum() "
      ],
      "execution_count": null,
      "outputs": [
        {
          "output_type": "execute_result",
          "data": {
            "text/plain": [
              "28395"
            ]
          },
          "metadata": {
            "tags": []
          },
          "execution_count": 29
        }
      ]
    },
    {
      "cell_type": "markdown",
      "metadata": {
        "id": "1n2gJueIOlMe"
      },
      "source": [
        "Right now all of these values are null, so we need to figure out a way to somehow link restaurant descriptions in here."
      ]
    },
    {
      "cell_type": "markdown",
      "metadata": {
        "id": "2jm7PTdMPRV-"
      },
      "source": [
        "#### <font color= pink> Column: Latitude"
      ]
    },
    {
      "cell_type": "code",
      "metadata": {
        "id": "XTWIRMxWPVCf"
      },
      "source": [
        "#rename Latitude to be more easily readable\n",
        "df.rename(columns={'Latitude': 'latitude'}, inplace=True)"
      ],
      "execution_count": null,
      "outputs": []
    },
    {
      "cell_type": "code",
      "metadata": {
        "id": "y8zMctf0Pbwy",
        "colab": {
          "base_uri": "https://localhost:8080/"
        },
        "outputId": "8e1ece2a-50d6-4859-c6d5-0a04abfd3305"
      },
      "source": [
        "df.latitude.isna().sum() "
      ],
      "execution_count": null,
      "outputs": [
        {
          "output_type": "execute_result",
          "data": {
            "text/plain": [
              "70"
            ]
          },
          "metadata": {
            "tags": []
          },
          "execution_count": 31
        }
      ]
    },
    {
      "cell_type": "markdown",
      "metadata": {
        "id": "XWyv5iI6P0Ag"
      },
      "source": [
        "Since there are only 83 null latitude values and we need latitude in order to be able to put restaurants on a map, we will just drop instances with null latitudes."
      ]
    },
    {
      "cell_type": "code",
      "metadata": {
        "id": "IFK-FVCePgxj"
      },
      "source": [
        "#drop where latitude is null\n",
        "df.dropna(subset=['latitude'], inplace=True)"
      ],
      "execution_count": null,
      "outputs": []
    },
    {
      "cell_type": "code",
      "metadata": {
        "id": "oon8DVufSBKQ",
        "colab": {
          "base_uri": "https://localhost:8080/"
        },
        "outputId": "fe799a00-19a4-4f43-fc25-73613aec86b4"
      },
      "source": [
        "df.latitude.isna().sum() "
      ],
      "execution_count": null,
      "outputs": [
        {
          "output_type": "execute_result",
          "data": {
            "text/plain": [
              "0"
            ]
          },
          "metadata": {
            "tags": []
          },
          "execution_count": 33
        }
      ]
    },
    {
      "cell_type": "markdown",
      "metadata": {
        "id": "bGFLquvRQIQX"
      },
      "source": [
        "#### <font color= pink> Column: Longitude"
      ]
    },
    {
      "cell_type": "code",
      "metadata": {
        "id": "MevG0WHPQMuu"
      },
      "source": [
        "#rename Longitude to be more easily readable\n",
        "df.rename(columns={'Longitude': 'longitude'}, inplace=True)"
      ],
      "execution_count": null,
      "outputs": []
    },
    {
      "cell_type": "code",
      "metadata": {
        "id": "2Mt5dakbQSBV",
        "colab": {
          "base_uri": "https://localhost:8080/"
        },
        "outputId": "614663b5-9e3c-428c-971a-13d81a294e15"
      },
      "source": [
        "df.longitude.isna().sum() "
      ],
      "execution_count": null,
      "outputs": [
        {
          "output_type": "execute_result",
          "data": {
            "text/plain": [
              "0"
            ]
          },
          "metadata": {
            "tags": []
          },
          "execution_count": 35
        }
      ]
    }
  ]
}