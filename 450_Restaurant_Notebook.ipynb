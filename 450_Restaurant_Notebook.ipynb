{
  "nbformat": 4,
  "nbformat_minor": 0,
  "metadata": {
    "colab": {
      "name": "450: Restaurant Notebook",
      "provenance": [],
      "collapsed_sections": []
    },
    "kernelspec": {
      "name": "python3",
      "display_name": "Python 3"
    },
    "language_info": {
      "name": "python"
    }
  },
  "cells": [
    {
      "cell_type": "markdown",
      "metadata": {
        "id": "ZYx-KhOKB1Rp"
      },
      "source": [
        "### Pre-processing: Restaurant data set"
      ]
    },
    {
      "cell_type": "markdown",
      "metadata": {
        "id": "bmzWARBTBfsF"
      },
      "source": [
        "#### <font color= '#eb3483'> Imports and mounting to drive"
      ]
    },
    {
      "cell_type": "code",
      "metadata": {
        "id": "rF4NNvb-A5_1"
      },
      "source": [
        "#imports \n",
        "import pandas as pd\n",
        "import numpy as np\n",
        "from google.colab import drive"
      ],
      "execution_count": 54,
      "outputs": []
    },
    {
      "cell_type": "code",
      "metadata": {
        "colab": {
          "base_uri": "https://localhost:8080/"
        },
        "id": "0obys2NOBMfb",
        "outputId": "6eb95390-8e84-447f-82ee-6b62ba28b0a9"
      },
      "source": [
        "#Mount google drive\n",
        "prefix = '/content/drive'\n",
        "from google.colab import drive\n",
        "drive.mount(prefix, force_remount=True)"
      ],
      "execution_count": 55,
      "outputs": [
        {
          "output_type": "stream",
          "text": [
            "Mounted at /content/drive\n"
          ],
          "name": "stdout"
        }
      ]
    },
    {
      "cell_type": "code",
      "metadata": {
        "id": "IxTDCiyaBTT8"
      },
      "source": [
        "path = '/content/drive/My Drive/CIS 450/CIS 450 Project/restaurants.csv'"
      ],
      "execution_count": 56,
      "outputs": []
    },
    {
      "cell_type": "code",
      "metadata": {
        "colab": {
          "base_uri": "https://localhost:8080/",
          "height": 453
        },
        "id": "D-hkWu-dBUKu",
        "outputId": "21a4f00f-8ec3-43b2-bca1-a615faac4a1e"
      },
      "source": [
        "#load data into a dataframe\n",
        "df = pd.read_csv(path, header=[0]) #-- put this back in when it downloads to drive\n",
        "\n",
        "#df = pd.read_csv('restaurants.csv', header=[0])\n",
        "\n",
        "df.head(5)"
      ],
      "execution_count": 57,
      "outputs": [
        {
          "output_type": "stream",
          "text": [
            "/usr/local/lib/python3.7/dist-packages/IPython/core/interactiveshell.py:2718: DtypeWarning: Columns (6) have mixed types.Specify dtype option on import or set low_memory=False.\n",
            "  interactivity=interactivity, compiler=compiler, result=result)\n"
          ],
          "name": "stderr"
        },
        {
          "output_type": "execute_result",
          "data": {
            "text/html": [
              "<div>\n",
              "<style scoped>\n",
              "    .dataframe tbody tr th:only-of-type {\n",
              "        vertical-align: middle;\n",
              "    }\n",
              "\n",
              "    .dataframe tbody tr th {\n",
              "        vertical-align: top;\n",
              "    }\n",
              "\n",
              "    .dataframe thead th {\n",
              "        text-align: right;\n",
              "    }\n",
              "</style>\n",
              "<table border=\"1\" class=\"dataframe\">\n",
              "  <thead>\n",
              "    <tr style=\"text-align: right;\">\n",
              "      <th></th>\n",
              "      <th>CAMIS</th>\n",
              "      <th>DBA</th>\n",
              "      <th>BORO</th>\n",
              "      <th>BUILDING</th>\n",
              "      <th>STREET</th>\n",
              "      <th>ZIPCODE</th>\n",
              "      <th>PHONE</th>\n",
              "      <th>CUISINE DESCRIPTION</th>\n",
              "      <th>INSPECTION DATE</th>\n",
              "      <th>ACTION</th>\n",
              "      <th>VIOLATION CODE</th>\n",
              "      <th>VIOLATION DESCRIPTION</th>\n",
              "      <th>CRITICAL FLAG</th>\n",
              "      <th>SCORE</th>\n",
              "      <th>GRADE</th>\n",
              "      <th>GRADE DATE</th>\n",
              "      <th>RECORD DATE</th>\n",
              "      <th>INSPECTION TYPE</th>\n",
              "      <th>Latitude</th>\n",
              "      <th>Longitude</th>\n",
              "      <th>Community Board</th>\n",
              "      <th>Council District</th>\n",
              "      <th>Census Tract</th>\n",
              "      <th>BIN</th>\n",
              "      <th>BBL</th>\n",
              "      <th>NTA</th>\n",
              "    </tr>\n",
              "  </thead>\n",
              "  <tbody>\n",
              "    <tr>\n",
              "      <th>0</th>\n",
              "      <td>41089834</td>\n",
              "      <td>MURRAY HILL DINER</td>\n",
              "      <td>Manhattan</td>\n",
              "      <td>222</td>\n",
              "      <td>LEXINGTON AVENUE</td>\n",
              "      <td>10016.0</td>\n",
              "      <td>2126866667</td>\n",
              "      <td>NaN</td>\n",
              "      <td>NaN</td>\n",
              "      <td>P</td>\n",
              "      <td>NaN</td>\n",
              "      <td>NaN</td>\n",
              "      <td>NaN</td>\n",
              "      <td>21.0</td>\n",
              "      <td>NaN</td>\n",
              "      <td>NaN</td>\n",
              "      <td>NaN</td>\n",
              "      <td>NaN</td>\n",
              "      <td>40.745891</td>\n",
              "      <td>-73.980104</td>\n",
              "      <td>105.0</td>\n",
              "      <td>2.0</td>\n",
              "      <td>7200.0</td>\n",
              "      <td>1018492.0</td>\n",
              "      <td>1.008890e+09</td>\n",
              "      <td>MN20</td>\n",
              "    </tr>\n",
              "    <tr>\n",
              "      <th>1</th>\n",
              "      <td>41089834</td>\n",
              "      <td>MURRAY HILL DINER</td>\n",
              "      <td>Manhattan</td>\n",
              "      <td>222</td>\n",
              "      <td>LEXINGTON AVENUE</td>\n",
              "      <td>10016.0</td>\n",
              "      <td>2126866667</td>\n",
              "      <td>NaN</td>\n",
              "      <td>NaN</td>\n",
              "      <td>P</td>\n",
              "      <td>NaN</td>\n",
              "      <td>NaN</td>\n",
              "      <td>NaN</td>\n",
              "      <td>21.0</td>\n",
              "      <td>NaN</td>\n",
              "      <td>NaN</td>\n",
              "      <td>NaN</td>\n",
              "      <td>NaN</td>\n",
              "      <td>40.745891</td>\n",
              "      <td>-73.980104</td>\n",
              "      <td>105.0</td>\n",
              "      <td>2.0</td>\n",
              "      <td>7200.0</td>\n",
              "      <td>1018492.0</td>\n",
              "      <td>1.008890e+09</td>\n",
              "      <td>MN20</td>\n",
              "    </tr>\n",
              "    <tr>\n",
              "      <th>2</th>\n",
              "      <td>41089834</td>\n",
              "      <td>MURRAY HILL DINER</td>\n",
              "      <td>Manhattan</td>\n",
              "      <td>222</td>\n",
              "      <td>LEXINGTON AVENUE</td>\n",
              "      <td>10016.0</td>\n",
              "      <td>2126866667</td>\n",
              "      <td>NaN</td>\n",
              "      <td>NaN</td>\n",
              "      <td>P</td>\n",
              "      <td>NaN</td>\n",
              "      <td>NaN</td>\n",
              "      <td>NaN</td>\n",
              "      <td>21.0</td>\n",
              "      <td>NaN</td>\n",
              "      <td>NaN</td>\n",
              "      <td>NaN</td>\n",
              "      <td>NaN</td>\n",
              "      <td>40.745891</td>\n",
              "      <td>-73.980104</td>\n",
              "      <td>105.0</td>\n",
              "      <td>2.0</td>\n",
              "      <td>7200.0</td>\n",
              "      <td>1018492.0</td>\n",
              "      <td>1.008890e+09</td>\n",
              "      <td>MN20</td>\n",
              "    </tr>\n",
              "    <tr>\n",
              "      <th>3</th>\n",
              "      <td>41089834</td>\n",
              "      <td>MURRAY HILL DINER</td>\n",
              "      <td>Manhattan</td>\n",
              "      <td>222</td>\n",
              "      <td>LEXINGTON AVENUE</td>\n",
              "      <td>10016.0</td>\n",
              "      <td>2126866667</td>\n",
              "      <td>NaN</td>\n",
              "      <td>NaN</td>\n",
              "      <td>P</td>\n",
              "      <td>NaN</td>\n",
              "      <td>NaN</td>\n",
              "      <td>NaN</td>\n",
              "      <td>21.0</td>\n",
              "      <td>NaN</td>\n",
              "      <td>NaN</td>\n",
              "      <td>NaN</td>\n",
              "      <td>NaN</td>\n",
              "      <td>40.745891</td>\n",
              "      <td>-73.980104</td>\n",
              "      <td>105.0</td>\n",
              "      <td>2.0</td>\n",
              "      <td>7200.0</td>\n",
              "      <td>1018492.0</td>\n",
              "      <td>1.008890e+09</td>\n",
              "      <td>MN20</td>\n",
              "    </tr>\n",
              "    <tr>\n",
              "      <th>4</th>\n",
              "      <td>40596549</td>\n",
              "      <td>POLLOS A LA BARASA MARIO</td>\n",
              "      <td>Queens</td>\n",
              "      <td>40-19</td>\n",
              "      <td>BROADWAY</td>\n",
              "      <td>11103.0</td>\n",
              "      <td>7189322424</td>\n",
              "      <td>NaN</td>\n",
              "      <td>NaN</td>\n",
              "      <td>D</td>\n",
              "      <td>NaN</td>\n",
              "      <td>NaN</td>\n",
              "      <td>NaN</td>\n",
              "      <td>13.0</td>\n",
              "      <td>NaN</td>\n",
              "      <td>NaN</td>\n",
              "      <td>NaN</td>\n",
              "      <td>NaN</td>\n",
              "      <td>40.758872</td>\n",
              "      <td>-73.918772</td>\n",
              "      <td>401.0</td>\n",
              "      <td>22.0</td>\n",
              "      <td>15500.0</td>\n",
              "      <td>4011093.0</td>\n",
              "      <td>4.006780e+09</td>\n",
              "      <td>QN70</td>\n",
              "    </tr>\n",
              "  </tbody>\n",
              "</table>\n",
              "</div>"
            ],
            "text/plain": [
              "      CAMIS                       DBA       BORO  ...        BIN           BBL   NTA\n",
              "0  41089834         MURRAY HILL DINER  Manhattan  ...  1018492.0  1.008890e+09  MN20\n",
              "1  41089834         MURRAY HILL DINER  Manhattan  ...  1018492.0  1.008890e+09  MN20\n",
              "2  41089834         MURRAY HILL DINER  Manhattan  ...  1018492.0  1.008890e+09  MN20\n",
              "3  41089834         MURRAY HILL DINER  Manhattan  ...  1018492.0  1.008890e+09  MN20\n",
              "4  40596549  POLLOS A LA BARASA MARIO     Queens  ...  4011093.0  4.006780e+09  QN70\n",
              "\n",
              "[5 rows x 26 columns]"
            ]
          },
          "metadata": {
            "tags": []
          },
          "execution_count": 57
        }
      ]
    },
    {
      "cell_type": "markdown",
      "metadata": {
        "id": "fYrW8E-NDyr5"
      },
      "source": [
        "### <font color= '#eb3483'> Explore data types and values"
      ]
    },
    {
      "cell_type": "code",
      "metadata": {
        "id": "HAkmCIQQDu7I",
        "colab": {
          "base_uri": "https://localhost:8080/"
        },
        "outputId": "b575d17a-b464-4d0f-b9d5-c9aaec4562a0"
      },
      "source": [
        "#explore types\n",
        "df.dtypes"
      ],
      "execution_count": 58,
      "outputs": [
        {
          "output_type": "execute_result",
          "data": {
            "text/plain": [
              "CAMIS                      int64\n",
              "DBA                       object\n",
              "BORO                      object\n",
              "BUILDING                  object\n",
              "STREET                    object\n",
              "ZIPCODE                  float64\n",
              "PHONE                     object\n",
              "CUISINE DESCRIPTION      float64\n",
              "INSPECTION DATE          float64\n",
              "ACTION                    object\n",
              "VIOLATION CODE           float64\n",
              "VIOLATION DESCRIPTION    float64\n",
              "CRITICAL FLAG            float64\n",
              "SCORE                    float64\n",
              "GRADE                    float64\n",
              "GRADE DATE               float64\n",
              "RECORD DATE              float64\n",
              "INSPECTION TYPE          float64\n",
              "Latitude                 float64\n",
              "Longitude                float64\n",
              "Community Board          float64\n",
              "Council District         float64\n",
              "Census Tract             float64\n",
              "BIN                      float64\n",
              "BBL                      float64\n",
              "NTA                       object\n",
              "dtype: object"
            ]
          },
          "metadata": {
            "tags": []
          },
          "execution_count": 58
        }
      ]
    },
    {
      "cell_type": "code",
      "metadata": {
        "colab": {
          "base_uri": "https://localhost:8080/"
        },
        "id": "3Zc1HIFJD7z2",
        "outputId": "ec7bf4a6-6215-4fd1-8506-66ecbf26ebd8"
      },
      "source": [
        "#look at all columns \n",
        "df.columns"
      ],
      "execution_count": 59,
      "outputs": [
        {
          "output_type": "execute_result",
          "data": {
            "text/plain": [
              "Index(['CAMIS', 'DBA', 'BORO', 'BUILDING', 'STREET', 'ZIPCODE', 'PHONE',\n",
              "       'CUISINE DESCRIPTION', 'INSPECTION DATE', 'ACTION', 'VIOLATION CODE',\n",
              "       'VIOLATION DESCRIPTION', 'CRITICAL FLAG', 'SCORE', 'GRADE',\n",
              "       'GRADE DATE', 'RECORD DATE', 'INSPECTION TYPE', 'Latitude', 'Longitude',\n",
              "       'Community Board', 'Council District', 'Census Tract', 'BIN', 'BBL',\n",
              "       'NTA'],\n",
              "      dtype='object')"
            ]
          },
          "metadata": {
            "tags": []
          },
          "execution_count": 59
        }
      ]
    },
    {
      "cell_type": "code",
      "metadata": {
        "colab": {
          "base_uri": "https://localhost:8080/"
        },
        "id": "Zp5asZAnD-P7",
        "outputId": "65a21629-6698-4d89-ff4b-27bbdaab698c"
      },
      "source": [
        "#look at shape\n",
        "df.shape"
      ],
      "execution_count": 60,
      "outputs": [
        {
          "output_type": "execute_result",
          "data": {
            "text/plain": [
              "(394121, 26)"
            ]
          },
          "metadata": {
            "tags": []
          },
          "execution_count": 60
        }
      ]
    },
    {
      "cell_type": "code",
      "metadata": {
        "colab": {
          "base_uri": "https://localhost:8080/"
        },
        "id": "HAnThLhTEAR5",
        "outputId": "a339b47b-0acf-4ee8-cd6b-5cee20114115"
      },
      "source": [
        "#how many unique values do we have\n",
        "df.apply('nunique').sort_values(ascending=True)[0:30]"
      ],
      "execution_count": 61,
      "outputs": [
        {
          "output_type": "execute_result",
          "data": {
            "text/plain": [
              "CRITICAL FLAG                0\n",
              "INSPECTION TYPE              0\n",
              "RECORD DATE                  0\n",
              "GRADE DATE                   0\n",
              "CUISINE DESCRIPTION          0\n",
              "INSPECTION DATE              0\n",
              "VIOLATION CODE               0\n",
              "VIOLATION DESCRIPTION        0\n",
              "GRADE                        0\n",
              "BORO                         6\n",
              "ACTION                      13\n",
              "Council District            51\n",
              "Community Board             69\n",
              "SCORE                      136\n",
              "NTA                        193\n",
              "ZIPCODE                    229\n",
              "Census Tract              1190\n",
              "STREET                    2409\n",
              "BUILDING                  8097\n",
              "BBL                      19983\n",
              "BIN                      20320\n",
              "DBA                      22811\n",
              "Latitude                 23449\n",
              "Longitude                23449\n",
              "PHONE                    27311\n",
              "CAMIS                    29488\n",
              "dtype: int64"
            ]
          },
          "metadata": {
            "tags": []
          },
          "execution_count": 61
        }
      ]
    },
    {
      "cell_type": "code",
      "metadata": {
        "id": "rzxXhMf5FnVY"
      },
      "source": [
        "#remove duplicates\n",
        "df.drop_duplicates(inplace=True)"
      ],
      "execution_count": 62,
      "outputs": []
    },
    {
      "cell_type": "code",
      "metadata": {
        "colab": {
          "base_uri": "https://localhost:8080/"
        },
        "id": "6nxf9L8tGGAH",
        "outputId": "1fc60cbb-9d38-41c4-a994-ae752bf52c43"
      },
      "source": [
        "#look at shape\n",
        "df.shape"
      ],
      "execution_count": 63,
      "outputs": [
        {
          "output_type": "execute_result",
          "data": {
            "text/plain": [
              "(134529, 26)"
            ]
          },
          "metadata": {
            "tags": []
          },
          "execution_count": 63
        }
      ]
    },
    {
      "cell_type": "code",
      "metadata": {
        "colab": {
          "base_uri": "https://localhost:8080/",
          "height": 334
        },
        "id": "O5paFTkxFvKL",
        "outputId": "e6485548-bbd1-48e1-c55a-2ba38d88cd50"
      },
      "source": [
        "df.head(5)"
      ],
      "execution_count": 64,
      "outputs": [
        {
          "output_type": "execute_result",
          "data": {
            "text/html": [
              "<div>\n",
              "<style scoped>\n",
              "    .dataframe tbody tr th:only-of-type {\n",
              "        vertical-align: middle;\n",
              "    }\n",
              "\n",
              "    .dataframe tbody tr th {\n",
              "        vertical-align: top;\n",
              "    }\n",
              "\n",
              "    .dataframe thead th {\n",
              "        text-align: right;\n",
              "    }\n",
              "</style>\n",
              "<table border=\"1\" class=\"dataframe\">\n",
              "  <thead>\n",
              "    <tr style=\"text-align: right;\">\n",
              "      <th></th>\n",
              "      <th>CAMIS</th>\n",
              "      <th>DBA</th>\n",
              "      <th>BORO</th>\n",
              "      <th>BUILDING</th>\n",
              "      <th>STREET</th>\n",
              "      <th>ZIPCODE</th>\n",
              "      <th>PHONE</th>\n",
              "      <th>CUISINE DESCRIPTION</th>\n",
              "      <th>INSPECTION DATE</th>\n",
              "      <th>ACTION</th>\n",
              "      <th>VIOLATION CODE</th>\n",
              "      <th>VIOLATION DESCRIPTION</th>\n",
              "      <th>CRITICAL FLAG</th>\n",
              "      <th>SCORE</th>\n",
              "      <th>GRADE</th>\n",
              "      <th>GRADE DATE</th>\n",
              "      <th>RECORD DATE</th>\n",
              "      <th>INSPECTION TYPE</th>\n",
              "      <th>Latitude</th>\n",
              "      <th>Longitude</th>\n",
              "      <th>Community Board</th>\n",
              "      <th>Council District</th>\n",
              "      <th>Census Tract</th>\n",
              "      <th>BIN</th>\n",
              "      <th>BBL</th>\n",
              "      <th>NTA</th>\n",
              "    </tr>\n",
              "  </thead>\n",
              "  <tbody>\n",
              "    <tr>\n",
              "      <th>0</th>\n",
              "      <td>41089834</td>\n",
              "      <td>MURRAY HILL DINER</td>\n",
              "      <td>Manhattan</td>\n",
              "      <td>222</td>\n",
              "      <td>LEXINGTON AVENUE</td>\n",
              "      <td>10016.0</td>\n",
              "      <td>2126866667</td>\n",
              "      <td>NaN</td>\n",
              "      <td>NaN</td>\n",
              "      <td>P</td>\n",
              "      <td>NaN</td>\n",
              "      <td>NaN</td>\n",
              "      <td>NaN</td>\n",
              "      <td>21.0</td>\n",
              "      <td>NaN</td>\n",
              "      <td>NaN</td>\n",
              "      <td>NaN</td>\n",
              "      <td>NaN</td>\n",
              "      <td>40.745891</td>\n",
              "      <td>-73.980104</td>\n",
              "      <td>105.0</td>\n",
              "      <td>2.0</td>\n",
              "      <td>7200.0</td>\n",
              "      <td>1018492.0</td>\n",
              "      <td>1.008890e+09</td>\n",
              "      <td>MN20</td>\n",
              "    </tr>\n",
              "    <tr>\n",
              "      <th>4</th>\n",
              "      <td>40596549</td>\n",
              "      <td>POLLOS A LA BARASA MARIO</td>\n",
              "      <td>Queens</td>\n",
              "      <td>40-19</td>\n",
              "      <td>BROADWAY</td>\n",
              "      <td>11103.0</td>\n",
              "      <td>7189322424</td>\n",
              "      <td>NaN</td>\n",
              "      <td>NaN</td>\n",
              "      <td>D</td>\n",
              "      <td>NaN</td>\n",
              "      <td>NaN</td>\n",
              "      <td>NaN</td>\n",
              "      <td>13.0</td>\n",
              "      <td>NaN</td>\n",
              "      <td>NaN</td>\n",
              "      <td>NaN</td>\n",
              "      <td>NaN</td>\n",
              "      <td>40.758872</td>\n",
              "      <td>-73.918772</td>\n",
              "      <td>401.0</td>\n",
              "      <td>22.0</td>\n",
              "      <td>15500.0</td>\n",
              "      <td>4011093.0</td>\n",
              "      <td>4.006780e+09</td>\n",
              "      <td>QN70</td>\n",
              "    </tr>\n",
              "    <tr>\n",
              "      <th>7</th>\n",
              "      <td>40530583</td>\n",
              "      <td>CORNER GOURMET II</td>\n",
              "      <td>Manhattan</td>\n",
              "      <td>66</td>\n",
              "      <td>WEST BROADWAY</td>\n",
              "      <td>10007.0</td>\n",
              "      <td>2124062200</td>\n",
              "      <td>NaN</td>\n",
              "      <td>NaN</td>\n",
              "      <td>U</td>\n",
              "      <td>NaN</td>\n",
              "      <td>NaN</td>\n",
              "      <td>NaN</td>\n",
              "      <td>10.0</td>\n",
              "      <td>NaN</td>\n",
              "      <td>NaN</td>\n",
              "      <td>NaN</td>\n",
              "      <td>NaN</td>\n",
              "      <td>40.714643</td>\n",
              "      <td>-74.009934</td>\n",
              "      <td>101.0</td>\n",
              "      <td>1.0</td>\n",
              "      <td>2100.0</td>\n",
              "      <td>1001418.0</td>\n",
              "      <td>1.001320e+09</td>\n",
              "      <td>MN24</td>\n",
              "    </tr>\n",
              "    <tr>\n",
              "      <th>8</th>\n",
              "      <td>50074520</td>\n",
              "      <td>EL POLLO INKA PERU</td>\n",
              "      <td>Queens</td>\n",
              "      <td>8920</td>\n",
              "      <td>101ST AVE</td>\n",
              "      <td>11416.0</td>\n",
              "      <td>6466512258</td>\n",
              "      <td>NaN</td>\n",
              "      <td>NaN</td>\n",
              "      <td>F</td>\n",
              "      <td>NaN</td>\n",
              "      <td>NaN</td>\n",
              "      <td>NaN</td>\n",
              "      <td>51.0</td>\n",
              "      <td>NaN</td>\n",
              "      <td>NaN</td>\n",
              "      <td>NaN</td>\n",
              "      <td>NaN</td>\n",
              "      <td>40.682864</td>\n",
              "      <td>-73.850875</td>\n",
              "      <td>409.0</td>\n",
              "      <td>32.0</td>\n",
              "      <td>4001.0</td>\n",
              "      <td>4189113.0</td>\n",
              "      <td>4.090930e+09</td>\n",
              "      <td>QN53</td>\n",
              "    </tr>\n",
              "    <tr>\n",
              "      <th>16</th>\n",
              "      <td>40367241</td>\n",
              "      <td>JG MELON RESTAURANT</td>\n",
              "      <td>Manhattan</td>\n",
              "      <td>1291</td>\n",
              "      <td>3 AVENUE</td>\n",
              "      <td>10021.0</td>\n",
              "      <td>2127440585</td>\n",
              "      <td>NaN</td>\n",
              "      <td>NaN</td>\n",
              "      <td>F</td>\n",
              "      <td>NaN</td>\n",
              "      <td>NaN</td>\n",
              "      <td>NaN</td>\n",
              "      <td>21.0</td>\n",
              "      <td>NaN</td>\n",
              "      <td>NaN</td>\n",
              "      <td>NaN</td>\n",
              "      <td>NaN</td>\n",
              "      <td>40.771193</td>\n",
              "      <td>-73.959532</td>\n",
              "      <td>108.0</td>\n",
              "      <td>4.0</td>\n",
              "      <td>13400.0</td>\n",
              "      <td>1044019.0</td>\n",
              "      <td>1.014290e+09</td>\n",
              "      <td>MN31</td>\n",
              "    </tr>\n",
              "  </tbody>\n",
              "</table>\n",
              "</div>"
            ],
            "text/plain": [
              "       CAMIS                       DBA  ...           BBL   NTA\n",
              "0   41089834         MURRAY HILL DINER  ...  1.008890e+09  MN20\n",
              "4   40596549  POLLOS A LA BARASA MARIO  ...  4.006780e+09  QN70\n",
              "7   40530583         CORNER GOURMET II  ...  1.001320e+09  MN24\n",
              "8   50074520        EL POLLO INKA PERU  ...  4.090930e+09  QN53\n",
              "16  40367241       JG MELON RESTAURANT  ...  1.014290e+09  MN31\n",
              "\n",
              "[5 rows x 26 columns]"
            ]
          },
          "metadata": {
            "tags": []
          },
          "execution_count": 64
        }
      ]
    },
    {
      "cell_type": "code",
      "metadata": {
        "id": "v9hG1YaLEREP"
      },
      "source": [
        "#only keep certain columns based on what we need\n",
        "keep = [\n",
        "        'CAMIS', 'DBA', 'BORO',\n",
        "        'PHONE', 'CUISINE DESCRIPTION', 'Latitude',\n",
        "        'Longitude'\n",
        "]\n",
        "df = df[keep]"
      ],
      "execution_count": 65,
      "outputs": []
    },
    {
      "cell_type": "code",
      "metadata": {
        "colab": {
          "base_uri": "https://localhost:8080/",
          "height": 197
        },
        "id": "P-qV6Hm-IHH8",
        "outputId": "89e1ff2e-11e5-4d5c-fd2d-d1d815076c2d"
      },
      "source": [
        "df.head(5)"
      ],
      "execution_count": 66,
      "outputs": [
        {
          "output_type": "execute_result",
          "data": {
            "text/html": [
              "<div>\n",
              "<style scoped>\n",
              "    .dataframe tbody tr th:only-of-type {\n",
              "        vertical-align: middle;\n",
              "    }\n",
              "\n",
              "    .dataframe tbody tr th {\n",
              "        vertical-align: top;\n",
              "    }\n",
              "\n",
              "    .dataframe thead th {\n",
              "        text-align: right;\n",
              "    }\n",
              "</style>\n",
              "<table border=\"1\" class=\"dataframe\">\n",
              "  <thead>\n",
              "    <tr style=\"text-align: right;\">\n",
              "      <th></th>\n",
              "      <th>CAMIS</th>\n",
              "      <th>DBA</th>\n",
              "      <th>BORO</th>\n",
              "      <th>PHONE</th>\n",
              "      <th>CUISINE DESCRIPTION</th>\n",
              "      <th>Latitude</th>\n",
              "      <th>Longitude</th>\n",
              "    </tr>\n",
              "  </thead>\n",
              "  <tbody>\n",
              "    <tr>\n",
              "      <th>0</th>\n",
              "      <td>41089834</td>\n",
              "      <td>MURRAY HILL DINER</td>\n",
              "      <td>Manhattan</td>\n",
              "      <td>2126866667</td>\n",
              "      <td>NaN</td>\n",
              "      <td>40.745891</td>\n",
              "      <td>-73.980104</td>\n",
              "    </tr>\n",
              "    <tr>\n",
              "      <th>4</th>\n",
              "      <td>40596549</td>\n",
              "      <td>POLLOS A LA BARASA MARIO</td>\n",
              "      <td>Queens</td>\n",
              "      <td>7189322424</td>\n",
              "      <td>NaN</td>\n",
              "      <td>40.758872</td>\n",
              "      <td>-73.918772</td>\n",
              "    </tr>\n",
              "    <tr>\n",
              "      <th>7</th>\n",
              "      <td>40530583</td>\n",
              "      <td>CORNER GOURMET II</td>\n",
              "      <td>Manhattan</td>\n",
              "      <td>2124062200</td>\n",
              "      <td>NaN</td>\n",
              "      <td>40.714643</td>\n",
              "      <td>-74.009934</td>\n",
              "    </tr>\n",
              "    <tr>\n",
              "      <th>8</th>\n",
              "      <td>50074520</td>\n",
              "      <td>EL POLLO INKA PERU</td>\n",
              "      <td>Queens</td>\n",
              "      <td>6466512258</td>\n",
              "      <td>NaN</td>\n",
              "      <td>40.682864</td>\n",
              "      <td>-73.850875</td>\n",
              "    </tr>\n",
              "    <tr>\n",
              "      <th>16</th>\n",
              "      <td>40367241</td>\n",
              "      <td>JG MELON RESTAURANT</td>\n",
              "      <td>Manhattan</td>\n",
              "      <td>2127440585</td>\n",
              "      <td>NaN</td>\n",
              "      <td>40.771193</td>\n",
              "      <td>-73.959532</td>\n",
              "    </tr>\n",
              "  </tbody>\n",
              "</table>\n",
              "</div>"
            ],
            "text/plain": [
              "       CAMIS                       DBA  ...   Latitude  Longitude\n",
              "0   41089834         MURRAY HILL DINER  ...  40.745891 -73.980104\n",
              "4   40596549  POLLOS A LA BARASA MARIO  ...  40.758872 -73.918772\n",
              "7   40530583         CORNER GOURMET II  ...  40.714643 -74.009934\n",
              "8   50074520        EL POLLO INKA PERU  ...  40.682864 -73.850875\n",
              "16  40367241       JG MELON RESTAURANT  ...  40.771193 -73.959532\n",
              "\n",
              "[5 rows x 7 columns]"
            ]
          },
          "metadata": {
            "tags": []
          },
          "execution_count": 66
        }
      ]
    },
    {
      "cell_type": "code",
      "metadata": {
        "id": "LmwRDJwEJnEk"
      },
      "source": [
        "#drop duplicates again\n",
        "df.drop_duplicates(inplace=True)"
      ],
      "execution_count": 67,
      "outputs": []
    },
    {
      "cell_type": "code",
      "metadata": {
        "id": "5mWeyUxHETwV",
        "colab": {
          "base_uri": "https://localhost:8080/"
        },
        "outputId": "025e14d7-3ac2-4834-b860-c74f0a3bc5a1"
      },
      "source": [
        "#now look at unique values of what we have\n",
        "df.apply('nunique').sort_values(ascending=False)"
      ],
      "execution_count": 68,
      "outputs": [
        {
          "output_type": "execute_result",
          "data": {
            "text/plain": [
              "CAMIS                  29488\n",
              "PHONE                  27311\n",
              "Longitude              23449\n",
              "Latitude               23449\n",
              "DBA                    22811\n",
              "BORO                       6\n",
              "CUISINE DESCRIPTION        0\n",
              "dtype: int64"
            ]
          },
          "metadata": {
            "tags": []
          },
          "execution_count": 68
        }
      ]
    },
    {
      "cell_type": "code",
      "metadata": {
        "colab": {
          "base_uri": "https://localhost:8080/"
        },
        "id": "3T7ceNW9Jyui",
        "outputId": "92ad7726-d538-4dde-ff23-8cf1bc7dd853"
      },
      "source": [
        "#look at shape\n",
        "df.shape"
      ],
      "execution_count": 69,
      "outputs": [
        {
          "output_type": "execute_result",
          "data": {
            "text/plain": [
              "(29601, 7)"
            ]
          },
          "metadata": {
            "tags": []
          },
          "execution_count": 69
        }
      ]
    },
    {
      "cell_type": "code",
      "metadata": {
        "id": "YxLyVJHrEW9H",
        "colab": {
          "base_uri": "https://localhost:8080/"
        },
        "outputId": "2fc64c7b-4a87-41b4-91ec-0c983605642a"
      },
      "source": [
        "#look at percent null values \n",
        "df.isna().sum() * 100 / df.shape[0]"
      ],
      "execution_count": 70,
      "outputs": [
        {
          "output_type": "execute_result",
          "data": {
            "text/plain": [
              "CAMIS                    0.000000\n",
              "DBA                      3.050573\n",
              "BORO                     0.000000\n",
              "PHONE                    0.013513\n",
              "CUISINE DESCRIPTION    100.000000\n",
              "Latitude                 0.280396\n",
              "Longitude                0.280396\n",
              "dtype: float64"
            ]
          },
          "metadata": {
            "tags": []
          },
          "execution_count": 70
        }
      ]
    },
    {
      "cell_type": "markdown",
      "metadata": {
        "id": "vjavrmwSKt0o"
      },
      "source": [
        "#### <font color= pink> Column: CAMIS"
      ]
    },
    {
      "cell_type": "code",
      "metadata": {
        "id": "sf8kVjknEZj_"
      },
      "source": [
        "#rename CAMIS to be more easily readable\n",
        "df.rename(columns={'CAMIS': 'id'}, inplace=True)"
      ],
      "execution_count": 71,
      "outputs": []
    },
    {
      "cell_type": "code",
      "metadata": {
        "id": "ErW8XffvLoEV",
        "colab": {
          "base_uri": "https://localhost:8080/",
          "height": 197
        },
        "outputId": "8400f207-cb15-4d3b-cccc-a4acb33ada19"
      },
      "source": [
        "df.head(5)"
      ],
      "execution_count": 72,
      "outputs": [
        {
          "output_type": "execute_result",
          "data": {
            "text/html": [
              "<div>\n",
              "<style scoped>\n",
              "    .dataframe tbody tr th:only-of-type {\n",
              "        vertical-align: middle;\n",
              "    }\n",
              "\n",
              "    .dataframe tbody tr th {\n",
              "        vertical-align: top;\n",
              "    }\n",
              "\n",
              "    .dataframe thead th {\n",
              "        text-align: right;\n",
              "    }\n",
              "</style>\n",
              "<table border=\"1\" class=\"dataframe\">\n",
              "  <thead>\n",
              "    <tr style=\"text-align: right;\">\n",
              "      <th></th>\n",
              "      <th>id</th>\n",
              "      <th>DBA</th>\n",
              "      <th>BORO</th>\n",
              "      <th>PHONE</th>\n",
              "      <th>CUISINE DESCRIPTION</th>\n",
              "      <th>Latitude</th>\n",
              "      <th>Longitude</th>\n",
              "    </tr>\n",
              "  </thead>\n",
              "  <tbody>\n",
              "    <tr>\n",
              "      <th>0</th>\n",
              "      <td>41089834</td>\n",
              "      <td>MURRAY HILL DINER</td>\n",
              "      <td>Manhattan</td>\n",
              "      <td>2126866667</td>\n",
              "      <td>NaN</td>\n",
              "      <td>40.745891</td>\n",
              "      <td>-73.980104</td>\n",
              "    </tr>\n",
              "    <tr>\n",
              "      <th>4</th>\n",
              "      <td>40596549</td>\n",
              "      <td>POLLOS A LA BARASA MARIO</td>\n",
              "      <td>Queens</td>\n",
              "      <td>7189322424</td>\n",
              "      <td>NaN</td>\n",
              "      <td>40.758872</td>\n",
              "      <td>-73.918772</td>\n",
              "    </tr>\n",
              "    <tr>\n",
              "      <th>7</th>\n",
              "      <td>40530583</td>\n",
              "      <td>CORNER GOURMET II</td>\n",
              "      <td>Manhattan</td>\n",
              "      <td>2124062200</td>\n",
              "      <td>NaN</td>\n",
              "      <td>40.714643</td>\n",
              "      <td>-74.009934</td>\n",
              "    </tr>\n",
              "    <tr>\n",
              "      <th>8</th>\n",
              "      <td>50074520</td>\n",
              "      <td>EL POLLO INKA PERU</td>\n",
              "      <td>Queens</td>\n",
              "      <td>6466512258</td>\n",
              "      <td>NaN</td>\n",
              "      <td>40.682864</td>\n",
              "      <td>-73.850875</td>\n",
              "    </tr>\n",
              "    <tr>\n",
              "      <th>16</th>\n",
              "      <td>40367241</td>\n",
              "      <td>JG MELON RESTAURANT</td>\n",
              "      <td>Manhattan</td>\n",
              "      <td>2127440585</td>\n",
              "      <td>NaN</td>\n",
              "      <td>40.771193</td>\n",
              "      <td>-73.959532</td>\n",
              "    </tr>\n",
              "  </tbody>\n",
              "</table>\n",
              "</div>"
            ],
            "text/plain": [
              "          id                       DBA  ...   Latitude  Longitude\n",
              "0   41089834         MURRAY HILL DINER  ...  40.745891 -73.980104\n",
              "4   40596549  POLLOS A LA BARASA MARIO  ...  40.758872 -73.918772\n",
              "7   40530583         CORNER GOURMET II  ...  40.714643 -74.009934\n",
              "8   50074520        EL POLLO INKA PERU  ...  40.682864 -73.850875\n",
              "16  40367241       JG MELON RESTAURANT  ...  40.771193 -73.959532\n",
              "\n",
              "[5 rows x 7 columns]"
            ]
          },
          "metadata": {
            "tags": []
          },
          "execution_count": 72
        }
      ]
    },
    {
      "cell_type": "markdown",
      "metadata": {
        "id": "-G4mJ6amLsaj"
      },
      "source": [
        "#### <font color= pink> Column: DBA"
      ]
    },
    {
      "cell_type": "code",
      "metadata": {
        "id": "5ODqUSkjLv0f"
      },
      "source": [
        "#rename DBA to be more easily readable\n",
        "df.rename(columns={'DBA': 'name'}, inplace=True)"
      ],
      "execution_count": 73,
      "outputs": []
    },
    {
      "cell_type": "code",
      "metadata": {
        "id": "kLhrIFx2L0yG",
        "colab": {
          "base_uri": "https://localhost:8080/",
          "height": 197
        },
        "outputId": "f59ebedd-9871-4e26-fe80-636e97ca5977"
      },
      "source": [
        "df.head(5)"
      ],
      "execution_count": 74,
      "outputs": [
        {
          "output_type": "execute_result",
          "data": {
            "text/html": [
              "<div>\n",
              "<style scoped>\n",
              "    .dataframe tbody tr th:only-of-type {\n",
              "        vertical-align: middle;\n",
              "    }\n",
              "\n",
              "    .dataframe tbody tr th {\n",
              "        vertical-align: top;\n",
              "    }\n",
              "\n",
              "    .dataframe thead th {\n",
              "        text-align: right;\n",
              "    }\n",
              "</style>\n",
              "<table border=\"1\" class=\"dataframe\">\n",
              "  <thead>\n",
              "    <tr style=\"text-align: right;\">\n",
              "      <th></th>\n",
              "      <th>id</th>\n",
              "      <th>name</th>\n",
              "      <th>BORO</th>\n",
              "      <th>PHONE</th>\n",
              "      <th>CUISINE DESCRIPTION</th>\n",
              "      <th>Latitude</th>\n",
              "      <th>Longitude</th>\n",
              "    </tr>\n",
              "  </thead>\n",
              "  <tbody>\n",
              "    <tr>\n",
              "      <th>0</th>\n",
              "      <td>41089834</td>\n",
              "      <td>MURRAY HILL DINER</td>\n",
              "      <td>Manhattan</td>\n",
              "      <td>2126866667</td>\n",
              "      <td>NaN</td>\n",
              "      <td>40.745891</td>\n",
              "      <td>-73.980104</td>\n",
              "    </tr>\n",
              "    <tr>\n",
              "      <th>4</th>\n",
              "      <td>40596549</td>\n",
              "      <td>POLLOS A LA BARASA MARIO</td>\n",
              "      <td>Queens</td>\n",
              "      <td>7189322424</td>\n",
              "      <td>NaN</td>\n",
              "      <td>40.758872</td>\n",
              "      <td>-73.918772</td>\n",
              "    </tr>\n",
              "    <tr>\n",
              "      <th>7</th>\n",
              "      <td>40530583</td>\n",
              "      <td>CORNER GOURMET II</td>\n",
              "      <td>Manhattan</td>\n",
              "      <td>2124062200</td>\n",
              "      <td>NaN</td>\n",
              "      <td>40.714643</td>\n",
              "      <td>-74.009934</td>\n",
              "    </tr>\n",
              "    <tr>\n",
              "      <th>8</th>\n",
              "      <td>50074520</td>\n",
              "      <td>EL POLLO INKA PERU</td>\n",
              "      <td>Queens</td>\n",
              "      <td>6466512258</td>\n",
              "      <td>NaN</td>\n",
              "      <td>40.682864</td>\n",
              "      <td>-73.850875</td>\n",
              "    </tr>\n",
              "    <tr>\n",
              "      <th>16</th>\n",
              "      <td>40367241</td>\n",
              "      <td>JG MELON RESTAURANT</td>\n",
              "      <td>Manhattan</td>\n",
              "      <td>2127440585</td>\n",
              "      <td>NaN</td>\n",
              "      <td>40.771193</td>\n",
              "      <td>-73.959532</td>\n",
              "    </tr>\n",
              "  </tbody>\n",
              "</table>\n",
              "</div>"
            ],
            "text/plain": [
              "          id                      name  ...   Latitude  Longitude\n",
              "0   41089834         MURRAY HILL DINER  ...  40.745891 -73.980104\n",
              "4   40596549  POLLOS A LA BARASA MARIO  ...  40.758872 -73.918772\n",
              "7   40530583         CORNER GOURMET II  ...  40.714643 -74.009934\n",
              "8   50074520        EL POLLO INKA PERU  ...  40.682864 -73.850875\n",
              "16  40367241       JG MELON RESTAURANT  ...  40.771193 -73.959532\n",
              "\n",
              "[5 rows x 7 columns]"
            ]
          },
          "metadata": {
            "tags": []
          },
          "execution_count": 74
        }
      ]
    },
    {
      "cell_type": "code",
      "metadata": {
        "id": "hFNCFkTAL4B_",
        "colab": {
          "base_uri": "https://localhost:8080/"
        },
        "outputId": "ddf89963-9aa3-4ac0-84de-51f48d6762bb"
      },
      "source": [
        "#make values title capitalization\n",
        "df.name.str.title()"
      ],
      "execution_count": 75,
      "outputs": [
        {
          "output_type": "execute_result",
          "data": {
            "text/plain": [
              "0                Murray Hill Diner\n",
              "4         Pollos A La Barasa Mario\n",
              "7                Corner Gourmet Ii\n",
              "8               El Pollo Inka Peru\n",
              "16             Jg Melon Restaurant\n",
              "                    ...           \n",
              "394060                  Unks Place\n",
              "394061     Brent'S Comfort Kitchen\n",
              "394084              Wicked Willy'S\n",
              "394112                         NaN\n",
              "394120                         NaN\n",
              "Name: name, Length: 29601, dtype: object"
            ]
          },
          "metadata": {
            "tags": []
          },
          "execution_count": 75
        }
      ]
    },
    {
      "cell_type": "code",
      "metadata": {
        "id": "OQi_Rnv5MRdP",
        "colab": {
          "base_uri": "https://localhost:8080/"
        },
        "outputId": "59dd1755-7e2c-41dd-fb7a-4977605638fb"
      },
      "source": [
        "df.name.isna().sum() "
      ],
      "execution_count": 76,
      "outputs": [
        {
          "output_type": "execute_result",
          "data": {
            "text/plain": [
              "903"
            ]
          },
          "metadata": {
            "tags": []
          },
          "execution_count": 76
        }
      ]
    },
    {
      "cell_type": "markdown",
      "metadata": {
        "id": "lIdPdO3DNiUG"
      },
      "source": [
        "Let's drop restaurants with no name.\n"
      ]
    },
    {
      "cell_type": "code",
      "metadata": {
        "id": "o1WWH2OeoGNM"
      },
      "source": [
        "df.dropna(subset=['name'], inplace=True)"
      ],
      "execution_count": 77,
      "outputs": []
    },
    {
      "cell_type": "markdown",
      "metadata": {
        "id": "78BBcho7NDsn"
      },
      "source": [
        "#### <font color= pink> Column: BORO\n"
      ]
    },
    {
      "cell_type": "code",
      "metadata": {
        "id": "kfZ01R60NOrb"
      },
      "source": [
        "#rename DBA to be more easily readable\n",
        "df.rename(columns={'BORO': 'borough'}, inplace=True)"
      ],
      "execution_count": 78,
      "outputs": []
    },
    {
      "cell_type": "code",
      "metadata": {
        "id": "2qLASu2rNDF9",
        "colab": {
          "base_uri": "https://localhost:8080/"
        },
        "outputId": "96adb6ce-935c-4d02-e496-76bd95526b6a"
      },
      "source": [
        "df.borough.isna().sum() "
      ],
      "execution_count": 79,
      "outputs": [
        {
          "output_type": "execute_result",
          "data": {
            "text/plain": [
              "0"
            ]
          },
          "metadata": {
            "tags": []
          },
          "execution_count": 79
        }
      ]
    },
    {
      "cell_type": "markdown",
      "metadata": {
        "id": "HWjUUZlKObnX"
      },
      "source": [
        "#### <font color= pink> Column: CUISINE DESCRIPTION"
      ]
    },
    {
      "cell_type": "code",
      "metadata": {
        "id": "qmwDwfWPOga5"
      },
      "source": [
        "#rename DBA to be more easily readable\n",
        "df.rename(columns={'CUISINE DESCRIPTION': 'description'}, inplace=True)"
      ],
      "execution_count": 80,
      "outputs": []
    },
    {
      "cell_type": "code",
      "metadata": {
        "id": "pL92tpPOOs9i",
        "colab": {
          "base_uri": "https://localhost:8080/"
        },
        "outputId": "e7cea230-e297-4178-80ea-73edad897e9b"
      },
      "source": [
        "df.description.isna().sum() "
      ],
      "execution_count": 81,
      "outputs": [
        {
          "output_type": "execute_result",
          "data": {
            "text/plain": [
              "28698"
            ]
          },
          "metadata": {
            "tags": []
          },
          "execution_count": 81
        }
      ]
    },
    {
      "cell_type": "markdown",
      "metadata": {
        "id": "1n2gJueIOlMe"
      },
      "source": [
        "Right now all of these values are null, so we need to figure out a way to somehow link restaurant descriptions in here.\n",
        "\n",
        "After going back and forth about this, we decided that given the time constraints, we would be unable to scrape cuisine descriptions or restaurant types off of Yelp reviews. If we were to continue with this project, we would do this. For now, we will just drop this column."
      ]
    },
    {
      "cell_type": "code",
      "metadata": {
        "colab": {
          "base_uri": "https://localhost:8080/",
          "height": 406
        },
        "id": "zQjIpu8vmoSd",
        "outputId": "3fcbc9f6-e9ac-4f2c-c663-73cd91405727"
      },
      "source": [
        "df.drop(['description'], axis=1)"
      ],
      "execution_count": 82,
      "outputs": [
        {
          "output_type": "execute_result",
          "data": {
            "text/html": [
              "<div>\n",
              "<style scoped>\n",
              "    .dataframe tbody tr th:only-of-type {\n",
              "        vertical-align: middle;\n",
              "    }\n",
              "\n",
              "    .dataframe tbody tr th {\n",
              "        vertical-align: top;\n",
              "    }\n",
              "\n",
              "    .dataframe thead th {\n",
              "        text-align: right;\n",
              "    }\n",
              "</style>\n",
              "<table border=\"1\" class=\"dataframe\">\n",
              "  <thead>\n",
              "    <tr style=\"text-align: right;\">\n",
              "      <th></th>\n",
              "      <th>id</th>\n",
              "      <th>name</th>\n",
              "      <th>borough</th>\n",
              "      <th>PHONE</th>\n",
              "      <th>Latitude</th>\n",
              "      <th>Longitude</th>\n",
              "    </tr>\n",
              "  </thead>\n",
              "  <tbody>\n",
              "    <tr>\n",
              "      <th>0</th>\n",
              "      <td>41089834</td>\n",
              "      <td>MURRAY HILL DINER</td>\n",
              "      <td>Manhattan</td>\n",
              "      <td>2126866667</td>\n",
              "      <td>40.745891</td>\n",
              "      <td>-73.980104</td>\n",
              "    </tr>\n",
              "    <tr>\n",
              "      <th>4</th>\n",
              "      <td>40596549</td>\n",
              "      <td>POLLOS A LA BARASA MARIO</td>\n",
              "      <td>Queens</td>\n",
              "      <td>7189322424</td>\n",
              "      <td>40.758872</td>\n",
              "      <td>-73.918772</td>\n",
              "    </tr>\n",
              "    <tr>\n",
              "      <th>7</th>\n",
              "      <td>40530583</td>\n",
              "      <td>CORNER GOURMET II</td>\n",
              "      <td>Manhattan</td>\n",
              "      <td>2124062200</td>\n",
              "      <td>40.714643</td>\n",
              "      <td>-74.009934</td>\n",
              "    </tr>\n",
              "    <tr>\n",
              "      <th>8</th>\n",
              "      <td>50074520</td>\n",
              "      <td>EL POLLO INKA PERU</td>\n",
              "      <td>Queens</td>\n",
              "      <td>6466512258</td>\n",
              "      <td>40.682864</td>\n",
              "      <td>-73.850875</td>\n",
              "    </tr>\n",
              "    <tr>\n",
              "      <th>16</th>\n",
              "      <td>40367241</td>\n",
              "      <td>JG MELON RESTAURANT</td>\n",
              "      <td>Manhattan</td>\n",
              "      <td>2127440585</td>\n",
              "      <td>40.771193</td>\n",
              "      <td>-73.959532</td>\n",
              "    </tr>\n",
              "    <tr>\n",
              "      <th>...</th>\n",
              "      <td>...</td>\n",
              "      <td>...</td>\n",
              "      <td>...</td>\n",
              "      <td>...</td>\n",
              "      <td>...</td>\n",
              "      <td>...</td>\n",
              "    </tr>\n",
              "    <tr>\n",
              "      <th>394033</th>\n",
              "      <td>50033725</td>\n",
              "      <td>SOUTH SLOPE EATERY &amp; JUICEBAR</td>\n",
              "      <td>Brooklyn</td>\n",
              "      <td>7184990005</td>\n",
              "      <td>40.667743</td>\n",
              "      <td>-73.987502</td>\n",
              "    </tr>\n",
              "    <tr>\n",
              "      <th>394058</th>\n",
              "      <td>50109437</td>\n",
              "      <td>MADURA</td>\n",
              "      <td>Brooklyn</td>\n",
              "      <td>9176607710</td>\n",
              "      <td>40.585662</td>\n",
              "      <td>-73.951731</td>\n",
              "    </tr>\n",
              "    <tr>\n",
              "      <th>394060</th>\n",
              "      <td>50110046</td>\n",
              "      <td>UNKS PLACE</td>\n",
              "      <td>Manhattan</td>\n",
              "      <td>6469428650</td>\n",
              "      <td>40.806171</td>\n",
              "      <td>-73.940337</td>\n",
              "    </tr>\n",
              "    <tr>\n",
              "      <th>394061</th>\n",
              "      <td>50110085</td>\n",
              "      <td>BRENT'S COMFORT KITCHEN</td>\n",
              "      <td>Manhattan</td>\n",
              "      <td>9176132167</td>\n",
              "      <td>40.754057</td>\n",
              "      <td>-73.968562</td>\n",
              "    </tr>\n",
              "    <tr>\n",
              "      <th>394084</th>\n",
              "      <td>41230004</td>\n",
              "      <td>WICKED WILLY'S</td>\n",
              "      <td>Manhattan</td>\n",
              "      <td>2122548592</td>\n",
              "      <td>40.728269</td>\n",
              "      <td>-73.999358</td>\n",
              "    </tr>\n",
              "  </tbody>\n",
              "</table>\n",
              "<p>28698 rows × 6 columns</p>\n",
              "</div>"
            ],
            "text/plain": [
              "              id                           name  ...   Latitude  Longitude\n",
              "0       41089834              MURRAY HILL DINER  ...  40.745891 -73.980104\n",
              "4       40596549       POLLOS A LA BARASA MARIO  ...  40.758872 -73.918772\n",
              "7       40530583              CORNER GOURMET II  ...  40.714643 -74.009934\n",
              "8       50074520             EL POLLO INKA PERU  ...  40.682864 -73.850875\n",
              "16      40367241            JG MELON RESTAURANT  ...  40.771193 -73.959532\n",
              "...          ...                            ...  ...        ...        ...\n",
              "394033  50033725  SOUTH SLOPE EATERY & JUICEBAR  ...  40.667743 -73.987502\n",
              "394058  50109437                         MADURA  ...  40.585662 -73.951731\n",
              "394060  50110046                     UNKS PLACE  ...  40.806171 -73.940337\n",
              "394061  50110085        BRENT'S COMFORT KITCHEN  ...  40.754057 -73.968562\n",
              "394084  41230004                 WICKED WILLY'S  ...  40.728269 -73.999358\n",
              "\n",
              "[28698 rows x 6 columns]"
            ]
          },
          "metadata": {
            "tags": []
          },
          "execution_count": 82
        }
      ]
    },
    {
      "cell_type": "markdown",
      "metadata": {
        "id": "2jm7PTdMPRV-"
      },
      "source": [
        "#### <font color= pink> Column: Latitude"
      ]
    },
    {
      "cell_type": "code",
      "metadata": {
        "id": "XTWIRMxWPVCf"
      },
      "source": [
        "#rename Latitude to be more easily readable\n",
        "df.rename(columns={'Latitude': 'latitude'}, inplace=True)"
      ],
      "execution_count": 83,
      "outputs": []
    },
    {
      "cell_type": "code",
      "metadata": {
        "id": "y8zMctf0Pbwy",
        "colab": {
          "base_uri": "https://localhost:8080/"
        },
        "outputId": "f01662ee-d015-4813-8c03-5a54f9ea6138"
      },
      "source": [
        "df.latitude.isna().sum() "
      ],
      "execution_count": 84,
      "outputs": [
        {
          "output_type": "execute_result",
          "data": {
            "text/plain": [
              "76"
            ]
          },
          "metadata": {
            "tags": []
          },
          "execution_count": 84
        }
      ]
    },
    {
      "cell_type": "markdown",
      "metadata": {
        "id": "XWyv5iI6P0Ag"
      },
      "source": [
        "Since there are only 83 null latitude values and we need latitude in order to be able to put restaurants on a map, we will just drop instances with null latitudes."
      ]
    },
    {
      "cell_type": "code",
      "metadata": {
        "id": "IFK-FVCePgxj"
      },
      "source": [
        "#drop where latitude is null\n",
        "df.dropna(subset=['latitude'], inplace=True)"
      ],
      "execution_count": 85,
      "outputs": []
    },
    {
      "cell_type": "code",
      "metadata": {
        "id": "oon8DVufSBKQ",
        "colab": {
          "base_uri": "https://localhost:8080/"
        },
        "outputId": "7ee31e75-0622-4829-ceba-0d211ec5204b"
      },
      "source": [
        "df.latitude.isna().sum() "
      ],
      "execution_count": 86,
      "outputs": [
        {
          "output_type": "execute_result",
          "data": {
            "text/plain": [
              "0"
            ]
          },
          "metadata": {
            "tags": []
          },
          "execution_count": 86
        }
      ]
    },
    {
      "cell_type": "markdown",
      "metadata": {
        "id": "bGFLquvRQIQX"
      },
      "source": [
        "#### <font color= pink> Column: Longitude"
      ]
    },
    {
      "cell_type": "code",
      "metadata": {
        "id": "MevG0WHPQMuu"
      },
      "source": [
        "#rename Longitude to be more easily readable\n",
        "df.rename(columns={'Longitude': 'longitude'}, inplace=True)"
      ],
      "execution_count": 87,
      "outputs": []
    },
    {
      "cell_type": "code",
      "metadata": {
        "id": "2Mt5dakbQSBV",
        "colab": {
          "base_uri": "https://localhost:8080/"
        },
        "outputId": "dffd164d-b075-4346-d3b9-85c8febbd0bc"
      },
      "source": [
        "df.longitude.isna().sum() "
      ],
      "execution_count": 88,
      "outputs": [
        {
          "output_type": "execute_result",
          "data": {
            "text/plain": [
              "0"
            ]
          },
          "metadata": {
            "tags": []
          },
          "execution_count": 88
        }
      ]
    },
    {
      "cell_type": "markdown",
      "metadata": {
        "id": "s5DNrvBUnyic"
      },
      "source": [
        "### <font color = blue> Save and export data"
      ]
    },
    {
      "cell_type": "code",
      "metadata": {
        "id": "k4W-NlhHn2N4"
      },
      "source": [
        "save_path = '/content/drive/My Drive/CIS 450/CIS 450 Project/restaurants_cleaned.csv'"
      ],
      "execution_count": 91,
      "outputs": []
    },
    {
      "cell_type": "code",
      "metadata": {
        "id": "RdtDj-lDn_S3"
      },
      "source": [
        "df.to_csv(save_path)"
      ],
      "execution_count": 92,
      "outputs": []
    },
    {
      "cell_type": "markdown",
      "metadata": {
        "id": "CkoWjE5gja5X"
      },
      "source": [
        "### <font color= blue> Summary Statistics"
      ]
    },
    {
      "cell_type": "code",
      "metadata": {
        "colab": {
          "base_uri": "https://localhost:8080/"
        },
        "id": "hINQmfjtjgBQ",
        "outputId": "effcaa9a-46c6-4441-96f5-2ddf40f1d4dc"
      },
      "source": [
        "100 * df.borough.value_counts() / df.shape[0]"
      ],
      "execution_count": 93,
      "outputs": [
        {
          "output_type": "execute_result",
          "data": {
            "text/plain": [
              "Manhattan        39.329886\n",
              "Brooklyn         25.284746\n",
              "Queens           22.860038\n",
              "Bronx             8.842848\n",
              "Staten Island     3.682482\n",
              "Name: borough, dtype: float64"
            ]
          },
          "metadata": {
            "tags": []
          },
          "execution_count": 93
        }
      ]
    }
  ]
}