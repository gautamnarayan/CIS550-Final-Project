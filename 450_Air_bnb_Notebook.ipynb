{
  "nbformat": 4,
  "nbformat_minor": 0,
  "metadata": {
    "colab": {
      "name": "450: Air bnb Notebook",
      "provenance": [],
      "collapsed_sections": []
    },
    "kernelspec": {
      "name": "python3",
      "display_name": "Python 3"
    }
  },
  "cells": [
    {
      "cell_type": "markdown",
      "metadata": {
        "id": "XSiOA8qn_qBs"
      },
      "source": [
        "### Pre-processing: Air BNB data set"
      ]
    },
    {
      "cell_type": "markdown",
      "metadata": {
        "id": "Koof9IYC_1lM"
      },
      "source": [
        "### <font color= '#eb3483'> Imports and mounting to drive"
      ]
    },
    {
      "cell_type": "code",
      "metadata": {
        "id": "ELmaig8QHJai"
      },
      "source": [
        "#imports \n",
        "import pandas as pd\n",
        "import numpy as np\n",
        "import seaborn as sns\n",
        "from google.colab import drive"
      ],
      "execution_count": null,
      "outputs": []
    },
    {
      "cell_type": "code",
      "metadata": {
        "colab": {
          "base_uri": "https://localhost:8080/"
        },
        "id": "hfKpBNkG-2YB",
        "outputId": "c5c18285-ea26-4cea-ac6b-ab1494802991"
      },
      "source": [
        "#Mount google drive\n",
        "prefix = '/content/drive'\n",
        "from google.colab import drive\n",
        "drive.mount(prefix, force_remount=True)"
      ],
      "execution_count": null,
      "outputs": [
        {
          "output_type": "stream",
          "text": [
            "Mounted at /content/drive\n"
          ],
          "name": "stdout"
        }
      ]
    },
    {
      "cell_type": "code",
      "metadata": {
        "id": "gCzJzDig_Qpv"
      },
      "source": [
        "path = '/content/drive/My Drive/CIS 450/CIS 450 Project/listings.csv.gz'"
      ],
      "execution_count": null,
      "outputs": []
    },
    {
      "cell_type": "code",
      "metadata": {
        "id": "xljNnCrbBoZL",
        "colab": {
          "base_uri": "https://localhost:8080/",
          "height": 581
        },
        "outputId": "e9d7bf8d-4005-475e-e39d-df12cd94d7c3"
      },
      "source": [
        "#load data into a dataframe\n",
        "df = pd.read_csv(path, header=[0])\n",
        "df.head(5)"
      ],
      "execution_count": null,
      "outputs": [
        {
          "output_type": "execute_result",
          "data": {
            "text/html": [
              "<div>\n",
              "<style scoped>\n",
              "    .dataframe tbody tr th:only-of-type {\n",
              "        vertical-align: middle;\n",
              "    }\n",
              "\n",
              "    .dataframe tbody tr th {\n",
              "        vertical-align: top;\n",
              "    }\n",
              "\n",
              "    .dataframe thead th {\n",
              "        text-align: right;\n",
              "    }\n",
              "</style>\n",
              "<table border=\"1\" class=\"dataframe\">\n",
              "  <thead>\n",
              "    <tr style=\"text-align: right;\">\n",
              "      <th></th>\n",
              "      <th>id</th>\n",
              "      <th>listing_url</th>\n",
              "      <th>scrape_id</th>\n",
              "      <th>last_scraped</th>\n",
              "      <th>name</th>\n",
              "      <th>description</th>\n",
              "      <th>neighborhood_overview</th>\n",
              "      <th>picture_url</th>\n",
              "      <th>host_id</th>\n",
              "      <th>host_url</th>\n",
              "      <th>host_name</th>\n",
              "      <th>host_since</th>\n",
              "      <th>host_location</th>\n",
              "      <th>host_about</th>\n",
              "      <th>host_response_time</th>\n",
              "      <th>host_response_rate</th>\n",
              "      <th>host_acceptance_rate</th>\n",
              "      <th>host_is_superhost</th>\n",
              "      <th>host_thumbnail_url</th>\n",
              "      <th>host_picture_url</th>\n",
              "      <th>host_neighbourhood</th>\n",
              "      <th>host_listings_count</th>\n",
              "      <th>host_total_listings_count</th>\n",
              "      <th>host_verifications</th>\n",
              "      <th>host_has_profile_pic</th>\n",
              "      <th>host_identity_verified</th>\n",
              "      <th>neighbourhood</th>\n",
              "      <th>neighbourhood_cleansed</th>\n",
              "      <th>neighbourhood_group_cleansed</th>\n",
              "      <th>latitude</th>\n",
              "      <th>longitude</th>\n",
              "      <th>property_type</th>\n",
              "      <th>room_type</th>\n",
              "      <th>accommodates</th>\n",
              "      <th>bathrooms</th>\n",
              "      <th>bathrooms_text</th>\n",
              "      <th>bedrooms</th>\n",
              "      <th>beds</th>\n",
              "      <th>amenities</th>\n",
              "      <th>price</th>\n",
              "      <th>minimum_nights</th>\n",
              "      <th>maximum_nights</th>\n",
              "      <th>minimum_minimum_nights</th>\n",
              "      <th>maximum_minimum_nights</th>\n",
              "      <th>minimum_maximum_nights</th>\n",
              "      <th>maximum_maximum_nights</th>\n",
              "      <th>minimum_nights_avg_ntm</th>\n",
              "      <th>maximum_nights_avg_ntm</th>\n",
              "      <th>calendar_updated</th>\n",
              "      <th>has_availability</th>\n",
              "      <th>availability_30</th>\n",
              "      <th>availability_60</th>\n",
              "      <th>availability_90</th>\n",
              "      <th>availability_365</th>\n",
              "      <th>calendar_last_scraped</th>\n",
              "      <th>number_of_reviews</th>\n",
              "      <th>number_of_reviews_ltm</th>\n",
              "      <th>number_of_reviews_l30d</th>\n",
              "      <th>first_review</th>\n",
              "      <th>last_review</th>\n",
              "      <th>review_scores_rating</th>\n",
              "      <th>review_scores_accuracy</th>\n",
              "      <th>review_scores_cleanliness</th>\n",
              "      <th>review_scores_checkin</th>\n",
              "      <th>review_scores_communication</th>\n",
              "      <th>review_scores_location</th>\n",
              "      <th>review_scores_value</th>\n",
              "      <th>license</th>\n",
              "      <th>instant_bookable</th>\n",
              "      <th>calculated_host_listings_count</th>\n",
              "      <th>calculated_host_listings_count_entire_homes</th>\n",
              "      <th>calculated_host_listings_count_private_rooms</th>\n",
              "      <th>calculated_host_listings_count_shared_rooms</th>\n",
              "      <th>reviews_per_month</th>\n",
              "    </tr>\n",
              "  </thead>\n",
              "  <tbody>\n",
              "    <tr>\n",
              "      <th>0</th>\n",
              "      <td>2595</td>\n",
              "      <td>https://www.airbnb.com/rooms/2595</td>\n",
              "      <td>20210204180331</td>\n",
              "      <td>2021-02-05</td>\n",
              "      <td>Skylit Midtown Castle</td>\n",
              "      <td>Beautiful, spacious skylit studio in the heart...</td>\n",
              "      <td>Centrally located in the heart of Manhattan ju...</td>\n",
              "      <td>https://a0.muscache.com/pictures/f0813a11-40b2...</td>\n",
              "      <td>2845</td>\n",
              "      <td>https://www.airbnb.com/users/show/2845</td>\n",
              "      <td>Jennifer</td>\n",
              "      <td>2008-09-09</td>\n",
              "      <td>New York, New York, United States</td>\n",
              "      <td>A New Yorker since 2000! My passion is creatin...</td>\n",
              "      <td>within a few hours</td>\n",
              "      <td>93%</td>\n",
              "      <td>26%</td>\n",
              "      <td>f</td>\n",
              "      <td>https://a0.muscache.com/im/pictures/user/50fc5...</td>\n",
              "      <td>https://a0.muscache.com/im/pictures/user/50fc5...</td>\n",
              "      <td>Midtown</td>\n",
              "      <td>6.0</td>\n",
              "      <td>6.0</td>\n",
              "      <td>['email', 'phone', 'reviews', 'offline_governm...</td>\n",
              "      <td>t</td>\n",
              "      <td>t</td>\n",
              "      <td>New York, United States</td>\n",
              "      <td>Midtown</td>\n",
              "      <td>Manhattan</td>\n",
              "      <td>40.75362</td>\n",
              "      <td>-73.98377</td>\n",
              "      <td>Entire apartment</td>\n",
              "      <td>Entire home/apt</td>\n",
              "      <td>2</td>\n",
              "      <td>NaN</td>\n",
              "      <td>1 bath</td>\n",
              "      <td>NaN</td>\n",
              "      <td>1.0</td>\n",
              "      <td>[\"Refrigerator\", \"Air conditioning\", \"Baking s...</td>\n",
              "      <td>$100.00</td>\n",
              "      <td>30</td>\n",
              "      <td>1125</td>\n",
              "      <td>30.0</td>\n",
              "      <td>30.0</td>\n",
              "      <td>1125.0</td>\n",
              "      <td>1125.0</td>\n",
              "      <td>30.0</td>\n",
              "      <td>1125.0</td>\n",
              "      <td>NaN</td>\n",
              "      <td>t</td>\n",
              "      <td>30</td>\n",
              "      <td>60</td>\n",
              "      <td>90</td>\n",
              "      <td>365</td>\n",
              "      <td>2021-02-05</td>\n",
              "      <td>48</td>\n",
              "      <td>0</td>\n",
              "      <td>0</td>\n",
              "      <td>2009-11-21</td>\n",
              "      <td>2019-11-04</td>\n",
              "      <td>94.0</td>\n",
              "      <td>9.0</td>\n",
              "      <td>9.0</td>\n",
              "      <td>10.0</td>\n",
              "      <td>10.0</td>\n",
              "      <td>10.0</td>\n",
              "      <td>9.0</td>\n",
              "      <td>NaN</td>\n",
              "      <td>f</td>\n",
              "      <td>2</td>\n",
              "      <td>2</td>\n",
              "      <td>0</td>\n",
              "      <td>0</td>\n",
              "      <td>0.35</td>\n",
              "    </tr>\n",
              "    <tr>\n",
              "      <th>1</th>\n",
              "      <td>3831</td>\n",
              "      <td>https://www.airbnb.com/rooms/3831</td>\n",
              "      <td>20210204180331</td>\n",
              "      <td>2021-02-05</td>\n",
              "      <td>Whole flr w/private bdrm, bath &amp; kitchen(pls r...</td>\n",
              "      <td>Enjoy 500 s.f. top floor in 1899 brownstone, w...</td>\n",
              "      <td>Just the right mix of urban center and local n...</td>\n",
              "      <td>https://a0.muscache.com/pictures/e49999c2-9fd5...</td>\n",
              "      <td>4869</td>\n",
              "      <td>https://www.airbnb.com/users/show/4869</td>\n",
              "      <td>LisaRoxanne</td>\n",
              "      <td>2008-12-07</td>\n",
              "      <td>New York, New York, United States</td>\n",
              "      <td>Laid-back Native New Yorker (formerly bi-coast...</td>\n",
              "      <td>within a few hours</td>\n",
              "      <td>98%</td>\n",
              "      <td>93%</td>\n",
              "      <td>f</td>\n",
              "      <td>https://a0.muscache.com/im/users/4869/profile_...</td>\n",
              "      <td>https://a0.muscache.com/im/users/4869/profile_...</td>\n",
              "      <td>Clinton Hill</td>\n",
              "      <td>1.0</td>\n",
              "      <td>1.0</td>\n",
              "      <td>['email', 'phone', 'reviews', 'offline_governm...</td>\n",
              "      <td>t</td>\n",
              "      <td>t</td>\n",
              "      <td>Brooklyn, New York, United States</td>\n",
              "      <td>Clinton Hill</td>\n",
              "      <td>Brooklyn</td>\n",
              "      <td>40.68514</td>\n",
              "      <td>-73.95976</td>\n",
              "      <td>Entire guest suite</td>\n",
              "      <td>Entire home/apt</td>\n",
              "      <td>3</td>\n",
              "      <td>NaN</td>\n",
              "      <td>1 bath</td>\n",
              "      <td>1.0</td>\n",
              "      <td>3.0</td>\n",
              "      <td>[\"Refrigerator\", \"Microwave\", \"Shampoo\", \"High...</td>\n",
              "      <td>$73.00</td>\n",
              "      <td>1</td>\n",
              "      <td>730</td>\n",
              "      <td>1.0</td>\n",
              "      <td>1.0</td>\n",
              "      <td>1125.0</td>\n",
              "      <td>1125.0</td>\n",
              "      <td>1.0</td>\n",
              "      <td>1125.0</td>\n",
              "      <td>NaN</td>\n",
              "      <td>t</td>\n",
              "      <td>6</td>\n",
              "      <td>27</td>\n",
              "      <td>55</td>\n",
              "      <td>249</td>\n",
              "      <td>2021-02-05</td>\n",
              "      <td>386</td>\n",
              "      <td>80</td>\n",
              "      <td>3</td>\n",
              "      <td>2014-09-30</td>\n",
              "      <td>2021-01-27</td>\n",
              "      <td>90.0</td>\n",
              "      <td>10.0</td>\n",
              "      <td>9.0</td>\n",
              "      <td>9.0</td>\n",
              "      <td>10.0</td>\n",
              "      <td>10.0</td>\n",
              "      <td>10.0</td>\n",
              "      <td>NaN</td>\n",
              "      <td>f</td>\n",
              "      <td>1</td>\n",
              "      <td>1</td>\n",
              "      <td>0</td>\n",
              "      <td>0</td>\n",
              "      <td>4.99</td>\n",
              "    </tr>\n",
              "    <tr>\n",
              "      <th>2</th>\n",
              "      <td>5121</td>\n",
              "      <td>https://www.airbnb.com/rooms/5121</td>\n",
              "      <td>20210204180331</td>\n",
              "      <td>2021-02-05</td>\n",
              "      <td>BlissArtsSpace!</td>\n",
              "      <td>&lt;b&gt;The space&lt;/b&gt;&lt;br /&gt;HELLO EVERYONE AND THANK...</td>\n",
              "      <td>NaN</td>\n",
              "      <td>https://a0.muscache.com/pictures/2090980c-b68e...</td>\n",
              "      <td>7356</td>\n",
              "      <td>https://www.airbnb.com/users/show/7356</td>\n",
              "      <td>Garon</td>\n",
              "      <td>2009-02-03</td>\n",
              "      <td>New York, New York, United States</td>\n",
              "      <td>I am an artist(painter, filmmaker) and curato...</td>\n",
              "      <td>NaN</td>\n",
              "      <td>NaN</td>\n",
              "      <td>NaN</td>\n",
              "      <td>f</td>\n",
              "      <td>https://a0.muscache.com/im/pictures/user/72a61...</td>\n",
              "      <td>https://a0.muscache.com/im/pictures/user/72a61...</td>\n",
              "      <td>Bedford-Stuyvesant</td>\n",
              "      <td>1.0</td>\n",
              "      <td>1.0</td>\n",
              "      <td>['email', 'phone', 'facebook', 'reviews', 'off...</td>\n",
              "      <td>t</td>\n",
              "      <td>t</td>\n",
              "      <td>NaN</td>\n",
              "      <td>Bedford-Stuyvesant</td>\n",
              "      <td>Brooklyn</td>\n",
              "      <td>40.68688</td>\n",
              "      <td>-73.95596</td>\n",
              "      <td>Private room in apartment</td>\n",
              "      <td>Private room</td>\n",
              "      <td>2</td>\n",
              "      <td>NaN</td>\n",
              "      <td>NaN</td>\n",
              "      <td>1.0</td>\n",
              "      <td>1.0</td>\n",
              "      <td>[\"Wifi\", \"Heating\", \"Air conditioning\", \"Long ...</td>\n",
              "      <td>$60.00</td>\n",
              "      <td>30</td>\n",
              "      <td>730</td>\n",
              "      <td>30.0</td>\n",
              "      <td>30.0</td>\n",
              "      <td>730.0</td>\n",
              "      <td>730.0</td>\n",
              "      <td>30.0</td>\n",
              "      <td>730.0</td>\n",
              "      <td>NaN</td>\n",
              "      <td>t</td>\n",
              "      <td>30</td>\n",
              "      <td>60</td>\n",
              "      <td>90</td>\n",
              "      <td>365</td>\n",
              "      <td>2021-02-05</td>\n",
              "      <td>50</td>\n",
              "      <td>0</td>\n",
              "      <td>0</td>\n",
              "      <td>2009-05-28</td>\n",
              "      <td>2019-12-02</td>\n",
              "      <td>90.0</td>\n",
              "      <td>8.0</td>\n",
              "      <td>8.0</td>\n",
              "      <td>10.0</td>\n",
              "      <td>10.0</td>\n",
              "      <td>9.0</td>\n",
              "      <td>9.0</td>\n",
              "      <td>NaN</td>\n",
              "      <td>f</td>\n",
              "      <td>1</td>\n",
              "      <td>0</td>\n",
              "      <td>1</td>\n",
              "      <td>0</td>\n",
              "      <td>0.35</td>\n",
              "    </tr>\n",
              "    <tr>\n",
              "      <th>3</th>\n",
              "      <td>5178</td>\n",
              "      <td>https://www.airbnb.com/rooms/5178</td>\n",
              "      <td>20210204180331</td>\n",
              "      <td>2021-02-05</td>\n",
              "      <td>Large Furnished Room Near B'way</td>\n",
              "      <td>Please don’t expect the luxury here just a bas...</td>\n",
              "      <td>Theater district, many restaurants around here.</td>\n",
              "      <td>https://a0.muscache.com/pictures/12065/f070997...</td>\n",
              "      <td>8967</td>\n",
              "      <td>https://www.airbnb.com/users/show/8967</td>\n",
              "      <td>Shunichi</td>\n",
              "      <td>2009-03-03</td>\n",
              "      <td>New York, New York, United States</td>\n",
              "      <td>I used to work for a financial industry but no...</td>\n",
              "      <td>within a day</td>\n",
              "      <td>100%</td>\n",
              "      <td>100%</td>\n",
              "      <td>f</td>\n",
              "      <td>https://a0.muscache.com/im/users/8967/profile_...</td>\n",
              "      <td>https://a0.muscache.com/im/users/8967/profile_...</td>\n",
              "      <td>Hell's Kitchen</td>\n",
              "      <td>1.0</td>\n",
              "      <td>1.0</td>\n",
              "      <td>['email', 'phone', 'facebook', 'reviews']</td>\n",
              "      <td>t</td>\n",
              "      <td>f</td>\n",
              "      <td>New York, United States</td>\n",
              "      <td>Midtown</td>\n",
              "      <td>Manhattan</td>\n",
              "      <td>40.76468</td>\n",
              "      <td>-73.98315</td>\n",
              "      <td>Private room in apartment</td>\n",
              "      <td>Private room</td>\n",
              "      <td>2</td>\n",
              "      <td>NaN</td>\n",
              "      <td>1 bath</td>\n",
              "      <td>1.0</td>\n",
              "      <td>1.0</td>\n",
              "      <td>[\"Extra pillows and blankets\", \"Hair dryer\", \"...</td>\n",
              "      <td>$79.00</td>\n",
              "      <td>2</td>\n",
              "      <td>14</td>\n",
              "      <td>2.0</td>\n",
              "      <td>2.0</td>\n",
              "      <td>14.0</td>\n",
              "      <td>14.0</td>\n",
              "      <td>2.0</td>\n",
              "      <td>14.0</td>\n",
              "      <td>NaN</td>\n",
              "      <td>t</td>\n",
              "      <td>29</td>\n",
              "      <td>59</td>\n",
              "      <td>86</td>\n",
              "      <td>343</td>\n",
              "      <td>2021-02-05</td>\n",
              "      <td>474</td>\n",
              "      <td>10</td>\n",
              "      <td>0</td>\n",
              "      <td>2009-05-06</td>\n",
              "      <td>2020-09-25</td>\n",
              "      <td>84.0</td>\n",
              "      <td>9.0</td>\n",
              "      <td>8.0</td>\n",
              "      <td>9.0</td>\n",
              "      <td>9.0</td>\n",
              "      <td>10.0</td>\n",
              "      <td>9.0</td>\n",
              "      <td>NaN</td>\n",
              "      <td>f</td>\n",
              "      <td>1</td>\n",
              "      <td>0</td>\n",
              "      <td>1</td>\n",
              "      <td>0</td>\n",
              "      <td>3.31</td>\n",
              "    </tr>\n",
              "    <tr>\n",
              "      <th>4</th>\n",
              "      <td>5203</td>\n",
              "      <td>https://www.airbnb.com/rooms/5203</td>\n",
              "      <td>20210204180331</td>\n",
              "      <td>2021-02-06</td>\n",
              "      <td>Cozy Clean Guest Room - Family Apt</td>\n",
              "      <td>Our best guests are seeking a safe, clean, spa...</td>\n",
              "      <td>Our neighborhood is full of restaurants and ca...</td>\n",
              "      <td>https://a0.muscache.com/pictures/103776/b37157...</td>\n",
              "      <td>7490</td>\n",
              "      <td>https://www.airbnb.com/users/show/7490</td>\n",
              "      <td>MaryEllen</td>\n",
              "      <td>2009-02-05</td>\n",
              "      <td>New York, New York, United States</td>\n",
              "      <td>Welcome to family life with my oldest two away...</td>\n",
              "      <td>NaN</td>\n",
              "      <td>NaN</td>\n",
              "      <td>NaN</td>\n",
              "      <td>f</td>\n",
              "      <td>https://a0.muscache.com/im/users/7490/profile_...</td>\n",
              "      <td>https://a0.muscache.com/im/users/7490/profile_...</td>\n",
              "      <td>Upper West Side</td>\n",
              "      <td>1.0</td>\n",
              "      <td>1.0</td>\n",
              "      <td>['email', 'phone', 'facebook', 'google', 'revi...</td>\n",
              "      <td>t</td>\n",
              "      <td>t</td>\n",
              "      <td>New York, United States</td>\n",
              "      <td>Upper West Side</td>\n",
              "      <td>Manhattan</td>\n",
              "      <td>40.80178</td>\n",
              "      <td>-73.96723</td>\n",
              "      <td>Private room in apartment</td>\n",
              "      <td>Private room</td>\n",
              "      <td>1</td>\n",
              "      <td>NaN</td>\n",
              "      <td>1 shared bath</td>\n",
              "      <td>1.0</td>\n",
              "      <td>1.0</td>\n",
              "      <td>[\"Hair dryer\", \"Breakfast\", \"Smoke alarm\", \"Es...</td>\n",
              "      <td>$75.00</td>\n",
              "      <td>2</td>\n",
              "      <td>14</td>\n",
              "      <td>2.0</td>\n",
              "      <td>2.0</td>\n",
              "      <td>14.0</td>\n",
              "      <td>14.0</td>\n",
              "      <td>2.0</td>\n",
              "      <td>14.0</td>\n",
              "      <td>NaN</td>\n",
              "      <td>t</td>\n",
              "      <td>0</td>\n",
              "      <td>0</td>\n",
              "      <td>0</td>\n",
              "      <td>0</td>\n",
              "      <td>2021-02-06</td>\n",
              "      <td>118</td>\n",
              "      <td>0</td>\n",
              "      <td>0</td>\n",
              "      <td>2009-09-07</td>\n",
              "      <td>2017-07-21</td>\n",
              "      <td>98.0</td>\n",
              "      <td>10.0</td>\n",
              "      <td>10.0</td>\n",
              "      <td>10.0</td>\n",
              "      <td>10.0</td>\n",
              "      <td>10.0</td>\n",
              "      <td>10.0</td>\n",
              "      <td>NaN</td>\n",
              "      <td>f</td>\n",
              "      <td>1</td>\n",
              "      <td>0</td>\n",
              "      <td>1</td>\n",
              "      <td>0</td>\n",
              "      <td>0.85</td>\n",
              "    </tr>\n",
              "  </tbody>\n",
              "</table>\n",
              "</div>"
            ],
            "text/plain": [
              "     id  ... reviews_per_month\n",
              "0  2595  ...              0.35\n",
              "1  3831  ...              4.99\n",
              "2  5121  ...              0.35\n",
              "3  5178  ...              3.31\n",
              "4  5203  ...              0.85\n",
              "\n",
              "[5 rows x 74 columns]"
            ]
          },
          "metadata": {
            "tags": []
          },
          "execution_count": 86
        }
      ]
    },
    {
      "cell_type": "markdown",
      "metadata": {
        "id": "lJtSC8DzBIM3"
      },
      "source": [
        "### <font color= '#eb3483'> Explore data types and values"
      ]
    },
    {
      "cell_type": "code",
      "metadata": {
        "colab": {
          "base_uri": "https://localhost:8080/"
        },
        "id": "nUfvDwpI6GmT",
        "outputId": "c50fa04b-5b86-403e-8840-4fa09ccd55d1"
      },
      "source": [
        "#explore typles\n",
        "df.dtypes"
      ],
      "execution_count": null,
      "outputs": [
        {
          "output_type": "execute_result",
          "data": {
            "text/plain": [
              "id                                                int64\n",
              "listing_url                                      object\n",
              "scrape_id                                         int64\n",
              "last_scraped                                     object\n",
              "name                                             object\n",
              "                                                 ...   \n",
              "calculated_host_listings_count                    int64\n",
              "calculated_host_listings_count_entire_homes       int64\n",
              "calculated_host_listings_count_private_rooms      int64\n",
              "calculated_host_listings_count_shared_rooms       int64\n",
              "reviews_per_month                               float64\n",
              "Length: 74, dtype: object"
            ]
          },
          "metadata": {
            "tags": []
          },
          "execution_count": 5
        }
      ]
    },
    {
      "cell_type": "code",
      "metadata": {
        "colab": {
          "base_uri": "https://localhost:8080/"
        },
        "id": "8va56bva6bDK",
        "outputId": "44fbb519-2d19-42cb-9669-54aa9d637553"
      },
      "source": [
        "#look at all columns \n",
        "df.columns"
      ],
      "execution_count": null,
      "outputs": [
        {
          "output_type": "execute_result",
          "data": {
            "text/plain": [
              "Index(['id', 'listing_url', 'scrape_id', 'last_scraped', 'name', 'description',\n",
              "       'neighborhood_overview', 'picture_url', 'host_id', 'host_url',\n",
              "       'host_name', 'host_since', 'host_location', 'host_about',\n",
              "       'host_response_time', 'host_response_rate', 'host_acceptance_rate',\n",
              "       'host_is_superhost', 'host_thumbnail_url', 'host_picture_url',\n",
              "       'host_neighbourhood', 'host_listings_count',\n",
              "       'host_total_listings_count', 'host_verifications',\n",
              "       'host_has_profile_pic', 'host_identity_verified', 'neighbourhood',\n",
              "       'neighbourhood_cleansed', 'neighbourhood_group_cleansed', 'latitude',\n",
              "       'longitude', 'property_type', 'room_type', 'accommodates', 'bathrooms',\n",
              "       'bathrooms_text', 'bedrooms', 'beds', 'amenities', 'price',\n",
              "       'minimum_nights', 'maximum_nights', 'minimum_minimum_nights',\n",
              "       'maximum_minimum_nights', 'minimum_maximum_nights',\n",
              "       'maximum_maximum_nights', 'minimum_nights_avg_ntm',\n",
              "       'maximum_nights_avg_ntm', 'calendar_updated', 'has_availability',\n",
              "       'availability_30', 'availability_60', 'availability_90',\n",
              "       'availability_365', 'calendar_last_scraped', 'number_of_reviews',\n",
              "       'number_of_reviews_ltm', 'number_of_reviews_l30d', 'first_review',\n",
              "       'last_review', 'review_scores_rating', 'review_scores_accuracy',\n",
              "       'review_scores_cleanliness', 'review_scores_checkin',\n",
              "       'review_scores_communication', 'review_scores_location',\n",
              "       'review_scores_value', 'license', 'instant_bookable',\n",
              "       'calculated_host_listings_count',\n",
              "       'calculated_host_listings_count_entire_homes',\n",
              "       'calculated_host_listings_count_private_rooms',\n",
              "       'calculated_host_listings_count_shared_rooms', 'reviews_per_month'],\n",
              "      dtype='object')"
            ]
          },
          "metadata": {
            "tags": []
          },
          "execution_count": 6
        }
      ]
    },
    {
      "cell_type": "code",
      "metadata": {
        "colab": {
          "base_uri": "https://localhost:8080/"
        },
        "id": "W-L10_Am6NNt",
        "outputId": "a52139cd-6a90-4ae9-f248-2136ff5a349d"
      },
      "source": [
        "#look at shape\n",
        "df.shape"
      ],
      "execution_count": null,
      "outputs": [
        {
          "output_type": "execute_result",
          "data": {
            "text/plain": [
              "(37012, 74)"
            ]
          },
          "metadata": {
            "tags": []
          },
          "execution_count": 7
        }
      ]
    },
    {
      "cell_type": "code",
      "metadata": {
        "colab": {
          "base_uri": "https://localhost:8080/"
        },
        "id": "TbbEKOTl6WHk",
        "outputId": "156f9807-1200-4a30-887f-b6f1728dfad7"
      },
      "source": [
        "#how many unique values do we have\n",
        "df.apply('nunique').sort_values(ascending=True)"
      ],
      "execution_count": null,
      "outputs": [
        {
          "output_type": "execute_result",
          "data": {
            "text/plain": [
              "calendar_updated        0\n",
              "bathrooms               0\n",
              "license                 0\n",
              "scrape_id               1\n",
              "has_availability        2\n",
              "                    ...  \n",
              "description         33912\n",
              "name                35912\n",
              "picture_url         36148\n",
              "listing_url         37012\n",
              "id                  37012\n",
              "Length: 74, dtype: int64"
            ]
          },
          "metadata": {
            "tags": []
          },
          "execution_count": 8
        }
      ]
    },
    {
      "cell_type": "code",
      "metadata": {
        "id": "1wx2_rSKBvNP"
      },
      "source": [
        "#only keep certain columns based on what we need\n",
        "keep = [\n",
        "        'id', 'listing_url', 'name', 'neighbourhood', \n",
        "        'neighbourhood_cleansed', 'neighbourhood_group_cleansed', 'latitude',\n",
        "        'longitude', 'property_type', 'room_type', 'accommodates', 'price', \n",
        "        'minimum_nights', 'maximum_nights', 'review_scores_rating', \n",
        "        'review_scores_accuracy', 'review_scores_cleanliness', 'review_scores_checkin', \n",
        "        'review_scores_communication', 'review_scores_location', 'review_scores_value'  \n",
        "]\n",
        "df = df[keep]"
      ],
      "execution_count": null,
      "outputs": []
    },
    {
      "cell_type": "code",
      "metadata": {
        "id": "mSo0nPU7GNRF"
      },
      "source": [
        "#can reset the index to be the id\n",
        "df = df.set_index('id')"
      ],
      "execution_count": null,
      "outputs": []
    },
    {
      "cell_type": "code",
      "metadata": {
        "colab": {
          "base_uri": "https://localhost:8080/"
        },
        "id": "ZskzWE3v6EfS",
        "outputId": "061110ab-f7a1-4203-8251-c13d1cbb16a9"
      },
      "source": [
        "#now look at unique values of what we have\n",
        "df.apply('nunique').sort_values(ascending=False)"
      ],
      "execution_count": null,
      "outputs": [
        {
          "output_type": "execute_result",
          "data": {
            "text/plain": [
              "listing_url                     37012\n",
              "name                            35912\n",
              "latitude                        17044\n",
              "longitude                       13557\n",
              "price                             733\n",
              "maximum_nights                    278\n",
              "neighbourhood                     221\n",
              "neighbourhood_cleansed            220\n",
              "minimum_nights                    125\n",
              "property_type                      75\n",
              "review_scores_rating               53\n",
              "accommodates                       17\n",
              "review_scores_accuracy              9\n",
              "review_scores_cleanliness           9\n",
              "review_scores_checkin               9\n",
              "review_scores_communication         9\n",
              "review_scores_value                 9\n",
              "review_scores_location              8\n",
              "neighbourhood_group_cleansed        5\n",
              "room_type                           4\n",
              "dtype: int64"
            ]
          },
          "metadata": {
            "tags": []
          },
          "execution_count": 11
        }
      ]
    },
    {
      "cell_type": "code",
      "metadata": {
        "colab": {
          "base_uri": "https://localhost:8080/"
        },
        "id": "GGNrpTFKEPqi",
        "outputId": "deb23796-276a-47d1-c975-cb0bd090ea1d"
      },
      "source": [
        "#look at percent null values \n",
        "df.isna().sum() * 100 / df.shape[0]"
      ],
      "execution_count": null,
      "outputs": [
        {
          "output_type": "execute_result",
          "data": {
            "text/plain": [
              "listing_url                      0.000000\n",
              "name                             0.035124\n",
              "neighbourhood                   36.969091\n",
              "neighbourhood_cleansed           0.000000\n",
              "neighbourhood_group_cleansed     0.000000\n",
              "latitude                         0.000000\n",
              "longitude                        0.000000\n",
              "property_type                    0.000000\n",
              "room_type                        0.000000\n",
              "accommodates                     0.000000\n",
              "price                            0.000000\n",
              "minimum_nights                   0.000000\n",
              "maximum_nights                   0.000000\n",
              "review_scores_rating            27.653194\n",
              "review_scores_accuracy          27.718037\n",
              "review_scores_cleanliness       27.688317\n",
              "review_scores_checkin           27.750459\n",
              "review_scores_communication     27.712634\n",
              "review_scores_location          27.753161\n",
              "review_scores_value             27.753161\n",
              "dtype: float64"
            ]
          },
          "metadata": {
            "tags": []
          },
          "execution_count": 12
        }
      ]
    },
    {
      "cell_type": "markdown",
      "metadata": {
        "id": "VAHjpTbEID9Y"
      },
      "source": [
        "#### <font color= pink> Column: Name"
      ]
    },
    {
      "cell_type": "code",
      "metadata": {
        "colab": {
          "base_uri": "https://localhost:8080/"
        },
        "id": "gm5kgDiuIoRE",
        "outputId": "d5fb3b22-0385-4c80-dedd-09363a6558ea"
      },
      "source": [
        "df.name.isna().sum() "
      ],
      "execution_count": null,
      "outputs": [
        {
          "output_type": "execute_result",
          "data": {
            "text/plain": [
              "13"
            ]
          },
          "metadata": {
            "tags": []
          },
          "execution_count": 13
        }
      ]
    },
    {
      "cell_type": "code",
      "metadata": {
        "colab": {
          "base_uri": "https://localhost:8080/",
          "height": 425
        },
        "id": "-CYN25AdIDTz",
        "outputId": "dd0e9b88-1da5-473d-ca6a-476946c6c92d"
      },
      "source": [
        "df[~df.name.isna()].head(5)"
      ],
      "execution_count": null,
      "outputs": [
        {
          "output_type": "execute_result",
          "data": {
            "text/html": [
              "<div>\n",
              "<style scoped>\n",
              "    .dataframe tbody tr th:only-of-type {\n",
              "        vertical-align: middle;\n",
              "    }\n",
              "\n",
              "    .dataframe tbody tr th {\n",
              "        vertical-align: top;\n",
              "    }\n",
              "\n",
              "    .dataframe thead th {\n",
              "        text-align: right;\n",
              "    }\n",
              "</style>\n",
              "<table border=\"1\" class=\"dataframe\">\n",
              "  <thead>\n",
              "    <tr style=\"text-align: right;\">\n",
              "      <th></th>\n",
              "      <th>listing_url</th>\n",
              "      <th>name</th>\n",
              "      <th>neighbourhood</th>\n",
              "      <th>neighbourhood_cleansed</th>\n",
              "      <th>neighbourhood_group_cleansed</th>\n",
              "      <th>latitude</th>\n",
              "      <th>longitude</th>\n",
              "      <th>property_type</th>\n",
              "      <th>room_type</th>\n",
              "      <th>accommodates</th>\n",
              "      <th>price</th>\n",
              "      <th>minimum_nights</th>\n",
              "      <th>maximum_nights</th>\n",
              "      <th>review_scores_rating</th>\n",
              "      <th>review_scores_accuracy</th>\n",
              "      <th>review_scores_cleanliness</th>\n",
              "      <th>review_scores_checkin</th>\n",
              "      <th>review_scores_communication</th>\n",
              "      <th>review_scores_location</th>\n",
              "      <th>review_scores_value</th>\n",
              "    </tr>\n",
              "    <tr>\n",
              "      <th>id</th>\n",
              "      <th></th>\n",
              "      <th></th>\n",
              "      <th></th>\n",
              "      <th></th>\n",
              "      <th></th>\n",
              "      <th></th>\n",
              "      <th></th>\n",
              "      <th></th>\n",
              "      <th></th>\n",
              "      <th></th>\n",
              "      <th></th>\n",
              "      <th></th>\n",
              "      <th></th>\n",
              "      <th></th>\n",
              "      <th></th>\n",
              "      <th></th>\n",
              "      <th></th>\n",
              "      <th></th>\n",
              "      <th></th>\n",
              "      <th></th>\n",
              "    </tr>\n",
              "  </thead>\n",
              "  <tbody>\n",
              "    <tr>\n",
              "      <th>2595</th>\n",
              "      <td>https://www.airbnb.com/rooms/2595</td>\n",
              "      <td>Skylit Midtown Castle</td>\n",
              "      <td>New York, United States</td>\n",
              "      <td>Midtown</td>\n",
              "      <td>Manhattan</td>\n",
              "      <td>40.75362</td>\n",
              "      <td>-73.98377</td>\n",
              "      <td>Entire apartment</td>\n",
              "      <td>Entire home/apt</td>\n",
              "      <td>2</td>\n",
              "      <td>$100.00</td>\n",
              "      <td>30</td>\n",
              "      <td>1125</td>\n",
              "      <td>94.0</td>\n",
              "      <td>9.0</td>\n",
              "      <td>9.0</td>\n",
              "      <td>10.0</td>\n",
              "      <td>10.0</td>\n",
              "      <td>10.0</td>\n",
              "      <td>9.0</td>\n",
              "    </tr>\n",
              "    <tr>\n",
              "      <th>3831</th>\n",
              "      <td>https://www.airbnb.com/rooms/3831</td>\n",
              "      <td>Whole flr w/private bdrm, bath &amp; kitchen(pls r...</td>\n",
              "      <td>Brooklyn, New York, United States</td>\n",
              "      <td>Clinton Hill</td>\n",
              "      <td>Brooklyn</td>\n",
              "      <td>40.68514</td>\n",
              "      <td>-73.95976</td>\n",
              "      <td>Entire guest suite</td>\n",
              "      <td>Entire home/apt</td>\n",
              "      <td>3</td>\n",
              "      <td>$73.00</td>\n",
              "      <td>1</td>\n",
              "      <td>730</td>\n",
              "      <td>90.0</td>\n",
              "      <td>10.0</td>\n",
              "      <td>9.0</td>\n",
              "      <td>9.0</td>\n",
              "      <td>10.0</td>\n",
              "      <td>10.0</td>\n",
              "      <td>10.0</td>\n",
              "    </tr>\n",
              "    <tr>\n",
              "      <th>5121</th>\n",
              "      <td>https://www.airbnb.com/rooms/5121</td>\n",
              "      <td>BlissArtsSpace!</td>\n",
              "      <td>NaN</td>\n",
              "      <td>Bedford-Stuyvesant</td>\n",
              "      <td>Brooklyn</td>\n",
              "      <td>40.68688</td>\n",
              "      <td>-73.95596</td>\n",
              "      <td>Private room in apartment</td>\n",
              "      <td>Private room</td>\n",
              "      <td>2</td>\n",
              "      <td>$60.00</td>\n",
              "      <td>30</td>\n",
              "      <td>730</td>\n",
              "      <td>90.0</td>\n",
              "      <td>8.0</td>\n",
              "      <td>8.0</td>\n",
              "      <td>10.0</td>\n",
              "      <td>10.0</td>\n",
              "      <td>9.0</td>\n",
              "      <td>9.0</td>\n",
              "    </tr>\n",
              "    <tr>\n",
              "      <th>5178</th>\n",
              "      <td>https://www.airbnb.com/rooms/5178</td>\n",
              "      <td>Large Furnished Room Near B'way</td>\n",
              "      <td>New York, United States</td>\n",
              "      <td>Midtown</td>\n",
              "      <td>Manhattan</td>\n",
              "      <td>40.76468</td>\n",
              "      <td>-73.98315</td>\n",
              "      <td>Private room in apartment</td>\n",
              "      <td>Private room</td>\n",
              "      <td>2</td>\n",
              "      <td>$79.00</td>\n",
              "      <td>2</td>\n",
              "      <td>14</td>\n",
              "      <td>84.0</td>\n",
              "      <td>9.0</td>\n",
              "      <td>8.0</td>\n",
              "      <td>9.0</td>\n",
              "      <td>9.0</td>\n",
              "      <td>10.0</td>\n",
              "      <td>9.0</td>\n",
              "    </tr>\n",
              "    <tr>\n",
              "      <th>5203</th>\n",
              "      <td>https://www.airbnb.com/rooms/5203</td>\n",
              "      <td>Cozy Clean Guest Room - Family Apt</td>\n",
              "      <td>New York, United States</td>\n",
              "      <td>Upper West Side</td>\n",
              "      <td>Manhattan</td>\n",
              "      <td>40.80178</td>\n",
              "      <td>-73.96723</td>\n",
              "      <td>Private room in apartment</td>\n",
              "      <td>Private room</td>\n",
              "      <td>1</td>\n",
              "      <td>$75.00</td>\n",
              "      <td>2</td>\n",
              "      <td>14</td>\n",
              "      <td>98.0</td>\n",
              "      <td>10.0</td>\n",
              "      <td>10.0</td>\n",
              "      <td>10.0</td>\n",
              "      <td>10.0</td>\n",
              "      <td>10.0</td>\n",
              "      <td>10.0</td>\n",
              "    </tr>\n",
              "  </tbody>\n",
              "</table>\n",
              "</div>"
            ],
            "text/plain": [
              "                            listing_url  ... review_scores_value\n",
              "id                                       ...                    \n",
              "2595  https://www.airbnb.com/rooms/2595  ...                 9.0\n",
              "3831  https://www.airbnb.com/rooms/3831  ...                10.0\n",
              "5121  https://www.airbnb.com/rooms/5121  ...                 9.0\n",
              "5178  https://www.airbnb.com/rooms/5178  ...                 9.0\n",
              "5203  https://www.airbnb.com/rooms/5203  ...                10.0\n",
              "\n",
              "[5 rows x 20 columns]"
            ]
          },
          "metadata": {
            "tags": []
          },
          "execution_count": 14
        }
      ]
    },
    {
      "cell_type": "code",
      "metadata": {
        "colab": {
          "base_uri": "https://localhost:8080/",
          "height": 757
        },
        "id": "XTT97uAYIax5",
        "outputId": "fa49f498-c0f9-45ae-dc36-bc74f9d7a196"
      },
      "source": [
        "df[df.name.isna()]"
      ],
      "execution_count": null,
      "outputs": [
        {
          "output_type": "execute_result",
          "data": {
            "text/html": [
              "<div>\n",
              "<style scoped>\n",
              "    .dataframe tbody tr th:only-of-type {\n",
              "        vertical-align: middle;\n",
              "    }\n",
              "\n",
              "    .dataframe tbody tr th {\n",
              "        vertical-align: top;\n",
              "    }\n",
              "\n",
              "    .dataframe thead th {\n",
              "        text-align: right;\n",
              "    }\n",
              "</style>\n",
              "<table border=\"1\" class=\"dataframe\">\n",
              "  <thead>\n",
              "    <tr style=\"text-align: right;\">\n",
              "      <th></th>\n",
              "      <th>listing_url</th>\n",
              "      <th>name</th>\n",
              "      <th>neighbourhood</th>\n",
              "      <th>neighbourhood_cleansed</th>\n",
              "      <th>neighbourhood_group_cleansed</th>\n",
              "      <th>latitude</th>\n",
              "      <th>longitude</th>\n",
              "      <th>property_type</th>\n",
              "      <th>room_type</th>\n",
              "      <th>accommodates</th>\n",
              "      <th>price</th>\n",
              "      <th>minimum_nights</th>\n",
              "      <th>maximum_nights</th>\n",
              "      <th>review_scores_rating</th>\n",
              "      <th>review_scores_accuracy</th>\n",
              "      <th>review_scores_cleanliness</th>\n",
              "      <th>review_scores_checkin</th>\n",
              "      <th>review_scores_communication</th>\n",
              "      <th>review_scores_location</th>\n",
              "      <th>review_scores_value</th>\n",
              "    </tr>\n",
              "    <tr>\n",
              "      <th>id</th>\n",
              "      <th></th>\n",
              "      <th></th>\n",
              "      <th></th>\n",
              "      <th></th>\n",
              "      <th></th>\n",
              "      <th></th>\n",
              "      <th></th>\n",
              "      <th></th>\n",
              "      <th></th>\n",
              "      <th></th>\n",
              "      <th></th>\n",
              "      <th></th>\n",
              "      <th></th>\n",
              "      <th></th>\n",
              "      <th></th>\n",
              "      <th></th>\n",
              "      <th></th>\n",
              "      <th></th>\n",
              "      <th></th>\n",
              "      <th></th>\n",
              "    </tr>\n",
              "  </thead>\n",
              "  <tbody>\n",
              "    <tr>\n",
              "      <th>1615764</th>\n",
              "      <td>https://www.airbnb.com/rooms/1615764</td>\n",
              "      <td>NaN</td>\n",
              "      <td>New York, United States</td>\n",
              "      <td>Battery Park City</td>\n",
              "      <td>Manhattan</td>\n",
              "      <td>40.71239</td>\n",
              "      <td>-74.01620</td>\n",
              "      <td>Entire apartment</td>\n",
              "      <td>Entire home/apt</td>\n",
              "      <td>2</td>\n",
              "      <td>$400.00</td>\n",
              "      <td>1000</td>\n",
              "      <td>1125</td>\n",
              "      <td>NaN</td>\n",
              "      <td>NaN</td>\n",
              "      <td>NaN</td>\n",
              "      <td>NaN</td>\n",
              "      <td>NaN</td>\n",
              "      <td>NaN</td>\n",
              "      <td>NaN</td>\n",
              "    </tr>\n",
              "    <tr>\n",
              "      <th>2232600</th>\n",
              "      <td>https://www.airbnb.com/rooms/2232600</td>\n",
              "      <td>NaN</td>\n",
              "      <td>NaN</td>\n",
              "      <td>East Village</td>\n",
              "      <td>Manhattan</td>\n",
              "      <td>40.73215</td>\n",
              "      <td>-73.98821</td>\n",
              "      <td>Entire apartment</td>\n",
              "      <td>Entire home/apt</td>\n",
              "      <td>2</td>\n",
              "      <td>$200.00</td>\n",
              "      <td>30</td>\n",
              "      <td>365</td>\n",
              "      <td>95.0</td>\n",
              "      <td>10.0</td>\n",
              "      <td>9.0</td>\n",
              "      <td>10.0</td>\n",
              "      <td>10.0</td>\n",
              "      <td>10.0</td>\n",
              "      <td>10.0</td>\n",
              "    </tr>\n",
              "    <tr>\n",
              "      <th>4209595</th>\n",
              "      <td>https://www.airbnb.com/rooms/4209595</td>\n",
              "      <td>NaN</td>\n",
              "      <td>NaN</td>\n",
              "      <td>Greenwich Village</td>\n",
              "      <td>Manhattan</td>\n",
              "      <td>40.73473</td>\n",
              "      <td>-73.99244</td>\n",
              "      <td>Entire apartment</td>\n",
              "      <td>Entire home/apt</td>\n",
              "      <td>4</td>\n",
              "      <td>$225.00</td>\n",
              "      <td>30</td>\n",
              "      <td>1125</td>\n",
              "      <td>100.0</td>\n",
              "      <td>10.0</td>\n",
              "      <td>10.0</td>\n",
              "      <td>10.0</td>\n",
              "      <td>10.0</td>\n",
              "      <td>10.0</td>\n",
              "      <td>10.0</td>\n",
              "    </tr>\n",
              "    <tr>\n",
              "      <th>4370230</th>\n",
              "      <td>https://www.airbnb.com/rooms/4370230</td>\n",
              "      <td>NaN</td>\n",
              "      <td>NaN</td>\n",
              "      <td>Nolita</td>\n",
              "      <td>Manhattan</td>\n",
              "      <td>40.72046</td>\n",
              "      <td>-73.99550</td>\n",
              "      <td>Entire apartment</td>\n",
              "      <td>Entire home/apt</td>\n",
              "      <td>2</td>\n",
              "      <td>$215.00</td>\n",
              "      <td>30</td>\n",
              "      <td>1125</td>\n",
              "      <td>100.0</td>\n",
              "      <td>10.0</td>\n",
              "      <td>10.0</td>\n",
              "      <td>10.0</td>\n",
              "      <td>10.0</td>\n",
              "      <td>10.0</td>\n",
              "      <td>10.0</td>\n",
              "    </tr>\n",
              "    <tr>\n",
              "      <th>4581788</th>\n",
              "      <td>https://www.airbnb.com/rooms/4581788</td>\n",
              "      <td>NaN</td>\n",
              "      <td>NaN</td>\n",
              "      <td>Williamsburg</td>\n",
              "      <td>Brooklyn</td>\n",
              "      <td>40.71370</td>\n",
              "      <td>-73.94378</td>\n",
              "      <td>Private room in apartment</td>\n",
              "      <td>Private room</td>\n",
              "      <td>1</td>\n",
              "      <td>$150.00</td>\n",
              "      <td>30</td>\n",
              "      <td>1125</td>\n",
              "      <td>NaN</td>\n",
              "      <td>NaN</td>\n",
              "      <td>NaN</td>\n",
              "      <td>NaN</td>\n",
              "      <td>NaN</td>\n",
              "      <td>NaN</td>\n",
              "      <td>NaN</td>\n",
              "    </tr>\n",
              "    <tr>\n",
              "      <th>4756856</th>\n",
              "      <td>https://www.airbnb.com/rooms/4756856</td>\n",
              "      <td>NaN</td>\n",
              "      <td>NaN</td>\n",
              "      <td>Bushwick</td>\n",
              "      <td>Brooklyn</td>\n",
              "      <td>40.70046</td>\n",
              "      <td>-73.92825</td>\n",
              "      <td>Private room in apartment</td>\n",
              "      <td>Private room</td>\n",
              "      <td>1</td>\n",
              "      <td>$70.00</td>\n",
              "      <td>30</td>\n",
              "      <td>1125</td>\n",
              "      <td>NaN</td>\n",
              "      <td>NaN</td>\n",
              "      <td>NaN</td>\n",
              "      <td>NaN</td>\n",
              "      <td>NaN</td>\n",
              "      <td>NaN</td>\n",
              "      <td>NaN</td>\n",
              "    </tr>\n",
              "    <tr>\n",
              "      <th>4774658</th>\n",
              "      <td>https://www.airbnb.com/rooms/4774658</td>\n",
              "      <td>NaN</td>\n",
              "      <td>NaN</td>\n",
              "      <td>Washington Heights</td>\n",
              "      <td>Manhattan</td>\n",
              "      <td>40.85198</td>\n",
              "      <td>-73.93108</td>\n",
              "      <td>Private room in apartment</td>\n",
              "      <td>Private room</td>\n",
              "      <td>1</td>\n",
              "      <td>$40.00</td>\n",
              "      <td>30</td>\n",
              "      <td>1125</td>\n",
              "      <td>NaN</td>\n",
              "      <td>NaN</td>\n",
              "      <td>NaN</td>\n",
              "      <td>NaN</td>\n",
              "      <td>NaN</td>\n",
              "      <td>NaN</td>\n",
              "      <td>NaN</td>\n",
              "    </tr>\n",
              "    <tr>\n",
              "      <th>6782407</th>\n",
              "      <td>https://www.airbnb.com/rooms/6782407</td>\n",
              "      <td>NaN</td>\n",
              "      <td>Brooklyn, New York, United States</td>\n",
              "      <td>Williamsburg</td>\n",
              "      <td>Brooklyn</td>\n",
              "      <td>40.71354</td>\n",
              "      <td>-73.93882</td>\n",
              "      <td>Private room in apartment</td>\n",
              "      <td>Private room</td>\n",
              "      <td>1</td>\n",
              "      <td>$45.00</td>\n",
              "      <td>30</td>\n",
              "      <td>1125</td>\n",
              "      <td>NaN</td>\n",
              "      <td>NaN</td>\n",
              "      <td>NaN</td>\n",
              "      <td>NaN</td>\n",
              "      <td>NaN</td>\n",
              "      <td>NaN</td>\n",
              "      <td>NaN</td>\n",
              "    </tr>\n",
              "    <tr>\n",
              "      <th>9325951</th>\n",
              "      <td>https://www.airbnb.com/rooms/9325951</td>\n",
              "      <td>NaN</td>\n",
              "      <td>NaN</td>\n",
              "      <td>Hell's Kitchen</td>\n",
              "      <td>Manhattan</td>\n",
              "      <td>40.76436</td>\n",
              "      <td>-73.98573</td>\n",
              "      <td>Entire apartment</td>\n",
              "      <td>Entire home/apt</td>\n",
              "      <td>2</td>\n",
              "      <td>$190.00</td>\n",
              "      <td>30</td>\n",
              "      <td>1125</td>\n",
              "      <td>100.0</td>\n",
              "      <td>8.0</td>\n",
              "      <td>8.0</td>\n",
              "      <td>10.0</td>\n",
              "      <td>10.0</td>\n",
              "      <td>10.0</td>\n",
              "      <td>10.0</td>\n",
              "    </tr>\n",
              "    <tr>\n",
              "      <th>9787590</th>\n",
              "      <td>https://www.airbnb.com/rooms/9787590</td>\n",
              "      <td>NaN</td>\n",
              "      <td>NaN</td>\n",
              "      <td>Harlem</td>\n",
              "      <td>Manhattan</td>\n",
              "      <td>40.80316</td>\n",
              "      <td>-73.95189</td>\n",
              "      <td>Entire apartment</td>\n",
              "      <td>Entire home/apt</td>\n",
              "      <td>8</td>\n",
              "      <td>$300.00</td>\n",
              "      <td>30</td>\n",
              "      <td>1125</td>\n",
              "      <td>NaN</td>\n",
              "      <td>NaN</td>\n",
              "      <td>NaN</td>\n",
              "      <td>NaN</td>\n",
              "      <td>NaN</td>\n",
              "      <td>NaN</td>\n",
              "      <td>NaN</td>\n",
              "    </tr>\n",
              "    <tr>\n",
              "      <th>10052289</th>\n",
              "      <td>https://www.airbnb.com/rooms/10052289</td>\n",
              "      <td>NaN</td>\n",
              "      <td>Brooklyn , New York, United States</td>\n",
              "      <td>Brownsville</td>\n",
              "      <td>Brooklyn</td>\n",
              "      <td>40.66409</td>\n",
              "      <td>-73.92314</td>\n",
              "      <td>Private room in apartment</td>\n",
              "      <td>Private room</td>\n",
              "      <td>2</td>\n",
              "      <td>$80.00</td>\n",
              "      <td>30</td>\n",
              "      <td>1125</td>\n",
              "      <td>93.0</td>\n",
              "      <td>8.0</td>\n",
              "      <td>10.0</td>\n",
              "      <td>10.0</td>\n",
              "      <td>10.0</td>\n",
              "      <td>7.0</td>\n",
              "      <td>9.0</td>\n",
              "    </tr>\n",
              "    <tr>\n",
              "      <th>12797684</th>\n",
              "      <td>https://www.airbnb.com/rooms/12797684</td>\n",
              "      <td>NaN</td>\n",
              "      <td>NaN</td>\n",
              "      <td>Upper West Side</td>\n",
              "      <td>Manhattan</td>\n",
              "      <td>40.79843</td>\n",
              "      <td>-73.96404</td>\n",
              "      <td>Private room in apartment</td>\n",
              "      <td>Private room</td>\n",
              "      <td>1</td>\n",
              "      <td>$100.00</td>\n",
              "      <td>30</td>\n",
              "      <td>1125</td>\n",
              "      <td>NaN</td>\n",
              "      <td>NaN</td>\n",
              "      <td>NaN</td>\n",
              "      <td>NaN</td>\n",
              "      <td>NaN</td>\n",
              "      <td>NaN</td>\n",
              "      <td>NaN</td>\n",
              "    </tr>\n",
              "    <tr>\n",
              "      <th>12988898</th>\n",
              "      <td>https://www.airbnb.com/rooms/12988898</td>\n",
              "      <td>NaN</td>\n",
              "      <td>NaN</td>\n",
              "      <td>Fordham</td>\n",
              "      <td>Bronx</td>\n",
              "      <td>40.85983</td>\n",
              "      <td>-73.88541</td>\n",
              "      <td>Shared room in apartment</td>\n",
              "      <td>Shared room</td>\n",
              "      <td>3</td>\n",
              "      <td>$130.00</td>\n",
              "      <td>30</td>\n",
              "      <td>1125</td>\n",
              "      <td>NaN</td>\n",
              "      <td>NaN</td>\n",
              "      <td>NaN</td>\n",
              "      <td>NaN</td>\n",
              "      <td>NaN</td>\n",
              "      <td>NaN</td>\n",
              "      <td>NaN</td>\n",
              "    </tr>\n",
              "  </tbody>\n",
              "</table>\n",
              "</div>"
            ],
            "text/plain": [
              "                                    listing_url  ... review_scores_value\n",
              "id                                               ...                    \n",
              "1615764    https://www.airbnb.com/rooms/1615764  ...                 NaN\n",
              "2232600    https://www.airbnb.com/rooms/2232600  ...                10.0\n",
              "4209595    https://www.airbnb.com/rooms/4209595  ...                10.0\n",
              "4370230    https://www.airbnb.com/rooms/4370230  ...                10.0\n",
              "4581788    https://www.airbnb.com/rooms/4581788  ...                 NaN\n",
              "4756856    https://www.airbnb.com/rooms/4756856  ...                 NaN\n",
              "4774658    https://www.airbnb.com/rooms/4774658  ...                 NaN\n",
              "6782407    https://www.airbnb.com/rooms/6782407  ...                 NaN\n",
              "9325951    https://www.airbnb.com/rooms/9325951  ...                10.0\n",
              "9787590    https://www.airbnb.com/rooms/9787590  ...                 NaN\n",
              "10052289  https://www.airbnb.com/rooms/10052289  ...                 9.0\n",
              "12797684  https://www.airbnb.com/rooms/12797684  ...                 NaN\n",
              "12988898  https://www.airbnb.com/rooms/12988898  ...                 NaN\n",
              "\n",
              "[13 rows x 20 columns]"
            ]
          },
          "metadata": {
            "tags": []
          },
          "execution_count": 15
        }
      ]
    },
    {
      "cell_type": "markdown",
      "metadata": {
        "id": "b2Wgdjw7I0Mk"
      },
      "source": [
        "Since the data entries with no names have a lot of null values especially in the review section it will probably be beneficial to drop these, it is only 13 entries. will come back to this though after reviews analysis"
      ]
    },
    {
      "cell_type": "markdown",
      "metadata": {
        "id": "vqg11FGdBf0V"
      },
      "source": [
        "#### <font color= pink> Column: Neighbourhood"
      ]
    },
    {
      "cell_type": "markdown",
      "metadata": {
        "id": "x_oAEvB88kLz"
      },
      "source": [
        "Neighbourhood was composed of 37% null values, so lets look more closely at this column and how it compares to the cleansed/ group_cleansed columns which do not have any nulls"
      ]
    },
    {
      "cell_type": "code",
      "metadata": {
        "colab": {
          "base_uri": "https://localhost:8080/",
          "height": 630
        },
        "id": "8e_Cz3r9Eig0",
        "outputId": "f1a401b2-742f-4743-f2ed-2fdbc23989fe"
      },
      "source": [
        "df[df.neighbourhood.isna()].head(10)"
      ],
      "execution_count": null,
      "outputs": [
        {
          "output_type": "execute_result",
          "data": {
            "text/html": [
              "<div>\n",
              "<style scoped>\n",
              "    .dataframe tbody tr th:only-of-type {\n",
              "        vertical-align: middle;\n",
              "    }\n",
              "\n",
              "    .dataframe tbody tr th {\n",
              "        vertical-align: top;\n",
              "    }\n",
              "\n",
              "    .dataframe thead th {\n",
              "        text-align: right;\n",
              "    }\n",
              "</style>\n",
              "<table border=\"1\" class=\"dataframe\">\n",
              "  <thead>\n",
              "    <tr style=\"text-align: right;\">\n",
              "      <th></th>\n",
              "      <th>listing_url</th>\n",
              "      <th>name</th>\n",
              "      <th>neighbourhood</th>\n",
              "      <th>neighbourhood_cleansed</th>\n",
              "      <th>neighbourhood_group_cleansed</th>\n",
              "      <th>latitude</th>\n",
              "      <th>longitude</th>\n",
              "      <th>property_type</th>\n",
              "      <th>room_type</th>\n",
              "      <th>accommodates</th>\n",
              "      <th>price</th>\n",
              "      <th>minimum_nights</th>\n",
              "      <th>maximum_nights</th>\n",
              "      <th>review_scores_rating</th>\n",
              "      <th>review_scores_accuracy</th>\n",
              "      <th>review_scores_cleanliness</th>\n",
              "      <th>review_scores_checkin</th>\n",
              "      <th>review_scores_communication</th>\n",
              "      <th>review_scores_location</th>\n",
              "      <th>review_scores_value</th>\n",
              "    </tr>\n",
              "    <tr>\n",
              "      <th>id</th>\n",
              "      <th></th>\n",
              "      <th></th>\n",
              "      <th></th>\n",
              "      <th></th>\n",
              "      <th></th>\n",
              "      <th></th>\n",
              "      <th></th>\n",
              "      <th></th>\n",
              "      <th></th>\n",
              "      <th></th>\n",
              "      <th></th>\n",
              "      <th></th>\n",
              "      <th></th>\n",
              "      <th></th>\n",
              "      <th></th>\n",
              "      <th></th>\n",
              "      <th></th>\n",
              "      <th></th>\n",
              "      <th></th>\n",
              "      <th></th>\n",
              "    </tr>\n",
              "  </thead>\n",
              "  <tbody>\n",
              "    <tr>\n",
              "      <th>5121</th>\n",
              "      <td>https://www.airbnb.com/rooms/5121</td>\n",
              "      <td>BlissArtsSpace!</td>\n",
              "      <td>NaN</td>\n",
              "      <td>Bedford-Stuyvesant</td>\n",
              "      <td>Brooklyn</td>\n",
              "      <td>40.68688</td>\n",
              "      <td>-73.95596</td>\n",
              "      <td>Private room in apartment</td>\n",
              "      <td>Private room</td>\n",
              "      <td>2</td>\n",
              "      <td>$60.00</td>\n",
              "      <td>30</td>\n",
              "      <td>730</td>\n",
              "      <td>90.0</td>\n",
              "      <td>8.0</td>\n",
              "      <td>8.0</td>\n",
              "      <td>10.0</td>\n",
              "      <td>10.0</td>\n",
              "      <td>9.0</td>\n",
              "      <td>9.0</td>\n",
              "    </tr>\n",
              "    <tr>\n",
              "      <th>6848</th>\n",
              "      <td>https://www.airbnb.com/rooms/6848</td>\n",
              "      <td>Only 2 stops to Manhattan studio</td>\n",
              "      <td>NaN</td>\n",
              "      <td>Williamsburg</td>\n",
              "      <td>Brooklyn</td>\n",
              "      <td>40.70837</td>\n",
              "      <td>-73.95352</td>\n",
              "      <td>Entire apartment</td>\n",
              "      <td>Entire home/apt</td>\n",
              "      <td>3</td>\n",
              "      <td>$109.00</td>\n",
              "      <td>30</td>\n",
              "      <td>730</td>\n",
              "      <td>91.0</td>\n",
              "      <td>9.0</td>\n",
              "      <td>10.0</td>\n",
              "      <td>10.0</td>\n",
              "      <td>10.0</td>\n",
              "      <td>9.0</td>\n",
              "      <td>9.0</td>\n",
              "    </tr>\n",
              "    <tr>\n",
              "      <th>7750</th>\n",
              "      <td>https://www.airbnb.com/rooms/7750</td>\n",
              "      <td>2 Furnished bedrooms next to Central Park</td>\n",
              "      <td>NaN</td>\n",
              "      <td>East Harlem</td>\n",
              "      <td>Manhattan</td>\n",
              "      <td>40.79685</td>\n",
              "      <td>-73.94872</td>\n",
              "      <td>Private room in apartment</td>\n",
              "      <td>Private room</td>\n",
              "      <td>1</td>\n",
              "      <td>$96.00</td>\n",
              "      <td>30</td>\n",
              "      <td>365</td>\n",
              "      <td>NaN</td>\n",
              "      <td>NaN</td>\n",
              "      <td>NaN</td>\n",
              "      <td>NaN</td>\n",
              "      <td>NaN</td>\n",
              "      <td>NaN</td>\n",
              "      <td>NaN</td>\n",
              "    </tr>\n",
              "    <tr>\n",
              "      <th>8490</th>\n",
              "      <td>https://www.airbnb.com/rooms/8490</td>\n",
              "      <td>Maison des Sirenes1,bohemian, luminous apartment</td>\n",
              "      <td>NaN</td>\n",
              "      <td>Bedford-Stuyvesant</td>\n",
              "      <td>Brooklyn</td>\n",
              "      <td>40.68371</td>\n",
              "      <td>-73.94028</td>\n",
              "      <td>Entire loft</td>\n",
              "      <td>Entire home/apt</td>\n",
              "      <td>5</td>\n",
              "      <td>$120.00</td>\n",
              "      <td>2</td>\n",
              "      <td>1125</td>\n",
              "      <td>95.0</td>\n",
              "      <td>10.0</td>\n",
              "      <td>9.0</td>\n",
              "      <td>10.0</td>\n",
              "      <td>10.0</td>\n",
              "      <td>10.0</td>\n",
              "      <td>9.0</td>\n",
              "    </tr>\n",
              "    <tr>\n",
              "      <th>9704</th>\n",
              "      <td>https://www.airbnb.com/rooms/9704</td>\n",
              "      <td>Spacious 1 bedroom in luxe building</td>\n",
              "      <td>NaN</td>\n",
              "      <td>Harlem</td>\n",
              "      <td>Manhattan</td>\n",
              "      <td>40.81305</td>\n",
              "      <td>-73.95466</td>\n",
              "      <td>Private room in apartment</td>\n",
              "      <td>Private room</td>\n",
              "      <td>2</td>\n",
              "      <td>$55.00</td>\n",
              "      <td>30</td>\n",
              "      <td>730</td>\n",
              "      <td>98.0</td>\n",
              "      <td>10.0</td>\n",
              "      <td>9.0</td>\n",
              "      <td>10.0</td>\n",
              "      <td>10.0</td>\n",
              "      <td>10.0</td>\n",
              "      <td>10.0</td>\n",
              "    </tr>\n",
              "    <tr>\n",
              "      <th>10452</th>\n",
              "      <td>https://www.airbnb.com/rooms/10452</td>\n",
              "      <td>Large B&amp;B Style rooms</td>\n",
              "      <td>NaN</td>\n",
              "      <td>Bedford-Stuyvesant</td>\n",
              "      <td>Brooklyn</td>\n",
              "      <td>40.68310</td>\n",
              "      <td>-73.95473</td>\n",
              "      <td>Private room in apartment</td>\n",
              "      <td>Private room</td>\n",
              "      <td>3</td>\n",
              "      <td>$70.00</td>\n",
              "      <td>30</td>\n",
              "      <td>730</td>\n",
              "      <td>93.0</td>\n",
              "      <td>9.0</td>\n",
              "      <td>9.0</td>\n",
              "      <td>10.0</td>\n",
              "      <td>10.0</td>\n",
              "      <td>9.0</td>\n",
              "      <td>9.0</td>\n",
              "    </tr>\n",
              "    <tr>\n",
              "      <th>11943</th>\n",
              "      <td>https://www.airbnb.com/rooms/11943</td>\n",
              "      <td>Country space in the city</td>\n",
              "      <td>NaN</td>\n",
              "      <td>Flatbush</td>\n",
              "      <td>Brooklyn</td>\n",
              "      <td>40.63702</td>\n",
              "      <td>-73.96327</td>\n",
              "      <td>Private room in house</td>\n",
              "      <td>Private room</td>\n",
              "      <td>1</td>\n",
              "      <td>$150.00</td>\n",
              "      <td>30</td>\n",
              "      <td>730</td>\n",
              "      <td>NaN</td>\n",
              "      <td>NaN</td>\n",
              "      <td>NaN</td>\n",
              "      <td>NaN</td>\n",
              "      <td>NaN</td>\n",
              "      <td>NaN</td>\n",
              "      <td>NaN</td>\n",
              "    </tr>\n",
              "    <tr>\n",
              "      <th>12343</th>\n",
              "      <td>https://www.airbnb.com/rooms/12343</td>\n",
              "      <td>BEST BET IN HARLEM</td>\n",
              "      <td>NaN</td>\n",
              "      <td>Harlem</td>\n",
              "      <td>Manhattan</td>\n",
              "      <td>40.81175</td>\n",
              "      <td>-73.94478</td>\n",
              "      <td>Entire apartment</td>\n",
              "      <td>Entire home/apt</td>\n",
              "      <td>3</td>\n",
              "      <td>$150.00</td>\n",
              "      <td>30</td>\n",
              "      <td>730</td>\n",
              "      <td>96.0</td>\n",
              "      <td>10.0</td>\n",
              "      <td>9.0</td>\n",
              "      <td>10.0</td>\n",
              "      <td>10.0</td>\n",
              "      <td>9.0</td>\n",
              "      <td>9.0</td>\n",
              "    </tr>\n",
              "    <tr>\n",
              "      <th>13121</th>\n",
              "      <td>https://www.airbnb.com/rooms/13121</td>\n",
              "      <td>(E) RIGHT ON BUDGET</td>\n",
              "      <td>NaN</td>\n",
              "      <td>Jamaica</td>\n",
              "      <td>Queens</td>\n",
              "      <td>40.67144</td>\n",
              "      <td>-73.76501</td>\n",
              "      <td>Private room in house</td>\n",
              "      <td>Private room</td>\n",
              "      <td>4</td>\n",
              "      <td>$75.00</td>\n",
              "      <td>2</td>\n",
              "      <td>365</td>\n",
              "      <td>83.0</td>\n",
              "      <td>9.0</td>\n",
              "      <td>9.0</td>\n",
              "      <td>9.0</td>\n",
              "      <td>9.0</td>\n",
              "      <td>7.0</td>\n",
              "      <td>8.0</td>\n",
              "    </tr>\n",
              "    <tr>\n",
              "      <th>13394</th>\n",
              "      <td>https://www.airbnb.com/rooms/13394</td>\n",
              "      <td>Fort Greene brownstone</td>\n",
              "      <td>NaN</td>\n",
              "      <td>Fort Greene</td>\n",
              "      <td>Brooklyn</td>\n",
              "      <td>40.69142</td>\n",
              "      <td>-73.97376</td>\n",
              "      <td>Private room in apartment</td>\n",
              "      <td>Private room</td>\n",
              "      <td>2</td>\n",
              "      <td>$80.00</td>\n",
              "      <td>1</td>\n",
              "      <td>1125</td>\n",
              "      <td>94.0</td>\n",
              "      <td>10.0</td>\n",
              "      <td>10.0</td>\n",
              "      <td>10.0</td>\n",
              "      <td>10.0</td>\n",
              "      <td>10.0</td>\n",
              "      <td>9.0</td>\n",
              "    </tr>\n",
              "  </tbody>\n",
              "</table>\n",
              "</div>"
            ],
            "text/plain": [
              "                              listing_url  ... review_scores_value\n",
              "id                                         ...                    \n",
              "5121    https://www.airbnb.com/rooms/5121  ...                 9.0\n",
              "6848    https://www.airbnb.com/rooms/6848  ...                 9.0\n",
              "7750    https://www.airbnb.com/rooms/7750  ...                 NaN\n",
              "8490    https://www.airbnb.com/rooms/8490  ...                 9.0\n",
              "9704    https://www.airbnb.com/rooms/9704  ...                10.0\n",
              "10452  https://www.airbnb.com/rooms/10452  ...                 9.0\n",
              "11943  https://www.airbnb.com/rooms/11943  ...                 NaN\n",
              "12343  https://www.airbnb.com/rooms/12343  ...                 9.0\n",
              "13121  https://www.airbnb.com/rooms/13121  ...                 8.0\n",
              "13394  https://www.airbnb.com/rooms/13394  ...                 9.0\n",
              "\n",
              "[10 rows x 20 columns]"
            ]
          },
          "metadata": {
            "tags": []
          },
          "execution_count": 16
        }
      ]
    },
    {
      "cell_type": "markdown",
      "metadata": {
        "id": "5krj3t489DXV"
      },
      "source": [
        "Can drop the neighbourhood column because it doesn't provide any additional info because the value is stored in neighborhood_cleansed"
      ]
    },
    {
      "cell_type": "code",
      "metadata": {
        "id": "V4hamkzpEp5v"
      },
      "source": [
        "to_drop = ['neighbourhood']\n",
        "df = df.drop(columns=to_drop, axis=1)"
      ],
      "execution_count": null,
      "outputs": []
    },
    {
      "cell_type": "markdown",
      "metadata": {
        "id": "8mdJeO_CCDlh"
      },
      "source": [
        "### <font color= '#eb3483'> Renaming columns"
      ]
    },
    {
      "cell_type": "code",
      "metadata": {
        "colab": {
          "base_uri": "https://localhost:8080/"
        },
        "id": "ytC3gAsGB9r3",
        "outputId": "7875feff-7dde-4319-fad1-f071f6cc5988"
      },
      "source": [
        "mapping = {'neighbourhood_group_cleansed': 'borough', \n",
        "           'neighbourhood_cleansed': 'neighborhood', \n",
        "           'minimum_nights': 'min_nights', \n",
        "           'maximum_nights': 'max_nights'}\n",
        "df = df.rename(mapping, axis=1)\n",
        "df.columns"
      ],
      "execution_count": null,
      "outputs": [
        {
          "output_type": "execute_result",
          "data": {
            "text/plain": [
              "Index(['listing_url', 'name', 'neighborhood', 'borough', 'latitude',\n",
              "       'longitude', 'property_type', 'room_type', 'accommodates', 'price',\n",
              "       'min_nights', 'max_nights', 'review_scores_rating',\n",
              "       'review_scores_accuracy', 'review_scores_cleanliness',\n",
              "       'review_scores_checkin', 'review_scores_communication',\n",
              "       'review_scores_location', 'review_scores_value'],\n",
              "      dtype='object')"
            ]
          },
          "metadata": {
            "tags": []
          },
          "execution_count": 18
        }
      ]
    },
    {
      "cell_type": "markdown",
      "metadata": {
        "id": "MegOcmnbC1-v"
      },
      "source": [
        "#### <font color= pink> Column: Property Type"
      ]
    },
    {
      "cell_type": "code",
      "metadata": {
        "colab": {
          "base_uri": "https://localhost:8080/"
        },
        "id": "H_gF0eEsDBCd",
        "outputId": "cacae4a1-fde4-4ced-bf5e-255e3a5b0bf5"
      },
      "source": [
        "#how many different values are there \n",
        "df.property_type.apply('nunique')"
      ],
      "execution_count": null,
      "outputs": [
        {
          "output_type": "execute_result",
          "data": {
            "text/plain": [
              "75"
            ]
          },
          "metadata": {
            "tags": []
          },
          "execution_count": 19
        }
      ]
    },
    {
      "cell_type": "code",
      "metadata": {
        "colab": {
          "base_uri": "https://localhost:8080/"
        },
        "id": "Rke6oX4EC88I",
        "outputId": "a1704a95-c19f-4c5a-f59f-bf85e9ecd40b"
      },
      "source": [
        "df.property_type.value_counts().sort_values(ascending=True)"
      ],
      "execution_count": null,
      "outputs": [
        {
          "output_type": "execute_result",
          "data": {
            "text/plain": [
              "Room in resort                    1\n",
              "Entire bed and breakfast          1\n",
              "Private room in dome house        1\n",
              "Shared room in earth house        1\n",
              "Shared room in island             1\n",
              "                              ...  \n",
              "Entire condominium              983\n",
              "Private room in townhouse      1044\n",
              "Private room in house          1897\n",
              "Private room in apartment     12037\n",
              "Entire apartment              15506\n",
              "Name: property_type, Length: 75, dtype: int64"
            ]
          },
          "metadata": {
            "tags": []
          },
          "execution_count": 20
        }
      ]
    },
    {
      "cell_type": "code",
      "metadata": {
        "id": "zevyUcSwEpLR"
      },
      "source": [
        "weird_values = df.property_type.value_counts().sort_values(ascending=True)[0:20].reset_index()['index'].to_list()"
      ],
      "execution_count": null,
      "outputs": []
    },
    {
      "cell_type": "code",
      "metadata": {
        "colab": {
          "base_uri": "https://localhost:8080/"
        },
        "id": "QWGuPq0CExsm",
        "outputId": "dbe269a1-fa9d-4c87-cc5e-c47e85102b4a"
      },
      "source": [
        "weird_values"
      ],
      "execution_count": null,
      "outputs": [
        {
          "output_type": "execute_result",
          "data": {
            "text/plain": [
              "['Room in resort',\n",
              " 'Entire bed and breakfast',\n",
              " 'Private room in dome house',\n",
              " 'Shared room in earth house',\n",
              " 'Shared room in island',\n",
              " 'Shared room in floor',\n",
              " 'Room in hostel',\n",
              " 'Private room in lighthouse',\n",
              " 'Private room in in-law',\n",
              " 'Bus',\n",
              " 'Private room in dorm',\n",
              " 'Private room in farm stay',\n",
              " 'Private room in tent',\n",
              " 'Private room in train',\n",
              " 'Shared room in bungalow',\n",
              " 'Shared room in guesthouse',\n",
              " 'Lighthouse',\n",
              " 'Private room in camper/rv',\n",
              " 'Cave',\n",
              " 'Shared room in guest suite']"
            ]
          },
          "metadata": {
            "tags": []
          },
          "execution_count": 22
        }
      ]
    },
    {
      "cell_type": "markdown",
      "metadata": {
        "id": "7kGB87avDmxm"
      },
      "source": [
        "Clearly there are a lot of property types that only have one listing under that category"
      ]
    },
    {
      "cell_type": "markdown",
      "metadata": {
        "id": "-3lZQco4D-gd"
      },
      "source": [
        "#### <font color= pink> Column: Room Type"
      ]
    },
    {
      "cell_type": "code",
      "metadata": {
        "colab": {
          "base_uri": "https://localhost:8080/"
        },
        "id": "nvhs6MukEWqj",
        "outputId": "b3bf9f65-98bf-404b-e698-128413df9a9b"
      },
      "source": [
        "df.room_type.apply('nunique')"
      ],
      "execution_count": null,
      "outputs": [
        {
          "output_type": "execute_result",
          "data": {
            "text/plain": [
              "4"
            ]
          },
          "metadata": {
            "tags": []
          },
          "execution_count": 23
        }
      ]
    },
    {
      "cell_type": "code",
      "metadata": {
        "colab": {
          "base_uri": "https://localhost:8080/"
        },
        "id": "0_jvYnP-ETWO",
        "outputId": "54b2611e-38e2-473a-f59c-2987867052fd"
      },
      "source": [
        "df.room_type.value_counts()"
      ],
      "execution_count": null,
      "outputs": [
        {
          "output_type": "execute_result",
          "data": {
            "text/plain": [
              "Entire home/apt    19397\n",
              "Private room       16630\n",
              "Shared room          686\n",
              "Hotel room           299\n",
              "Name: room_type, dtype: int64"
            ]
          },
          "metadata": {
            "tags": []
          },
          "execution_count": 24
        }
      ]
    },
    {
      "cell_type": "code",
      "metadata": {
        "colab": {
          "base_uri": "https://localhost:8080/",
          "height": 543
        },
        "id": "SZ8GStYJD85X",
        "outputId": "d18df42a-877c-4a38-eb54-fba1237577a0"
      },
      "source": [
        "cols = ['property_type', 'room_type']\n",
        "df[cols].head(15)"
      ],
      "execution_count": null,
      "outputs": [
        {
          "output_type": "execute_result",
          "data": {
            "text/html": [
              "<div>\n",
              "<style scoped>\n",
              "    .dataframe tbody tr th:only-of-type {\n",
              "        vertical-align: middle;\n",
              "    }\n",
              "\n",
              "    .dataframe tbody tr th {\n",
              "        vertical-align: top;\n",
              "    }\n",
              "\n",
              "    .dataframe thead th {\n",
              "        text-align: right;\n",
              "    }\n",
              "</style>\n",
              "<table border=\"1\" class=\"dataframe\">\n",
              "  <thead>\n",
              "    <tr style=\"text-align: right;\">\n",
              "      <th></th>\n",
              "      <th>property_type</th>\n",
              "      <th>room_type</th>\n",
              "    </tr>\n",
              "    <tr>\n",
              "      <th>id</th>\n",
              "      <th></th>\n",
              "      <th></th>\n",
              "    </tr>\n",
              "  </thead>\n",
              "  <tbody>\n",
              "    <tr>\n",
              "      <th>2595</th>\n",
              "      <td>Entire apartment</td>\n",
              "      <td>Entire home/apt</td>\n",
              "    </tr>\n",
              "    <tr>\n",
              "      <th>3831</th>\n",
              "      <td>Entire guest suite</td>\n",
              "      <td>Entire home/apt</td>\n",
              "    </tr>\n",
              "    <tr>\n",
              "      <th>5121</th>\n",
              "      <td>Private room in apartment</td>\n",
              "      <td>Private room</td>\n",
              "    </tr>\n",
              "    <tr>\n",
              "      <th>5178</th>\n",
              "      <td>Private room in apartment</td>\n",
              "      <td>Private room</td>\n",
              "    </tr>\n",
              "    <tr>\n",
              "      <th>5203</th>\n",
              "      <td>Private room in apartment</td>\n",
              "      <td>Private room</td>\n",
              "    </tr>\n",
              "    <tr>\n",
              "      <th>5803</th>\n",
              "      <td>Private room in townhouse</td>\n",
              "      <td>Private room</td>\n",
              "    </tr>\n",
              "    <tr>\n",
              "      <th>6848</th>\n",
              "      <td>Entire apartment</td>\n",
              "      <td>Entire home/apt</td>\n",
              "    </tr>\n",
              "    <tr>\n",
              "      <th>6872</th>\n",
              "      <td>Private room in condominium</td>\n",
              "      <td>Private room</td>\n",
              "    </tr>\n",
              "    <tr>\n",
              "      <th>6990</th>\n",
              "      <td>Private room in apartment</td>\n",
              "      <td>Private room</td>\n",
              "    </tr>\n",
              "    <tr>\n",
              "      <th>7097</th>\n",
              "      <td>Entire apartment</td>\n",
              "      <td>Entire home/apt</td>\n",
              "    </tr>\n",
              "    <tr>\n",
              "      <th>7750</th>\n",
              "      <td>Private room in apartment</td>\n",
              "      <td>Private room</td>\n",
              "    </tr>\n",
              "    <tr>\n",
              "      <th>7801</th>\n",
              "      <td>Entire loft</td>\n",
              "      <td>Entire home/apt</td>\n",
              "    </tr>\n",
              "    <tr>\n",
              "      <th>8490</th>\n",
              "      <td>Entire loft</td>\n",
              "      <td>Entire home/apt</td>\n",
              "    </tr>\n",
              "    <tr>\n",
              "      <th>9357</th>\n",
              "      <td>Entire apartment</td>\n",
              "      <td>Entire home/apt</td>\n",
              "    </tr>\n",
              "    <tr>\n",
              "      <th>9657</th>\n",
              "      <td>Entire apartment</td>\n",
              "      <td>Entire home/apt</td>\n",
              "    </tr>\n",
              "  </tbody>\n",
              "</table>\n",
              "</div>"
            ],
            "text/plain": [
              "                    property_type        room_type\n",
              "id                                                \n",
              "2595             Entire apartment  Entire home/apt\n",
              "3831           Entire guest suite  Entire home/apt\n",
              "5121    Private room in apartment     Private room\n",
              "5178    Private room in apartment     Private room\n",
              "5203    Private room in apartment     Private room\n",
              "5803    Private room in townhouse     Private room\n",
              "6848             Entire apartment  Entire home/apt\n",
              "6872  Private room in condominium     Private room\n",
              "6990    Private room in apartment     Private room\n",
              "7097             Entire apartment  Entire home/apt\n",
              "7750    Private room in apartment     Private room\n",
              "7801                  Entire loft  Entire home/apt\n",
              "8490                  Entire loft  Entire home/apt\n",
              "9357             Entire apartment  Entire home/apt\n",
              "9657             Entire apartment  Entire home/apt"
            ]
          },
          "metadata": {
            "tags": []
          },
          "execution_count": 25
        }
      ]
    },
    {
      "cell_type": "markdown",
      "metadata": {
        "id": "QvxdBDuTENCv"
      },
      "source": [
        "Looks like property_type is a more specific explanation of room type.."
      ]
    },
    {
      "cell_type": "code",
      "metadata": {
        "colab": {
          "base_uri": "https://localhost:8080/",
          "height": 760
        },
        "id": "E4Eb49UkEcqY",
        "outputId": "44b8c9c5-d553-4445-ef5e-ea7b9da41273"
      },
      "source": [
        "df[df.property_type.isin(weird_values)][cols]"
      ],
      "execution_count": null,
      "outputs": [
        {
          "output_type": "execute_result",
          "data": {
            "text/html": [
              "<div>\n",
              "<style scoped>\n",
              "    .dataframe tbody tr th:only-of-type {\n",
              "        vertical-align: middle;\n",
              "    }\n",
              "\n",
              "    .dataframe tbody tr th {\n",
              "        vertical-align: top;\n",
              "    }\n",
              "\n",
              "    .dataframe thead th {\n",
              "        text-align: right;\n",
              "    }\n",
              "</style>\n",
              "<table border=\"1\" class=\"dataframe\">\n",
              "  <thead>\n",
              "    <tr style=\"text-align: right;\">\n",
              "      <th></th>\n",
              "      <th>property_type</th>\n",
              "      <th>room_type</th>\n",
              "    </tr>\n",
              "    <tr>\n",
              "      <th>id</th>\n",
              "      <th></th>\n",
              "      <th></th>\n",
              "    </tr>\n",
              "  </thead>\n",
              "  <tbody>\n",
              "    <tr>\n",
              "      <th>1682963</th>\n",
              "      <td>Shared room in earth house</td>\n",
              "      <td>Shared room</td>\n",
              "    </tr>\n",
              "    <tr>\n",
              "      <th>7302762</th>\n",
              "      <td>Cave</td>\n",
              "      <td>Entire home/apt</td>\n",
              "    </tr>\n",
              "    <tr>\n",
              "      <th>13556033</th>\n",
              "      <td>Shared room in guest suite</td>\n",
              "      <td>Shared room</td>\n",
              "    </tr>\n",
              "    <tr>\n",
              "      <th>14712466</th>\n",
              "      <td>Shared room in floor</td>\n",
              "      <td>Shared room</td>\n",
              "    </tr>\n",
              "    <tr>\n",
              "      <th>16408041</th>\n",
              "      <td>Entire bed and breakfast</td>\n",
              "      <td>Entire home/apt</td>\n",
              "    </tr>\n",
              "    <tr>\n",
              "      <th>21461874</th>\n",
              "      <td>Private room in tent</td>\n",
              "      <td>Private room</td>\n",
              "    </tr>\n",
              "    <tr>\n",
              "      <th>21475999</th>\n",
              "      <td>Room in hostel</td>\n",
              "      <td>Hotel room</td>\n",
              "    </tr>\n",
              "    <tr>\n",
              "      <th>21811459</th>\n",
              "      <td>Private room in in-law</td>\n",
              "      <td>Private room</td>\n",
              "    </tr>\n",
              "    <tr>\n",
              "      <th>25348802</th>\n",
              "      <td>Shared room in guest suite</td>\n",
              "      <td>Shared room</td>\n",
              "    </tr>\n",
              "    <tr>\n",
              "      <th>26594677</th>\n",
              "      <td>Room in resort</td>\n",
              "      <td>Hotel room</td>\n",
              "    </tr>\n",
              "    <tr>\n",
              "      <th>30094688</th>\n",
              "      <td>Bus</td>\n",
              "      <td>Entire home/apt</td>\n",
              "    </tr>\n",
              "    <tr>\n",
              "      <th>30799727</th>\n",
              "      <td>Private room in farm stay</td>\n",
              "      <td>Private room</td>\n",
              "    </tr>\n",
              "    <tr>\n",
              "      <th>33275894</th>\n",
              "      <td>Private room in dorm</td>\n",
              "      <td>Private room</td>\n",
              "    </tr>\n",
              "    <tr>\n",
              "      <th>35715171</th>\n",
              "      <td>Shared room in island</td>\n",
              "      <td>Shared room</td>\n",
              "    </tr>\n",
              "    <tr>\n",
              "      <th>36344450</th>\n",
              "      <td>Shared room in bungalow</td>\n",
              "      <td>Shared room</td>\n",
              "    </tr>\n",
              "    <tr>\n",
              "      <th>38984732</th>\n",
              "      <td>Private room in camper/rv</td>\n",
              "      <td>Private room</td>\n",
              "    </tr>\n",
              "    <tr>\n",
              "      <th>40244371</th>\n",
              "      <td>Lighthouse</td>\n",
              "      <td>Entire home/apt</td>\n",
              "    </tr>\n",
              "    <tr>\n",
              "      <th>40946280</th>\n",
              "      <td>Private room in train</td>\n",
              "      <td>Private room</td>\n",
              "    </tr>\n",
              "    <tr>\n",
              "      <th>41944642</th>\n",
              "      <td>Private room in lighthouse</td>\n",
              "      <td>Private room</td>\n",
              "    </tr>\n",
              "    <tr>\n",
              "      <th>43639993</th>\n",
              "      <td>Private room in dome house</td>\n",
              "      <td>Private room</td>\n",
              "    </tr>\n",
              "    <tr>\n",
              "      <th>45861229</th>\n",
              "      <td>Shared room in guesthouse</td>\n",
              "      <td>Shared room</td>\n",
              "    </tr>\n",
              "    <tr>\n",
              "      <th>47820419</th>\n",
              "      <td>Cave</td>\n",
              "      <td>Entire home/apt</td>\n",
              "    </tr>\n",
              "  </tbody>\n",
              "</table>\n",
              "</div>"
            ],
            "text/plain": [
              "                       property_type        room_type\n",
              "id                                                   \n",
              "1682963   Shared room in earth house      Shared room\n",
              "7302762                         Cave  Entire home/apt\n",
              "13556033  Shared room in guest suite      Shared room\n",
              "14712466        Shared room in floor      Shared room\n",
              "16408041    Entire bed and breakfast  Entire home/apt\n",
              "21461874        Private room in tent     Private room\n",
              "21475999              Room in hostel       Hotel room\n",
              "21811459      Private room in in-law     Private room\n",
              "25348802  Shared room in guest suite      Shared room\n",
              "26594677              Room in resort       Hotel room\n",
              "30094688                         Bus  Entire home/apt\n",
              "30799727   Private room in farm stay     Private room\n",
              "33275894        Private room in dorm     Private room\n",
              "35715171       Shared room in island      Shared room\n",
              "36344450     Shared room in bungalow      Shared room\n",
              "38984732   Private room in camper/rv     Private room\n",
              "40244371                  Lighthouse  Entire home/apt\n",
              "40946280       Private room in train     Private room\n",
              "41944642  Private room in lighthouse     Private room\n",
              "43639993  Private room in dome house     Private room\n",
              "45861229   Shared room in guesthouse      Shared room\n",
              "47820419                        Cave  Entire home/apt"
            ]
          },
          "metadata": {
            "tags": []
          },
          "execution_count": 26
        }
      ]
    },
    {
      "cell_type": "markdown",
      "metadata": {
        "id": "XN45DVWzFpdb"
      },
      "source": [
        "So the property type has some weird values... choosing to leave these airbnbs in the dataset because the room_type at least paints them in a more specific light"
      ]
    },
    {
      "cell_type": "code",
      "metadata": {
        "id": "h2ZmaZAGF1FO"
      },
      "source": [
        "df = df.drop(columns='property_type')"
      ],
      "execution_count": null,
      "outputs": []
    },
    {
      "cell_type": "markdown",
      "metadata": {
        "id": "bBEqLDT4LaBH"
      },
      "source": [
        "### <font color= '#eb3483'> Column: accomodates"
      ]
    },
    {
      "cell_type": "code",
      "metadata": {
        "colab": {
          "base_uri": "https://localhost:8080/"
        },
        "id": "c7OP1j2PLeXm",
        "outputId": "5d68e988-a223-47fe-cd6b-0b85341a1edc"
      },
      "source": [
        "df.accommodates.describe()"
      ],
      "execution_count": null,
      "outputs": [
        {
          "output_type": "execute_result",
          "data": {
            "text/plain": [
              "count    37012.000000\n",
              "mean         2.797633\n",
              "std          1.845570\n",
              "min          0.000000\n",
              "25%          2.000000\n",
              "50%          2.000000\n",
              "75%          4.000000\n",
              "max         16.000000\n",
              "Name: accommodates, dtype: float64"
            ]
          },
          "metadata": {
            "tags": []
          },
          "execution_count": 28
        }
      ]
    },
    {
      "cell_type": "code",
      "metadata": {
        "colab": {
          "base_uri": "https://localhost:8080/",
          "height": 387
        },
        "id": "JLVvXYVvLehW",
        "outputId": "724f05cc-4013-48d5-a484-2131d7498a8c"
      },
      "source": [
        "#histogram for accommodates\n",
        "sns.distplot(df.accommodates, bins=10, kde=False, rug=True)"
      ],
      "execution_count": null,
      "outputs": [
        {
          "output_type": "stream",
          "text": [
            "/usr/local/lib/python3.7/dist-packages/seaborn/distributions.py:2557: FutureWarning: `distplot` is a deprecated function and will be removed in a future version. Please adapt your code to use either `displot` (a figure-level function with similar flexibility) or `histplot` (an axes-level function for histograms).\n",
            "  warnings.warn(msg, FutureWarning)\n",
            "/usr/local/lib/python3.7/dist-packages/seaborn/distributions.py:2056: FutureWarning: The `axis` variable is no longer used and will be removed. Instead, assign variables directly to `x` or `y`.\n",
            "  warnings.warn(msg, FutureWarning)\n"
          ],
          "name": "stderr"
        },
        {
          "output_type": "execute_result",
          "data": {
            "text/plain": [
              "<matplotlib.axes._subplots.AxesSubplot at 0x7fbf46845490>"
            ]
          },
          "metadata": {
            "tags": []
          },
          "execution_count": 29
        },
        {
          "output_type": "display_data",
          "data": {
            "image/png": "[encoded data removed]",
            "text/plain": [
              "<Figure size 432x288 with 1 Axes>"
            ]
          },
          "metadata": {
            "tags": [],
            "needs_background": "light"
          }
        }
      ]
    },
    {
      "cell_type": "code",
      "metadata": {
        "colab": {
          "base_uri": "https://localhost:8080/",
          "height": 296
        },
        "id": "0RWJHyW5LseR",
        "outputId": "f2c42484-919c-45ca-b1e7-fade5c99af21"
      },
      "source": [
        "#boxplot for accommodates\n",
        "sns.boxplot(x=df.accommodates, data=df)"
      ],
      "execution_count": null,
      "outputs": [
        {
          "output_type": "execute_result",
          "data": {
            "text/plain": [
              "<matplotlib.axes._subplots.AxesSubplot at 0x7fbf394baa90>"
            ]
          },
          "metadata": {
            "tags": []
          },
          "execution_count": 30
        },
        {
          "output_type": "display_data",
          "data": {
            "image/png": "[encoded data removed]",
            "text/plain": [
              "<Figure size 432x288 with 1 Axes>"
            ]
          },
          "metadata": {
            "tags": [],
            "needs_background": "light"
          }
        }
      ]
    },
    {
      "cell_type": "code",
      "metadata": {
        "colab": {
          "base_uri": "https://localhost:8080/",
          "height": 835
        },
        "id": "Mm3ZExlhLwy0",
        "outputId": "c0839a54-6638-4e45-dc4e-2b2c2dc1582f"
      },
      "source": [
        "df[df.accommodates > 12].head(10)"
      ],
      "execution_count": null,
      "outputs": [
        {
          "output_type": "execute_result",
          "data": {
            "text/html": [
              "<div>\n",
              "<style scoped>\n",
              "    .dataframe tbody tr th:only-of-type {\n",
              "        vertical-align: middle;\n",
              "    }\n",
              "\n",
              "    .dataframe tbody tr th {\n",
              "        vertical-align: top;\n",
              "    }\n",
              "\n",
              "    .dataframe thead th {\n",
              "        text-align: right;\n",
              "    }\n",
              "</style>\n",
              "<table border=\"1\" class=\"dataframe\">\n",
              "  <thead>\n",
              "    <tr style=\"text-align: right;\">\n",
              "      <th></th>\n",
              "      <th>listing_url</th>\n",
              "      <th>name</th>\n",
              "      <th>neighborhood</th>\n",
              "      <th>borough</th>\n",
              "      <th>latitude</th>\n",
              "      <th>longitude</th>\n",
              "      <th>room_type</th>\n",
              "      <th>accommodates</th>\n",
              "      <th>price</th>\n",
              "      <th>min_nights</th>\n",
              "      <th>max_nights</th>\n",
              "      <th>review_scores_rating</th>\n",
              "      <th>review_scores_accuracy</th>\n",
              "      <th>review_scores_cleanliness</th>\n",
              "      <th>review_scores_checkin</th>\n",
              "      <th>review_scores_communication</th>\n",
              "      <th>review_scores_location</th>\n",
              "      <th>review_scores_value</th>\n",
              "    </tr>\n",
              "    <tr>\n",
              "      <th>id</th>\n",
              "      <th></th>\n",
              "      <th></th>\n",
              "      <th></th>\n",
              "      <th></th>\n",
              "      <th></th>\n",
              "      <th></th>\n",
              "      <th></th>\n",
              "      <th></th>\n",
              "      <th></th>\n",
              "      <th></th>\n",
              "      <th></th>\n",
              "      <th></th>\n",
              "      <th></th>\n",
              "      <th></th>\n",
              "      <th></th>\n",
              "      <th></th>\n",
              "      <th></th>\n",
              "      <th></th>\n",
              "    </tr>\n",
              "  </thead>\n",
              "  <tbody>\n",
              "    <tr>\n",
              "      <th>38663</th>\n",
              "      <td>https://www.airbnb.com/rooms/38663</td>\n",
              "      <td>Luxury Brownstone in Boerum Hill</td>\n",
              "      <td>Boerum Hill</td>\n",
              "      <td>Brooklyn</td>\n",
              "      <td>40.68559</td>\n",
              "      <td>-73.98094</td>\n",
              "      <td>Entire home/apt</td>\n",
              "      <td>13</td>\n",
              "      <td>$650.00</td>\n",
              "      <td>3</td>\n",
              "      <td>60</td>\n",
              "      <td>93.0</td>\n",
              "      <td>10.0</td>\n",
              "      <td>9.0</td>\n",
              "      <td>10.0</td>\n",
              "      <td>10.0</td>\n",
              "      <td>10.0</td>\n",
              "      <td>9.0</td>\n",
              "    </tr>\n",
              "    <tr>\n",
              "      <th>45910</th>\n",
              "      <td>https://www.airbnb.com/rooms/45910</td>\n",
              "      <td>Beautiful Queens Brownstone! - 5BR</td>\n",
              "      <td>Ridgewood</td>\n",
              "      <td>Queens</td>\n",
              "      <td>40.70382</td>\n",
              "      <td>-73.89797</td>\n",
              "      <td>Entire home/apt</td>\n",
              "      <td>16</td>\n",
              "      <td>$395.00</td>\n",
              "      <td>30</td>\n",
              "      <td>730</td>\n",
              "      <td>88.0</td>\n",
              "      <td>9.0</td>\n",
              "      <td>9.0</td>\n",
              "      <td>10.0</td>\n",
              "      <td>10.0</td>\n",
              "      <td>10.0</td>\n",
              "      <td>9.0</td>\n",
              "    </tr>\n",
              "    <tr>\n",
              "      <th>256049</th>\n",
              "      <td>https://www.airbnb.com/rooms/256049</td>\n",
              "      <td>│ ♛ │SOLOWIHE HOUSE | HOUSE RENTAL</td>\n",
              "      <td>Clinton Hill</td>\n",
              "      <td>Brooklyn</td>\n",
              "      <td>40.69064</td>\n",
              "      <td>-73.96757</td>\n",
              "      <td>Entire home/apt</td>\n",
              "      <td>13</td>\n",
              "      <td>$4,500.00</td>\n",
              "      <td>1</td>\n",
              "      <td>1125</td>\n",
              "      <td>91.0</td>\n",
              "      <td>10.0</td>\n",
              "      <td>9.0</td>\n",
              "      <td>10.0</td>\n",
              "      <td>9.0</td>\n",
              "      <td>10.0</td>\n",
              "      <td>9.0</td>\n",
              "    </tr>\n",
              "    <tr>\n",
              "      <th>279857</th>\n",
              "      <td>https://www.airbnb.com/rooms/279857</td>\n",
              "      <td>Netflix Show Stay Here Yellow Block 8 Room 5 Bath</td>\n",
              "      <td>Bedford-Stuyvesant</td>\n",
              "      <td>Brooklyn</td>\n",
              "      <td>40.68492</td>\n",
              "      <td>-73.95489</td>\n",
              "      <td>Private room</td>\n",
              "      <td>16</td>\n",
              "      <td>$650.00</td>\n",
              "      <td>1</td>\n",
              "      <td>29</td>\n",
              "      <td>97.0</td>\n",
              "      <td>10.0</td>\n",
              "      <td>10.0</td>\n",
              "      <td>10.0</td>\n",
              "      <td>10.0</td>\n",
              "      <td>10.0</td>\n",
              "      <td>10.0</td>\n",
              "    </tr>\n",
              "    <tr>\n",
              "      <th>509989</th>\n",
              "      <td>https://www.airbnb.com/rooms/509989</td>\n",
              "      <td>Artist's Ditmas Pk 5 bedroom house</td>\n",
              "      <td>Flatbush</td>\n",
              "      <td>Brooklyn</td>\n",
              "      <td>40.64229</td>\n",
              "      <td>-73.96548</td>\n",
              "      <td>Entire home/apt</td>\n",
              "      <td>16</td>\n",
              "      <td>$371.00</td>\n",
              "      <td>1</td>\n",
              "      <td>29</td>\n",
              "      <td>96.0</td>\n",
              "      <td>10.0</td>\n",
              "      <td>9.0</td>\n",
              "      <td>10.0</td>\n",
              "      <td>10.0</td>\n",
              "      <td>10.0</td>\n",
              "      <td>10.0</td>\n",
              "    </tr>\n",
              "    <tr>\n",
              "      <th>512209</th>\n",
              "      <td>https://www.airbnb.com/rooms/512209</td>\n",
              "      <td>Your own townhouse in Bklyn Heights</td>\n",
              "      <td>Brooklyn Heights</td>\n",
              "      <td>Brooklyn</td>\n",
              "      <td>40.69964</td>\n",
              "      <td>-73.99299</td>\n",
              "      <td>Entire home/apt</td>\n",
              "      <td>16</td>\n",
              "      <td>$800.00</td>\n",
              "      <td>4</td>\n",
              "      <td>99</td>\n",
              "      <td>99.0</td>\n",
              "      <td>10.0</td>\n",
              "      <td>10.0</td>\n",
              "      <td>10.0</td>\n",
              "      <td>10.0</td>\n",
              "      <td>10.0</td>\n",
              "      <td>10.0</td>\n",
              "    </tr>\n",
              "    <tr>\n",
              "      <th>690934</th>\n",
              "      <td>https://www.airbnb.com/rooms/690934</td>\n",
              "      <td>*Discount* Huge, 5BR Multi-Terrace Sunny LEGAL...</td>\n",
              "      <td>Park Slope</td>\n",
              "      <td>Brooklyn</td>\n",
              "      <td>40.68305</td>\n",
              "      <td>-73.97853</td>\n",
              "      <td>Entire home/apt</td>\n",
              "      <td>14</td>\n",
              "      <td>$299.00</td>\n",
              "      <td>4</td>\n",
              "      <td>365</td>\n",
              "      <td>99.0</td>\n",
              "      <td>10.0</td>\n",
              "      <td>10.0</td>\n",
              "      <td>10.0</td>\n",
              "      <td>10.0</td>\n",
              "      <td>10.0</td>\n",
              "      <td>9.0</td>\n",
              "    </tr>\n",
              "    <tr>\n",
              "      <th>2243699</th>\n",
              "      <td>https://www.airbnb.com/rooms/2243699</td>\n",
              "      <td>SuperBowl Penthouse Loft 3,000 sqft</td>\n",
              "      <td>Chinatown</td>\n",
              "      <td>Manhattan</td>\n",
              "      <td>40.71744</td>\n",
              "      <td>-73.99731</td>\n",
              "      <td>Entire home/apt</td>\n",
              "      <td>16</td>\n",
              "      <td>$5,250.00</td>\n",
              "      <td>30</td>\n",
              "      <td>1125</td>\n",
              "      <td>NaN</td>\n",
              "      <td>NaN</td>\n",
              "      <td>NaN</td>\n",
              "      <td>NaN</td>\n",
              "      <td>NaN</td>\n",
              "      <td>NaN</td>\n",
              "      <td>NaN</td>\n",
              "    </tr>\n",
              "    <tr>\n",
              "      <th>2261367</th>\n",
              "      <td>https://www.airbnb.com/rooms/2261367</td>\n",
              "      <td>brooklyn 14 bedroom gated community</td>\n",
              "      <td>Sea Gate</td>\n",
              "      <td>Brooklyn</td>\n",
              "      <td>40.57645</td>\n",
              "      <td>-74.01065</td>\n",
              "      <td>Entire home/apt</td>\n",
              "      <td>16</td>\n",
              "      <td>$1,661.00</td>\n",
              "      <td>2</td>\n",
              "      <td>1125</td>\n",
              "      <td>100.0</td>\n",
              "      <td>10.0</td>\n",
              "      <td>10.0</td>\n",
              "      <td>10.0</td>\n",
              "      <td>10.0</td>\n",
              "      <td>10.0</td>\n",
              "      <td>10.0</td>\n",
              "    </tr>\n",
              "    <tr>\n",
              "      <th>2952861</th>\n",
              "      <td>https://www.airbnb.com/rooms/2952861</td>\n",
              "      <td>│ ♛ │SOLOWIHE HOUSE│PHOTO SHOOT LOCATION</td>\n",
              "      <td>Clinton Hill</td>\n",
              "      <td>Brooklyn</td>\n",
              "      <td>40.69127</td>\n",
              "      <td>-73.96563</td>\n",
              "      <td>Entire home/apt</td>\n",
              "      <td>16</td>\n",
              "      <td>$1,280.00</td>\n",
              "      <td>1</td>\n",
              "      <td>1125</td>\n",
              "      <td>100.0</td>\n",
              "      <td>10.0</td>\n",
              "      <td>9.0</td>\n",
              "      <td>10.0</td>\n",
              "      <td>10.0</td>\n",
              "      <td>10.0</td>\n",
              "      <td>9.0</td>\n",
              "    </tr>\n",
              "  </tbody>\n",
              "</table>\n",
              "</div>"
            ],
            "text/plain": [
              "                                  listing_url  ... review_scores_value\n",
              "id                                             ...                    \n",
              "38663      https://www.airbnb.com/rooms/38663  ...                 9.0\n",
              "45910      https://www.airbnb.com/rooms/45910  ...                 9.0\n",
              "256049    https://www.airbnb.com/rooms/256049  ...                 9.0\n",
              "279857    https://www.airbnb.com/rooms/279857  ...                10.0\n",
              "509989    https://www.airbnb.com/rooms/509989  ...                10.0\n",
              "512209    https://www.airbnb.com/rooms/512209  ...                10.0\n",
              "690934    https://www.airbnb.com/rooms/690934  ...                 9.0\n",
              "2243699  https://www.airbnb.com/rooms/2243699  ...                 NaN\n",
              "2261367  https://www.airbnb.com/rooms/2261367  ...                10.0\n",
              "2952861  https://www.airbnb.com/rooms/2952861  ...                 9.0\n",
              "\n",
              "[10 rows x 18 columns]"
            ]
          },
          "metadata": {
            "tags": []
          },
          "execution_count": 31
        }
      ]
    },
    {
      "cell_type": "markdown",
      "metadata": {
        "id": "__rmJzhiL8xI"
      },
      "source": [
        "The outliers do not look too out of the ordinary so this looks fine "
      ]
    },
    {
      "cell_type": "markdown",
      "metadata": {
        "id": "dJU3WGspGXY1"
      },
      "source": [
        "### <font color= '#eb3483'>Exploring Review Columns"
      ]
    },
    {
      "cell_type": "code",
      "metadata": {
        "colab": {
          "base_uri": "https://localhost:8080/"
        },
        "id": "fTAQhfqwFkl_",
        "outputId": "24ecced8-5cb2-40bf-ab4e-d6aa93603c29"
      },
      "source": [
        "df.isna().sum()\n",
        "#these rows have a lot of nulls"
      ],
      "execution_count": null,
      "outputs": [
        {
          "output_type": "execute_result",
          "data": {
            "text/plain": [
              "listing_url                        0\n",
              "name                              13\n",
              "neighborhood                       0\n",
              "borough                            0\n",
              "latitude                           0\n",
              "longitude                          0\n",
              "room_type                          0\n",
              "accommodates                       0\n",
              "price                              0\n",
              "min_nights                         0\n",
              "max_nights                         0\n",
              "review_scores_rating           10235\n",
              "review_scores_accuracy         10259\n",
              "review_scores_cleanliness      10248\n",
              "review_scores_checkin          10271\n",
              "review_scores_communication    10257\n",
              "review_scores_location         10272\n",
              "review_scores_value            10272\n",
              "dtype: int64"
            ]
          },
          "metadata": {
            "tags": []
          },
          "execution_count": 32
        }
      ]
    },
    {
      "cell_type": "code",
      "metadata": {
        "colab": {
          "base_uri": "https://localhost:8080/",
          "height": 296
        },
        "id": "G4dfUCVPGGDG",
        "outputId": "e87a7d0b-e92a-4e43-aabd-a00e682fe5e9"
      },
      "source": [
        "review_cols = ['review_scores_rating', 'review_scores_accuracy', 'review_scores_cleanliness', 'review_scores_checkin',\n",
        "               'review_scores_communication', 'review_scores_location', 'review_scores_value']\n",
        "df[review_cols].describe()"
      ],
      "execution_count": null,
      "outputs": [
        {
          "output_type": "execute_result",
          "data": {
            "text/html": [
              "<div>\n",
              "<style scoped>\n",
              "    .dataframe tbody tr th:only-of-type {\n",
              "        vertical-align: middle;\n",
              "    }\n",
              "\n",
              "    .dataframe tbody tr th {\n",
              "        vertical-align: top;\n",
              "    }\n",
              "\n",
              "    .dataframe thead th {\n",
              "        text-align: right;\n",
              "    }\n",
              "</style>\n",
              "<table border=\"1\" class=\"dataframe\">\n",
              "  <thead>\n",
              "    <tr style=\"text-align: right;\">\n",
              "      <th></th>\n",
              "      <th>review_scores_rating</th>\n",
              "      <th>review_scores_accuracy</th>\n",
              "      <th>review_scores_cleanliness</th>\n",
              "      <th>review_scores_checkin</th>\n",
              "      <th>review_scores_communication</th>\n",
              "      <th>review_scores_location</th>\n",
              "      <th>review_scores_value</th>\n",
              "    </tr>\n",
              "  </thead>\n",
              "  <tbody>\n",
              "    <tr>\n",
              "      <th>count</th>\n",
              "      <td>26777.000000</td>\n",
              "      <td>26753.000000</td>\n",
              "      <td>26764.000000</td>\n",
              "      <td>26741.000000</td>\n",
              "      <td>26755.000000</td>\n",
              "      <td>26740.000000</td>\n",
              "      <td>26740.000000</td>\n",
              "    </tr>\n",
              "    <tr>\n",
              "      <th>mean</th>\n",
              "      <td>93.767188</td>\n",
              "      <td>9.586551</td>\n",
              "      <td>9.268009</td>\n",
              "      <td>9.721140</td>\n",
              "      <td>9.712801</td>\n",
              "      <td>9.599589</td>\n",
              "      <td>9.367539</td>\n",
              "    </tr>\n",
              "    <tr>\n",
              "      <th>std</th>\n",
              "      <td>9.594491</td>\n",
              "      <td>0.938881</td>\n",
              "      <td>1.146266</td>\n",
              "      <td>0.823948</td>\n",
              "      <td>0.859563</td>\n",
              "      <td>0.794767</td>\n",
              "      <td>1.014201</td>\n",
              "    </tr>\n",
              "    <tr>\n",
              "      <th>min</th>\n",
              "      <td>20.000000</td>\n",
              "      <td>2.000000</td>\n",
              "      <td>2.000000</td>\n",
              "      <td>2.000000</td>\n",
              "      <td>2.000000</td>\n",
              "      <td>2.000000</td>\n",
              "      <td>2.000000</td>\n",
              "    </tr>\n",
              "    <tr>\n",
              "      <th>25%</th>\n",
              "      <td>92.000000</td>\n",
              "      <td>9.000000</td>\n",
              "      <td>9.000000</td>\n",
              "      <td>10.000000</td>\n",
              "      <td>10.000000</td>\n",
              "      <td>9.000000</td>\n",
              "      <td>9.000000</td>\n",
              "    </tr>\n",
              "    <tr>\n",
              "      <th>50%</th>\n",
              "      <td>97.000000</td>\n",
              "      <td>10.000000</td>\n",
              "      <td>10.000000</td>\n",
              "      <td>10.000000</td>\n",
              "      <td>10.000000</td>\n",
              "      <td>10.000000</td>\n",
              "      <td>10.000000</td>\n",
              "    </tr>\n",
              "    <tr>\n",
              "      <th>75%</th>\n",
              "      <td>100.000000</td>\n",
              "      <td>10.000000</td>\n",
              "      <td>10.000000</td>\n",
              "      <td>10.000000</td>\n",
              "      <td>10.000000</td>\n",
              "      <td>10.000000</td>\n",
              "      <td>10.000000</td>\n",
              "    </tr>\n",
              "    <tr>\n",
              "      <th>max</th>\n",
              "      <td>100.000000</td>\n",
              "      <td>10.000000</td>\n",
              "      <td>10.000000</td>\n",
              "      <td>10.000000</td>\n",
              "      <td>10.000000</td>\n",
              "      <td>10.000000</td>\n",
              "      <td>10.000000</td>\n",
              "    </tr>\n",
              "  </tbody>\n",
              "</table>\n",
              "</div>"
            ],
            "text/plain": [
              "       review_scores_rating  ...  review_scores_value\n",
              "count          26777.000000  ...         26740.000000\n",
              "mean              93.767188  ...             9.367539\n",
              "std                9.594491  ...             1.014201\n",
              "min               20.000000  ...             2.000000\n",
              "25%               92.000000  ...             9.000000\n",
              "50%               97.000000  ...            10.000000\n",
              "75%              100.000000  ...            10.000000\n",
              "max              100.000000  ...            10.000000\n",
              "\n",
              "[8 rows x 7 columns]"
            ]
          },
          "metadata": {
            "tags": []
          },
          "execution_count": 33
        }
      ]
    },
    {
      "cell_type": "code",
      "metadata": {
        "id": "MNRAp6ttJC8J"
      },
      "source": [
        "new_names = dict()\n",
        "for s in review_cols:\n",
        "  new_names[s] = s.replace('review_scores', 'rs')\n",
        "df = df.rename(new_names, axis=1)"
      ],
      "execution_count": null,
      "outputs": []
    },
    {
      "cell_type": "code",
      "metadata": {
        "id": "Q_vGgZngLAHX"
      },
      "source": [
        "review_cols = list(new_names.values())"
      ],
      "execution_count": null,
      "outputs": []
    },
    {
      "cell_type": "markdown",
      "metadata": {
        "id": "3rnqv9dgNRpX"
      },
      "source": [
        "Okay so we have different grading scales... "
      ]
    },
    {
      "cell_type": "markdown",
      "metadata": {
        "id": "v4BtW8KKNWPZ"
      },
      "source": [
        "#### <font color=pink> Column: review_scores_rating"
      ]
    },
    {
      "cell_type": "code",
      "metadata": {
        "colab": {
          "base_uri": "https://localhost:8080/",
          "height": 388
        },
        "id": "8r7dSaXoLMIM",
        "outputId": "eeceaf9c-ecba-451a-c2ec-1ec32ab1de0e"
      },
      "source": [
        "sns.distplot(df.rs_rating, bins=10, kde=False, rug=True)"
      ],
      "execution_count": null,
      "outputs": [
        {
          "output_type": "stream",
          "text": [
            "/usr/local/lib/python3.7/dist-packages/seaborn/distributions.py:2557: FutureWarning: `distplot` is a deprecated function and will be removed in a future version. Please adapt your code to use either `displot` (a figure-level function with similar flexibility) or `histplot` (an axes-level function for histograms).\n",
            "  warnings.warn(msg, FutureWarning)\n",
            "/usr/local/lib/python3.7/dist-packages/seaborn/distributions.py:2056: FutureWarning: The `axis` variable is no longer used and will be removed. Instead, assign variables directly to `x` or `y`.\n",
            "  warnings.warn(msg, FutureWarning)\n"
          ],
          "name": "stderr"
        },
        {
          "output_type": "execute_result",
          "data": {
            "text/plain": [
              "<matplotlib.axes._subplots.AxesSubplot at 0x7fbf38fbd350>"
            ]
          },
          "metadata": {
            "tags": []
          },
          "execution_count": 36
        },
        {
          "output_type": "display_data",
          "data": {
            "image/png": "[encoded data removed]",
            "text/plain": [
              "<Figure size 432x288 with 1 Axes>"
            ]
          },
          "metadata": {
            "tags": [],
            "needs_background": "light"
          }
        }
      ]
    },
    {
      "cell_type": "code",
      "metadata": {
        "colab": {
          "base_uri": "https://localhost:8080/",
          "height": 297
        },
        "id": "k5Y4RqaYNeIF",
        "outputId": "c3354996-b305-49e0-f7ba-864417eeef49"
      },
      "source": [
        "sns.boxplot(x=df.rs_rating, data=df)"
      ],
      "execution_count": null,
      "outputs": [
        {
          "output_type": "execute_result",
          "data": {
            "text/plain": [
              "<matplotlib.axes._subplots.AxesSubplot at 0x7fbf3812b950>"
            ]
          },
          "metadata": {
            "tags": []
          },
          "execution_count": 37
        },
        {
          "output_type": "display_data",
          "data": {
            "image/png": "[encoded data removed]",
            "text/plain": [
              "<Figure size 432x288 with 1 Axes>"
            ]
          },
          "metadata": {
            "tags": [],
            "needs_background": "light"
          }
        }
      ]
    },
    {
      "cell_type": "code",
      "metadata": {
        "id": "z1X9tJdHOFHz"
      },
      "source": [
        ""
      ],
      "execution_count": null,
      "outputs": []
    },
    {
      "cell_type": "markdown",
      "metadata": {
        "id": "cViYw9cgOZsV"
      },
      "source": [
        "####<font color=pink> Column: rs_location"
      ]
    },
    {
      "cell_type": "code",
      "metadata": {
        "colab": {
          "base_uri": "https://localhost:8080/",
          "height": 388
        },
        "id": "SfXiAE-rOZsW",
        "outputId": "a24be0ae-103c-4312-c73f-e66f40036435"
      },
      "source": [
        "sns.distplot(df.rs_location, bins=10, kde=False, rug=True)"
      ],
      "execution_count": null,
      "outputs": [
        {
          "output_type": "stream",
          "text": [
            "/usr/local/lib/python3.7/dist-packages/seaborn/distributions.py:2557: FutureWarning: `distplot` is a deprecated function and will be removed in a future version. Please adapt your code to use either `displot` (a figure-level function with similar flexibility) or `histplot` (an axes-level function for histograms).\n",
            "  warnings.warn(msg, FutureWarning)\n",
            "/usr/local/lib/python3.7/dist-packages/seaborn/distributions.py:2056: FutureWarning: The `axis` variable is no longer used and will be removed. Instead, assign variables directly to `x` or `y`.\n",
            "  warnings.warn(msg, FutureWarning)\n"
          ],
          "name": "stderr"
        },
        {
          "output_type": "execute_result",
          "data": {
            "text/plain": [
              "<matplotlib.axes._subplots.AxesSubplot at 0x7fbf3809dfd0>"
            ]
          },
          "metadata": {
            "tags": []
          },
          "execution_count": 38
        },
        {
          "output_type": "display_data",
          "data": {
            "image/png": "[encoded data removed]",
            "text/plain": [
              "<Figure size 432x288 with 1 Axes>"
            ]
          },
          "metadata": {
            "tags": [],
            "needs_background": "light"
          }
        }
      ]
    },
    {
      "cell_type": "code",
      "metadata": {
        "colab": {
          "base_uri": "https://localhost:8080/",
          "height": 297
        },
        "id": "8ERNXPmOOZsY",
        "outputId": "e9e599f7-d53e-4170-939c-855f64178849"
      },
      "source": [
        "sns.boxplot(x=df.rs_location, data=df)"
      ],
      "execution_count": null,
      "outputs": [
        {
          "output_type": "execute_result",
          "data": {
            "text/plain": [
              "<matplotlib.axes._subplots.AxesSubplot at 0x7fbf37295f90>"
            ]
          },
          "metadata": {
            "tags": []
          },
          "execution_count": 39
        },
        {
          "output_type": "display_data",
          "data": {
            "image/png": "[encoded data removed]",
            "text/plain": [
              "<Figure size 432x288 with 1 Axes>"
            ]
          },
          "metadata": {
            "tags": [],
            "needs_background": "light"
          }
        }
      ]
    },
    {
      "cell_type": "code",
      "metadata": {
        "colab": {
          "base_uri": "https://localhost:8080/",
          "height": 1000
        },
        "id": "59Wayu6ROhGJ",
        "outputId": "e63d54b5-a19e-40e8-fdc9-8e4298146dc7"
      },
      "source": [
        "df[(df.rs_location >= 9) & (df.rs_rating < 30)]"
      ],
      "execution_count": null,
      "outputs": [
        {
          "output_type": "execute_result",
          "data": {
            "text/html": [
              "<div>\n",
              "<style scoped>\n",
              "    .dataframe tbody tr th:only-of-type {\n",
              "        vertical-align: middle;\n",
              "    }\n",
              "\n",
              "    .dataframe tbody tr th {\n",
              "        vertical-align: top;\n",
              "    }\n",
              "\n",
              "    .dataframe thead th {\n",
              "        text-align: right;\n",
              "    }\n",
              "</style>\n",
              "<table border=\"1\" class=\"dataframe\">\n",
              "  <thead>\n",
              "    <tr style=\"text-align: right;\">\n",
              "      <th></th>\n",
              "      <th>listing_url</th>\n",
              "      <th>name</th>\n",
              "      <th>neighborhood</th>\n",
              "      <th>borough</th>\n",
              "      <th>latitude</th>\n",
              "      <th>longitude</th>\n",
              "      <th>room_type</th>\n",
              "      <th>accommodates</th>\n",
              "      <th>price</th>\n",
              "      <th>min_nights</th>\n",
              "      <th>max_nights</th>\n",
              "      <th>rs_rating</th>\n",
              "      <th>rs_accuracy</th>\n",
              "      <th>rs_cleanliness</th>\n",
              "      <th>rs_checkin</th>\n",
              "      <th>rs_communication</th>\n",
              "      <th>rs_location</th>\n",
              "      <th>rs_value</th>\n",
              "    </tr>\n",
              "    <tr>\n",
              "      <th>id</th>\n",
              "      <th></th>\n",
              "      <th></th>\n",
              "      <th></th>\n",
              "      <th></th>\n",
              "      <th></th>\n",
              "      <th></th>\n",
              "      <th></th>\n",
              "      <th></th>\n",
              "      <th></th>\n",
              "      <th></th>\n",
              "      <th></th>\n",
              "      <th></th>\n",
              "      <th></th>\n",
              "      <th></th>\n",
              "      <th></th>\n",
              "      <th></th>\n",
              "      <th></th>\n",
              "      <th></th>\n",
              "    </tr>\n",
              "  </thead>\n",
              "  <tbody>\n",
              "    <tr>\n",
              "      <th>1925519</th>\n",
              "      <td>https://www.airbnb.com/rooms/1925519</td>\n",
              "      <td>Sublet: $490/Wk</td>\n",
              "      <td>Lower East Side</td>\n",
              "      <td>Manhattan</td>\n",
              "      <td>40.71930</td>\n",
              "      <td>-73.98986</td>\n",
              "      <td>Private room</td>\n",
              "      <td>1</td>\n",
              "      <td>$80.00</td>\n",
              "      <td>30</td>\n",
              "      <td>1125</td>\n",
              "      <td>20.0</td>\n",
              "      <td>6.0</td>\n",
              "      <td>2.0</td>\n",
              "      <td>6.0</td>\n",
              "      <td>6.0</td>\n",
              "      <td>10.0</td>\n",
              "      <td>6.0</td>\n",
              "    </tr>\n",
              "    <tr>\n",
              "      <th>4244476</th>\n",
              "      <td>https://www.airbnb.com/rooms/4244476</td>\n",
              "      <td>Sunny and Funky Greenpoint Room</td>\n",
              "      <td>Greenpoint</td>\n",
              "      <td>Brooklyn</td>\n",
              "      <td>40.73093</td>\n",
              "      <td>-73.95332</td>\n",
              "      <td>Private room</td>\n",
              "      <td>2</td>\n",
              "      <td>$75.00</td>\n",
              "      <td>30</td>\n",
              "      <td>1125</td>\n",
              "      <td>20.0</td>\n",
              "      <td>2.0</td>\n",
              "      <td>2.0</td>\n",
              "      <td>10.0</td>\n",
              "      <td>10.0</td>\n",
              "      <td>10.0</td>\n",
              "      <td>2.0</td>\n",
              "    </tr>\n",
              "    <tr>\n",
              "      <th>9345523</th>\n",
              "      <td>https://www.airbnb.com/rooms/9345523</td>\n",
              "      <td>Cute Private Bedroom | East Village</td>\n",
              "      <td>East Village</td>\n",
              "      <td>Manhattan</td>\n",
              "      <td>40.72280</td>\n",
              "      <td>-73.98352</td>\n",
              "      <td>Private room</td>\n",
              "      <td>2</td>\n",
              "      <td>$85.00</td>\n",
              "      <td>30</td>\n",
              "      <td>1125</td>\n",
              "      <td>20.0</td>\n",
              "      <td>2.0</td>\n",
              "      <td>2.0</td>\n",
              "      <td>8.0</td>\n",
              "      <td>6.0</td>\n",
              "      <td>10.0</td>\n",
              "      <td>2.0</td>\n",
              "    </tr>\n",
              "    <tr>\n",
              "      <th>13217755</th>\n",
              "      <td>https://www.airbnb.com/rooms/13217755</td>\n",
              "      <td>Large Bedroom on upper west/columbia</td>\n",
              "      <td>Upper West Side</td>\n",
              "      <td>Manhattan</td>\n",
              "      <td>40.79934</td>\n",
              "      <td>-73.96527</td>\n",
              "      <td>Private room</td>\n",
              "      <td>2</td>\n",
              "      <td>$90.00</td>\n",
              "      <td>30</td>\n",
              "      <td>47</td>\n",
              "      <td>20.0</td>\n",
              "      <td>4.0</td>\n",
              "      <td>2.0</td>\n",
              "      <td>10.0</td>\n",
              "      <td>10.0</td>\n",
              "      <td>10.0</td>\n",
              "      <td>2.0</td>\n",
              "    </tr>\n",
              "    <tr>\n",
              "      <th>14167287</th>\n",
              "      <td>https://www.airbnb.com/rooms/14167287</td>\n",
              "      <td>Peaceful Upper East Side Studio</td>\n",
              "      <td>Upper East Side</td>\n",
              "      <td>Manhattan</td>\n",
              "      <td>40.76656</td>\n",
              "      <td>-73.95389</td>\n",
              "      <td>Entire home/apt</td>\n",
              "      <td>2</td>\n",
              "      <td>$55.00</td>\n",
              "      <td>7</td>\n",
              "      <td>20</td>\n",
              "      <td>20.0</td>\n",
              "      <td>10.0</td>\n",
              "      <td>2.0</td>\n",
              "      <td>10.0</td>\n",
              "      <td>10.0</td>\n",
              "      <td>10.0</td>\n",
              "      <td>4.0</td>\n",
              "    </tr>\n",
              "    <tr>\n",
              "      <th>29612338</th>\n",
              "      <td>https://www.airbnb.com/rooms/29612338</td>\n",
              "      <td>Instagrammers Dream Loft</td>\n",
              "      <td>Bedford-Stuyvesant</td>\n",
              "      <td>Brooklyn</td>\n",
              "      <td>40.69374</td>\n",
              "      <td>-73.95619</td>\n",
              "      <td>Entire home/apt</td>\n",
              "      <td>2</td>\n",
              "      <td>$80.00</td>\n",
              "      <td>30</td>\n",
              "      <td>1125</td>\n",
              "      <td>20.0</td>\n",
              "      <td>2.0</td>\n",
              "      <td>2.0</td>\n",
              "      <td>2.0</td>\n",
              "      <td>10.0</td>\n",
              "      <td>10.0</td>\n",
              "      <td>2.0</td>\n",
              "    </tr>\n",
              "    <tr>\n",
              "      <th>29832431</th>\n",
              "      <td>https://www.airbnb.com/rooms/29832431</td>\n",
              "      <td>Hart st</td>\n",
              "      <td>Bedford-Stuyvesant</td>\n",
              "      <td>Brooklyn</td>\n",
              "      <td>40.69263</td>\n",
              "      <td>-73.95136</td>\n",
              "      <td>Private room</td>\n",
              "      <td>4</td>\n",
              "      <td>$150.00</td>\n",
              "      <td>30</td>\n",
              "      <td>31</td>\n",
              "      <td>20.0</td>\n",
              "      <td>2.0</td>\n",
              "      <td>6.0</td>\n",
              "      <td>2.0</td>\n",
              "      <td>2.0</td>\n",
              "      <td>10.0</td>\n",
              "      <td>2.0</td>\n",
              "    </tr>\n",
              "    <tr>\n",
              "      <th>30974895</th>\n",
              "      <td>https://www.airbnb.com/rooms/30974895</td>\n",
              "      <td>Spacious shared room near L-train</td>\n",
              "      <td>Bushwick</td>\n",
              "      <td>Brooklyn</td>\n",
              "      <td>40.69042</td>\n",
              "      <td>-73.90561</td>\n",
              "      <td>Shared room</td>\n",
              "      <td>3</td>\n",
              "      <td>$23.00</td>\n",
              "      <td>30</td>\n",
              "      <td>1125</td>\n",
              "      <td>20.0</td>\n",
              "      <td>2.0</td>\n",
              "      <td>2.0</td>\n",
              "      <td>2.0</td>\n",
              "      <td>4.0</td>\n",
              "      <td>10.0</td>\n",
              "      <td>10.0</td>\n",
              "    </tr>\n",
              "    <tr>\n",
              "      <th>32312837</th>\n",
              "      <td>https://www.airbnb.com/rooms/32312837</td>\n",
              "      <td>Cozy Private BedRoom 20m from Midtown</td>\n",
              "      <td>Jackson Heights</td>\n",
              "      <td>Queens</td>\n",
              "      <td>40.74906</td>\n",
              "      <td>-73.88871</td>\n",
              "      <td>Private room</td>\n",
              "      <td>1</td>\n",
              "      <td>$57.00</td>\n",
              "      <td>30</td>\n",
              "      <td>1125</td>\n",
              "      <td>20.0</td>\n",
              "      <td>4.0</td>\n",
              "      <td>4.0</td>\n",
              "      <td>10.0</td>\n",
              "      <td>10.0</td>\n",
              "      <td>10.0</td>\n",
              "      <td>10.0</td>\n",
              "    </tr>\n",
              "    <tr>\n",
              "      <th>32410156</th>\n",
              "      <td>https://www.airbnb.com/rooms/32410156</td>\n",
              "      <td>Sharon's place</td>\n",
              "      <td>Park Slope</td>\n",
              "      <td>Brooklyn</td>\n",
              "      <td>40.67917</td>\n",
              "      <td>-73.97496</td>\n",
              "      <td>Entire home/apt</td>\n",
              "      <td>2</td>\n",
              "      <td>$94.00</td>\n",
              "      <td>30</td>\n",
              "      <td>1125</td>\n",
              "      <td>20.0</td>\n",
              "      <td>2.0</td>\n",
              "      <td>2.0</td>\n",
              "      <td>2.0</td>\n",
              "      <td>2.0</td>\n",
              "      <td>10.0</td>\n",
              "      <td>2.0</td>\n",
              "    </tr>\n",
              "    <tr>\n",
              "      <th>37944081</th>\n",
              "      <td>https://www.airbnb.com/rooms/37944081</td>\n",
              "      <td>Location</td>\n",
              "      <td>Crown Heights</td>\n",
              "      <td>Brooklyn</td>\n",
              "      <td>40.67686</td>\n",
              "      <td>-73.95891</td>\n",
              "      <td>Private room</td>\n",
              "      <td>1</td>\n",
              "      <td>$35.00</td>\n",
              "      <td>30</td>\n",
              "      <td>300</td>\n",
              "      <td>20.0</td>\n",
              "      <td>2.0</td>\n",
              "      <td>2.0</td>\n",
              "      <td>2.0</td>\n",
              "      <td>2.0</td>\n",
              "      <td>10.0</td>\n",
              "      <td>2.0</td>\n",
              "    </tr>\n",
              "    <tr>\n",
              "      <th>39112224</th>\n",
              "      <td>https://www.airbnb.com/rooms/39112224</td>\n",
              "      <td>Exquisite Club Wyndham Midtown 45, 1 Bedroom S...</td>\n",
              "      <td>Midtown</td>\n",
              "      <td>Manhattan</td>\n",
              "      <td>40.75367</td>\n",
              "      <td>-73.97270</td>\n",
              "      <td>Entire home/apt</td>\n",
              "      <td>4</td>\n",
              "      <td>$771.00</td>\n",
              "      <td>2</td>\n",
              "      <td>182</td>\n",
              "      <td>20.0</td>\n",
              "      <td>2.0</td>\n",
              "      <td>8.0</td>\n",
              "      <td>6.0</td>\n",
              "      <td>2.0</td>\n",
              "      <td>10.0</td>\n",
              "      <td>2.0</td>\n",
              "    </tr>\n",
              "    <tr>\n",
              "      <th>39780144</th>\n",
              "      <td>https://www.airbnb.com/rooms/39780144</td>\n",
              "      <td>Big 3BR Apt in Ridgewood! 20 Min to Manhattan!</td>\n",
              "      <td>Ridgewood</td>\n",
              "      <td>Queens</td>\n",
              "      <td>40.70248</td>\n",
              "      <td>-73.90425</td>\n",
              "      <td>Entire home/apt</td>\n",
              "      <td>6</td>\n",
              "      <td>$170.00</td>\n",
              "      <td>30</td>\n",
              "      <td>120</td>\n",
              "      <td>20.0</td>\n",
              "      <td>4.0</td>\n",
              "      <td>2.0</td>\n",
              "      <td>6.0</td>\n",
              "      <td>2.0</td>\n",
              "      <td>10.0</td>\n",
              "      <td>2.0</td>\n",
              "    </tr>\n",
              "    <tr>\n",
              "      <th>39972925</th>\n",
              "      <td>https://www.airbnb.com/rooms/39972925</td>\n",
              "      <td>Beautiful Shared Room | Long Island City</td>\n",
              "      <td>Long Island City</td>\n",
              "      <td>Queens</td>\n",
              "      <td>40.75984</td>\n",
              "      <td>-73.92849</td>\n",
              "      <td>Shared room</td>\n",
              "      <td>3</td>\n",
              "      <td>$35.00</td>\n",
              "      <td>30</td>\n",
              "      <td>1125</td>\n",
              "      <td>20.0</td>\n",
              "      <td>2.0</td>\n",
              "      <td>2.0</td>\n",
              "      <td>10.0</td>\n",
              "      <td>6.0</td>\n",
              "      <td>10.0</td>\n",
              "      <td>10.0</td>\n",
              "    </tr>\n",
              "    <tr>\n",
              "      <th>40804199</th>\n",
              "      <td>https://www.airbnb.com/rooms/40804199</td>\n",
              "      <td>212  Apartment With Common Bathroom</td>\n",
              "      <td>Midtown</td>\n",
              "      <td>Manhattan</td>\n",
              "      <td>40.74669</td>\n",
              "      <td>-73.98741</td>\n",
              "      <td>Private room</td>\n",
              "      <td>4</td>\n",
              "      <td>$33.00</td>\n",
              "      <td>1</td>\n",
              "      <td>365</td>\n",
              "      <td>20.0</td>\n",
              "      <td>2.0</td>\n",
              "      <td>4.0</td>\n",
              "      <td>2.0</td>\n",
              "      <td>2.0</td>\n",
              "      <td>10.0</td>\n",
              "      <td>4.0</td>\n",
              "    </tr>\n",
              "    <tr>\n",
              "      <th>41750670</th>\n",
              "      <td>https://www.airbnb.com/rooms/41750670</td>\n",
              "      <td>The Charm</td>\n",
              "      <td>Jamaica</td>\n",
              "      <td>Queens</td>\n",
              "      <td>40.70820</td>\n",
              "      <td>-73.80016</td>\n",
              "      <td>Private room</td>\n",
              "      <td>2</td>\n",
              "      <td>$60.00</td>\n",
              "      <td>30</td>\n",
              "      <td>1125</td>\n",
              "      <td>20.0</td>\n",
              "      <td>2.0</td>\n",
              "      <td>4.0</td>\n",
              "      <td>2.0</td>\n",
              "      <td>2.0</td>\n",
              "      <td>10.0</td>\n",
              "      <td>2.0</td>\n",
              "    </tr>\n",
              "    <tr>\n",
              "      <th>42893370</th>\n",
              "      <td>https://www.airbnb.com/rooms/42893370</td>\n",
              "      <td>Lovely 1 Bedroom in the Epicenter of Chelsea</td>\n",
              "      <td>Chelsea</td>\n",
              "      <td>Manhattan</td>\n",
              "      <td>40.74010</td>\n",
              "      <td>-73.99944</td>\n",
              "      <td>Entire home/apt</td>\n",
              "      <td>2</td>\n",
              "      <td>$199.00</td>\n",
              "      <td>30</td>\n",
              "      <td>1125</td>\n",
              "      <td>20.0</td>\n",
              "      <td>2.0</td>\n",
              "      <td>2.0</td>\n",
              "      <td>2.0</td>\n",
              "      <td>2.0</td>\n",
              "      <td>10.0</td>\n",
              "      <td>4.0</td>\n",
              "    </tr>\n",
              "    <tr>\n",
              "      <th>43047769</th>\n",
              "      <td>https://www.airbnb.com/rooms/43047769</td>\n",
              "      <td>Aiyanna's Retreat</td>\n",
              "      <td>Bedford-Stuyvesant</td>\n",
              "      <td>Brooklyn</td>\n",
              "      <td>40.68718</td>\n",
              "      <td>-73.93795</td>\n",
              "      <td>Entire home/apt</td>\n",
              "      <td>8</td>\n",
              "      <td>$180.00</td>\n",
              "      <td>30</td>\n",
              "      <td>1125</td>\n",
              "      <td>20.0</td>\n",
              "      <td>2.0</td>\n",
              "      <td>2.0</td>\n",
              "      <td>2.0</td>\n",
              "      <td>2.0</td>\n",
              "      <td>10.0</td>\n",
              "      <td>2.0</td>\n",
              "    </tr>\n",
              "    <tr>\n",
              "      <th>44131826</th>\n",
              "      <td>https://www.airbnb.com/rooms/44131826</td>\n",
              "      <td>Tribeca Townhouse With Private Balcony</td>\n",
              "      <td>Tribeca</td>\n",
              "      <td>Manhattan</td>\n",
              "      <td>40.71805</td>\n",
              "      <td>-74.01137</td>\n",
              "      <td>Entire home/apt</td>\n",
              "      <td>2</td>\n",
              "      <td>$501.00</td>\n",
              "      <td>30</td>\n",
              "      <td>90</td>\n",
              "      <td>20.0</td>\n",
              "      <td>2.0</td>\n",
              "      <td>2.0</td>\n",
              "      <td>10.0</td>\n",
              "      <td>10.0</td>\n",
              "      <td>10.0</td>\n",
              "      <td>2.0</td>\n",
              "    </tr>\n",
              "    <tr>\n",
              "      <th>44818009</th>\n",
              "      <td>https://www.airbnb.com/rooms/44818009</td>\n",
              "      <td>NEAR D/N train,50min to MANHATTAN,35’to JFK,Beach</td>\n",
              "      <td>Gravesend</td>\n",
              "      <td>Brooklyn</td>\n",
              "      <td>40.60179</td>\n",
              "      <td>-73.98404</td>\n",
              "      <td>Entire home/apt</td>\n",
              "      <td>2</td>\n",
              "      <td>$69.00</td>\n",
              "      <td>30</td>\n",
              "      <td>1125</td>\n",
              "      <td>20.0</td>\n",
              "      <td>10.0</td>\n",
              "      <td>2.0</td>\n",
              "      <td>10.0</td>\n",
              "      <td>2.0</td>\n",
              "      <td>10.0</td>\n",
              "      <td>2.0</td>\n",
              "    </tr>\n",
              "    <tr>\n",
              "      <th>45189861</th>\n",
              "      <td>https://www.airbnb.com/rooms/45189861</td>\n",
              "      <td>Private bedroom Private bathroom in Brooklyn, NY</td>\n",
              "      <td>Prospect-Lefferts Gardens</td>\n",
              "      <td>Brooklyn</td>\n",
              "      <td>40.65971</td>\n",
              "      <td>-73.94370</td>\n",
              "      <td>Private room</td>\n",
              "      <td>1</td>\n",
              "      <td>$65.00</td>\n",
              "      <td>30</td>\n",
              "      <td>46</td>\n",
              "      <td>20.0</td>\n",
              "      <td>6.0</td>\n",
              "      <td>10.0</td>\n",
              "      <td>6.0</td>\n",
              "      <td>2.0</td>\n",
              "      <td>10.0</td>\n",
              "      <td>2.0</td>\n",
              "    </tr>\n",
              "    <tr>\n",
              "      <th>45658903</th>\n",
              "      <td>https://www.airbnb.com/rooms/45658903</td>\n",
              "      <td>Good Looking Room fit for 2 people</td>\n",
              "      <td>Bushwick</td>\n",
              "      <td>Brooklyn</td>\n",
              "      <td>40.68312</td>\n",
              "      <td>-73.90732</td>\n",
              "      <td>Private room</td>\n",
              "      <td>2</td>\n",
              "      <td>$50.00</td>\n",
              "      <td>1</td>\n",
              "      <td>10</td>\n",
              "      <td>20.0</td>\n",
              "      <td>10.0</td>\n",
              "      <td>2.0</td>\n",
              "      <td>6.0</td>\n",
              "      <td>2.0</td>\n",
              "      <td>10.0</td>\n",
              "      <td>5.0</td>\n",
              "    </tr>\n",
              "    <tr>\n",
              "      <th>45673661</th>\n",
              "      <td>https://www.airbnb.com/rooms/45673661</td>\n",
              "      <td>Fabulous Bedroom in Manhattan NYC! Lincoln Cen...</td>\n",
              "      <td>Upper West Side</td>\n",
              "      <td>Manhattan</td>\n",
              "      <td>40.77445</td>\n",
              "      <td>-73.98581</td>\n",
              "      <td>Private room</td>\n",
              "      <td>1</td>\n",
              "      <td>$29.00</td>\n",
              "      <td>25</td>\n",
              "      <td>1125</td>\n",
              "      <td>20.0</td>\n",
              "      <td>2.0</td>\n",
              "      <td>2.0</td>\n",
              "      <td>4.0</td>\n",
              "      <td>2.0</td>\n",
              "      <td>10.0</td>\n",
              "      <td>2.0</td>\n",
              "    </tr>\n",
              "    <tr>\n",
              "      <th>46750078</th>\n",
              "      <td>https://www.airbnb.com/rooms/46750078</td>\n",
              "      <td>Very Big Modern 2 Bedroom apt in upper Manhattan</td>\n",
              "      <td>Harlem</td>\n",
              "      <td>Manhattan</td>\n",
              "      <td>40.82363</td>\n",
              "      <td>-73.94107</td>\n",
              "      <td>Entire home/apt</td>\n",
              "      <td>6</td>\n",
              "      <td>$110.00</td>\n",
              "      <td>4</td>\n",
              "      <td>31</td>\n",
              "      <td>20.0</td>\n",
              "      <td>2.0</td>\n",
              "      <td>10.0</td>\n",
              "      <td>2.0</td>\n",
              "      <td>2.0</td>\n",
              "      <td>10.0</td>\n",
              "      <td>2.0</td>\n",
              "    </tr>\n",
              "    <tr>\n",
              "      <th>46900235</th>\n",
              "      <td>https://www.airbnb.com/rooms/46900235</td>\n",
              "      <td>Exquisite Room at 128th St New York Manhattan!...</td>\n",
              "      <td>Harlem</td>\n",
              "      <td>Manhattan</td>\n",
              "      <td>40.81175</td>\n",
              "      <td>-73.94818</td>\n",
              "      <td>Private room</td>\n",
              "      <td>2</td>\n",
              "      <td>$29.00</td>\n",
              "      <td>7</td>\n",
              "      <td>25</td>\n",
              "      <td>20.0</td>\n",
              "      <td>2.0</td>\n",
              "      <td>6.0</td>\n",
              "      <td>10.0</td>\n",
              "      <td>8.0</td>\n",
              "      <td>10.0</td>\n",
              "      <td>10.0</td>\n",
              "    </tr>\n",
              "  </tbody>\n",
              "</table>\n",
              "</div>"
            ],
            "text/plain": [
              "                                    listing_url  ... rs_value\n",
              "id                                               ...         \n",
              "1925519    https://www.airbnb.com/rooms/1925519  ...      6.0\n",
              "4244476    https://www.airbnb.com/rooms/4244476  ...      2.0\n",
              "9345523    https://www.airbnb.com/rooms/9345523  ...      2.0\n",
              "13217755  https://www.airbnb.com/rooms/13217755  ...      2.0\n",
              "14167287  https://www.airbnb.com/rooms/14167287  ...      4.0\n",
              "29612338  https://www.airbnb.com/rooms/29612338  ...      2.0\n",
              "29832431  https://www.airbnb.com/rooms/29832431  ...      2.0\n",
              "30974895  https://www.airbnb.com/rooms/30974895  ...     10.0\n",
              "32312837  https://www.airbnb.com/rooms/32312837  ...     10.0\n",
              "32410156  https://www.airbnb.com/rooms/32410156  ...      2.0\n",
              "37944081  https://www.airbnb.com/rooms/37944081  ...      2.0\n",
              "39112224  https://www.airbnb.com/rooms/39112224  ...      2.0\n",
              "39780144  https://www.airbnb.com/rooms/39780144  ...      2.0\n",
              "39972925  https://www.airbnb.com/rooms/39972925  ...     10.0\n",
              "40804199  https://www.airbnb.com/rooms/40804199  ...      4.0\n",
              "41750670  https://www.airbnb.com/rooms/41750670  ...      2.0\n",
              "42893370  https://www.airbnb.com/rooms/42893370  ...      4.0\n",
              "43047769  https://www.airbnb.com/rooms/43047769  ...      2.0\n",
              "44131826  https://www.airbnb.com/rooms/44131826  ...      2.0\n",
              "44818009  https://www.airbnb.com/rooms/44818009  ...      2.0\n",
              "45189861  https://www.airbnb.com/rooms/45189861  ...      2.0\n",
              "45658903  https://www.airbnb.com/rooms/45658903  ...      5.0\n",
              "45673661  https://www.airbnb.com/rooms/45673661  ...      2.0\n",
              "46750078  https://www.airbnb.com/rooms/46750078  ...      2.0\n",
              "46900235  https://www.airbnb.com/rooms/46900235  ...     10.0\n",
              "\n",
              "[25 rows x 18 columns]"
            ]
          },
          "metadata": {
            "tags": []
          },
          "execution_count": 40
        }
      ]
    },
    {
      "cell_type": "code",
      "metadata": {
        "id": "5drWFfh-PAtH"
      },
      "source": [
        "#lets only keep location score and overall score\n",
        "review_cols.remove('rs_rating')\n",
        "review_cols.remove('rs_location')"
      ],
      "execution_count": null,
      "outputs": []
    },
    {
      "cell_type": "code",
      "metadata": {
        "id": "_D2OsDP6PTyO"
      },
      "source": [
        "df = df.drop(columns=review_cols)"
      ],
      "execution_count": null,
      "outputs": []
    },
    {
      "cell_type": "markdown",
      "metadata": {
        "id": "oJhzrzQiPjUw"
      },
      "source": [
        "### <font color= '#eb3483'> Column: Price"
      ]
    },
    {
      "cell_type": "code",
      "metadata": {
        "colab": {
          "base_uri": "https://localhost:8080/"
        },
        "id": "HwZc07LMPZg0",
        "outputId": "82775741-87df-4032-c20d-74f1f62563bd"
      },
      "source": [
        "df.dtypes\n",
        "#note price is an object"
      ],
      "execution_count": null,
      "outputs": [
        {
          "output_type": "execute_result",
          "data": {
            "text/plain": [
              "listing_url      object\n",
              "name             object\n",
              "neighborhood     object\n",
              "borough          object\n",
              "latitude        float64\n",
              "longitude       float64\n",
              "room_type        object\n",
              "accommodates      int64\n",
              "price            object\n",
              "min_nights        int64\n",
              "max_nights        int64\n",
              "rs_rating       float64\n",
              "rs_location     float64\n",
              "dtype: object"
            ]
          },
          "metadata": {
            "tags": []
          },
          "execution_count": 43
        }
      ]
    },
    {
      "cell_type": "code",
      "metadata": {
        "id": "gok31PpuP9Oz"
      },
      "source": [
        "df.price = df.price.str.replace('$', '')\n",
        "df.price = df.price.str.replace(',', '')"
      ],
      "execution_count": null,
      "outputs": []
    },
    {
      "cell_type": "code",
      "metadata": {
        "id": "3QKgQAsxQMeY"
      },
      "source": [
        "df.price = df.price.astype('float')"
      ],
      "execution_count": null,
      "outputs": []
    },
    {
      "cell_type": "code",
      "metadata": {
        "colab": {
          "base_uri": "https://localhost:8080/",
          "height": 296
        },
        "id": "U2fr1NrjQYwe",
        "outputId": "0c781162-7f37-4fda-e672-588341d63112"
      },
      "source": [
        "df[['price']].describe()"
      ],
      "execution_count": null,
      "outputs": [
        {
          "output_type": "execute_result",
          "data": {
            "text/html": [
              "<div>\n",
              "<style scoped>\n",
              "    .dataframe tbody tr th:only-of-type {\n",
              "        vertical-align: middle;\n",
              "    }\n",
              "\n",
              "    .dataframe tbody tr th {\n",
              "        vertical-align: top;\n",
              "    }\n",
              "\n",
              "    .dataframe thead th {\n",
              "        text-align: right;\n",
              "    }\n",
              "</style>\n",
              "<table border=\"1\" class=\"dataframe\">\n",
              "  <thead>\n",
              "    <tr style=\"text-align: right;\">\n",
              "      <th></th>\n",
              "      <th>price</th>\n",
              "    </tr>\n",
              "  </thead>\n",
              "  <tbody>\n",
              "    <tr>\n",
              "      <th>count</th>\n",
              "      <td>37012.000000</td>\n",
              "    </tr>\n",
              "    <tr>\n",
              "      <th>mean</th>\n",
              "      <td>142.842240</td>\n",
              "    </tr>\n",
              "    <tr>\n",
              "      <th>std</th>\n",
              "      <td>275.740987</td>\n",
              "    </tr>\n",
              "    <tr>\n",
              "      <th>min</th>\n",
              "      <td>0.000000</td>\n",
              "    </tr>\n",
              "    <tr>\n",
              "      <th>25%</th>\n",
              "      <td>60.000000</td>\n",
              "    </tr>\n",
              "    <tr>\n",
              "      <th>50%</th>\n",
              "      <td>99.000000</td>\n",
              "    </tr>\n",
              "    <tr>\n",
              "      <th>75%</th>\n",
              "      <td>151.000000</td>\n",
              "    </tr>\n",
              "    <tr>\n",
              "      <th>max</th>\n",
              "      <td>10000.000000</td>\n",
              "    </tr>\n",
              "  </tbody>\n",
              "</table>\n",
              "</div>"
            ],
            "text/plain": [
              "              price\n",
              "count  37012.000000\n",
              "mean     142.842240\n",
              "std      275.740987\n",
              "min        0.000000\n",
              "25%       60.000000\n",
              "50%       99.000000\n",
              "75%      151.000000\n",
              "max    10000.000000"
            ]
          },
          "metadata": {
            "tags": []
          },
          "execution_count": 46
        }
      ]
    },
    {
      "cell_type": "code",
      "metadata": {
        "colab": {
          "base_uri": "https://localhost:8080/",
          "height": 389
        },
        "id": "Ctic-IHqP1LS",
        "outputId": "41703f95-26cf-4e5c-8de7-693303e80de3"
      },
      "source": [
        "sns.distplot(df.price, bins=10, kde=False, rug=True)"
      ],
      "execution_count": null,
      "outputs": [
        {
          "output_type": "stream",
          "text": [
            "/usr/local/lib/python3.7/dist-packages/seaborn/distributions.py:2557: FutureWarning: `distplot` is a deprecated function and will be removed in a future version. Please adapt your code to use either `displot` (a figure-level function with similar flexibility) or `histplot` (an axes-level function for histograms).\n",
            "  warnings.warn(msg, FutureWarning)\n",
            "/usr/local/lib/python3.7/dist-packages/seaborn/distributions.py:2056: FutureWarning: The `axis` variable is no longer used and will be removed. Instead, assign variables directly to `x` or `y`.\n",
            "  warnings.warn(msg, FutureWarning)\n"
          ],
          "name": "stderr"
        },
        {
          "output_type": "execute_result",
          "data": {
            "text/plain": [
              "<matplotlib.axes._subplots.AxesSubplot at 0x7fbf36fbb1d0>"
            ]
          },
          "metadata": {
            "tags": []
          },
          "execution_count": 47
        },
        {
          "output_type": "display_data",
          "data": {
            "image/png": "[encoded data removed]",
            "text/plain": [
              "<Figure size 432x288 with 1 Axes>"
            ]
          },
          "metadata": {
            "tags": [],
            "needs_background": "light"
          }
        }
      ]
    },
    {
      "cell_type": "code",
      "metadata": {
        "colab": {
          "base_uri": "https://localhost:8080/",
          "height": 296
        },
        "id": "_6IKWVNWP1Ll",
        "outputId": "16d58093-32d7-4e4e-e6e1-55966dcbbf46"
      },
      "source": [
        "sns.boxplot(x=df.price, data=df)"
      ],
      "execution_count": null,
      "outputs": [
        {
          "output_type": "execute_result",
          "data": {
            "text/plain": [
              "<matplotlib.axes._subplots.AxesSubplot at 0x7fbf35de8210>"
            ]
          },
          "metadata": {
            "tags": []
          },
          "execution_count": 48
        },
        {
          "output_type": "display_data",
          "data": {
            "image/png": "[encoded data removed]",
            "text/plain": [
              "<Figure size 432x288 with 1 Axes>"
            ]
          },
          "metadata": {
            "tags": [],
            "needs_background": "light"
          }
        }
      ]
    },
    {
      "cell_type": "code",
      "metadata": {
        "colab": {
          "base_uri": "https://localhost:8080/"
        },
        "id": "r6e57_o8QjEv",
        "outputId": "d8e030a8-138e-4a6f-8bc5-099bbaf08929"
      },
      "source": [
        "df[df.price == 0].shape[0]"
      ],
      "execution_count": null,
      "outputs": [
        {
          "output_type": "execute_result",
          "data": {
            "text/plain": [
              "28"
            ]
          },
          "metadata": {
            "tags": []
          },
          "execution_count": 49
        }
      ]
    },
    {
      "cell_type": "code",
      "metadata": {
        "colab": {
          "base_uri": "https://localhost:8080/"
        },
        "id": "wxCW7PNeQ4uP",
        "outputId": "f2c4bb45-ac9b-4b7f-e52f-2f494f543a6e"
      },
      "source": [
        "df[(df.price== 0) & ((df.rs_rating.isna()) | (df.rs_location.isna()))].shape[0]"
      ],
      "execution_count": null,
      "outputs": [
        {
          "output_type": "execute_result",
          "data": {
            "text/plain": [
              "28"
            ]
          },
          "metadata": {
            "tags": []
          },
          "execution_count": 50
        }
      ]
    },
    {
      "cell_type": "markdown",
      "metadata": {
        "id": "K60uoNidRPFq"
      },
      "source": [
        "Okay so looks like when the price is super low there are other null values... intersting"
      ]
    },
    {
      "cell_type": "code",
      "metadata": {
        "colab": {
          "base_uri": "https://localhost:8080/",
          "height": 481
        },
        "id": "ocKt7advRSML",
        "outputId": "9385b089-e217-4b71-a586-ab92f328b325"
      },
      "source": [
        "df[df.name.isna()]"
      ],
      "execution_count": null,
      "outputs": [
        {
          "output_type": "execute_result",
          "data": {
            "text/html": [
              "<div>\n",
              "<style scoped>\n",
              "    .dataframe tbody tr th:only-of-type {\n",
              "        vertical-align: middle;\n",
              "    }\n",
              "\n",
              "    .dataframe tbody tr th {\n",
              "        vertical-align: top;\n",
              "    }\n",
              "\n",
              "    .dataframe thead th {\n",
              "        text-align: right;\n",
              "    }\n",
              "</style>\n",
              "<table border=\"1\" class=\"dataframe\">\n",
              "  <thead>\n",
              "    <tr style=\"text-align: right;\">\n",
              "      <th></th>\n",
              "      <th>listing_url</th>\n",
              "      <th>name</th>\n",
              "      <th>neighborhood</th>\n",
              "      <th>borough</th>\n",
              "      <th>latitude</th>\n",
              "      <th>longitude</th>\n",
              "      <th>room_type</th>\n",
              "      <th>accommodates</th>\n",
              "      <th>price</th>\n",
              "      <th>min_nights</th>\n",
              "      <th>max_nights</th>\n",
              "      <th>rs_rating</th>\n",
              "      <th>rs_location</th>\n",
              "    </tr>\n",
              "    <tr>\n",
              "      <th>id</th>\n",
              "      <th></th>\n",
              "      <th></th>\n",
              "      <th></th>\n",
              "      <th></th>\n",
              "      <th></th>\n",
              "      <th></th>\n",
              "      <th></th>\n",
              "      <th></th>\n",
              "      <th></th>\n",
              "      <th></th>\n",
              "      <th></th>\n",
              "      <th></th>\n",
              "      <th></th>\n",
              "    </tr>\n",
              "  </thead>\n",
              "  <tbody>\n",
              "    <tr>\n",
              "      <th>1615764</th>\n",
              "      <td>https://www.airbnb.com/rooms/1615764</td>\n",
              "      <td>NaN</td>\n",
              "      <td>Battery Park City</td>\n",
              "      <td>Manhattan</td>\n",
              "      <td>40.71239</td>\n",
              "      <td>-74.01620</td>\n",
              "      <td>Entire home/apt</td>\n",
              "      <td>2</td>\n",
              "      <td>400.0</td>\n",
              "      <td>1000</td>\n",
              "      <td>1125</td>\n",
              "      <td>NaN</td>\n",
              "      <td>NaN</td>\n",
              "    </tr>\n",
              "    <tr>\n",
              "      <th>2232600</th>\n",
              "      <td>https://www.airbnb.com/rooms/2232600</td>\n",
              "      <td>NaN</td>\n",
              "      <td>East Village</td>\n",
              "      <td>Manhattan</td>\n",
              "      <td>40.73215</td>\n",
              "      <td>-73.98821</td>\n",
              "      <td>Entire home/apt</td>\n",
              "      <td>2</td>\n",
              "      <td>200.0</td>\n",
              "      <td>30</td>\n",
              "      <td>365</td>\n",
              "      <td>95.0</td>\n",
              "      <td>10.0</td>\n",
              "    </tr>\n",
              "    <tr>\n",
              "      <th>4209595</th>\n",
              "      <td>https://www.airbnb.com/rooms/4209595</td>\n",
              "      <td>NaN</td>\n",
              "      <td>Greenwich Village</td>\n",
              "      <td>Manhattan</td>\n",
              "      <td>40.73473</td>\n",
              "      <td>-73.99244</td>\n",
              "      <td>Entire home/apt</td>\n",
              "      <td>4</td>\n",
              "      <td>225.0</td>\n",
              "      <td>30</td>\n",
              "      <td>1125</td>\n",
              "      <td>100.0</td>\n",
              "      <td>10.0</td>\n",
              "    </tr>\n",
              "    <tr>\n",
              "      <th>4370230</th>\n",
              "      <td>https://www.airbnb.com/rooms/4370230</td>\n",
              "      <td>NaN</td>\n",
              "      <td>Nolita</td>\n",
              "      <td>Manhattan</td>\n",
              "      <td>40.72046</td>\n",
              "      <td>-73.99550</td>\n",
              "      <td>Entire home/apt</td>\n",
              "      <td>2</td>\n",
              "      <td>215.0</td>\n",
              "      <td>30</td>\n",
              "      <td>1125</td>\n",
              "      <td>100.0</td>\n",
              "      <td>10.0</td>\n",
              "    </tr>\n",
              "    <tr>\n",
              "      <th>4581788</th>\n",
              "      <td>https://www.airbnb.com/rooms/4581788</td>\n",
              "      <td>NaN</td>\n",
              "      <td>Williamsburg</td>\n",
              "      <td>Brooklyn</td>\n",
              "      <td>40.71370</td>\n",
              "      <td>-73.94378</td>\n",
              "      <td>Private room</td>\n",
              "      <td>1</td>\n",
              "      <td>150.0</td>\n",
              "      <td>30</td>\n",
              "      <td>1125</td>\n",
              "      <td>NaN</td>\n",
              "      <td>NaN</td>\n",
              "    </tr>\n",
              "    <tr>\n",
              "      <th>4756856</th>\n",
              "      <td>https://www.airbnb.com/rooms/4756856</td>\n",
              "      <td>NaN</td>\n",
              "      <td>Bushwick</td>\n",
              "      <td>Brooklyn</td>\n",
              "      <td>40.70046</td>\n",
              "      <td>-73.92825</td>\n",
              "      <td>Private room</td>\n",
              "      <td>1</td>\n",
              "      <td>70.0</td>\n",
              "      <td>30</td>\n",
              "      <td>1125</td>\n",
              "      <td>NaN</td>\n",
              "      <td>NaN</td>\n",
              "    </tr>\n",
              "    <tr>\n",
              "      <th>4774658</th>\n",
              "      <td>https://www.airbnb.com/rooms/4774658</td>\n",
              "      <td>NaN</td>\n",
              "      <td>Washington Heights</td>\n",
              "      <td>Manhattan</td>\n",
              "      <td>40.85198</td>\n",
              "      <td>-73.93108</td>\n",
              "      <td>Private room</td>\n",
              "      <td>1</td>\n",
              "      <td>40.0</td>\n",
              "      <td>30</td>\n",
              "      <td>1125</td>\n",
              "      <td>NaN</td>\n",
              "      <td>NaN</td>\n",
              "    </tr>\n",
              "    <tr>\n",
              "      <th>6782407</th>\n",
              "      <td>https://www.airbnb.com/rooms/6782407</td>\n",
              "      <td>NaN</td>\n",
              "      <td>Williamsburg</td>\n",
              "      <td>Brooklyn</td>\n",
              "      <td>40.71354</td>\n",
              "      <td>-73.93882</td>\n",
              "      <td>Private room</td>\n",
              "      <td>1</td>\n",
              "      <td>45.0</td>\n",
              "      <td>30</td>\n",
              "      <td>1125</td>\n",
              "      <td>NaN</td>\n",
              "      <td>NaN</td>\n",
              "    </tr>\n",
              "    <tr>\n",
              "      <th>9325951</th>\n",
              "      <td>https://www.airbnb.com/rooms/9325951</td>\n",
              "      <td>NaN</td>\n",
              "      <td>Hell's Kitchen</td>\n",
              "      <td>Manhattan</td>\n",
              "      <td>40.76436</td>\n",
              "      <td>-73.98573</td>\n",
              "      <td>Entire home/apt</td>\n",
              "      <td>2</td>\n",
              "      <td>190.0</td>\n",
              "      <td>30</td>\n",
              "      <td>1125</td>\n",
              "      <td>100.0</td>\n",
              "      <td>10.0</td>\n",
              "    </tr>\n",
              "    <tr>\n",
              "      <th>9787590</th>\n",
              "      <td>https://www.airbnb.com/rooms/9787590</td>\n",
              "      <td>NaN</td>\n",
              "      <td>Harlem</td>\n",
              "      <td>Manhattan</td>\n",
              "      <td>40.80316</td>\n",
              "      <td>-73.95189</td>\n",
              "      <td>Entire home/apt</td>\n",
              "      <td>8</td>\n",
              "      <td>300.0</td>\n",
              "      <td>30</td>\n",
              "      <td>1125</td>\n",
              "      <td>NaN</td>\n",
              "      <td>NaN</td>\n",
              "    </tr>\n",
              "    <tr>\n",
              "      <th>10052289</th>\n",
              "      <td>https://www.airbnb.com/rooms/10052289</td>\n",
              "      <td>NaN</td>\n",
              "      <td>Brownsville</td>\n",
              "      <td>Brooklyn</td>\n",
              "      <td>40.66409</td>\n",
              "      <td>-73.92314</td>\n",
              "      <td>Private room</td>\n",
              "      <td>2</td>\n",
              "      <td>80.0</td>\n",
              "      <td>30</td>\n",
              "      <td>1125</td>\n",
              "      <td>93.0</td>\n",
              "      <td>7.0</td>\n",
              "    </tr>\n",
              "    <tr>\n",
              "      <th>12797684</th>\n",
              "      <td>https://www.airbnb.com/rooms/12797684</td>\n",
              "      <td>NaN</td>\n",
              "      <td>Upper West Side</td>\n",
              "      <td>Manhattan</td>\n",
              "      <td>40.79843</td>\n",
              "      <td>-73.96404</td>\n",
              "      <td>Private room</td>\n",
              "      <td>1</td>\n",
              "      <td>100.0</td>\n",
              "      <td>30</td>\n",
              "      <td>1125</td>\n",
              "      <td>NaN</td>\n",
              "      <td>NaN</td>\n",
              "    </tr>\n",
              "    <tr>\n",
              "      <th>12988898</th>\n",
              "      <td>https://www.airbnb.com/rooms/12988898</td>\n",
              "      <td>NaN</td>\n",
              "      <td>Fordham</td>\n",
              "      <td>Bronx</td>\n",
              "      <td>40.85983</td>\n",
              "      <td>-73.88541</td>\n",
              "      <td>Shared room</td>\n",
              "      <td>3</td>\n",
              "      <td>130.0</td>\n",
              "      <td>30</td>\n",
              "      <td>1125</td>\n",
              "      <td>NaN</td>\n",
              "      <td>NaN</td>\n",
              "    </tr>\n",
              "  </tbody>\n",
              "</table>\n",
              "</div>"
            ],
            "text/plain": [
              "                                    listing_url name  ... rs_rating rs_location\n",
              "id                                                    ...                      \n",
              "1615764    https://www.airbnb.com/rooms/1615764  NaN  ...       NaN         NaN\n",
              "2232600    https://www.airbnb.com/rooms/2232600  NaN  ...      95.0        10.0\n",
              "4209595    https://www.airbnb.com/rooms/4209595  NaN  ...     100.0        10.0\n",
              "4370230    https://www.airbnb.com/rooms/4370230  NaN  ...     100.0        10.0\n",
              "4581788    https://www.airbnb.com/rooms/4581788  NaN  ...       NaN         NaN\n",
              "4756856    https://www.airbnb.com/rooms/4756856  NaN  ...       NaN         NaN\n",
              "4774658    https://www.airbnb.com/rooms/4774658  NaN  ...       NaN         NaN\n",
              "6782407    https://www.airbnb.com/rooms/6782407  NaN  ...       NaN         NaN\n",
              "9325951    https://www.airbnb.com/rooms/9325951  NaN  ...     100.0        10.0\n",
              "9787590    https://www.airbnb.com/rooms/9787590  NaN  ...       NaN         NaN\n",
              "10052289  https://www.airbnb.com/rooms/10052289  NaN  ...      93.0         7.0\n",
              "12797684  https://www.airbnb.com/rooms/12797684  NaN  ...       NaN         NaN\n",
              "12988898  https://www.airbnb.com/rooms/12988898  NaN  ...       NaN         NaN\n",
              "\n",
              "[13 rows x 13 columns]"
            ]
          },
          "metadata": {
            "tags": []
          },
          "execution_count": 51
        }
      ]
    },
    {
      "cell_type": "code",
      "metadata": {
        "id": "6llkQ5ZcSqyU"
      },
      "source": [
        "#lets just dorp\n",
        "#df = df[~(df.price == 0)]"
      ],
      "execution_count": null,
      "outputs": []
    },
    {
      "cell_type": "code",
      "metadata": {
        "colab": {
          "base_uri": "https://localhost:8080/"
        },
        "id": "COeO9V7wRfU-",
        "outputId": "460ce3a5-b1ce-4cf9-f30f-8408165e5e60"
      },
      "source": [
        "df[df.price == 10000].shape[0]\n",
        "#only 6 so lets just drop "
      ],
      "execution_count": null,
      "outputs": [
        {
          "output_type": "execute_result",
          "data": {
            "text/plain": [
              "6"
            ]
          },
          "metadata": {
            "tags": []
          },
          "execution_count": 53
        }
      ]
    },
    {
      "cell_type": "code",
      "metadata": {
        "id": "53eFfqOgSejE"
      },
      "source": [
        "#df = df[~(df.price == 10000)]"
      ],
      "execution_count": null,
      "outputs": []
    },
    {
      "cell_type": "code",
      "metadata": {
        "id": "n2tCa2S4SkfG"
      },
      "source": [
        "#df.price.hist()"
      ],
      "execution_count": null,
      "outputs": []
    },
    {
      "cell_type": "code",
      "metadata": {
        "id": "GAMejO9_SkfJ"
      },
      "source": [
        "#sns.boxplot(x=df.price, data=df)"
      ],
      "execution_count": null,
      "outputs": []
    },
    {
      "cell_type": "code",
      "metadata": {
        "colab": {
          "base_uri": "https://localhost:8080/",
          "height": 296
        },
        "id": "vhhHnBdPSn4m",
        "outputId": "fa1251c4-160a-48b5-ebf8-97d3091ac5ac"
      },
      "source": [
        "df.describe()"
      ],
      "execution_count": null,
      "outputs": [
        {
          "output_type": "execute_result",
          "data": {
            "text/html": [
              "<div>\n",
              "<style scoped>\n",
              "    .dataframe tbody tr th:only-of-type {\n",
              "        vertical-align: middle;\n",
              "    }\n",
              "\n",
              "    .dataframe tbody tr th {\n",
              "        vertical-align: top;\n",
              "    }\n",
              "\n",
              "    .dataframe thead th {\n",
              "        text-align: right;\n",
              "    }\n",
              "</style>\n",
              "<table border=\"1\" class=\"dataframe\">\n",
              "  <thead>\n",
              "    <tr style=\"text-align: right;\">\n",
              "      <th></th>\n",
              "      <th>latitude</th>\n",
              "      <th>longitude</th>\n",
              "      <th>accommodates</th>\n",
              "      <th>price</th>\n",
              "      <th>min_nights</th>\n",
              "      <th>max_nights</th>\n",
              "      <th>rs_rating</th>\n",
              "      <th>rs_location</th>\n",
              "    </tr>\n",
              "  </thead>\n",
              "  <tbody>\n",
              "    <tr>\n",
              "      <th>count</th>\n",
              "      <td>37012.000000</td>\n",
              "      <td>37012.000000</td>\n",
              "      <td>37012.000000</td>\n",
              "      <td>37012.000000</td>\n",
              "      <td>37012.000000</td>\n",
              "      <td>3.701200e+04</td>\n",
              "      <td>26777.000000</td>\n",
              "      <td>26740.000000</td>\n",
              "    </tr>\n",
              "    <tr>\n",
              "      <th>mean</th>\n",
              "      <td>40.729653</td>\n",
              "      <td>-73.950989</td>\n",
              "      <td>2.797633</td>\n",
              "      <td>142.842240</td>\n",
              "      <td>23.323679</td>\n",
              "      <td>5.979924e+04</td>\n",
              "      <td>93.767188</td>\n",
              "      <td>9.599589</td>\n",
              "    </tr>\n",
              "    <tr>\n",
              "      <th>std</th>\n",
              "      <td>0.054710</td>\n",
              "      <td>0.048291</td>\n",
              "      <td>1.845570</td>\n",
              "      <td>275.740987</td>\n",
              "      <td>26.441255</td>\n",
              "      <td>1.116338e+07</td>\n",
              "      <td>9.594491</td>\n",
              "      <td>0.794767</td>\n",
              "    </tr>\n",
              "    <tr>\n",
              "      <th>min</th>\n",
              "      <td>40.508680</td>\n",
              "      <td>-74.239860</td>\n",
              "      <td>0.000000</td>\n",
              "      <td>0.000000</td>\n",
              "      <td>1.000000</td>\n",
              "      <td>1.000000e+00</td>\n",
              "      <td>20.000000</td>\n",
              "      <td>2.000000</td>\n",
              "    </tr>\n",
              "    <tr>\n",
              "      <th>25%</th>\n",
              "      <td>40.690320</td>\n",
              "      <td>-73.983812</td>\n",
              "      <td>2.000000</td>\n",
              "      <td>60.000000</td>\n",
              "      <td>4.000000</td>\n",
              "      <td>9.000000e+01</td>\n",
              "      <td>92.000000</td>\n",
              "      <td>9.000000</td>\n",
              "    </tr>\n",
              "    <tr>\n",
              "      <th>50%</th>\n",
              "      <td>40.725465</td>\n",
              "      <td>-73.955790</td>\n",
              "      <td>2.000000</td>\n",
              "      <td>99.000000</td>\n",
              "      <td>30.000000</td>\n",
              "      <td>1.125000e+03</td>\n",
              "      <td>97.000000</td>\n",
              "      <td>10.000000</td>\n",
              "    </tr>\n",
              "    <tr>\n",
              "      <th>75%</th>\n",
              "      <td>40.762480</td>\n",
              "      <td>-73.933720</td>\n",
              "      <td>4.000000</td>\n",
              "      <td>151.000000</td>\n",
              "      <td>30.000000</td>\n",
              "      <td>1.125000e+03</td>\n",
              "      <td>100.000000</td>\n",
              "      <td>10.000000</td>\n",
              "    </tr>\n",
              "    <tr>\n",
              "      <th>max</th>\n",
              "      <td>40.912140</td>\n",
              "      <td>-73.710870</td>\n",
              "      <td>16.000000</td>\n",
              "      <td>10000.000000</td>\n",
              "      <td>1250.000000</td>\n",
              "      <td>2.147484e+09</td>\n",
              "      <td>100.000000</td>\n",
              "      <td>10.000000</td>\n",
              "    </tr>\n",
              "  </tbody>\n",
              "</table>\n",
              "</div>"
            ],
            "text/plain": [
              "           latitude     longitude  ...     rs_rating   rs_location\n",
              "count  37012.000000  37012.000000  ...  26777.000000  26740.000000\n",
              "mean      40.729653    -73.950989  ...     93.767188      9.599589\n",
              "std        0.054710      0.048291  ...      9.594491      0.794767\n",
              "min       40.508680    -74.239860  ...     20.000000      2.000000\n",
              "25%       40.690320    -73.983812  ...     92.000000      9.000000\n",
              "50%       40.725465    -73.955790  ...     97.000000     10.000000\n",
              "75%       40.762480    -73.933720  ...    100.000000     10.000000\n",
              "max       40.912140    -73.710870  ...    100.000000     10.000000\n",
              "\n",
              "[8 rows x 8 columns]"
            ]
          },
          "metadata": {
            "tags": []
          },
          "execution_count": 57
        }
      ]
    },
    {
      "cell_type": "code",
      "metadata": {
        "colab": {
          "base_uri": "https://localhost:8080/"
        },
        "id": "Xt3OHpg6SwkV",
        "outputId": "e96e13a7-ea22-49f4-bac9-ef9f5ba6f86a"
      },
      "source": [
        "df[df.price < 1000].shape[0]"
      ],
      "execution_count": null,
      "outputs": [
        {
          "output_type": "execute_result",
          "data": {
            "text/plain": [
              "36735"
            ]
          },
          "metadata": {
            "tags": []
          },
          "execution_count": 58
        }
      ]
    },
    {
      "cell_type": "markdown",
      "metadata": {
        "id": "izj3Y8WxS-va"
      },
      "source": [
        "### <font color= '#eb3483'> Column: # Nights"
      ]
    },
    {
      "cell_type": "code",
      "metadata": {
        "colab": {
          "base_uri": "https://localhost:8080/",
          "height": 297
        },
        "id": "KNwILKKPTKLB",
        "outputId": "eb86c721-a1a5-4244-cb38-e4339f2d03b3"
      },
      "source": [
        "sns.boxplot(x=df.max_nights, data=df)"
      ],
      "execution_count": null,
      "outputs": [
        {
          "output_type": "execute_result",
          "data": {
            "text/plain": [
              "<matplotlib.axes._subplots.AxesSubplot at 0x7fbf35dd0e10>"
            ]
          },
          "metadata": {
            "tags": []
          },
          "execution_count": 59
        },
        {
          "output_type": "display_data",
          "data": {
            "image/png": "[encoded data removed]",
            "text/plain": [
              "<Figure size 432x288 with 1 Axes>"
            ]
          },
          "metadata": {
            "tags": [],
            "needs_background": "light"
          }
        }
      ]
    },
    {
      "cell_type": "code",
      "metadata": {
        "colab": {
          "base_uri": "https://localhost:8080/",
          "height": 297
        },
        "id": "yqSC_TkNTVIM",
        "outputId": "f63e0aa4-83c3-42e4-b877-6e93fa92ea54"
      },
      "source": [
        "\n",
        "sns.boxplot(x=df.min_nights, data=df)"
      ],
      "execution_count": null,
      "outputs": [
        {
          "output_type": "execute_result",
          "data": {
            "text/plain": [
              "<matplotlib.axes._subplots.AxesSubplot at 0x7fbf35d98e10>"
            ]
          },
          "metadata": {
            "tags": []
          },
          "execution_count": 60
        },
        {
          "output_type": "display_data",
          "data": {
            "image/png": "[encoded data removed]",
            "text/plain": [
              "<Figure size 432x288 with 1 Axes>"
            ]
          },
          "metadata": {
            "tags": [],
            "needs_background": "light"
          }
        }
      ]
    },
    {
      "cell_type": "code",
      "metadata": {
        "colab": {
          "base_uri": "https://localhost:8080/",
          "height": 653
        },
        "id": "C7hD2WcoTbOQ",
        "outputId": "6ac7e9d2-a431-4958-f9e2-6a468237eeb7"
      },
      "source": [
        "df[df.max_nights > 30]"
      ],
      "execution_count": null,
      "outputs": [
        {
          "output_type": "execute_result",
          "data": {
            "text/html": [
              "<div>\n",
              "<style scoped>\n",
              "    .dataframe tbody tr th:only-of-type {\n",
              "        vertical-align: middle;\n",
              "    }\n",
              "\n",
              "    .dataframe tbody tr th {\n",
              "        vertical-align: top;\n",
              "    }\n",
              "\n",
              "    .dataframe thead th {\n",
              "        text-align: right;\n",
              "    }\n",
              "</style>\n",
              "<table border=\"1\" class=\"dataframe\">\n",
              "  <thead>\n",
              "    <tr style=\"text-align: right;\">\n",
              "      <th></th>\n",
              "      <th>listing_url</th>\n",
              "      <th>name</th>\n",
              "      <th>neighborhood</th>\n",
              "      <th>borough</th>\n",
              "      <th>latitude</th>\n",
              "      <th>longitude</th>\n",
              "      <th>room_type</th>\n",
              "      <th>accommodates</th>\n",
              "      <th>price</th>\n",
              "      <th>min_nights</th>\n",
              "      <th>max_nights</th>\n",
              "      <th>rs_rating</th>\n",
              "      <th>rs_location</th>\n",
              "    </tr>\n",
              "    <tr>\n",
              "      <th>id</th>\n",
              "      <th></th>\n",
              "      <th></th>\n",
              "      <th></th>\n",
              "      <th></th>\n",
              "      <th></th>\n",
              "      <th></th>\n",
              "      <th></th>\n",
              "      <th></th>\n",
              "      <th></th>\n",
              "      <th></th>\n",
              "      <th></th>\n",
              "      <th></th>\n",
              "      <th></th>\n",
              "    </tr>\n",
              "  </thead>\n",
              "  <tbody>\n",
              "    <tr>\n",
              "      <th>2595</th>\n",
              "      <td>https://www.airbnb.com/rooms/2595</td>\n",
              "      <td>Skylit Midtown Castle</td>\n",
              "      <td>Midtown</td>\n",
              "      <td>Manhattan</td>\n",
              "      <td>40.75362</td>\n",
              "      <td>-73.98377</td>\n",
              "      <td>Entire home/apt</td>\n",
              "      <td>2</td>\n",
              "      <td>100.0</td>\n",
              "      <td>30</td>\n",
              "      <td>1125</td>\n",
              "      <td>94.0</td>\n",
              "      <td>10.0</td>\n",
              "    </tr>\n",
              "    <tr>\n",
              "      <th>3831</th>\n",
              "      <td>https://www.airbnb.com/rooms/3831</td>\n",
              "      <td>Whole flr w/private bdrm, bath &amp; kitchen(pls r...</td>\n",
              "      <td>Clinton Hill</td>\n",
              "      <td>Brooklyn</td>\n",
              "      <td>40.68514</td>\n",
              "      <td>-73.95976</td>\n",
              "      <td>Entire home/apt</td>\n",
              "      <td>3</td>\n",
              "      <td>73.0</td>\n",
              "      <td>1</td>\n",
              "      <td>730</td>\n",
              "      <td>90.0</td>\n",
              "      <td>10.0</td>\n",
              "    </tr>\n",
              "    <tr>\n",
              "      <th>5121</th>\n",
              "      <td>https://www.airbnb.com/rooms/5121</td>\n",
              "      <td>BlissArtsSpace!</td>\n",
              "      <td>Bedford-Stuyvesant</td>\n",
              "      <td>Brooklyn</td>\n",
              "      <td>40.68688</td>\n",
              "      <td>-73.95596</td>\n",
              "      <td>Private room</td>\n",
              "      <td>2</td>\n",
              "      <td>60.0</td>\n",
              "      <td>30</td>\n",
              "      <td>730</td>\n",
              "      <td>90.0</td>\n",
              "      <td>9.0</td>\n",
              "    </tr>\n",
              "    <tr>\n",
              "      <th>5803</th>\n",
              "      <td>https://www.airbnb.com/rooms/5803</td>\n",
              "      <td>Lovely Room 1, Garden, Best Area, Legal rental</td>\n",
              "      <td>South Slope</td>\n",
              "      <td>Brooklyn</td>\n",
              "      <td>40.66829</td>\n",
              "      <td>-73.98779</td>\n",
              "      <td>Private room</td>\n",
              "      <td>2</td>\n",
              "      <td>83.0</td>\n",
              "      <td>4</td>\n",
              "      <td>90</td>\n",
              "      <td>94.0</td>\n",
              "      <td>10.0</td>\n",
              "    </tr>\n",
              "    <tr>\n",
              "      <th>6848</th>\n",
              "      <td>https://www.airbnb.com/rooms/6848</td>\n",
              "      <td>Only 2 stops to Manhattan studio</td>\n",
              "      <td>Williamsburg</td>\n",
              "      <td>Brooklyn</td>\n",
              "      <td>40.70837</td>\n",
              "      <td>-73.95352</td>\n",
              "      <td>Entire home/apt</td>\n",
              "      <td>3</td>\n",
              "      <td>109.0</td>\n",
              "      <td>30</td>\n",
              "      <td>730</td>\n",
              "      <td>91.0</td>\n",
              "      <td>9.0</td>\n",
              "    </tr>\n",
              "    <tr>\n",
              "      <th>...</th>\n",
              "      <td>...</td>\n",
              "      <td>...</td>\n",
              "      <td>...</td>\n",
              "      <td>...</td>\n",
              "      <td>...</td>\n",
              "      <td>...</td>\n",
              "      <td>...</td>\n",
              "      <td>...</td>\n",
              "      <td>...</td>\n",
              "      <td>...</td>\n",
              "      <td>...</td>\n",
              "      <td>...</td>\n",
              "      <td>...</td>\n",
              "    </tr>\n",
              "    <tr>\n",
              "      <th>48033101</th>\n",
              "      <td>https://www.airbnb.com/rooms/48033101</td>\n",
              "      <td>Cozy One-Bedroom with Full Kitchen Near Manhattan</td>\n",
              "      <td>Woodside</td>\n",
              "      <td>Queens</td>\n",
              "      <td>40.74415</td>\n",
              "      <td>-73.90941</td>\n",
              "      <td>Entire home/apt</td>\n",
              "      <td>3</td>\n",
              "      <td>90.0</td>\n",
              "      <td>3</td>\n",
              "      <td>1125</td>\n",
              "      <td>NaN</td>\n",
              "      <td>NaN</td>\n",
              "    </tr>\n",
              "    <tr>\n",
              "      <th>48033611</th>\n",
              "      <td>https://www.airbnb.com/rooms/48033611</td>\n",
              "      <td>Grand Concourse Gem</td>\n",
              "      <td>Norwood</td>\n",
              "      <td>Bronx</td>\n",
              "      <td>40.87575</td>\n",
              "      <td>-73.88399</td>\n",
              "      <td>Private room</td>\n",
              "      <td>1</td>\n",
              "      <td>520.0</td>\n",
              "      <td>1</td>\n",
              "      <td>365</td>\n",
              "      <td>NaN</td>\n",
              "      <td>NaN</td>\n",
              "    </tr>\n",
              "    <tr>\n",
              "      <th>48038944</th>\n",
              "      <td>https://www.airbnb.com/rooms/48038944</td>\n",
              "      <td>Natural Light-Filled Home in Upper East Side</td>\n",
              "      <td>Midtown</td>\n",
              "      <td>Manhattan</td>\n",
              "      <td>40.75774</td>\n",
              "      <td>-73.96173</td>\n",
              "      <td>Private room</td>\n",
              "      <td>1</td>\n",
              "      <td>63.0</td>\n",
              "      <td>30</td>\n",
              "      <td>90</td>\n",
              "      <td>NaN</td>\n",
              "      <td>NaN</td>\n",
              "    </tr>\n",
              "    <tr>\n",
              "      <th>48039640</th>\n",
              "      <td>https://www.airbnb.com/rooms/48039640</td>\n",
              "      <td>Spacious Living in the Heart of Upper East Side</td>\n",
              "      <td>Upper East Side</td>\n",
              "      <td>Manhattan</td>\n",
              "      <td>40.76242</td>\n",
              "      <td>-73.95966</td>\n",
              "      <td>Private room</td>\n",
              "      <td>1</td>\n",
              "      <td>67.0</td>\n",
              "      <td>30</td>\n",
              "      <td>90</td>\n",
              "      <td>NaN</td>\n",
              "      <td>NaN</td>\n",
              "    </tr>\n",
              "    <tr>\n",
              "      <th>48039776</th>\n",
              "      <td>https://www.airbnb.com/rooms/48039776</td>\n",
              "      <td>Find Cozy in this Upper West Side Furnished Home</td>\n",
              "      <td>Upper West Side</td>\n",
              "      <td>Manhattan</td>\n",
              "      <td>40.79850</td>\n",
              "      <td>-73.96216</td>\n",
              "      <td>Private room</td>\n",
              "      <td>1</td>\n",
              "      <td>66.0</td>\n",
              "      <td>30</td>\n",
              "      <td>90</td>\n",
              "      <td>NaN</td>\n",
              "      <td>NaN</td>\n",
              "    </tr>\n",
              "  </tbody>\n",
              "</table>\n",
              "<p>30973 rows × 13 columns</p>\n",
              "</div>"
            ],
            "text/plain": [
              "                                    listing_url  ... rs_location\n",
              "id                                               ...            \n",
              "2595          https://www.airbnb.com/rooms/2595  ...        10.0\n",
              "3831          https://www.airbnb.com/rooms/3831  ...        10.0\n",
              "5121          https://www.airbnb.com/rooms/5121  ...         9.0\n",
              "5803          https://www.airbnb.com/rooms/5803  ...        10.0\n",
              "6848          https://www.airbnb.com/rooms/6848  ...         9.0\n",
              "...                                         ...  ...         ...\n",
              "48033101  https://www.airbnb.com/rooms/48033101  ...         NaN\n",
              "48033611  https://www.airbnb.com/rooms/48033611  ...         NaN\n",
              "48038944  https://www.airbnb.com/rooms/48038944  ...         NaN\n",
              "48039640  https://www.airbnb.com/rooms/48039640  ...         NaN\n",
              "48039776  https://www.airbnb.com/rooms/48039776  ...         NaN\n",
              "\n",
              "[30973 rows x 13 columns]"
            ]
          },
          "metadata": {
            "tags": []
          },
          "execution_count": 61
        }
      ]
    },
    {
      "cell_type": "code",
      "metadata": {
        "colab": {
          "base_uri": "https://localhost:8080/"
        },
        "id": "pC1WbZCpl8v3",
        "outputId": "99bb9b7d-e345-4577-b339-312b0079ae92"
      },
      "source": [
        "rating_null = df.rs_rating.isna()\n",
        "loc_null = df.rs_location.isna()\n",
        "df[rating_null & ~loc_null].shape[0]"
      ],
      "execution_count": null,
      "outputs": [
        {
          "output_type": "execute_result",
          "data": {
            "text/plain": [
              "5"
            ]
          },
          "metadata": {
            "tags": []
          },
          "execution_count": 62
        }
      ]
    },
    {
      "cell_type": "code",
      "metadata": {
        "colab": {
          "base_uri": "https://localhost:8080/"
        },
        "id": "5sAS3yrbmQP7",
        "outputId": "d492d6bd-12ae-4f3e-df3c-4f8ac9734691"
      },
      "source": [
        "df[~rating_null & loc_null].shape[0]"
      ],
      "execution_count": null,
      "outputs": [
        {
          "output_type": "execute_result",
          "data": {
            "text/plain": [
              "42"
            ]
          },
          "metadata": {
            "tags": []
          },
          "execution_count": 63
        }
      ]
    },
    {
      "cell_type": "code",
      "metadata": {
        "colab": {
          "base_uri": "https://localhost:8080/"
        },
        "id": "LLnLaIESmYzQ",
        "outputId": "1769ab07-4690-4970-ad66-c7dcab596622"
      },
      "source": [
        "df[rating_null & loc_null].shape[0]"
      ],
      "execution_count": null,
      "outputs": [
        {
          "output_type": "execute_result",
          "data": {
            "text/plain": [
              "10230"
            ]
          },
          "metadata": {
            "tags": []
          },
          "execution_count": 64
        }
      ]
    },
    {
      "cell_type": "code",
      "metadata": {
        "colab": {
          "base_uri": "https://localhost:8080/"
        },
        "id": "mBiCRXT5m6YQ",
        "outputId": "1d40f2c6-c81d-4558-f0be-aa4a553e3f48"
      },
      "source": [
        "df[rating_null].shape[0]"
      ],
      "execution_count": null,
      "outputs": [
        {
          "output_type": "execute_result",
          "data": {
            "text/plain": [
              "10235"
            ]
          },
          "metadata": {
            "tags": []
          },
          "execution_count": 65
        }
      ]
    },
    {
      "cell_type": "code",
      "metadata": {
        "id": "H5Hri23lmXD1"
      },
      "source": [
        "#drop the five instances where we don't have overall rating\n",
        "df = df[~(rating_null & ~loc_null)]"
      ],
      "execution_count": null,
      "outputs": []
    },
    {
      "cell_type": "code",
      "metadata": {
        "colab": {
          "base_uri": "https://localhost:8080/"
        },
        "id": "jgVdw4U2mkbk",
        "outputId": "54eb87c7-003f-4ee8-c660-20e01b90df6e"
      },
      "source": [
        "df.isna().sum()"
      ],
      "execution_count": null,
      "outputs": [
        {
          "output_type": "execute_result",
          "data": {
            "text/plain": [
              "listing_url         0\n",
              "name               13\n",
              "neighborhood        0\n",
              "borough             0\n",
              "latitude            0\n",
              "longitude           0\n",
              "room_type           0\n",
              "accommodates        0\n",
              "price               0\n",
              "min_nights          0\n",
              "max_nights          0\n",
              "rs_rating       10230\n",
              "rs_location     10272\n",
              "dtype: int64"
            ]
          },
          "metadata": {
            "tags": []
          },
          "execution_count": 67
        }
      ]
    },
    {
      "cell_type": "code",
      "metadata": {
        "colab": {
          "base_uri": "https://localhost:8080/"
        },
        "id": "fG3JoxIInrWG",
        "outputId": "a4df4a67-71ad-481b-8ca8-fc8b6e0c453c"
      },
      "source": [
        "#check case\n",
        "df[rating_null & ~loc_null].shape[0]"
      ],
      "execution_count": null,
      "outputs": [
        {
          "output_type": "stream",
          "text": [
            "/usr/local/lib/python3.7/dist-packages/ipykernel_launcher.py:2: UserWarning: Boolean Series key will be reindexed to match DataFrame index.\n",
            "  \n"
          ],
          "name": "stderr"
        },
        {
          "output_type": "execute_result",
          "data": {
            "text/plain": [
              "0"
            ]
          },
          "metadata": {
            "tags": []
          },
          "execution_count": 68
        }
      ]
    },
    {
      "cell_type": "markdown",
      "metadata": {
        "id": "baCd4QTlvemY"
      },
      "source": [
        "### <font color='#eb3483'> Handling Null Names"
      ]
    },
    {
      "cell_type": "markdown",
      "metadata": {
        "id": "i5JKVeLNvmgi"
      },
      "source": [
        "Going to make names for them by combing their neighborhood + room type"
      ]
    },
    {
      "cell_type": "code",
      "metadata": {
        "id": "lw34J2Iun6WN"
      },
      "source": [
        "def make_name(x):\n",
        "  s = x.neighborhood + \" \" + x.room_type\n",
        "  return s"
      ],
      "execution_count": null,
      "outputs": []
    },
    {
      "cell_type": "code",
      "metadata": {
        "id": "d9BFzCHfn_qo"
      },
      "source": [
        "df['name_na'] = df[df.name.isna()].apply(lambda x: make_name(x), axis=1)"
      ],
      "execution_count": null,
      "outputs": []
    },
    {
      "cell_type": "code",
      "metadata": {
        "colab": {
          "base_uri": "https://localhost:8080/"
        },
        "id": "_VfuQRWOowQF",
        "outputId": "d63fcaf5-4faf-4414-a733-3ed40e133518"
      },
      "source": [
        "df[df.name.isna() & df.name_na.isna()].shape[0]"
      ],
      "execution_count": null,
      "outputs": [
        {
          "output_type": "execute_result",
          "data": {
            "text/plain": [
              "0"
            ]
          },
          "metadata": {
            "tags": []
          },
          "execution_count": 71
        }
      ]
    },
    {
      "cell_type": "code",
      "metadata": {
        "colab": {
          "base_uri": "https://localhost:8080/"
        },
        "id": "aWPTtk6qrJ50",
        "outputId": "54f9a395-686b-4e91-dac1-2e23ec25e1ff"
      },
      "source": [
        "df[~df.name.isna() & ~df.name_na.isna()].shape[0]"
      ],
      "execution_count": null,
      "outputs": [
        {
          "output_type": "execute_result",
          "data": {
            "text/plain": [
              "0"
            ]
          },
          "metadata": {
            "tags": []
          },
          "execution_count": 72
        }
      ]
    },
    {
      "cell_type": "code",
      "metadata": {
        "id": "C_qN4Pq6rnF5"
      },
      "source": [
        "df['updated_name'] = df.name.fillna(df.name_na)"
      ],
      "execution_count": null,
      "outputs": []
    },
    {
      "cell_type": "code",
      "metadata": {
        "colab": {
          "base_uri": "https://localhost:8080/",
          "height": 408
        },
        "id": "pYXv1AXxt-MF",
        "outputId": "ebad3cf6-8102-48c7-ebda-6142e522029f"
      },
      "source": [
        "df[df.name.isna()].head()"
      ],
      "execution_count": null,
      "outputs": [
        {
          "output_type": "execute_result",
          "data": {
            "text/html": [
              "<div>\n",
              "<style scoped>\n",
              "    .dataframe tbody tr th:only-of-type {\n",
              "        vertical-align: middle;\n",
              "    }\n",
              "\n",
              "    .dataframe tbody tr th {\n",
              "        vertical-align: top;\n",
              "    }\n",
              "\n",
              "    .dataframe thead th {\n",
              "        text-align: right;\n",
              "    }\n",
              "</style>\n",
              "<table border=\"1\" class=\"dataframe\">\n",
              "  <thead>\n",
              "    <tr style=\"text-align: right;\">\n",
              "      <th></th>\n",
              "      <th>listing_url</th>\n",
              "      <th>name</th>\n",
              "      <th>neighborhood</th>\n",
              "      <th>borough</th>\n",
              "      <th>latitude</th>\n",
              "      <th>longitude</th>\n",
              "      <th>room_type</th>\n",
              "      <th>accommodates</th>\n",
              "      <th>price</th>\n",
              "      <th>min_nights</th>\n",
              "      <th>max_nights</th>\n",
              "      <th>rs_rating</th>\n",
              "      <th>rs_location</th>\n",
              "      <th>name_na</th>\n",
              "      <th>updated_name</th>\n",
              "    </tr>\n",
              "    <tr>\n",
              "      <th>id</th>\n",
              "      <th></th>\n",
              "      <th></th>\n",
              "      <th></th>\n",
              "      <th></th>\n",
              "      <th></th>\n",
              "      <th></th>\n",
              "      <th></th>\n",
              "      <th></th>\n",
              "      <th></th>\n",
              "      <th></th>\n",
              "      <th></th>\n",
              "      <th></th>\n",
              "      <th></th>\n",
              "      <th></th>\n",
              "      <th></th>\n",
              "    </tr>\n",
              "  </thead>\n",
              "  <tbody>\n",
              "    <tr>\n",
              "      <th>1615764</th>\n",
              "      <td>https://www.airbnb.com/rooms/1615764</td>\n",
              "      <td>NaN</td>\n",
              "      <td>Battery Park City</td>\n",
              "      <td>Manhattan</td>\n",
              "      <td>40.71239</td>\n",
              "      <td>-74.01620</td>\n",
              "      <td>Entire home/apt</td>\n",
              "      <td>2</td>\n",
              "      <td>400.0</td>\n",
              "      <td>1000</td>\n",
              "      <td>1125</td>\n",
              "      <td>NaN</td>\n",
              "      <td>NaN</td>\n",
              "      <td>Battery Park City Entire home/apt</td>\n",
              "      <td>Battery Park City Entire home/apt</td>\n",
              "    </tr>\n",
              "    <tr>\n",
              "      <th>2232600</th>\n",
              "      <td>https://www.airbnb.com/rooms/2232600</td>\n",
              "      <td>NaN</td>\n",
              "      <td>East Village</td>\n",
              "      <td>Manhattan</td>\n",
              "      <td>40.73215</td>\n",
              "      <td>-73.98821</td>\n",
              "      <td>Entire home/apt</td>\n",
              "      <td>2</td>\n",
              "      <td>200.0</td>\n",
              "      <td>30</td>\n",
              "      <td>365</td>\n",
              "      <td>95.0</td>\n",
              "      <td>10.0</td>\n",
              "      <td>East Village Entire home/apt</td>\n",
              "      <td>East Village Entire home/apt</td>\n",
              "    </tr>\n",
              "    <tr>\n",
              "      <th>4209595</th>\n",
              "      <td>https://www.airbnb.com/rooms/4209595</td>\n",
              "      <td>NaN</td>\n",
              "      <td>Greenwich Village</td>\n",
              "      <td>Manhattan</td>\n",
              "      <td>40.73473</td>\n",
              "      <td>-73.99244</td>\n",
              "      <td>Entire home/apt</td>\n",
              "      <td>4</td>\n",
              "      <td>225.0</td>\n",
              "      <td>30</td>\n",
              "      <td>1125</td>\n",
              "      <td>100.0</td>\n",
              "      <td>10.0</td>\n",
              "      <td>Greenwich Village Entire home/apt</td>\n",
              "      <td>Greenwich Village Entire home/apt</td>\n",
              "    </tr>\n",
              "    <tr>\n",
              "      <th>4370230</th>\n",
              "      <td>https://www.airbnb.com/rooms/4370230</td>\n",
              "      <td>NaN</td>\n",
              "      <td>Nolita</td>\n",
              "      <td>Manhattan</td>\n",
              "      <td>40.72046</td>\n",
              "      <td>-73.99550</td>\n",
              "      <td>Entire home/apt</td>\n",
              "      <td>2</td>\n",
              "      <td>215.0</td>\n",
              "      <td>30</td>\n",
              "      <td>1125</td>\n",
              "      <td>100.0</td>\n",
              "      <td>10.0</td>\n",
              "      <td>Nolita Entire home/apt</td>\n",
              "      <td>Nolita Entire home/apt</td>\n",
              "    </tr>\n",
              "    <tr>\n",
              "      <th>4581788</th>\n",
              "      <td>https://www.airbnb.com/rooms/4581788</td>\n",
              "      <td>NaN</td>\n",
              "      <td>Williamsburg</td>\n",
              "      <td>Brooklyn</td>\n",
              "      <td>40.71370</td>\n",
              "      <td>-73.94378</td>\n",
              "      <td>Private room</td>\n",
              "      <td>1</td>\n",
              "      <td>150.0</td>\n",
              "      <td>30</td>\n",
              "      <td>1125</td>\n",
              "      <td>NaN</td>\n",
              "      <td>NaN</td>\n",
              "      <td>Williamsburg Private room</td>\n",
              "      <td>Williamsburg Private room</td>\n",
              "    </tr>\n",
              "  </tbody>\n",
              "</table>\n",
              "</div>"
            ],
            "text/plain": [
              "                                  listing_url  ...                       updated_name\n",
              "id                                             ...                                   \n",
              "1615764  https://www.airbnb.com/rooms/1615764  ...  Battery Park City Entire home/apt\n",
              "2232600  https://www.airbnb.com/rooms/2232600  ...       East Village Entire home/apt\n",
              "4209595  https://www.airbnb.com/rooms/4209595  ...  Greenwich Village Entire home/apt\n",
              "4370230  https://www.airbnb.com/rooms/4370230  ...             Nolita Entire home/apt\n",
              "4581788  https://www.airbnb.com/rooms/4581788  ...          Williamsburg Private room\n",
              "\n",
              "[5 rows x 15 columns]"
            ]
          },
          "metadata": {
            "tags": []
          },
          "execution_count": 74
        }
      ]
    },
    {
      "cell_type": "code",
      "metadata": {
        "colab": {
          "base_uri": "https://localhost:8080/",
          "height": 425
        },
        "id": "uK6Zdn5OrP1V",
        "outputId": "91a42fc6-e9d1-4943-c043-d1633e3dbc48"
      },
      "source": [
        "df[~df.name.isna()].head()"
      ],
      "execution_count": null,
      "outputs": [
        {
          "output_type": "execute_result",
          "data": {
            "text/html": [
              "<div>\n",
              "<style scoped>\n",
              "    .dataframe tbody tr th:only-of-type {\n",
              "        vertical-align: middle;\n",
              "    }\n",
              "\n",
              "    .dataframe tbody tr th {\n",
              "        vertical-align: top;\n",
              "    }\n",
              "\n",
              "    .dataframe thead th {\n",
              "        text-align: right;\n",
              "    }\n",
              "</style>\n",
              "<table border=\"1\" class=\"dataframe\">\n",
              "  <thead>\n",
              "    <tr style=\"text-align: right;\">\n",
              "      <th></th>\n",
              "      <th>listing_url</th>\n",
              "      <th>name</th>\n",
              "      <th>neighborhood</th>\n",
              "      <th>borough</th>\n",
              "      <th>latitude</th>\n",
              "      <th>longitude</th>\n",
              "      <th>room_type</th>\n",
              "      <th>accommodates</th>\n",
              "      <th>price</th>\n",
              "      <th>min_nights</th>\n",
              "      <th>max_nights</th>\n",
              "      <th>rs_rating</th>\n",
              "      <th>rs_location</th>\n",
              "      <th>name_na</th>\n",
              "      <th>updated_name</th>\n",
              "    </tr>\n",
              "    <tr>\n",
              "      <th>id</th>\n",
              "      <th></th>\n",
              "      <th></th>\n",
              "      <th></th>\n",
              "      <th></th>\n",
              "      <th></th>\n",
              "      <th></th>\n",
              "      <th></th>\n",
              "      <th></th>\n",
              "      <th></th>\n",
              "      <th></th>\n",
              "      <th></th>\n",
              "      <th></th>\n",
              "      <th></th>\n",
              "      <th></th>\n",
              "      <th></th>\n",
              "    </tr>\n",
              "  </thead>\n",
              "  <tbody>\n",
              "    <tr>\n",
              "      <th>2595</th>\n",
              "      <td>https://www.airbnb.com/rooms/2595</td>\n",
              "      <td>Skylit Midtown Castle</td>\n",
              "      <td>Midtown</td>\n",
              "      <td>Manhattan</td>\n",
              "      <td>40.75362</td>\n",
              "      <td>-73.98377</td>\n",
              "      <td>Entire home/apt</td>\n",
              "      <td>2</td>\n",
              "      <td>100.0</td>\n",
              "      <td>30</td>\n",
              "      <td>1125</td>\n",
              "      <td>94.0</td>\n",
              "      <td>10.0</td>\n",
              "      <td>NaN</td>\n",
              "      <td>Skylit Midtown Castle</td>\n",
              "    </tr>\n",
              "    <tr>\n",
              "      <th>3831</th>\n",
              "      <td>https://www.airbnb.com/rooms/3831</td>\n",
              "      <td>Whole flr w/private bdrm, bath &amp; kitchen(pls r...</td>\n",
              "      <td>Clinton Hill</td>\n",
              "      <td>Brooklyn</td>\n",
              "      <td>40.68514</td>\n",
              "      <td>-73.95976</td>\n",
              "      <td>Entire home/apt</td>\n",
              "      <td>3</td>\n",
              "      <td>73.0</td>\n",
              "      <td>1</td>\n",
              "      <td>730</td>\n",
              "      <td>90.0</td>\n",
              "      <td>10.0</td>\n",
              "      <td>NaN</td>\n",
              "      <td>Whole flr w/private bdrm, bath &amp; kitchen(pls r...</td>\n",
              "    </tr>\n",
              "    <tr>\n",
              "      <th>5121</th>\n",
              "      <td>https://www.airbnb.com/rooms/5121</td>\n",
              "      <td>BlissArtsSpace!</td>\n",
              "      <td>Bedford-Stuyvesant</td>\n",
              "      <td>Brooklyn</td>\n",
              "      <td>40.68688</td>\n",
              "      <td>-73.95596</td>\n",
              "      <td>Private room</td>\n",
              "      <td>2</td>\n",
              "      <td>60.0</td>\n",
              "      <td>30</td>\n",
              "      <td>730</td>\n",
              "      <td>90.0</td>\n",
              "      <td>9.0</td>\n",
              "      <td>NaN</td>\n",
              "      <td>BlissArtsSpace!</td>\n",
              "    </tr>\n",
              "    <tr>\n",
              "      <th>5178</th>\n",
              "      <td>https://www.airbnb.com/rooms/5178</td>\n",
              "      <td>Large Furnished Room Near B'way</td>\n",
              "      <td>Midtown</td>\n",
              "      <td>Manhattan</td>\n",
              "      <td>40.76468</td>\n",
              "      <td>-73.98315</td>\n",
              "      <td>Private room</td>\n",
              "      <td>2</td>\n",
              "      <td>79.0</td>\n",
              "      <td>2</td>\n",
              "      <td>14</td>\n",
              "      <td>84.0</td>\n",
              "      <td>10.0</td>\n",
              "      <td>NaN</td>\n",
              "      <td>Large Furnished Room Near B'way</td>\n",
              "    </tr>\n",
              "    <tr>\n",
              "      <th>5203</th>\n",
              "      <td>https://www.airbnb.com/rooms/5203</td>\n",
              "      <td>Cozy Clean Guest Room - Family Apt</td>\n",
              "      <td>Upper West Side</td>\n",
              "      <td>Manhattan</td>\n",
              "      <td>40.80178</td>\n",
              "      <td>-73.96723</td>\n",
              "      <td>Private room</td>\n",
              "      <td>1</td>\n",
              "      <td>75.0</td>\n",
              "      <td>2</td>\n",
              "      <td>14</td>\n",
              "      <td>98.0</td>\n",
              "      <td>10.0</td>\n",
              "      <td>NaN</td>\n",
              "      <td>Cozy Clean Guest Room - Family Apt</td>\n",
              "    </tr>\n",
              "  </tbody>\n",
              "</table>\n",
              "</div>"
            ],
            "text/plain": [
              "                            listing_url  ...                                       updated_name\n",
              "id                                       ...                                                   \n",
              "2595  https://www.airbnb.com/rooms/2595  ...                              Skylit Midtown Castle\n",
              "3831  https://www.airbnb.com/rooms/3831  ...  Whole flr w/private bdrm, bath & kitchen(pls r...\n",
              "5121  https://www.airbnb.com/rooms/5121  ...                                    BlissArtsSpace!\n",
              "5178  https://www.airbnb.com/rooms/5178  ...                   Large Furnished Room Near B'way　\n",
              "5203  https://www.airbnb.com/rooms/5203  ...                 Cozy Clean Guest Room - Family Apt\n",
              "\n",
              "[5 rows x 15 columns]"
            ]
          },
          "metadata": {
            "tags": []
          },
          "execution_count": 75
        }
      ]
    },
    {
      "cell_type": "code",
      "metadata": {
        "id": "jDgaZlMzru02"
      },
      "source": [
        "df['name'] = df['updated_name']"
      ],
      "execution_count": null,
      "outputs": []
    },
    {
      "cell_type": "code",
      "metadata": {
        "id": "2Gtdl61ksLFP"
      },
      "source": [
        "df = df.drop(columns=['name_na', 'updated_name'])"
      ],
      "execution_count": null,
      "outputs": []
    },
    {
      "cell_type": "code",
      "metadata": {
        "colab": {
          "base_uri": "https://localhost:8080/"
        },
        "id": "9mmhnyngvTye",
        "outputId": "c0dcde3d-6e8c-4a10-d250-f9938bf0980f"
      },
      "source": [
        "df.isna().sum()"
      ],
      "execution_count": null,
      "outputs": [
        {
          "output_type": "execute_result",
          "data": {
            "text/plain": [
              "listing_url         0\n",
              "name                0\n",
              "neighborhood        0\n",
              "borough             0\n",
              "latitude            0\n",
              "longitude           0\n",
              "room_type           0\n",
              "accommodates        0\n",
              "price               0\n",
              "min_nights          0\n",
              "max_nights          0\n",
              "rs_rating       10230\n",
              "rs_location     10272\n",
              "dtype: int64"
            ]
          },
          "metadata": {
            "tags": []
          },
          "execution_count": 78
        }
      ]
    },
    {
      "cell_type": "code",
      "metadata": {
        "id": "0wO-6lYtvW5t",
        "colab": {
          "base_uri": "https://localhost:8080/",
          "height": 653
        },
        "outputId": "35ca153c-6b59-45a0-ee59-3fde215a9f78"
      },
      "source": [
        "df"
      ],
      "execution_count": null,
      "outputs": [
        {
          "output_type": "execute_result",
          "data": {
            "text/html": [
              "<div>\n",
              "<style scoped>\n",
              "    .dataframe tbody tr th:only-of-type {\n",
              "        vertical-align: middle;\n",
              "    }\n",
              "\n",
              "    .dataframe tbody tr th {\n",
              "        vertical-align: top;\n",
              "    }\n",
              "\n",
              "    .dataframe thead th {\n",
              "        text-align: right;\n",
              "    }\n",
              "</style>\n",
              "<table border=\"1\" class=\"dataframe\">\n",
              "  <thead>\n",
              "    <tr style=\"text-align: right;\">\n",
              "      <th></th>\n",
              "      <th>listing_url</th>\n",
              "      <th>name</th>\n",
              "      <th>neighborhood</th>\n",
              "      <th>borough</th>\n",
              "      <th>latitude</th>\n",
              "      <th>longitude</th>\n",
              "      <th>room_type</th>\n",
              "      <th>accommodates</th>\n",
              "      <th>price</th>\n",
              "      <th>min_nights</th>\n",
              "      <th>max_nights</th>\n",
              "      <th>rs_rating</th>\n",
              "      <th>rs_location</th>\n",
              "    </tr>\n",
              "    <tr>\n",
              "      <th>id</th>\n",
              "      <th></th>\n",
              "      <th></th>\n",
              "      <th></th>\n",
              "      <th></th>\n",
              "      <th></th>\n",
              "      <th></th>\n",
              "      <th></th>\n",
              "      <th></th>\n",
              "      <th></th>\n",
              "      <th></th>\n",
              "      <th></th>\n",
              "      <th></th>\n",
              "      <th></th>\n",
              "    </tr>\n",
              "  </thead>\n",
              "  <tbody>\n",
              "    <tr>\n",
              "      <th>2595</th>\n",
              "      <td>https://www.airbnb.com/rooms/2595</td>\n",
              "      <td>Skylit Midtown Castle</td>\n",
              "      <td>Midtown</td>\n",
              "      <td>Manhattan</td>\n",
              "      <td>40.75362</td>\n",
              "      <td>-73.98377</td>\n",
              "      <td>Entire home/apt</td>\n",
              "      <td>2</td>\n",
              "      <td>100.0</td>\n",
              "      <td>30</td>\n",
              "      <td>1125</td>\n",
              "      <td>94.0</td>\n",
              "      <td>10.0</td>\n",
              "    </tr>\n",
              "    <tr>\n",
              "      <th>3831</th>\n",
              "      <td>https://www.airbnb.com/rooms/3831</td>\n",
              "      <td>Whole flr w/private bdrm, bath &amp; kitchen(pls r...</td>\n",
              "      <td>Clinton Hill</td>\n",
              "      <td>Brooklyn</td>\n",
              "      <td>40.68514</td>\n",
              "      <td>-73.95976</td>\n",
              "      <td>Entire home/apt</td>\n",
              "      <td>3</td>\n",
              "      <td>73.0</td>\n",
              "      <td>1</td>\n",
              "      <td>730</td>\n",
              "      <td>90.0</td>\n",
              "      <td>10.0</td>\n",
              "    </tr>\n",
              "    <tr>\n",
              "      <th>5121</th>\n",
              "      <td>https://www.airbnb.com/rooms/5121</td>\n",
              "      <td>BlissArtsSpace!</td>\n",
              "      <td>Bedford-Stuyvesant</td>\n",
              "      <td>Brooklyn</td>\n",
              "      <td>40.68688</td>\n",
              "      <td>-73.95596</td>\n",
              "      <td>Private room</td>\n",
              "      <td>2</td>\n",
              "      <td>60.0</td>\n",
              "      <td>30</td>\n",
              "      <td>730</td>\n",
              "      <td>90.0</td>\n",
              "      <td>9.0</td>\n",
              "    </tr>\n",
              "    <tr>\n",
              "      <th>5178</th>\n",
              "      <td>https://www.airbnb.com/rooms/5178</td>\n",
              "      <td>Large Furnished Room Near B'way</td>\n",
              "      <td>Midtown</td>\n",
              "      <td>Manhattan</td>\n",
              "      <td>40.76468</td>\n",
              "      <td>-73.98315</td>\n",
              "      <td>Private room</td>\n",
              "      <td>2</td>\n",
              "      <td>79.0</td>\n",
              "      <td>2</td>\n",
              "      <td>14</td>\n",
              "      <td>84.0</td>\n",
              "      <td>10.0</td>\n",
              "    </tr>\n",
              "    <tr>\n",
              "      <th>5203</th>\n",
              "      <td>https://www.airbnb.com/rooms/5203</td>\n",
              "      <td>Cozy Clean Guest Room - Family Apt</td>\n",
              "      <td>Upper West Side</td>\n",
              "      <td>Manhattan</td>\n",
              "      <td>40.80178</td>\n",
              "      <td>-73.96723</td>\n",
              "      <td>Private room</td>\n",
              "      <td>1</td>\n",
              "      <td>75.0</td>\n",
              "      <td>2</td>\n",
              "      <td>14</td>\n",
              "      <td>98.0</td>\n",
              "      <td>10.0</td>\n",
              "    </tr>\n",
              "    <tr>\n",
              "      <th>...</th>\n",
              "      <td>...</td>\n",
              "      <td>...</td>\n",
              "      <td>...</td>\n",
              "      <td>...</td>\n",
              "      <td>...</td>\n",
              "      <td>...</td>\n",
              "      <td>...</td>\n",
              "      <td>...</td>\n",
              "      <td>...</td>\n",
              "      <td>...</td>\n",
              "      <td>...</td>\n",
              "      <td>...</td>\n",
              "      <td>...</td>\n",
              "    </tr>\n",
              "    <tr>\n",
              "      <th>48033101</th>\n",
              "      <td>https://www.airbnb.com/rooms/48033101</td>\n",
              "      <td>Cozy One-Bedroom with Full Kitchen Near Manhattan</td>\n",
              "      <td>Woodside</td>\n",
              "      <td>Queens</td>\n",
              "      <td>40.74415</td>\n",
              "      <td>-73.90941</td>\n",
              "      <td>Entire home/apt</td>\n",
              "      <td>3</td>\n",
              "      <td>90.0</td>\n",
              "      <td>3</td>\n",
              "      <td>1125</td>\n",
              "      <td>NaN</td>\n",
              "      <td>NaN</td>\n",
              "    </tr>\n",
              "    <tr>\n",
              "      <th>48033611</th>\n",
              "      <td>https://www.airbnb.com/rooms/48033611</td>\n",
              "      <td>Grand Concourse Gem</td>\n",
              "      <td>Norwood</td>\n",
              "      <td>Bronx</td>\n",
              "      <td>40.87575</td>\n",
              "      <td>-73.88399</td>\n",
              "      <td>Private room</td>\n",
              "      <td>1</td>\n",
              "      <td>520.0</td>\n",
              "      <td>1</td>\n",
              "      <td>365</td>\n",
              "      <td>NaN</td>\n",
              "      <td>NaN</td>\n",
              "    </tr>\n",
              "    <tr>\n",
              "      <th>48038944</th>\n",
              "      <td>https://www.airbnb.com/rooms/48038944</td>\n",
              "      <td>Natural Light-Filled Home in Upper East Side</td>\n",
              "      <td>Midtown</td>\n",
              "      <td>Manhattan</td>\n",
              "      <td>40.75774</td>\n",
              "      <td>-73.96173</td>\n",
              "      <td>Private room</td>\n",
              "      <td>1</td>\n",
              "      <td>63.0</td>\n",
              "      <td>30</td>\n",
              "      <td>90</td>\n",
              "      <td>NaN</td>\n",
              "      <td>NaN</td>\n",
              "    </tr>\n",
              "    <tr>\n",
              "      <th>48039640</th>\n",
              "      <td>https://www.airbnb.com/rooms/48039640</td>\n",
              "      <td>Spacious Living in the Heart of Upper East Side</td>\n",
              "      <td>Upper East Side</td>\n",
              "      <td>Manhattan</td>\n",
              "      <td>40.76242</td>\n",
              "      <td>-73.95966</td>\n",
              "      <td>Private room</td>\n",
              "      <td>1</td>\n",
              "      <td>67.0</td>\n",
              "      <td>30</td>\n",
              "      <td>90</td>\n",
              "      <td>NaN</td>\n",
              "      <td>NaN</td>\n",
              "    </tr>\n",
              "    <tr>\n",
              "      <th>48039776</th>\n",
              "      <td>https://www.airbnb.com/rooms/48039776</td>\n",
              "      <td>Find Cozy in this Upper West Side Furnished Home</td>\n",
              "      <td>Upper West Side</td>\n",
              "      <td>Manhattan</td>\n",
              "      <td>40.79850</td>\n",
              "      <td>-73.96216</td>\n",
              "      <td>Private room</td>\n",
              "      <td>1</td>\n",
              "      <td>66.0</td>\n",
              "      <td>30</td>\n",
              "      <td>90</td>\n",
              "      <td>NaN</td>\n",
              "      <td>NaN</td>\n",
              "    </tr>\n",
              "  </tbody>\n",
              "</table>\n",
              "<p>37007 rows × 13 columns</p>\n",
              "</div>"
            ],
            "text/plain": [
              "                                    listing_url  ... rs_location\n",
              "id                                               ...            \n",
              "2595          https://www.airbnb.com/rooms/2595  ...        10.0\n",
              "3831          https://www.airbnb.com/rooms/3831  ...        10.0\n",
              "5121          https://www.airbnb.com/rooms/5121  ...         9.0\n",
              "5178          https://www.airbnb.com/rooms/5178  ...        10.0\n",
              "5203          https://www.airbnb.com/rooms/5203  ...        10.0\n",
              "...                                         ...  ...         ...\n",
              "48033101  https://www.airbnb.com/rooms/48033101  ...         NaN\n",
              "48033611  https://www.airbnb.com/rooms/48033611  ...         NaN\n",
              "48038944  https://www.airbnb.com/rooms/48038944  ...         NaN\n",
              "48039640  https://www.airbnb.com/rooms/48039640  ...         NaN\n",
              "48039776  https://www.airbnb.com/rooms/48039776  ...         NaN\n",
              "\n",
              "[37007 rows x 13 columns]"
            ]
          },
          "metadata": {
            "tags": []
          },
          "execution_count": 79
        }
      ]
    },
    {
      "cell_type": "markdown",
      "metadata": {
        "id": "-flU5daxpuv9"
      },
      "source": [
        "### <font color = blue> Save and export data"
      ]
    },
    {
      "cell_type": "code",
      "metadata": {
        "id": "6_mA1cpOqAMK"
      },
      "source": [
        "save_path = '/content/drive/My Drive/CIS 450/CIS 450 Project/air_bnb_cleaned.csv'"
      ],
      "execution_count": null,
      "outputs": []
    },
    {
      "cell_type": "code",
      "metadata": {
        "id": "xGttwvj9p_m-"
      },
      "source": [
        "df.to_csv(save_path)"
      ],
      "execution_count": null,
      "outputs": []
    },
    {
      "cell_type": "code",
      "metadata": {
        "id": "s1XGPSB4rhVK"
      },
      "source": [
        ""
      ],
      "execution_count": null,
      "outputs": []
    }
  ]
}